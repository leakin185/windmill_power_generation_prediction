{
 "cells": [
  {
   "cell_type": "markdown",
   "id": "882a6b5e",
   "metadata": {},
   "source": [
    "# Training Data - Linear Regression\n",
    "\n",
    "**Overview of Implementation**\n",
    "1. <a href=\"#section1\">Data Cleaning</a>\n",
    "2. <a href=\"#section2\">Linear Regression</a>"
   ]
  },
  {
   "cell_type": "markdown",
   "id": "d833f2c5",
   "metadata": {},
   "source": [
    "## <a id='section1'>1. Data Cleaning</a>\n",
    "Import data & explore statistics"
   ]
  },
  {
   "cell_type": "code",
   "execution_count": 1,
   "id": "356a87dd",
   "metadata": {},
   "outputs": [
    {
     "name": "stderr",
     "output_type": "stream",
     "text": [
      "Registered S3 methods overwritten by 'ggplot2':\n",
      "  method         from \n",
      "  [.quosures     rlang\n",
      "  c.quosures     rlang\n",
      "  print.quosures rlang\n"
     ]
    }
   ],
   "source": [
    "library(data.table)\n",
    "library(ggplot2)"
   ]
  },
  {
   "cell_type": "code",
   "execution_count": 2,
   "id": "9ca2b3dd",
   "metadata": {},
   "outputs": [
    {
     "name": "stdout",
     "output_type": "stream",
     "text": [
      "Number of NA values:  29860\n",
      "Number of NA values for imputed:  0"
     ]
    },
    {
     "data": {
      "text/plain": [
       "   tracking_id      wind_speed      atmospheric_temperature shaft_temperature\n",
       " WM_1    :    1   Min.   :-496.21   Min.   :-53.80          Min.   :-99.00   \n",
       " WM_10   :    1   1st Qu.:  20.88   1st Qu.: 12.33          1st Qu.: 41.63   \n",
       " WM_1000 :    1   Median :  93.30   Median : 18.33          Median : 43.69   \n",
       " WM_10000:    1   Mean   :  69.04   Mean   : 19.21          Mean   : 40.09   \n",
       " WM_10001:    1   3rd Qu.:  95.27   3rd Qu.: 25.24          3rd Qu.: 45.67   \n",
       " WM_10002:    1   Max.   : 601.46   Max.   : 80.22          Max.   :169.82   \n",
       " (Other) :28194   NA's   :273       NA's   :7392            NA's   :2        \n",
       "  blades_angle       gearbox_temperature engine_temperature  motor_torque   \n",
       " Min.   :-146.2595   Min.   :-244.97     Min.   : 3.167     Min.   : 500.0  \n",
       " 1st Qu.:  -1.1977   1st Qu.:  40.56     1st Qu.:41.911     1st Qu.: 870.3  \n",
       " Median :  -0.4956   Median :  43.22     Median :43.525     Median :2031.8  \n",
       " Mean   :  -9.6540   Mean   :  41.03     Mean   :42.614     Mean   :1710.8  \n",
       " 3rd Qu.:   5.4950   3rd Qu.:  45.88     3rd Qu.:45.174     3rd Qu.:2462.6  \n",
       " Max.   : 165.9321   Max.   : 999.00     Max.   :50.000     Max.   :3000.0  \n",
       " NA's   :216         NA's   :1           NA's   :12         NA's   :24      \n",
       " generator_temperature atmospheric_pressure area_temperature\n",
       " Min.   : 33.89        Min.   :    210.9    Min.   :-30.00  \n",
       " 1st Qu.: 41.20        1st Qu.:  17161.8    1st Qu.: 27.31  \n",
       " Median : 70.73        Median :  18902.3    Median : 32.61  \n",
       " Mean   : 65.03        Mean   : 100922.6    Mean   : 32.74  \n",
       " 3rd Qu.: 78.95        3rd Qu.: 120788.1    3rd Qu.: 38.23  \n",
       " Max.   :100.00        Max.   :1272551.9    Max.   : 55.00  \n",
       " NA's   :12            NA's   :5989                         \n",
       " windmill_body_temperature wind_direction    resistance        rotor_torque    \n",
       " Min.   :-999.00           Min.   :  0.0   Min.   :   1.451   Min.   :-136.73  \n",
       " 1st Qu.:  40.45           1st Qu.:238.6   1st Qu.:1286.046   1st Qu.:  13.72  \n",
       " Median :  42.79           Median :271.4   Median :1683.183   Median :  32.98  \n",
       " Mean   :  20.80           Mean   :306.9   Mean   :1613.314   Mean   :  25.85  \n",
       " 3rd Qu.:  44.49           3rd Qu.:404.2   3rd Qu.:1835.581   3rd Qu.:  41.55  \n",
       " Max.   : 323.00           Max.   :570.0   Max.   :4693.482   Max.   : 236.88  \n",
       " NA's   :2363              NA's   :5103    NA's   :617        NA's   :572      \n",
       " turbine_status         cloud_level     blade_length    blade_breadth   \n",
       " BB     : 1946                :  276   Min.   : 0.004   Min.   :0.2001  \n",
       " AAA    : 1939   Extremely Low:  299   1st Qu.: 2.705   1st Qu.:0.3474  \n",
       " BCB    : 1933   Low          :13921   Median : 3.567   Median :0.3986  \n",
       " B2     : 1931   Medium       :13704   Mean   : 3.739   Mean   :0.3972  \n",
       " A      : 1930                         3rd Qu.: 4.418   3rd Qu.:0.4494  \n",
       " D      : 1922                         Max.   :18.210   Max.   :0.5000  \n",
       " (Other):16599                         NA's   :6534                     \n",
       " windmill_height  windmill_generated_power      year          month       \n",
       " Min.   :-30.30   Min.   : 0.9623          Min.   :2018   Min.   : 1.000  \n",
       " 1st Qu.: 24.45   1st Qu.: 4.0595          1st Qu.:2019   1st Qu.: 3.000  \n",
       " Median : 25.96   Median : 5.7647          Median :2019   Median : 6.000  \n",
       " Mean   : 25.89   Mean   : 6.1305          Mean   :2019   Mean   : 6.209  \n",
       " 3rd Qu.: 27.48   3rd Qu.: 7.9472          3rd Qu.:2019   3rd Qu.: 9.000  \n",
       " Max.   : 78.35   Max.   :20.1754          Max.   :2019   Max.   :12.000  \n",
       " NA's   :543      NA's   :207                                             \n",
       "      mday            wday            hour            min       \n",
       " Min.   : 1.00   Min.   :0.000   Min.   : 0.00   Min.   : 3.00  \n",
       " 1st Qu.: 8.00   1st Qu.:1.000   1st Qu.: 6.00   1st Qu.:13.00  \n",
       " Median :15.00   Median :3.000   Median :12.00   Median :33.00  \n",
       " Mean   :15.52   Mean   :2.993   Mean   :11.59   Mean   :28.02  \n",
       " 3rd Qu.:23.00   3rd Qu.:5.000   3rd Qu.:18.00   3rd Qu.:43.00  \n",
       " Max.   :31.00   Max.   :6.000   Max.   :23.00   Max.   :53.00  \n",
       "                                                                "
      ]
     },
     "metadata": {},
     "output_type": "display_data"
    },
    {
     "data": {
      "text/plain": [
       " blade_breadth         year          month             mday      \n",
       " Min.   :0.2001   Min.   :2018   Min.   : 1.000   Min.   : 1.00  \n",
       " 1st Qu.:0.3474   1st Qu.:2019   1st Qu.: 3.000   1st Qu.: 8.00  \n",
       " Median :0.3986   Median :2019   Median : 6.000   Median :15.00  \n",
       " Mean   :0.3972   Mean   :2019   Mean   : 6.209   Mean   :15.52  \n",
       " 3rd Qu.:0.4494   3rd Qu.:2019   3rd Qu.: 9.000   3rd Qu.:23.00  \n",
       " Max.   :0.5000   Max.   :2019   Max.   :12.000   Max.   :31.00  \n",
       "                                                                 \n",
       "      wday            hour            min          wind_speed     \n",
       " Min.   :0.000   Min.   : 0.00   Min.   : 3.00   Min.   :-496.21  \n",
       " 1st Qu.:1.000   1st Qu.: 6.00   1st Qu.:13.00   1st Qu.:  20.86  \n",
       " Median :3.000   Median :12.00   Median :33.00   Median :  93.29  \n",
       " Mean   :2.993   Mean   :11.59   Mean   :28.02   Mean   :  69.03  \n",
       " 3rd Qu.:5.000   3rd Qu.:18.00   3rd Qu.:43.00   3rd Qu.:  95.28  \n",
       " Max.   :6.000   Max.   :23.00   Max.   :53.00   Max.   : 601.46  \n",
       "                                                                  \n",
       " atmospheric_temperature shaft_temperature  blades_angle      \n",
       " Min.   :-53.80          Min.   :-99.00    Min.   :-146.2595  \n",
       " 1st Qu.: 12.33          1st Qu.: 41.63    1st Qu.:  -1.2022  \n",
       " Median : 18.66          Median : 43.69    Median :  -0.5006  \n",
       " Mean   : 19.22          Mean   : 40.08    Mean   :  -9.6647  \n",
       " 3rd Qu.: 25.59          3rd Qu.: 45.67    3rd Qu.:   5.5485  \n",
       " Max.   : 80.22          Max.   :169.82    Max.   : 165.9321  \n",
       "                                                              \n",
       " gearbox_temperature engine_temperature  motor_torque     generator_temperature\n",
       " Min.   :-244.97     Min.   : 3.167     Min.   : -69.38   Min.   : 19.57       \n",
       " 1st Qu.:  40.56     1st Qu.:41.909     1st Qu.: 870.30   1st Qu.: 41.20       \n",
       " Median :  43.22     Median :43.524     Median :2031.69   Median : 70.73       \n",
       " Mean   :  41.03     Mean   :42.610     Mean   :1710.68   Mean   : 65.02       \n",
       " 3rd Qu.:  45.88     3rd Qu.:45.174     3rd Qu.:2462.36   3rd Qu.: 78.94       \n",
       " Max.   : 999.00     Max.   :50.574     Max.   :3370.53   Max.   :100.00       \n",
       "                                                                               \n",
       " atmospheric_pressure area_temperature windmill_body_temperature\n",
       " Min.   :-324409      Min.   :-30.00   Min.   :-999.00          \n",
       " 1st Qu.:  17143      1st Qu.: 27.31   1st Qu.:  23.51          \n",
       " Median :  33567      Median : 32.61   Median :  42.68          \n",
       " Mean   : 100954      Mean   : 32.74   Mean   :  20.77          \n",
       " 3rd Qu.: 126774      3rd Qu.: 38.23   3rd Qu.:  44.55          \n",
       " Max.   :1272552      Max.   : 55.00   Max.   : 323.00          \n",
       "                                                                \n",
       " wind_direction     resistance        rotor_torque      blade_length   \n",
       " Min.   :-164.2   Min.   :   1.451   Min.   :-136.73   Min.   :-1.766  \n",
       " 1st Qu.: 239.4   1st Qu.:1286.317   1st Qu.:  13.69   1st Qu.: 2.698  \n",
       " Median : 277.0   Median :1682.680   Median :  32.92   Median : 3.597  \n",
       " Mean   : 313.4   Mean   :1613.151   Mean   :  25.86   Mean   : 3.733  \n",
       " 3rd Qu.: 420.9   3rd Qu.:1836.549   3rd Qu.:  41.62   3rd Qu.: 4.489  \n",
       " Max.   : 840.7   Max.   :4693.482   Max.   : 236.88   Max.   :18.210  \n",
       "                                                                       \n",
       " windmill_height  windmill_generated_power turbine_status \n",
       " Min.   :-30.30   Min.   :-1.921           ABC    : 3626  \n",
       " 1st Qu.: 24.43   1st Qu.: 4.059           BB     : 1946  \n",
       " Median : 25.96   Median : 5.765           AAA    : 1939  \n",
       " Mean   : 25.89   Mean   : 6.130           BCB    : 1933  \n",
       " 3rd Qu.: 27.50   3rd Qu.: 7.949           B2     : 1931  \n",
       " Max.   : 78.35   Max.   :20.175           A      : 1930  \n",
       "                                           (Other):14895  \n",
       "        cloud_level   \n",
       " Extremely Low:  299  \n",
       " Low          :13921  \n",
       " Medium       :13980  \n",
       "                      \n",
       "                      \n",
       "                      \n",
       "                      "
      ]
     },
     "metadata": {},
     "output_type": "display_data"
    },
    {
     "data": {
      "text/html": [
       "<ol class=list-inline>\n",
       "\t<li>'tracking_id'</li>\n",
       "\t<li>'wind_speed'</li>\n",
       "\t<li>'atmospheric_temperature'</li>\n",
       "\t<li>'shaft_temperature'</li>\n",
       "\t<li>'blades_angle'</li>\n",
       "\t<li>'gearbox_temperature'</li>\n",
       "\t<li>'engine_temperature'</li>\n",
       "\t<li>'motor_torque'</li>\n",
       "\t<li>'generator_temperature'</li>\n",
       "\t<li>'atmospheric_pressure'</li>\n",
       "\t<li>'area_temperature'</li>\n",
       "\t<li>'windmill_body_temperature'</li>\n",
       "\t<li>'wind_direction'</li>\n",
       "\t<li>'resistance'</li>\n",
       "\t<li>'rotor_torque'</li>\n",
       "\t<li>'turbine_status'</li>\n",
       "\t<li>'cloud_level'</li>\n",
       "\t<li>'blade_length'</li>\n",
       "\t<li>'blade_breadth'</li>\n",
       "\t<li>'windmill_height'</li>\n",
       "\t<li>'windmill_generated_power'</li>\n",
       "\t<li>'year'</li>\n",
       "\t<li>'month'</li>\n",
       "\t<li>'mday'</li>\n",
       "\t<li>'wday'</li>\n",
       "\t<li>'hour'</li>\n",
       "\t<li>'min'</li>\n",
       "</ol>\n"
      ],
      "text/latex": [
       "\\begin{enumerate*}\n",
       "\\item 'tracking\\_id'\n",
       "\\item 'wind\\_speed'\n",
       "\\item 'atmospheric\\_temperature'\n",
       "\\item 'shaft\\_temperature'\n",
       "\\item 'blades\\_angle'\n",
       "\\item 'gearbox\\_temperature'\n",
       "\\item 'engine\\_temperature'\n",
       "\\item 'motor\\_torque'\n",
       "\\item 'generator\\_temperature'\n",
       "\\item 'atmospheric\\_pressure'\n",
       "\\item 'area\\_temperature'\n",
       "\\item 'windmill\\_body\\_temperature'\n",
       "\\item 'wind\\_direction'\n",
       "\\item 'resistance'\n",
       "\\item 'rotor\\_torque'\n",
       "\\item 'turbine\\_status'\n",
       "\\item 'cloud\\_level'\n",
       "\\item 'blade\\_length'\n",
       "\\item 'blade\\_breadth'\n",
       "\\item 'windmill\\_height'\n",
       "\\item 'windmill\\_generated\\_power'\n",
       "\\item 'year'\n",
       "\\item 'month'\n",
       "\\item 'mday'\n",
       "\\item 'wday'\n",
       "\\item 'hour'\n",
       "\\item 'min'\n",
       "\\end{enumerate*}\n"
      ],
      "text/markdown": [
       "1. 'tracking_id'\n",
       "2. 'wind_speed'\n",
       "3. 'atmospheric_temperature'\n",
       "4. 'shaft_temperature'\n",
       "5. 'blades_angle'\n",
       "6. 'gearbox_temperature'\n",
       "7. 'engine_temperature'\n",
       "8. 'motor_torque'\n",
       "9. 'generator_temperature'\n",
       "10. 'atmospheric_pressure'\n",
       "11. 'area_temperature'\n",
       "12. 'windmill_body_temperature'\n",
       "13. 'wind_direction'\n",
       "14. 'resistance'\n",
       "15. 'rotor_torque'\n",
       "16. 'turbine_status'\n",
       "17. 'cloud_level'\n",
       "18. 'blade_length'\n",
       "19. 'blade_breadth'\n",
       "20. 'windmill_height'\n",
       "21. 'windmill_generated_power'\n",
       "22. 'year'\n",
       "23. 'month'\n",
       "24. 'mday'\n",
       "25. 'wday'\n",
       "26. 'hour'\n",
       "27. 'min'\n",
       "\n",
       "\n"
      ],
      "text/plain": [
       " [1] \"tracking_id\"               \"wind_speed\"               \n",
       " [3] \"atmospheric_temperature\"   \"shaft_temperature\"        \n",
       " [5] \"blades_angle\"              \"gearbox_temperature\"      \n",
       " [7] \"engine_temperature\"        \"motor_torque\"             \n",
       " [9] \"generator_temperature\"     \"atmospheric_pressure\"     \n",
       "[11] \"area_temperature\"          \"windmill_body_temperature\"\n",
       "[13] \"wind_direction\"            \"resistance\"               \n",
       "[15] \"rotor_torque\"              \"turbine_status\"           \n",
       "[17] \"cloud_level\"               \"blade_length\"             \n",
       "[19] \"blade_breadth\"             \"windmill_height\"          \n",
       "[21] \"windmill_generated_power\"  \"year\"                     \n",
       "[23] \"month\"                     \"mday\"                     \n",
       "[25] \"wday\"                      \"hour\"                     \n",
       "[27] \"min\"                      "
      ]
     },
     "metadata": {},
     "output_type": "display_data"
    },
    {
     "data": {
      "text/html": [
       "<ol class=list-inline>\n",
       "\t<li>'blade_breadth'</li>\n",
       "\t<li>'year'</li>\n",
       "\t<li>'month'</li>\n",
       "\t<li>'mday'</li>\n",
       "\t<li>'wday'</li>\n",
       "\t<li>'hour'</li>\n",
       "\t<li>'min'</li>\n",
       "\t<li>'wind_speed'</li>\n",
       "\t<li>'atmospheric_temperature'</li>\n",
       "\t<li>'shaft_temperature'</li>\n",
       "\t<li>'blades_angle'</li>\n",
       "\t<li>'gearbox_temperature'</li>\n",
       "\t<li>'engine_temperature'</li>\n",
       "\t<li>'motor_torque'</li>\n",
       "\t<li>'generator_temperature'</li>\n",
       "\t<li>'atmospheric_pressure'</li>\n",
       "\t<li>'area_temperature'</li>\n",
       "\t<li>'windmill_body_temperature'</li>\n",
       "\t<li>'wind_direction'</li>\n",
       "\t<li>'resistance'</li>\n",
       "\t<li>'rotor_torque'</li>\n",
       "\t<li>'blade_length'</li>\n",
       "\t<li>'windmill_height'</li>\n",
       "\t<li>'windmill_generated_power'</li>\n",
       "\t<li>'turbine_status'</li>\n",
       "\t<li>'cloud_level'</li>\n",
       "</ol>\n"
      ],
      "text/latex": [
       "\\begin{enumerate*}\n",
       "\\item 'blade\\_breadth'\n",
       "\\item 'year'\n",
       "\\item 'month'\n",
       "\\item 'mday'\n",
       "\\item 'wday'\n",
       "\\item 'hour'\n",
       "\\item 'min'\n",
       "\\item 'wind\\_speed'\n",
       "\\item 'atmospheric\\_temperature'\n",
       "\\item 'shaft\\_temperature'\n",
       "\\item 'blades\\_angle'\n",
       "\\item 'gearbox\\_temperature'\n",
       "\\item 'engine\\_temperature'\n",
       "\\item 'motor\\_torque'\n",
       "\\item 'generator\\_temperature'\n",
       "\\item 'atmospheric\\_pressure'\n",
       "\\item 'area\\_temperature'\n",
       "\\item 'windmill\\_body\\_temperature'\n",
       "\\item 'wind\\_direction'\n",
       "\\item 'resistance'\n",
       "\\item 'rotor\\_torque'\n",
       "\\item 'blade\\_length'\n",
       "\\item 'windmill\\_height'\n",
       "\\item 'windmill\\_generated\\_power'\n",
       "\\item 'turbine\\_status'\n",
       "\\item 'cloud\\_level'\n",
       "\\end{enumerate*}\n"
      ],
      "text/markdown": [
       "1. 'blade_breadth'\n",
       "2. 'year'\n",
       "3. 'month'\n",
       "4. 'mday'\n",
       "5. 'wday'\n",
       "6. 'hour'\n",
       "7. 'min'\n",
       "8. 'wind_speed'\n",
       "9. 'atmospheric_temperature'\n",
       "10. 'shaft_temperature'\n",
       "11. 'blades_angle'\n",
       "12. 'gearbox_temperature'\n",
       "13. 'engine_temperature'\n",
       "14. 'motor_torque'\n",
       "15. 'generator_temperature'\n",
       "16. 'atmospheric_pressure'\n",
       "17. 'area_temperature'\n",
       "18. 'windmill_body_temperature'\n",
       "19. 'wind_direction'\n",
       "20. 'resistance'\n",
       "21. 'rotor_torque'\n",
       "22. 'blade_length'\n",
       "23. 'windmill_height'\n",
       "24. 'windmill_generated_power'\n",
       "25. 'turbine_status'\n",
       "26. 'cloud_level'\n",
       "\n",
       "\n"
      ],
      "text/plain": [
       " [1] \"blade_breadth\"             \"year\"                     \n",
       " [3] \"month\"                     \"mday\"                     \n",
       " [5] \"wday\"                      \"hour\"                     \n",
       " [7] \"min\"                       \"wind_speed\"               \n",
       " [9] \"atmospheric_temperature\"   \"shaft_temperature\"        \n",
       "[11] \"blades_angle\"              \"gearbox_temperature\"      \n",
       "[13] \"engine_temperature\"        \"motor_torque\"             \n",
       "[15] \"generator_temperature\"     \"atmospheric_pressure\"     \n",
       "[17] \"area_temperature\"          \"windmill_body_temperature\"\n",
       "[19] \"wind_direction\"            \"resistance\"               \n",
       "[21] \"rotor_torque\"              \"blade_length\"             \n",
       "[23] \"windmill_height\"           \"windmill_generated_power\" \n",
       "[25] \"turbine_status\"            \"cloud_level\"              "
      ]
     },
     "metadata": {},
     "output_type": "display_data"
    }
   ],
   "source": [
    "# Import train data using data.table fread function\n",
    "data <- fread(\"../data_without_imputation.csv\", stringsAsFactors = T)\n",
    "data.imputation <- fread(\"../data_with_imputation.csv\", stringsAsFactors = T)\n",
    "\n",
    "cat(\"Number of NA values: \", sum(is.na(data)))\n",
    "cat(\"\\nNumber of NA values for imputed: \", sum(is.na(data.imputation)))\n",
    "\n",
    "summary(data)\n",
    "summary(data.imputation)\n",
    "\n",
    "colnames(data)\n",
    "colnames(data.imputation)"
   ]
  },
  {
   "cell_type": "code",
   "execution_count": 3,
   "id": "1a9df942",
   "metadata": {},
   "outputs": [],
   "source": [
    "data[data == \"\"] <- NA # account for \"\" as NA\n",
    "\n",
    "data$turbine_status <- droplevels(data$turbine_status) # removes unused \"\" level\n",
    "data$cloud_level <- droplevels(data$cloud_level) # removes unused \"\" level"
   ]
  },
  {
   "cell_type": "code",
   "execution_count": 4,
   "id": "3f49eaab",
   "metadata": {},
   "outputs": [
    {
     "data": {
      "text/html": [
       "<ol class=list-inline>\n",
       "\t<li>'Extremely Low'</li>\n",
       "\t<li>'Low'</li>\n",
       "\t<li>'Medium'</li>\n",
       "</ol>\n"
      ],
      "text/latex": [
       "\\begin{enumerate*}\n",
       "\\item 'Extremely Low'\n",
       "\\item 'Low'\n",
       "\\item 'Medium'\n",
       "\\end{enumerate*}\n"
      ],
      "text/markdown": [
       "1. 'Extremely Low'\n",
       "2. 'Low'\n",
       "3. 'Medium'\n",
       "\n",
       "\n"
      ],
      "text/plain": [
       "[1] \"Extremely Low\" \"Low\"           \"Medium\"       "
      ]
     },
     "metadata": {},
     "output_type": "display_data"
    },
    {
     "data": {
      "text/html": [
       "<ol class=list-inline>\n",
       "\t<li>'A'</li>\n",
       "\t<li>'A2'</li>\n",
       "\t<li>'AAA'</li>\n",
       "\t<li>'AB'</li>\n",
       "\t<li>'ABC'</li>\n",
       "\t<li>'AC'</li>\n",
       "\t<li>'B'</li>\n",
       "\t<li>'B2'</li>\n",
       "\t<li>'BA'</li>\n",
       "\t<li>'BB'</li>\n",
       "\t<li>'BBB'</li>\n",
       "\t<li>'BCB'</li>\n",
       "\t<li>'BD'</li>\n",
       "\t<li>'D'</li>\n",
       "</ol>\n"
      ],
      "text/latex": [
       "\\begin{enumerate*}\n",
       "\\item 'A'\n",
       "\\item 'A2'\n",
       "\\item 'AAA'\n",
       "\\item 'AB'\n",
       "\\item 'ABC'\n",
       "\\item 'AC'\n",
       "\\item 'B'\n",
       "\\item 'B2'\n",
       "\\item 'BA'\n",
       "\\item 'BB'\n",
       "\\item 'BBB'\n",
       "\\item 'BCB'\n",
       "\\item 'BD'\n",
       "\\item 'D'\n",
       "\\end{enumerate*}\n"
      ],
      "text/markdown": [
       "1. 'A'\n",
       "2. 'A2'\n",
       "3. 'AAA'\n",
       "4. 'AB'\n",
       "5. 'ABC'\n",
       "6. 'AC'\n",
       "7. 'B'\n",
       "8. 'B2'\n",
       "9. 'BA'\n",
       "10. 'BB'\n",
       "11. 'BBB'\n",
       "12. 'BCB'\n",
       "13. 'BD'\n",
       "14. 'D'\n",
       "\n",
       "\n"
      ],
      "text/plain": [
       " [1] \"A\"   \"A2\"  \"AAA\" \"AB\"  \"ABC\" \"AC\"  \"B\"   \"B2\"  \"BA\"  \"BB\"  \"BBB\" \"BCB\"\n",
       "[13] \"BD\"  \"D\"  "
      ]
     },
     "metadata": {},
     "output_type": "display_data"
    },
    {
     "data": {
      "text/html": [
       "<ol class=list-inline>\n",
       "\t<li>'Extremely Low'</li>\n",
       "\t<li>'Low'</li>\n",
       "\t<li>'Medium'</li>\n",
       "</ol>\n"
      ],
      "text/latex": [
       "\\begin{enumerate*}\n",
       "\\item 'Extremely Low'\n",
       "\\item 'Low'\n",
       "\\item 'Medium'\n",
       "\\end{enumerate*}\n"
      ],
      "text/markdown": [
       "1. 'Extremely Low'\n",
       "2. 'Low'\n",
       "3. 'Medium'\n",
       "\n",
       "\n"
      ],
      "text/plain": [
       "[1] \"Extremely Low\" \"Low\"           \"Medium\"       "
      ]
     },
     "metadata": {},
     "output_type": "display_data"
    },
    {
     "data": {
      "text/html": [
       "<ol class=list-inline>\n",
       "\t<li>'A'</li>\n",
       "\t<li>'A2'</li>\n",
       "\t<li>'AAA'</li>\n",
       "\t<li>'AB'</li>\n",
       "\t<li>'ABC'</li>\n",
       "\t<li>'AC'</li>\n",
       "\t<li>'B'</li>\n",
       "\t<li>'B2'</li>\n",
       "\t<li>'BA'</li>\n",
       "\t<li>'BB'</li>\n",
       "\t<li>'BBB'</li>\n",
       "\t<li>'BCB'</li>\n",
       "\t<li>'BD'</li>\n",
       "\t<li>'D'</li>\n",
       "</ol>\n"
      ],
      "text/latex": [
       "\\begin{enumerate*}\n",
       "\\item 'A'\n",
       "\\item 'A2'\n",
       "\\item 'AAA'\n",
       "\\item 'AB'\n",
       "\\item 'ABC'\n",
       "\\item 'AC'\n",
       "\\item 'B'\n",
       "\\item 'B2'\n",
       "\\item 'BA'\n",
       "\\item 'BB'\n",
       "\\item 'BBB'\n",
       "\\item 'BCB'\n",
       "\\item 'BD'\n",
       "\\item 'D'\n",
       "\\end{enumerate*}\n"
      ],
      "text/markdown": [
       "1. 'A'\n",
       "2. 'A2'\n",
       "3. 'AAA'\n",
       "4. 'AB'\n",
       "5. 'ABC'\n",
       "6. 'AC'\n",
       "7. 'B'\n",
       "8. 'B2'\n",
       "9. 'BA'\n",
       "10. 'BB'\n",
       "11. 'BBB'\n",
       "12. 'BCB'\n",
       "13. 'BD'\n",
       "14. 'D'\n",
       "\n",
       "\n"
      ],
      "text/plain": [
       " [1] \"A\"   \"A2\"  \"AAA\" \"AB\"  \"ABC\" \"AC\"  \"B\"   \"B2\"  \"BA\"  \"BB\"  \"BBB\" \"BCB\"\n",
       "[13] \"BD\"  \"D\"  "
      ]
     },
     "metadata": {},
     "output_type": "display_data"
    }
   ],
   "source": [
    "levels(data$cloud_level)\n",
    "levels(data$turbine_status)\n",
    "\n",
    "levels(data.imputation$cloud_level)\n",
    "levels(data.imputation$turbine_status)"
   ]
  },
  {
   "cell_type": "code",
   "execution_count": 5,
   "id": "a26a1f66",
   "metadata": {},
   "outputs": [],
   "source": [
    "data$year = as.factor(data$year)\n",
    "data$month = as.factor(data$month)\n",
    "data$mday = as.factor(data$mday)\n",
    "data$wday = as.factor(data$wday)\n",
    "\n",
    "data.imputation$year = as.factor(data.imputation$year)\n",
    "data.imputation$month = as.factor(data.imputation$month)\n",
    "data.imputation$mday = as.factor(data.imputation$mday)\n",
    "data.imputation$wday = as.factor(data.imputation$wday)"
   ]
  },
  {
   "cell_type": "code",
   "execution_count": 6,
   "id": "b382f0c5",
   "metadata": {},
   "outputs": [],
   "source": [
    "# drop column tracking_id and datetime\n",
    "data[,tracking_id:=NULL]\n",
    "data[,min:=NULL]\n",
    "# data[,mday:=NULL]\n",
    "# data[,wday:=NULL]\n",
    "# data[,year:=NULL]\n",
    "\n",
    "data.imputation[,min:=NULL]\n",
    "# data.imputation[,mday:=NULL]\n",
    "# data.imputation[,wday:=NULL]\n",
    "# data.imputation[,year:=NULL]"
   ]
  },
  {
   "cell_type": "code",
   "execution_count": 7,
   "id": "7c6ee21d",
   "metadata": {},
   "outputs": [],
   "source": [
    "# Take absolute value of wind_speed\n",
    "data$wind_speed = abs(data$wind_speed)\n",
    "data.imputation$wind_speed = abs(data.imputation$wind_speed)"
   ]
  },
  {
   "cell_type": "code",
   "execution_count": 8,
   "id": "13f674de",
   "metadata": {},
   "outputs": [
    {
     "data": {
      "text/html": [
       "<span style=white-space:pre-wrap>'number of rows of trainset:  19740'</span>"
      ],
      "text/latex": [
       "'number of rows of trainset:  19740'"
      ],
      "text/markdown": [
       "<span style=white-space:pre-wrap>'number of rows of trainset:  19740'</span>"
      ],
      "text/plain": [
       "[1] \"number of rows of trainset:  19740\""
      ]
     },
     "metadata": {},
     "output_type": "display_data"
    },
    {
     "data": {
      "text/html": [
       "<span style=white-space:pre-wrap>'number of rows of imputed trainset:  19740'</span>"
      ],
      "text/latex": [
       "'number of rows of imputed trainset:  19740'"
      ],
      "text/markdown": [
       "<span style=white-space:pre-wrap>'number of rows of imputed trainset:  19740'</span>"
      ],
      "text/plain": [
       "[1] \"number of rows of imputed trainset:  19740\""
      ]
     },
     "metadata": {},
     "output_type": "display_data"
    },
    {
     "data": {
      "text/html": [
       "<span style=white-space:pre-wrap>'proportion of trainset:  0.7'</span>"
      ],
      "text/latex": [
       "'proportion of trainset:  0.7'"
      ],
      "text/markdown": [
       "<span style=white-space:pre-wrap>'proportion of trainset:  0.7'</span>"
      ],
      "text/plain": [
       "[1] \"proportion of trainset:  0.7\""
      ]
     },
     "metadata": {},
     "output_type": "display_data"
    },
    {
     "data": {
      "text/html": [
       "<span style=white-space:pre-wrap>'number of rows of testset:  8460'</span>"
      ],
      "text/latex": [
       "'number of rows of testset:  8460'"
      ],
      "text/markdown": [
       "<span style=white-space:pre-wrap>'number of rows of testset:  8460'</span>"
      ],
      "text/plain": [
       "[1] \"number of rows of testset:  8460\""
      ]
     },
     "metadata": {},
     "output_type": "display_data"
    },
    {
     "data": {
      "text/html": [
       "<span style=white-space:pre-wrap>'number of rows of imputed testset:  8460'</span>"
      ],
      "text/latex": [
       "'number of rows of imputed testset:  8460'"
      ],
      "text/markdown": [
       "<span style=white-space:pre-wrap>'number of rows of imputed testset:  8460'</span>"
      ],
      "text/plain": [
       "[1] \"number of rows of imputed testset:  8460\""
      ]
     },
     "metadata": {},
     "output_type": "display_data"
    },
    {
     "data": {
      "text/html": [
       "<span style=white-space:pre-wrap>'proportion of testset:  0.3'</span>"
      ],
      "text/latex": [
       "'proportion of testset:  0.3'"
      ],
      "text/markdown": [
       "<span style=white-space:pre-wrap>'proportion of testset:  0.3'</span>"
      ],
      "text/plain": [
       "[1] \"proportion of testset:  0.3\""
      ]
     },
     "metadata": {},
     "output_type": "display_data"
    }
   ],
   "source": [
    "#sample split into train and test set\n",
    "library(caTools)\n",
    "set.seed(2021)\n",
    "train <- sample.split(Y=data$windmill_generated_power, SplitRatio=0.7)\n",
    "trainset<- subset(data, train==T)\n",
    "testset<- subset(data, train==F)\n",
    "\n",
    "trainset.imputation <- subset(data.imputation, train==T)\n",
    "testset.imputation <- subset(data.imputation, train==F)\n",
    "paste(\"number of rows of trainset: \",nrow(trainset))\n",
    "paste(\"number of rows of imputed trainset: \", nrow(trainset.imputation))\n",
    "paste(\"proportion of trainset: \", nrow(trainset)/nrow(data))\n",
    "paste(\"number of rows of testset: \",nrow(testset))\n",
    "paste(\"number of rows of imputed testset: \",nrow(testset.imputation))\n",
    "paste(\"proportion of testset: \", nrow(testset)/nrow(data))"
   ]
  },
  {
   "cell_type": "code",
   "execution_count": 9,
   "id": "35755b58",
   "metadata": {},
   "outputs": [
    {
     "data": {
      "text/html": [
       "<table>\n",
       "<thead><tr><th scope=col>wind_speed</th><th scope=col>atmospheric_temperature</th><th scope=col>shaft_temperature</th><th scope=col>blades_angle</th><th scope=col>gearbox_temperature</th><th scope=col>engine_temperature</th><th scope=col>motor_torque</th><th scope=col>generator_temperature</th><th scope=col>atmospheric_pressure</th><th scope=col>area_temperature</th><th scope=col>...</th><th scope=col>cloud_level</th><th scope=col>blade_length</th><th scope=col>blade_breadth</th><th scope=col>windmill_height</th><th scope=col>windmill_generated_power</th><th scope=col>year</th><th scope=col>month</th><th scope=col>mday</th><th scope=col>wday</th><th scope=col>hour</th></tr></thead>\n",
       "<tbody>\n",
       "\t<tr><td> 94.82002  </td><td>      NA   </td><td>41.72302   </td><td> -0.9034229</td><td> 82.41057  </td><td>42.52302   </td><td>2563.1245  </td><td>76.66556   </td><td>103402.96  </td><td>26.89787   </td><td>...        </td><td>Medium     </td><td>2.217542   </td><td>0.3140648  </td><td>24.28169   </td><td> 6.766521  </td><td>2019       </td><td>8          </td><td>4          </td><td>0          </td><td>14         </td></tr>\n",
       "\t<tr><td>238.81942  </td><td>      NA   </td><td>45.44391   </td><td> 15.1153228</td><td> 44.75964  </td><td>47.28210   </td><td>2888.1341  </td><td>95.38997   </td><td> 18689.73  </td><td>46.02005   </td><td>...        </td><td>NA         </td><td>4.857385   </td><td>0.3671399  </td><td>24.28777   </td><td>14.851089  </td><td>2018       </td><td>12         </td><td>25         </td><td>2          </td><td>15         </td></tr>\n",
       "\t<tr><td> 10.72289  </td><td>      NA   </td><td>41.98118   </td><td>  1.7156961</td><td>-17.61646  </td><td>43.46985   </td><td> 781.6954  </td><td>37.42307   </td><td>114468.17  </td><td>34.57294   </td><td>...        </td><td>Medium     </td><td>      NA   </td><td>0.4533737  </td><td>27.97165   </td><td> 3.519074  </td><td>2019       </td><td>5          </td><td>4          </td><td>6          </td><td> 3         </td></tr>\n",
       "\t<tr><td> 16.02625  </td><td>      NA   </td><td>44.07282   </td><td> -0.1968448</td><td> 41.68058  </td><td>43.38490   </td><td> 778.1100  </td><td>40.28402   </td><td>121813.38  </td><td>33.84939   </td><td>...        </td><td>Low        </td><td>2.917922   </td><td>0.4473414  </td><td>33.59351   </td><td> 5.089173  </td><td>2019       </td><td>4          </td><td>17         </td><td>3          </td><td>18         </td></tr>\n",
       "\t<tr><td> 48.73783  </td><td>12.71681   </td><td>43.21778   </td><td>-99.0000000</td><td>-48.40509  </td><td>44.12584   </td><td> 980.9885  </td><td>43.69187   </td><td>120923.02  </td><td>30.55316   </td><td>...        </td><td>Low        </td><td>2.938810   </td><td>0.3548810  </td><td>29.94482   </td><td> 8.536889  </td><td>2019       </td><td>7          </td><td>8          </td><td>1          </td><td>21         </td></tr>\n",
       "\t<tr><td> 91.99617  </td><td>      NA   </td><td>41.87308   </td><td> 69.4844587</td><td>-12.38164  </td><td>43.13339   </td><td>1146.9242  </td><td>69.35794   </td><td> 16453.59  </td><td>23.15148   </td><td>...        </td><td>Medium     </td><td>2.939582   </td><td>0.3019110  </td><td>24.55546   </td><td> 3.906960  </td><td>2019       </td><td>5          </td><td>24         </td><td>5          </td><td>12         </td></tr>\n",
       "</tbody>\n",
       "</table>\n"
      ],
      "text/latex": [
       "\\begin{tabular}{r|lllllllllllllllllllllllll}\n",
       " wind\\_speed & atmospheric\\_temperature & shaft\\_temperature & blades\\_angle & gearbox\\_temperature & engine\\_temperature & motor\\_torque & generator\\_temperature & atmospheric\\_pressure & area\\_temperature & ... & cloud\\_level & blade\\_length & blade\\_breadth & windmill\\_height & windmill\\_generated\\_power & year & month & mday & wday & hour\\\\\n",
       "\\hline\n",
       "\t  94.82002   &       NA    & 41.72302    &  -0.9034229 &  82.41057   & 42.52302    & 2563.1245   & 76.66556    & 103402.96   & 26.89787    & ...         & Medium      & 2.217542    & 0.3140648   & 24.28169    &  6.766521   & 2019        & 8           & 4           & 0           & 14         \\\\\n",
       "\t 238.81942   &       NA    & 45.44391    &  15.1153228 &  44.75964   & 47.28210    & 2888.1341   & 95.38997    &  18689.73   & 46.02005    & ...         & NA          & 4.857385    & 0.3671399   & 24.28777    & 14.851089   & 2018        & 12          & 25          & 2           & 15         \\\\\n",
       "\t  10.72289   &       NA    & 41.98118    &   1.7156961 & -17.61646   & 43.46985    &  781.6954   & 37.42307    & 114468.17   & 34.57294    & ...         & Medium      &       NA    & 0.4533737   & 27.97165    &  3.519074   & 2019        & 5           & 4           & 6           &  3         \\\\\n",
       "\t  16.02625   &       NA    & 44.07282    &  -0.1968448 &  41.68058   & 43.38490    &  778.1100   & 40.28402    & 121813.38   & 33.84939    & ...         & Low         & 2.917922    & 0.4473414   & 33.59351    &  5.089173   & 2019        & 4           & 17          & 3           & 18         \\\\\n",
       "\t  48.73783   & 12.71681    & 43.21778    & -99.0000000 & -48.40509   & 44.12584    &  980.9885   & 43.69187    & 120923.02   & 30.55316    & ...         & Low         & 2.938810    & 0.3548810   & 29.94482    &  8.536889   & 2019        & 7           & 8           & 1           & 21         \\\\\n",
       "\t  91.99617   &       NA    & 41.87308    &  69.4844587 & -12.38164   & 43.13339    & 1146.9242   & 69.35794    &  16453.59   & 23.15148    & ...         & Medium      & 2.939582    & 0.3019110   & 24.55546    &  3.906960   & 2019        & 5           & 24          & 5           & 12         \\\\\n",
       "\\end{tabular}\n"
      ],
      "text/markdown": [
       "\n",
       "| wind_speed | atmospheric_temperature | shaft_temperature | blades_angle | gearbox_temperature | engine_temperature | motor_torque | generator_temperature | atmospheric_pressure | area_temperature | ... | cloud_level | blade_length | blade_breadth | windmill_height | windmill_generated_power | year | month | mday | wday | hour |\n",
       "|---|---|---|---|---|---|---|---|---|---|---|---|---|---|---|---|---|---|---|---|---|\n",
       "|  94.82002   |       NA    | 41.72302    |  -0.9034229 |  82.41057   | 42.52302    | 2563.1245   | 76.66556    | 103402.96   | 26.89787    | ...         | Medium      | 2.217542    | 0.3140648   | 24.28169    |  6.766521   | 2019        | 8           | 4           | 0           | 14          |\n",
       "| 238.81942   |       NA    | 45.44391    |  15.1153228 |  44.75964   | 47.28210    | 2888.1341   | 95.38997    |  18689.73   | 46.02005    | ...         | NA          | 4.857385    | 0.3671399   | 24.28777    | 14.851089   | 2018        | 12          | 25          | 2           | 15          |\n",
       "|  10.72289   |       NA    | 41.98118    |   1.7156961 | -17.61646   | 43.46985    |  781.6954   | 37.42307    | 114468.17   | 34.57294    | ...         | Medium      |       NA    | 0.4533737   | 27.97165    |  3.519074   | 2019        | 5           | 4           | 6           |  3          |\n",
       "|  16.02625   |       NA    | 44.07282    |  -0.1968448 |  41.68058   | 43.38490    |  778.1100   | 40.28402    | 121813.38   | 33.84939    | ...         | Low         | 2.917922    | 0.4473414   | 33.59351    |  5.089173   | 2019        | 4           | 17          | 3           | 18          |\n",
       "|  48.73783   | 12.71681    | 43.21778    | -99.0000000 | -48.40509   | 44.12584    |  980.9885   | 43.69187    | 120923.02   | 30.55316    | ...         | Low         | 2.938810    | 0.3548810   | 29.94482    |  8.536889   | 2019        | 7           | 8           | 1           | 21          |\n",
       "|  91.99617   |       NA    | 41.87308    |  69.4844587 | -12.38164   | 43.13339    | 1146.9242   | 69.35794    |  16453.59   | 23.15148    | ...         | Medium      | 2.939582    | 0.3019110   | 24.55546    |  3.906960   | 2019        | 5           | 24          | 5           | 12          |\n",
       "\n"
      ],
      "text/plain": [
       "  wind_speed atmospheric_temperature shaft_temperature blades_angle\n",
       "1  94.82002        NA                41.72302           -0.9034229 \n",
       "2 238.81942        NA                45.44391           15.1153228 \n",
       "3  10.72289        NA                41.98118            1.7156961 \n",
       "4  16.02625        NA                44.07282           -0.1968448 \n",
       "5  48.73783  12.71681                43.21778          -99.0000000 \n",
       "6  91.99617        NA                41.87308           69.4844587 \n",
       "  gearbox_temperature engine_temperature motor_torque generator_temperature\n",
       "1  82.41057           42.52302           2563.1245    76.66556             \n",
       "2  44.75964           47.28210           2888.1341    95.38997             \n",
       "3 -17.61646           43.46985            781.6954    37.42307             \n",
       "4  41.68058           43.38490            778.1100    40.28402             \n",
       "5 -48.40509           44.12584            980.9885    43.69187             \n",
       "6 -12.38164           43.13339           1146.9242    69.35794             \n",
       "  atmospheric_pressure area_temperature ... cloud_level blade_length\n",
       "1 103402.96            26.89787         ... Medium      2.217542    \n",
       "2  18689.73            46.02005         ... NA          4.857385    \n",
       "3 114468.17            34.57294         ... Medium            NA    \n",
       "4 121813.38            33.84939         ... Low         2.917922    \n",
       "5 120923.02            30.55316         ... Low         2.938810    \n",
       "6  16453.59            23.15148         ... Medium      2.939582    \n",
       "  blade_breadth windmill_height windmill_generated_power year month mday wday\n",
       "1 0.3140648     24.28169         6.766521                2019 8     4    0   \n",
       "2 0.3671399     24.28777        14.851089                2018 12    25   2   \n",
       "3 0.4533737     27.97165         3.519074                2019 5     4    6   \n",
       "4 0.4473414     33.59351         5.089173                2019 4     17   3   \n",
       "5 0.3548810     29.94482         8.536889                2019 7     8    1   \n",
       "6 0.3019110     24.55546         3.906960                2019 5     24   5   \n",
       "  hour\n",
       "1 14  \n",
       "2 15  \n",
       "3  3  \n",
       "4 18  \n",
       "5 21  \n",
       "6 12  "
      ]
     },
     "metadata": {},
     "output_type": "display_data"
    }
   ],
   "source": [
    "head(trainset)"
   ]
  },
  {
   "cell_type": "code",
   "execution_count": 10,
   "id": "8e6159fe",
   "metadata": {},
   "outputs": [
    {
     "data": {
      "text/html": [
       "<table>\n",
       "<thead><tr><th scope=col>blade_breadth</th><th scope=col>year</th><th scope=col>month</th><th scope=col>mday</th><th scope=col>wday</th><th scope=col>hour</th><th scope=col>wind_speed</th><th scope=col>atmospheric_temperature</th><th scope=col>shaft_temperature</th><th scope=col>blades_angle</th><th scope=col>...</th><th scope=col>area_temperature</th><th scope=col>windmill_body_temperature</th><th scope=col>wind_direction</th><th scope=col>resistance</th><th scope=col>rotor_torque</th><th scope=col>blade_length</th><th scope=col>windmill_height</th><th scope=col>windmill_generated_power</th><th scope=col>turbine_status</th><th scope=col>cloud_level</th></tr></thead>\n",
       "<tbody>\n",
       "\t<tr><td>0.3140648  </td><td>2019       </td><td>8          </td><td>4          </td><td>0          </td><td>14         </td><td> 94.82002  </td><td>30.519014  </td><td>41.72302   </td><td> -0.9034229</td><td>...        </td><td>26.89787   </td><td> 52.49037  </td><td>239.8364   </td><td>2730.311   </td><td>42.08467   </td><td>2.217542   </td><td>24.28169   </td><td> 6.766521  </td><td>BA         </td><td>Medium     </td></tr>\n",
       "\t<tr><td>0.3671399  </td><td>2018       </td><td>12         </td><td>25         </td><td>2          </td><td>15         </td><td>238.81942  </td><td>22.301115  </td><td>45.44391   </td><td> 15.1153228</td><td>...        </td><td>46.02005   </td><td> 44.82715  </td><td>492.0815   </td><td>1964.503   </td><td>42.74460   </td><td>4.857385   </td><td>24.28777   </td><td>14.851089  </td><td>ABC        </td><td>Medium     </td></tr>\n",
       "\t<tr><td>0.4533737  </td><td>2019       </td><td>5          </td><td>4          </td><td>6          </td><td> 3         </td><td> 10.72289  </td><td>-1.876392  </td><td>41.98118   </td><td>  1.7156961</td><td>...        </td><td>34.57294   </td><td>-99.00000  </td><td>259.2746   </td><td>1177.516   </td><td>13.38729   </td><td>6.845387   </td><td>27.97165   </td><td> 3.519074  </td><td>AAA        </td><td>Medium     </td></tr>\n",
       "\t<tr><td>0.4473414  </td><td>2019       </td><td>4          </td><td>17         </td><td>3          </td><td>18         </td><td> 16.02625  </td><td>14.100095  </td><td>44.07282   </td><td> -0.1968448</td><td>...        </td><td>33.84939   </td><td> 43.00875  </td><td>528.0040   </td><td>1222.931   </td><td>11.80511   </td><td>2.917922   </td><td>33.59351   </td><td> 5.089173  </td><td>BD         </td><td>Low        </td></tr>\n",
       "\t<tr><td>0.3548810  </td><td>2019       </td><td>7          </td><td>8          </td><td>1          </td><td>21         </td><td> 48.73783  </td><td>12.716815  </td><td>43.21778   </td><td>-99.0000000</td><td>...        </td><td>30.55316   </td><td>-99.00000  </td><td>423.3216   </td><td>1177.637   </td><td>18.38487   </td><td>2.938810   </td><td>29.94482   </td><td> 8.536889  </td><td>BA         </td><td>Low        </td></tr>\n",
       "\t<tr><td>0.3019110  </td><td>2019       </td><td>5          </td><td>24         </td><td>5          </td><td>12         </td><td> 91.99617  </td><td>27.311698  </td><td>41.87308   </td><td> 69.4844587</td><td>...        </td><td>23.15148   </td><td> 41.19579  </td><td>248.8143   </td><td>1662.733   </td><td>23.05710   </td><td>2.939582   </td><td>24.55546   </td><td> 3.906960  </td><td>BB         </td><td>Medium     </td></tr>\n",
       "</tbody>\n",
       "</table>\n"
      ],
      "text/latex": [
       "\\begin{tabular}{r|lllllllllllllllllllllllll}\n",
       " blade\\_breadth & year & month & mday & wday & hour & wind\\_speed & atmospheric\\_temperature & shaft\\_temperature & blades\\_angle & ... & area\\_temperature & windmill\\_body\\_temperature & wind\\_direction & resistance & rotor\\_torque & blade\\_length & windmill\\_height & windmill\\_generated\\_power & turbine\\_status & cloud\\_level\\\\\n",
       "\\hline\n",
       "\t 0.3140648   & 2019        & 8           & 4           & 0           & 14          &  94.82002   & 30.519014   & 41.72302    &  -0.9034229 & ...         & 26.89787    &  52.49037   & 239.8364    & 2730.311    & 42.08467    & 2.217542    & 24.28169    &  6.766521   & BA          & Medium     \\\\\n",
       "\t 0.3671399   & 2018        & 12          & 25          & 2           & 15          & 238.81942   & 22.301115   & 45.44391    &  15.1153228 & ...         & 46.02005    &  44.82715   & 492.0815    & 1964.503    & 42.74460    & 4.857385    & 24.28777    & 14.851089   & ABC         & Medium     \\\\\n",
       "\t 0.4533737   & 2019        & 5           & 4           & 6           &  3          &  10.72289   & -1.876392   & 41.98118    &   1.7156961 & ...         & 34.57294    & -99.00000   & 259.2746    & 1177.516    & 13.38729    & 6.845387    & 27.97165    &  3.519074   & AAA         & Medium     \\\\\n",
       "\t 0.4473414   & 2019        & 4           & 17          & 3           & 18          &  16.02625   & 14.100095   & 44.07282    &  -0.1968448 & ...         & 33.84939    &  43.00875   & 528.0040    & 1222.931    & 11.80511    & 2.917922    & 33.59351    &  5.089173   & BD          & Low        \\\\\n",
       "\t 0.3548810   & 2019        & 7           & 8           & 1           & 21          &  48.73783   & 12.716815   & 43.21778    & -99.0000000 & ...         & 30.55316    & -99.00000   & 423.3216    & 1177.637    & 18.38487    & 2.938810    & 29.94482    &  8.536889   & BA          & Low        \\\\\n",
       "\t 0.3019110   & 2019        & 5           & 24          & 5           & 12          &  91.99617   & 27.311698   & 41.87308    &  69.4844587 & ...         & 23.15148    &  41.19579   & 248.8143    & 1662.733    & 23.05710    & 2.939582    & 24.55546    &  3.906960   & BB          & Medium     \\\\\n",
       "\\end{tabular}\n"
      ],
      "text/markdown": [
       "\n",
       "| blade_breadth | year | month | mday | wday | hour | wind_speed | atmospheric_temperature | shaft_temperature | blades_angle | ... | area_temperature | windmill_body_temperature | wind_direction | resistance | rotor_torque | blade_length | windmill_height | windmill_generated_power | turbine_status | cloud_level |\n",
       "|---|---|---|---|---|---|---|---|---|---|---|---|---|---|---|---|---|---|---|---|---|\n",
       "| 0.3140648   | 2019        | 8           | 4           | 0           | 14          |  94.82002   | 30.519014   | 41.72302    |  -0.9034229 | ...         | 26.89787    |  52.49037   | 239.8364    | 2730.311    | 42.08467    | 2.217542    | 24.28169    |  6.766521   | BA          | Medium      |\n",
       "| 0.3671399   | 2018        | 12          | 25          | 2           | 15          | 238.81942   | 22.301115   | 45.44391    |  15.1153228 | ...         | 46.02005    |  44.82715   | 492.0815    | 1964.503    | 42.74460    | 4.857385    | 24.28777    | 14.851089   | ABC         | Medium      |\n",
       "| 0.4533737   | 2019        | 5           | 4           | 6           |  3          |  10.72289   | -1.876392   | 41.98118    |   1.7156961 | ...         | 34.57294    | -99.00000   | 259.2746    | 1177.516    | 13.38729    | 6.845387    | 27.97165    |  3.519074   | AAA         | Medium      |\n",
       "| 0.4473414   | 2019        | 4           | 17          | 3           | 18          |  16.02625   | 14.100095   | 44.07282    |  -0.1968448 | ...         | 33.84939    |  43.00875   | 528.0040    | 1222.931    | 11.80511    | 2.917922    | 33.59351    |  5.089173   | BD          | Low         |\n",
       "| 0.3548810   | 2019        | 7           | 8           | 1           | 21          |  48.73783   | 12.716815   | 43.21778    | -99.0000000 | ...         | 30.55316    | -99.00000   | 423.3216    | 1177.637    | 18.38487    | 2.938810    | 29.94482    |  8.536889   | BA          | Low         |\n",
       "| 0.3019110   | 2019        | 5           | 24          | 5           | 12          |  91.99617   | 27.311698   | 41.87308    |  69.4844587 | ...         | 23.15148    |  41.19579   | 248.8143    | 1662.733    | 23.05710    | 2.939582    | 24.55546    |  3.906960   | BB          | Medium      |\n",
       "\n"
      ],
      "text/plain": [
       "  blade_breadth year month mday wday hour wind_speed atmospheric_temperature\n",
       "1 0.3140648     2019 8     4    0    14    94.82002  30.519014              \n",
       "2 0.3671399     2018 12    25   2    15   238.81942  22.301115              \n",
       "3 0.4533737     2019 5     4    6     3    10.72289  -1.876392              \n",
       "4 0.4473414     2019 4     17   3    18    16.02625  14.100095              \n",
       "5 0.3548810     2019 7     8    1    21    48.73783  12.716815              \n",
       "6 0.3019110     2019 5     24   5    12    91.99617  27.311698              \n",
       "  shaft_temperature blades_angle ... area_temperature windmill_body_temperature\n",
       "1 41.72302           -0.9034229  ... 26.89787          52.49037                \n",
       "2 45.44391           15.1153228  ... 46.02005          44.82715                \n",
       "3 41.98118            1.7156961  ... 34.57294         -99.00000                \n",
       "4 44.07282           -0.1968448  ... 33.84939          43.00875                \n",
       "5 43.21778          -99.0000000  ... 30.55316         -99.00000                \n",
       "6 41.87308           69.4844587  ... 23.15148          41.19579                \n",
       "  wind_direction resistance rotor_torque blade_length windmill_height\n",
       "1 239.8364       2730.311   42.08467     2.217542     24.28169       \n",
       "2 492.0815       1964.503   42.74460     4.857385     24.28777       \n",
       "3 259.2746       1177.516   13.38729     6.845387     27.97165       \n",
       "4 528.0040       1222.931   11.80511     2.917922     33.59351       \n",
       "5 423.3216       1177.637   18.38487     2.938810     29.94482       \n",
       "6 248.8143       1662.733   23.05710     2.939582     24.55546       \n",
       "  windmill_generated_power turbine_status cloud_level\n",
       "1  6.766521                BA             Medium     \n",
       "2 14.851089                ABC            Medium     \n",
       "3  3.519074                AAA            Medium     \n",
       "4  5.089173                BD             Low        \n",
       "5  8.536889                BA             Low        \n",
       "6  3.906960                BB             Medium     "
      ]
     },
     "metadata": {},
     "output_type": "display_data"
    }
   ],
   "source": [
    "head(trainset.imputation)"
   ]
  },
  {
   "cell_type": "markdown",
   "id": "95640da8",
   "metadata": {},
   "source": [
    "### We have 2 training datasets, one with data imputation to handle NAs and one without handling of NAs."
   ]
  },
  {
   "cell_type": "markdown",
   "id": "549fb879",
   "metadata": {},
   "source": [
    "## <a id='section2'>2. Linear Regression</a>"
   ]
  },
  {
   "cell_type": "code",
   "execution_count": 11,
   "id": "d3d64856",
   "metadata": {},
   "outputs": [
    {
     "name": "stderr",
     "output_type": "stream",
     "text": [
      "Loading required package: carData\n",
      "Warning message:\n",
      "\"package 'carData' was built under R version 3.6.3\""
     ]
    }
   ],
   "source": [
    "library(car)"
   ]
  },
  {
   "cell_type": "markdown",
   "id": "8ab03dc0",
   "metadata": {},
   "source": [
    "### LR Model 0\n",
    "**trainset.imputation, selected time data (no year)**"
   ]
  },
  {
   "cell_type": "code",
   "execution_count": 12,
   "id": "24013ae5",
   "metadata": {},
   "outputs": [
    {
     "data": {
      "text/plain": [
       "\n",
       "Call:\n",
       "lm(formula = windmill_generated_power ~ . - year, data = trainset.imputation)\n",
       "\n",
       "Residuals:\n",
       "    Min      1Q  Median      3Q     Max \n",
       "-7.3783 -1.1179 -0.0985  0.9935 13.5549 \n",
       "\n",
       "Coefficients:\n",
       "                            Estimate Std. Error t value Pr(>|t|)    \n",
       "(Intercept)                2.024e+00  2.202e-01   9.192  < 2e-16 ***\n",
       "blade_breadth              5.903e-01  2.044e-01   2.888 0.003887 ** \n",
       "month2                    -2.432e-01  5.533e-02  -4.394 1.12e-05 ***\n",
       "month3                    -2.097e+00  6.011e-02 -34.877  < 2e-16 ***\n",
       "month4                    -3.040e+00  6.780e-02 -44.843  < 2e-16 ***\n",
       "month5                    -2.056e+00  6.158e-02 -33.385  < 2e-16 ***\n",
       "month6                    -1.325e+00  6.461e-02 -20.512  < 2e-16 ***\n",
       "month7                    -1.570e+00  6.101e-02 -25.725  < 2e-16 ***\n",
       "month8                    -1.895e+00  5.843e-02 -32.428  < 2e-16 ***\n",
       "month9                    -2.119e+00  6.118e-02 -34.638  < 2e-16 ***\n",
       "month10                   -1.533e+00  1.383e-01 -11.090  < 2e-16 ***\n",
       "month11                   -2.715e+00  6.060e-02 -44.798  < 2e-16 ***\n",
       "month12                   -4.434e-01  5.517e-02  -8.038 9.65e-16 ***\n",
       "mday2                     -3.102e-01  9.658e-02  -3.212 0.001321 ** \n",
       "mday3                     -7.157e-01  9.664e-02  -7.406 1.36e-13 ***\n",
       "mday4                     -2.625e-01  9.273e-02  -2.831 0.004646 ** \n",
       "mday5                     -5.255e-01  9.193e-02  -5.716 1.11e-08 ***\n",
       "mday6                     -2.873e-01  9.181e-02  -3.130 0.001753 ** \n",
       "mday7                     -5.562e-01  9.104e-02  -6.109 1.02e-09 ***\n",
       "mday8                     -5.831e-01  8.999e-02  -6.480 9.38e-11 ***\n",
       "mday9                     -6.955e-01  9.478e-02  -7.338 2.26e-13 ***\n",
       "mday10                    -8.812e-01  9.390e-02  -9.385  < 2e-16 ***\n",
       "mday11                    -1.050e+00  9.434e-02 -11.133  < 2e-16 ***\n",
       "mday12                    -8.941e-01  9.585e-02  -9.328  < 2e-16 ***\n",
       "mday13                    -9.535e-01  9.558e-02  -9.975  < 2e-16 ***\n",
       "mday14                    -6.611e-01  9.362e-02  -7.061 1.70e-12 ***\n",
       "mday15                    -3.856e-01  9.181e-02  -4.200 2.68e-05 ***\n",
       "mday16                    -3.132e-01  9.491e-02  -3.300 0.000969 ***\n",
       "mday17                    -3.409e-01  9.138e-02  -3.730 0.000192 ***\n",
       "mday18                    -2.785e-01  9.498e-02  -2.932 0.003372 ** \n",
       "mday19                    -4.411e-01  9.367e-02  -4.709 2.50e-06 ***\n",
       "mday20                    -2.263e-01  9.695e-02  -2.335 0.019578 *  \n",
       "mday21                    -1.155e-01  9.428e-02  -1.226 0.220368    \n",
       "mday22                    -1.850e-01  9.021e-02  -2.050 0.040343 *  \n",
       "mday23                    -1.178e-01  9.369e-02  -1.258 0.208577    \n",
       "mday24                     4.861e-02  9.760e-02   0.498 0.618486    \n",
       "mday25                     6.014e-01  9.546e-02   6.300 3.05e-10 ***\n",
       "mday26                     2.146e-01  9.517e-02   2.255 0.024116 *  \n",
       "mday27                     7.486e-02  9.591e-02   0.781 0.435085    \n",
       "mday28                     7.907e-02  9.519e-02   0.831 0.406201    \n",
       "mday29                     1.514e-01  9.810e-02   1.544 0.122648    \n",
       "mday30                     5.048e-01  1.005e-01   5.021 5.19e-07 ***\n",
       "mday31                    -2.530e-01  1.088e-01  -2.325 0.020075 *  \n",
       "wday1                     -8.190e-02  4.660e-02  -1.758 0.078819 .  \n",
       "wday2                      6.490e-02  4.634e-02   1.401 0.161368    \n",
       "wday3                      4.187e-02  4.711e-02   0.889 0.374110    \n",
       "wday4                      7.109e-02  4.681e-02   1.519 0.128871    \n",
       "wday5                      2.220e-01  4.714e-02   4.710 2.49e-06 ***\n",
       "wday6                     -1.170e-01  4.678e-02  -2.501 0.012386 *  \n",
       "hour                       9.957e-03  1.873e-03   5.315 1.08e-07 ***\n",
       "wind_speed                -2.052e-03  2.304e-04  -8.906  < 2e-16 ***\n",
       "atmospheric_temperature   -5.708e-02  1.633e-03 -34.957  < 2e-16 ***\n",
       "shaft_temperature         -7.342e-04  4.576e-04  -1.604 0.108636    \n",
       "blades_angle              -2.552e-04  2.652e-04  -0.963 0.335791    \n",
       "gearbox_temperature        6.783e-04  2.826e-04   2.400 0.016405 *  \n",
       "engine_temperature         3.025e-02  2.300e-03  13.152  < 2e-16 ***\n",
       "motor_torque               2.598e-03  4.606e-05  56.408  < 2e-16 ***\n",
       "generator_temperature     -6.363e-02  2.168e-03 -29.348  < 2e-16 ***\n",
       "atmospheric_pressure       1.167e-06  9.378e-08  12.449  < 2e-16 ***\n",
       "area_temperature           8.267e-02  2.309e-03  35.810  < 2e-16 ***\n",
       "windmill_body_temperature -3.671e-04  2.238e-04  -1.640 0.100931    \n",
       "wind_direction             2.548e-03  1.022e-04  24.933  < 2e-16 ***\n",
       "resistance                 1.473e-04  3.736e-05   3.944 8.04e-05 ***\n",
       "rotor_torque              -2.812e-04  4.072e-04  -0.691 0.489830    \n",
       "blade_length               1.081e-02  7.775e-03   1.391 0.164335    \n",
       "windmill_height            4.307e-04  1.561e-03   0.276 0.782652    \n",
       "turbine_statusA2           3.009e-02  6.616e-02   0.455 0.649283    \n",
       "turbine_statusAAA         -1.749e-01  6.542e-02  -2.673 0.007526 ** \n",
       "turbine_statusAB          -3.087e-02  6.625e-02  -0.466 0.641192    \n",
       "turbine_statusABC         -7.181e-02  5.748e-02  -1.249 0.211599    \n",
       "turbine_statusAC          -1.472e-01  6.638e-02  -2.218 0.026563 *  \n",
       "turbine_statusB           -9.227e-02  6.636e-02  -1.390 0.164405    \n",
       "turbine_statusB2          -1.637e-02  6.529e-02  -0.251 0.802092    \n",
       "turbine_statusBA          -1.674e-01  6.604e-02  -2.535 0.011255 *  \n",
       "turbine_statusBB          -1.046e-02  6.559e-02  -0.159 0.873302    \n",
       "turbine_statusBBB         -1.452e-01  6.651e-02  -2.183 0.029060 *  \n",
       "turbine_statusBCB         -4.066e-02  6.602e-02  -0.616 0.538005    \n",
       "turbine_statusBD          -1.023e-01  6.659e-02  -1.536 0.124432    \n",
       "turbine_statusD           -1.093e-01  6.604e-02  -1.655 0.097930 .  \n",
       "cloud_levelLow             1.392e+00  1.271e-01  10.953  < 2e-16 ***\n",
       "cloud_levelMedium          1.431e+00  1.274e-01  11.234  < 2e-16 ***\n",
       "---\n",
       "Signif. codes:  0 '***' 0.001 '**' 0.01 '*' 0.05 '.' 0.1 ' ' 1\n",
       "\n",
       "Residual standard error: 1.697 on 19659 degrees of freedom\n",
       "Multiple R-squared:  0.6076,\tAdjusted R-squared:  0.606 \n",
       "F-statistic: 380.6 on 80 and 19659 DF,  p-value: < 2.2e-16\n"
      ]
     },
     "metadata": {},
     "output_type": "display_data"
    }
   ],
   "source": [
    "# Develop model on trainset.imputation, including selected time data\n",
    "m0 <- lm(windmill_generated_power ~ . - year, data = trainset.imputation)\n",
    "summary(m0)"
   ]
  },
  {
   "cell_type": "code",
   "execution_count": 13,
   "id": "3f5a930a",
   "metadata": {},
   "outputs": [
    {
     "name": "stdout",
     "output_type": "stream",
     "text": [
      "[1] 1.693761\n"
     ]
    },
    {
     "data": {
      "text/plain": [
       "     Min.   1st Qu.    Median      Mean   3rd Qu.      Max. \n",
       " 0.000019  0.497275  1.064281  1.302753  1.833272 13.554879 "
      ]
     },
     "metadata": {},
     "output_type": "display_data"
    }
   ],
   "source": [
    "# Residuals = Error = Actual mpg - Model Predicted mpg\n",
    "RMSE.m0.train.imputation <- sqrt(mean(residuals(m0)^2))  # RMSE on trainset based on m5 model.\n",
    "print(RMSE.m0.train.imputation)\n",
    "summary(abs(residuals(m0)))  # Check Min Abs Error and Max Abs Error."
   ]
  },
  {
   "cell_type": "code",
   "execution_count": 14,
   "id": "f1b50cc7",
   "metadata": {},
   "outputs": [
    {
     "name": "stdout",
     "output_type": "stream",
     "text": [
      "[1] 1.690348\n"
     ]
    },
    {
     "data": {
      "text/plain": [
       "     Min.   1st Qu.    Median      Mean   3rd Qu.      Max. \n",
       " 0.000013  0.489980  1.036753  1.293607  1.825288 13.376242 "
      ]
     },
     "metadata": {},
     "output_type": "display_data"
    }
   ],
   "source": [
    "# Apply model from trainset to predict on testset.\n",
    "predict.m0.test.imputation <- predict(m0, newdata = testset.imputation)\n",
    "testset.imputation.error <- testset.imputation$windmill_generated_power - predict.m0.test.imputation\n",
    "\n",
    "# Testset Errors\n",
    "RMSE.m0.test.imputation <- sqrt(mean(testset.imputation.error^2))\n",
    "print(RMSE.m0.test.imputation)\n",
    "summary(abs(testset.imputation.error))"
   ]
  },
  {
   "cell_type": "code",
   "execution_count": 15,
   "id": "490de73a",
   "metadata": {},
   "outputs": [
    {
     "data": {
      "text/html": [
       "<table>\n",
       "<thead><tr><th></th><th scope=col>GVIF</th><th scope=col>Df</th><th scope=col>GVIF^(1/(2*Df))</th></tr></thead>\n",
       "<tbody>\n",
       "\t<tr><th scope=row>blade_breadth</th><td> 1.075177</td><td> 1       </td><td>1.036908 </td></tr>\n",
       "\t<tr><th scope=row>month</th><td> 4.058977</td><td>11       </td><td>1.065750 </td></tr>\n",
       "\t<tr><th scope=row>mday</th><td> 1.777469</td><td>30       </td><td>1.009633 </td></tr>\n",
       "\t<tr><th scope=row>wday</th><td> 1.284863</td><td> 6       </td><td>1.021107 </td></tr>\n",
       "\t<tr><th scope=row>hour</th><td> 1.144401</td><td> 1       </td><td>1.069767 </td></tr>\n",
       "\t<tr><th scope=row>wind_speed</th><td> 1.299238</td><td> 1       </td><td>1.139841 </td></tr>\n",
       "\t<tr><th scope=row>atmospheric_temperature</th><td> 1.930835</td><td> 1       </td><td>1.389545 </td></tr>\n",
       "\t<tr><th scope=row>shaft_temperature</th><td> 1.048130</td><td> 1       </td><td>1.023782 </td></tr>\n",
       "\t<tr><th scope=row>blades_angle</th><td> 1.110766</td><td> 1       </td><td>1.053929 </td></tr>\n",
       "\t<tr><th scope=row>gearbox_temperature</th><td> 1.022672</td><td> 1       </td><td>1.011272 </td></tr>\n",
       "\t<tr><th scope=row>engine_temperature</th><td> 1.334621</td><td> 1       </td><td>1.155258 </td></tr>\n",
       "\t<tr><th scope=row>motor_torque</th><td> 9.969439</td><td> 1       </td><td>3.157442 </td></tr>\n",
       "\t<tr><th scope=row>generator_temperature</th><td>12.692613</td><td> 1       </td><td>3.562669 </td></tr>\n",
       "\t<tr><th scope=row>atmospheric_pressure</th><td> 1.131879</td><td> 1       </td><td>1.063898 </td></tr>\n",
       "\t<tr><th scope=row>area_temperature</th><td> 2.178094</td><td> 1       </td><td>1.475837 </td></tr>\n",
       "\t<tr><th scope=row>windmill_body_temperature</th><td> 1.013502</td><td> 1       </td><td>1.006728 </td></tr>\n",
       "\t<tr><th scope=row>wind_direction</th><td> 1.320975</td><td> 1       </td><td>1.149337 </td></tr>\n",
       "\t<tr><th scope=row>resistance</th><td> 1.673407</td><td> 1       </td><td>1.293602 </td></tr>\n",
       "\t<tr><th scope=row>rotor_torque</th><td> 1.186293</td><td> 1       </td><td>1.089171 </td></tr>\n",
       "\t<tr><th scope=row>blade_length</th><td> 1.013035</td><td> 1       </td><td>1.006496 </td></tr>\n",
       "\t<tr><th scope=row>windmill_height</th><td> 1.006618</td><td> 1       </td><td>1.003304 </td></tr>\n",
       "\t<tr><th scope=row>turbine_status</th><td> 1.048513</td><td>13       </td><td>1.001824 </td></tr>\n",
       "\t<tr><th scope=row>cloud_level</th><td> 1.136413</td><td> 2       </td><td>1.032486 </td></tr>\n",
       "</tbody>\n",
       "</table>\n"
      ],
      "text/latex": [
       "\\begin{tabular}{r|lll}\n",
       "  & GVIF & Df & GVIF\\textasciicircum{}(1/(2*Df))\\\\\n",
       "\\hline\n",
       "\tblade\\_breadth &  1.075177 &  1        & 1.036908 \\\\\n",
       "\tmonth &  4.058977 & 11        & 1.065750 \\\\\n",
       "\tmday &  1.777469 & 30        & 1.009633 \\\\\n",
       "\twday &  1.284863 &  6        & 1.021107 \\\\\n",
       "\thour &  1.144401 &  1        & 1.069767 \\\\\n",
       "\twind\\_speed &  1.299238 &  1        & 1.139841 \\\\\n",
       "\tatmospheric\\_temperature &  1.930835 &  1        & 1.389545 \\\\\n",
       "\tshaft\\_temperature &  1.048130 &  1        & 1.023782 \\\\\n",
       "\tblades\\_angle &  1.110766 &  1        & 1.053929 \\\\\n",
       "\tgearbox\\_temperature &  1.022672 &  1        & 1.011272 \\\\\n",
       "\tengine\\_temperature &  1.334621 &  1        & 1.155258 \\\\\n",
       "\tmotor\\_torque &  9.969439 &  1        & 3.157442 \\\\\n",
       "\tgenerator\\_temperature & 12.692613 &  1        & 3.562669 \\\\\n",
       "\tatmospheric\\_pressure &  1.131879 &  1        & 1.063898 \\\\\n",
       "\tarea\\_temperature &  2.178094 &  1        & 1.475837 \\\\\n",
       "\twindmill\\_body\\_temperature &  1.013502 &  1        & 1.006728 \\\\\n",
       "\twind\\_direction &  1.320975 &  1        & 1.149337 \\\\\n",
       "\tresistance &  1.673407 &  1        & 1.293602 \\\\\n",
       "\trotor\\_torque &  1.186293 &  1        & 1.089171 \\\\\n",
       "\tblade\\_length &  1.013035 &  1        & 1.006496 \\\\\n",
       "\twindmill\\_height &  1.006618 &  1        & 1.003304 \\\\\n",
       "\tturbine\\_status &  1.048513 & 13        & 1.001824 \\\\\n",
       "\tcloud\\_level &  1.136413 &  2        & 1.032486 \\\\\n",
       "\\end{tabular}\n"
      ],
      "text/markdown": [
       "\n",
       "| <!--/--> | GVIF | Df | GVIF^(1/(2*Df)) |\n",
       "|---|---|---|---|\n",
       "| blade_breadth |  1.075177 |  1        | 1.036908  |\n",
       "| month |  4.058977 | 11        | 1.065750  |\n",
       "| mday |  1.777469 | 30        | 1.009633  |\n",
       "| wday |  1.284863 |  6        | 1.021107  |\n",
       "| hour |  1.144401 |  1        | 1.069767  |\n",
       "| wind_speed |  1.299238 |  1        | 1.139841  |\n",
       "| atmospheric_temperature |  1.930835 |  1        | 1.389545  |\n",
       "| shaft_temperature |  1.048130 |  1        | 1.023782  |\n",
       "| blades_angle |  1.110766 |  1        | 1.053929  |\n",
       "| gearbox_temperature |  1.022672 |  1        | 1.011272  |\n",
       "| engine_temperature |  1.334621 |  1        | 1.155258  |\n",
       "| motor_torque |  9.969439 |  1        | 3.157442  |\n",
       "| generator_temperature | 12.692613 |  1        | 3.562669  |\n",
       "| atmospheric_pressure |  1.131879 |  1        | 1.063898  |\n",
       "| area_temperature |  2.178094 |  1        | 1.475837  |\n",
       "| windmill_body_temperature |  1.013502 |  1        | 1.006728  |\n",
       "| wind_direction |  1.320975 |  1        | 1.149337  |\n",
       "| resistance |  1.673407 |  1        | 1.293602  |\n",
       "| rotor_torque |  1.186293 |  1        | 1.089171  |\n",
       "| blade_length |  1.013035 |  1        | 1.006496  |\n",
       "| windmill_height |  1.006618 |  1        | 1.003304  |\n",
       "| turbine_status |  1.048513 | 13        | 1.001824  |\n",
       "| cloud_level |  1.136413 |  2        | 1.032486  |\n",
       "\n"
      ],
      "text/plain": [
       "                          GVIF      Df GVIF^(1/(2*Df))\n",
       "blade_breadth              1.075177  1 1.036908       \n",
       "month                      4.058977 11 1.065750       \n",
       "mday                       1.777469 30 1.009633       \n",
       "wday                       1.284863  6 1.021107       \n",
       "hour                       1.144401  1 1.069767       \n",
       "wind_speed                 1.299238  1 1.139841       \n",
       "atmospheric_temperature    1.930835  1 1.389545       \n",
       "shaft_temperature          1.048130  1 1.023782       \n",
       "blades_angle               1.110766  1 1.053929       \n",
       "gearbox_temperature        1.022672  1 1.011272       \n",
       "engine_temperature         1.334621  1 1.155258       \n",
       "motor_torque               9.969439  1 3.157442       \n",
       "generator_temperature     12.692613  1 3.562669       \n",
       "atmospheric_pressure       1.131879  1 1.063898       \n",
       "area_temperature           2.178094  1 1.475837       \n",
       "windmill_body_temperature  1.013502  1 1.006728       \n",
       "wind_direction             1.320975  1 1.149337       \n",
       "resistance                 1.673407  1 1.293602       \n",
       "rotor_torque               1.186293  1 1.089171       \n",
       "blade_length               1.013035  1 1.006496       \n",
       "windmill_height            1.006618  1 1.003304       \n",
       "turbine_status             1.048513 13 1.001824       \n",
       "cloud_level                1.136413  2 1.032486       "
      ]
     },
     "metadata": {},
     "output_type": "display_data"
    }
   ],
   "source": [
    "# Check for multicollinearity\n",
    "vif(m0)"
   ]
  },
  {
   "cell_type": "markdown",
   "id": "23c8f9c4",
   "metadata": {},
   "source": [
    "### LR Model 1\n",
    "**trainset.imputation, no time data**"
   ]
  },
  {
   "cell_type": "code",
   "execution_count": 16,
   "id": "70b14add",
   "metadata": {},
   "outputs": [
    {
     "data": {
      "text/plain": [
       "\n",
       "Call:\n",
       "lm(formula = windmill_generated_power ~ . - year - mday - wday - \n",
       "    month - hour, data = trainset.imputation)\n",
       "\n",
       "Residuals:\n",
       "    Min      1Q  Median      3Q     Max \n",
       "-7.0553 -1.2920 -0.1947  1.0836 15.5493 \n",
       "\n",
       "Coefficients:\n",
       "                            Estimate Std. Error t value Pr(>|t|)    \n",
       "(Intercept)               -1.637e+00  2.057e-01  -7.960 1.82e-15 ***\n",
       "blade_breadth              6.282e-01  2.302e-01   2.729  0.00636 ** \n",
       "wind_speed                -3.046e-03  2.590e-04 -11.761  < 2e-16 ***\n",
       "atmospheric_temperature   -7.669e-02  1.774e-03 -43.224  < 2e-16 ***\n",
       "shaft_temperature         -8.059e-04  5.152e-04  -1.564  0.11780    \n",
       "blades_angle              -4.448e-05  2.978e-04  -0.149  0.88129    \n",
       "gearbox_temperature        7.928e-04  3.182e-04   2.491  0.01273 *  \n",
       "engine_temperature         4.469e-02  2.545e-03  17.560  < 2e-16 ***\n",
       "motor_torque               2.841e-03  5.078e-05  55.948  < 2e-16 ***\n",
       "generator_temperature     -5.739e-02  2.396e-03 -23.952  < 2e-16 ***\n",
       "atmospheric_pressure       1.549e-06  1.054e-07  14.696  < 2e-16 ***\n",
       "area_temperature           8.526e-02  2.142e-03  39.796  < 2e-16 ***\n",
       "windmill_body_temperature -4.580e-04  2.520e-04  -1.818  0.06913 .  \n",
       "wind_direction             4.579e-03  1.052e-04  43.535  < 2e-16 ***\n",
       "resistance                 2.043e-04  4.204e-05   4.859 1.19e-06 ***\n",
       "rotor_torque              -4.528e-05  4.587e-04  -0.099  0.92136    \n",
       "blade_length               1.429e-02  8.749e-03   1.633  0.10251    \n",
       "windmill_height           -7.263e-04  1.758e-03  -0.413  0.67943    \n",
       "turbine_statusA2           1.389e-03  7.446e-02   0.019  0.98511    \n",
       "turbine_statusAAA         -2.263e-01  7.365e-02  -3.072  0.00213 ** \n",
       "turbine_statusAB          -6.831e-02  7.458e-02  -0.916  0.35974    \n",
       "turbine_statusABC         -1.142e-01  6.471e-02  -1.765  0.07758 .  \n",
       "turbine_statusAC          -2.278e-01  7.473e-02  -3.048  0.00231 ** \n",
       "turbine_statusB           -1.866e-01  7.471e-02  -2.497  0.01253 *  \n",
       "turbine_statusB2          -5.811e-02  7.352e-02  -0.790  0.42928    \n",
       "turbine_statusBA          -2.219e-01  7.434e-02  -2.985  0.00284 ** \n",
       "turbine_statusBB           5.292e-03  7.385e-02   0.072  0.94287    \n",
       "turbine_statusBBB         -2.092e-01  7.488e-02  -2.793  0.00523 ** \n",
       "turbine_statusBCB         -1.137e-01  7.431e-02  -1.530  0.12596    \n",
       "turbine_statusBD          -1.424e-01  7.496e-02  -1.900  0.05747 .  \n",
       "turbine_statusD           -1.321e-01  7.436e-02  -1.776  0.07577 .  \n",
       "cloud_levelLow             1.589e+00  1.427e-01  11.133  < 2e-16 ***\n",
       "cloud_levelMedium          1.647e+00  1.430e-01  11.513  < 2e-16 ***\n",
       "---\n",
       "Signif. codes:  0 '***' 0.001 '**' 0.01 '*' 0.05 '.' 0.1 ' ' 1\n",
       "\n",
       "Residual standard error: 1.913 on 19707 degrees of freedom\n",
       "Multiple R-squared:  0.5002,\tAdjusted R-squared:  0.4994 \n",
       "F-statistic: 616.4 on 32 and 19707 DF,  p-value: < 2.2e-16\n"
      ]
     },
     "metadata": {},
     "output_type": "display_data"
    }
   ],
   "source": [
    "# Develop model on trainset.imputation, excluding time data\n",
    "m1 <- lm(windmill_generated_power ~ . - year - mday - wday - month - hour, data = trainset.imputation)\n",
    "summary(m1)"
   ]
  },
  {
   "cell_type": "code",
   "execution_count": 17,
   "id": "dade44e2",
   "metadata": {},
   "outputs": [
    {
     "name": "stdout",
     "output_type": "stream",
     "text": [
      "[1] 1.911574\n"
     ]
    },
    {
     "data": {
      "text/plain": [
       "     Min.   1st Qu.    Median      Mean   3rd Qu.      Max. \n",
       " 0.000267  0.562652  1.202543  1.471462  2.074545 15.549335 "
      ]
     },
     "metadata": {},
     "output_type": "display_data"
    }
   ],
   "source": [
    "# Residuals = Error = Actual mpg - Model Predicted mpg\n",
    "RMSE.m1.train.imputation <- sqrt(mean(residuals(m1)^2))  # RMSE on trainset based on m5 model.\n",
    "print(RMSE.m1.train.imputation)\n",
    "summary(abs(residuals(m1)))  # Check Min Abs Error and Max Abs Error."
   ]
  },
  {
   "cell_type": "code",
   "execution_count": 18,
   "id": "e45cc81e",
   "metadata": {},
   "outputs": [
    {
     "name": "stdout",
     "output_type": "stream",
     "text": [
      "[1] 1.915112\n"
     ]
    },
    {
     "data": {
      "text/plain": [
       "     Min.   1st Qu.    Median      Mean   3rd Qu.      Max. \n",
       " 0.000003  0.549733  1.202707  1.469052  2.062087 12.231839 "
      ]
     },
     "metadata": {},
     "output_type": "display_data"
    }
   ],
   "source": [
    "# Apply model from trainset to predict on testset.\n",
    "predict.m1.test.imputation <- predict(m1, newdata = testset.imputation)\n",
    "testset.imputation.error <- testset.imputation$windmill_generated_power - predict.m1.test.imputation\n",
    "\n",
    "# Testset Errors\n",
    "RMSE.m1.test.imputation <- sqrt(mean(testset.imputation.error^2))\n",
    "print(RMSE.m1.test.imputation)\n",
    "summary(abs(testset.imputation.error))"
   ]
  },
  {
   "cell_type": "code",
   "execution_count": 19,
   "id": "b1b43f78",
   "metadata": {},
   "outputs": [
    {
     "data": {
      "text/html": [
       "<table>\n",
       "<thead><tr><th></th><th scope=col>GVIF</th><th scope=col>Df</th><th scope=col>GVIF^(1/(2*Df))</th></tr></thead>\n",
       "<tbody>\n",
       "\t<tr><th scope=row>blade_breadth</th><td> 1.072817</td><td> 1       </td><td>1.035769 </td></tr>\n",
       "\t<tr><th scope=row>wind_speed</th><td> 1.291992</td><td> 1       </td><td>1.136658 </td></tr>\n",
       "\t<tr><th scope=row>atmospheric_temperature</th><td> 1.794188</td><td> 1       </td><td>1.339473 </td></tr>\n",
       "\t<tr><th scope=row>shaft_temperature</th><td> 1.045789</td><td> 1       </td><td>1.022638 </td></tr>\n",
       "\t<tr><th scope=row>blades_angle</th><td> 1.103001</td><td> 1       </td><td>1.050239 </td></tr>\n",
       "\t<tr><th scope=row>gearbox_temperature</th><td> 1.020352</td><td> 1       </td><td>1.010125 </td></tr>\n",
       "\t<tr><th scope=row>engine_temperature</th><td> 1.285668</td><td> 1       </td><td>1.133873 </td></tr>\n",
       "\t<tr><th scope=row>motor_torque</th><td> 9.536470</td><td> 1       </td><td>3.088118 </td></tr>\n",
       "\t<tr><th scope=row>generator_temperature</th><td>12.196296</td><td> 1       </td><td>3.492320 </td></tr>\n",
       "\t<tr><th scope=row>atmospheric_pressure</th><td> 1.125749</td><td> 1       </td><td>1.061013 </td></tr>\n",
       "\t<tr><th scope=row>area_temperature</th><td> 1.476257</td><td> 1       </td><td>1.215013 </td></tr>\n",
       "\t<tr><th scope=row>windmill_body_temperature</th><td> 1.011167</td><td> 1       </td><td>1.005568 </td></tr>\n",
       "\t<tr><th scope=row>wind_direction</th><td> 1.100965</td><td> 1       </td><td>1.049269 </td></tr>\n",
       "\t<tr><th scope=row>resistance</th><td> 1.667633</td><td> 1       </td><td>1.291369 </td></tr>\n",
       "\t<tr><th scope=row>rotor_torque</th><td> 1.184403</td><td> 1       </td><td>1.088303 </td></tr>\n",
       "\t<tr><th scope=row>blade_length</th><td> 1.009582</td><td> 1       </td><td>1.004779 </td></tr>\n",
       "\t<tr><th scope=row>windmill_height</th><td> 1.004010</td><td> 1       </td><td>1.002003 </td></tr>\n",
       "\t<tr><th scope=row>turbine_status</th><td> 1.012353</td><td>13       </td><td>1.000472 </td></tr>\n",
       "\t<tr><th scope=row>cloud_level</th><td> 1.124064</td><td> 2       </td><td>1.029669 </td></tr>\n",
       "</tbody>\n",
       "</table>\n"
      ],
      "text/latex": [
       "\\begin{tabular}{r|lll}\n",
       "  & GVIF & Df & GVIF\\textasciicircum{}(1/(2*Df))\\\\\n",
       "\\hline\n",
       "\tblade\\_breadth &  1.072817 &  1        & 1.035769 \\\\\n",
       "\twind\\_speed &  1.291992 &  1        & 1.136658 \\\\\n",
       "\tatmospheric\\_temperature &  1.794188 &  1        & 1.339473 \\\\\n",
       "\tshaft\\_temperature &  1.045789 &  1        & 1.022638 \\\\\n",
       "\tblades\\_angle &  1.103001 &  1        & 1.050239 \\\\\n",
       "\tgearbox\\_temperature &  1.020352 &  1        & 1.010125 \\\\\n",
       "\tengine\\_temperature &  1.285668 &  1        & 1.133873 \\\\\n",
       "\tmotor\\_torque &  9.536470 &  1        & 3.088118 \\\\\n",
       "\tgenerator\\_temperature & 12.196296 &  1        & 3.492320 \\\\\n",
       "\tatmospheric\\_pressure &  1.125749 &  1        & 1.061013 \\\\\n",
       "\tarea\\_temperature &  1.476257 &  1        & 1.215013 \\\\\n",
       "\twindmill\\_body\\_temperature &  1.011167 &  1        & 1.005568 \\\\\n",
       "\twind\\_direction &  1.100965 &  1        & 1.049269 \\\\\n",
       "\tresistance &  1.667633 &  1        & 1.291369 \\\\\n",
       "\trotor\\_torque &  1.184403 &  1        & 1.088303 \\\\\n",
       "\tblade\\_length &  1.009582 &  1        & 1.004779 \\\\\n",
       "\twindmill\\_height &  1.004010 &  1        & 1.002003 \\\\\n",
       "\tturbine\\_status &  1.012353 & 13        & 1.000472 \\\\\n",
       "\tcloud\\_level &  1.124064 &  2        & 1.029669 \\\\\n",
       "\\end{tabular}\n"
      ],
      "text/markdown": [
       "\n",
       "| <!--/--> | GVIF | Df | GVIF^(1/(2*Df)) |\n",
       "|---|---|---|---|\n",
       "| blade_breadth |  1.072817 |  1        | 1.035769  |\n",
       "| wind_speed |  1.291992 |  1        | 1.136658  |\n",
       "| atmospheric_temperature |  1.794188 |  1        | 1.339473  |\n",
       "| shaft_temperature |  1.045789 |  1        | 1.022638  |\n",
       "| blades_angle |  1.103001 |  1        | 1.050239  |\n",
       "| gearbox_temperature |  1.020352 |  1        | 1.010125  |\n",
       "| engine_temperature |  1.285668 |  1        | 1.133873  |\n",
       "| motor_torque |  9.536470 |  1        | 3.088118  |\n",
       "| generator_temperature | 12.196296 |  1        | 3.492320  |\n",
       "| atmospheric_pressure |  1.125749 |  1        | 1.061013  |\n",
       "| area_temperature |  1.476257 |  1        | 1.215013  |\n",
       "| windmill_body_temperature |  1.011167 |  1        | 1.005568  |\n",
       "| wind_direction |  1.100965 |  1        | 1.049269  |\n",
       "| resistance |  1.667633 |  1        | 1.291369  |\n",
       "| rotor_torque |  1.184403 |  1        | 1.088303  |\n",
       "| blade_length |  1.009582 |  1        | 1.004779  |\n",
       "| windmill_height |  1.004010 |  1        | 1.002003  |\n",
       "| turbine_status |  1.012353 | 13        | 1.000472  |\n",
       "| cloud_level |  1.124064 |  2        | 1.029669  |\n",
       "\n"
      ],
      "text/plain": [
       "                          GVIF      Df GVIF^(1/(2*Df))\n",
       "blade_breadth              1.072817  1 1.035769       \n",
       "wind_speed                 1.291992  1 1.136658       \n",
       "atmospheric_temperature    1.794188  1 1.339473       \n",
       "shaft_temperature          1.045789  1 1.022638       \n",
       "blades_angle               1.103001  1 1.050239       \n",
       "gearbox_temperature        1.020352  1 1.010125       \n",
       "engine_temperature         1.285668  1 1.133873       \n",
       "motor_torque               9.536470  1 3.088118       \n",
       "generator_temperature     12.196296  1 3.492320       \n",
       "atmospheric_pressure       1.125749  1 1.061013       \n",
       "area_temperature           1.476257  1 1.215013       \n",
       "windmill_body_temperature  1.011167  1 1.005568       \n",
       "wind_direction             1.100965  1 1.049269       \n",
       "resistance                 1.667633  1 1.291369       \n",
       "rotor_torque               1.184403  1 1.088303       \n",
       "blade_length               1.009582  1 1.004779       \n",
       "windmill_height            1.004010  1 1.002003       \n",
       "turbine_status             1.012353 13 1.000472       \n",
       "cloud_level                1.124064  2 1.029669       "
      ]
     },
     "metadata": {},
     "output_type": "display_data"
    }
   ],
   "source": [
    "# Check for multicollinearity\n",
    "vif(m1)"
   ]
  },
  {
   "cell_type": "markdown",
   "id": "9564ddfe",
   "metadata": {},
   "source": [
    "### LR Model 2\n",
    "**trainset.imputation, no time data, turbine_status & high VIF removed (motor_torque, generator_temperature)**"
   ]
  },
  {
   "cell_type": "code",
   "execution_count": 20,
   "id": "03c9a562",
   "metadata": {},
   "outputs": [
    {
     "data": {
      "text/plain": [
       "\n",
       "Call:\n",
       "lm(formula = windmill_generated_power ~ . - year - mday - wday - \n",
       "    month - hour - motor_torque - generator_temperature, data = trainset.imputation)\n",
       "\n",
       "Residuals:\n",
       "    Min      1Q  Median      3Q     Max \n",
       "-7.5415 -1.5067 -0.0286  1.3438 15.0734 \n",
       "\n",
       "Coefficients:\n",
       "                            Estimate Std. Error t value Pr(>|t|)    \n",
       "(Intercept)               -6.152e+00  2.165e-01 -28.422  < 2e-16 ***\n",
       "blade_breadth              1.268e+00  2.595e-01   4.886 1.04e-06 ***\n",
       "wind_speed                -6.795e-04  2.801e-04  -2.426  0.01528 *  \n",
       "atmospheric_temperature   -6.654e-02  1.815e-03 -36.670  < 2e-16 ***\n",
       "shaft_temperature         -7.735e-04  5.814e-04  -1.330  0.18338    \n",
       "blades_angle              -4.401e-03  3.258e-04 -13.507  < 2e-16 ***\n",
       "gearbox_temperature        6.963e-04  3.591e-04   1.939  0.05250 .  \n",
       "engine_temperature         6.577e-02  2.851e-03  23.064  < 2e-16 ***\n",
       "atmospheric_pressure       7.990e-07  1.168e-07   6.842 8.03e-12 ***\n",
       "area_temperature           1.054e-01  2.340e-03  45.045  < 2e-16 ***\n",
       "windmill_body_temperature -8.499e-04  2.842e-04  -2.990  0.00279 ** \n",
       "wind_direction             5.328e-03  1.173e-04  45.431  < 2e-16 ***\n",
       "resistance                 1.226e-03  4.199e-05  29.205  < 2e-16 ***\n",
       "rotor_torque               8.390e-03  4.981e-04  16.842  < 2e-16 ***\n",
       "blade_length               1.395e-02  9.870e-03   1.413  0.15757    \n",
       "windmill_height            1.196e-04  1.983e-03   0.060  0.95192    \n",
       "turbine_statusA2           3.788e-02  8.402e-02   0.451  0.65214    \n",
       "turbine_statusAAA         -1.820e-01  8.311e-02  -2.190  0.02851 *  \n",
       "turbine_statusAB          -9.206e-02  8.416e-02  -1.094  0.27401    \n",
       "turbine_statusABC         -1.006e-01  7.302e-02  -1.378  0.16824    \n",
       "turbine_statusAC          -2.008e-01  8.432e-02  -2.382  0.01723 *  \n",
       "turbine_statusB           -2.219e-01  8.430e-02  -2.632  0.00849 ** \n",
       "turbine_statusB2          -5.613e-02  8.295e-02  -0.677  0.49861    \n",
       "turbine_statusBA          -1.892e-01  8.388e-02  -2.255  0.02412 *  \n",
       "turbine_statusBB           3.735e-03  8.332e-02   0.045  0.96424    \n",
       "turbine_statusBBB         -1.516e-01  8.449e-02  -1.794  0.07275 .  \n",
       "turbine_statusBCB         -1.068e-01  8.385e-02  -1.274  0.20269    \n",
       "turbine_statusBD          -1.418e-01  8.458e-02  -1.676  0.09372 .  \n",
       "turbine_statusD           -1.422e-01  8.390e-02  -1.695  0.09003 .  \n",
       "cloud_levelLow             2.941e+00  1.590e-01  18.491  < 2e-16 ***\n",
       "cloud_levelMedium          3.009e+00  1.594e-01  18.877  < 2e-16 ***\n",
       "---\n",
       "Signif. codes:  0 '***' 0.001 '**' 0.01 '*' 0.05 '.' 0.1 ' ' 1\n",
       "\n",
       "Residual standard error: 2.159 on 19709 degrees of freedom\n",
       "Multiple R-squared:  0.3636,\tAdjusted R-squared:  0.3626 \n",
       "F-statistic: 375.3 on 30 and 19709 DF,  p-value: < 2.2e-16\n"
      ]
     },
     "metadata": {},
     "output_type": "display_data"
    }
   ],
   "source": [
    "# Develop model on trainset.imputation, excluding time data and factors with high VIF\n",
    "# high VIF: motor_torque, generator_temperature\n",
    "m3 <- lm(windmill_generated_power ~ . \n",
    "         - year \n",
    "         - mday \n",
    "         - wday \n",
    "         - month \n",
    "         - hour \n",
    "         - motor_torque \n",
    "         - generator_temperature, data = trainset.imputation)\n",
    "summary(m3)"
   ]
  },
  {
   "cell_type": "code",
   "execution_count": 21,
   "id": "4d799605",
   "metadata": {},
   "outputs": [
    {
     "name": "stdout",
     "output_type": "stream",
     "text": [
      "[1] 2.157179\n"
     ]
    },
    {
     "data": {
      "text/plain": [
       "     Min.   1st Qu.    Median      Mean   3rd Qu.      Max. \n",
       " 0.000083  0.679245  1.424649  1.693468  2.376122 15.073357 "
      ]
     },
     "metadata": {},
     "output_type": "display_data"
    }
   ],
   "source": [
    "# Residuals = Error = Actual mpg - Model Predicted mpg\n",
    "RMSE.m3.train.imputation <- sqrt(mean(residuals(m3)^2))  # RMSE on trainset based on m5 model.\n",
    "print(RMSE.m3.train.imputation)\n",
    "summary(abs(residuals(m3)))  # Check Min Abs Error and Max Abs Error."
   ]
  },
  {
   "cell_type": "code",
   "execution_count": 22,
   "id": "21598c24",
   "metadata": {},
   "outputs": [
    {
     "name": "stdout",
     "output_type": "stream",
     "text": [
      "[1] 2.158165\n"
     ]
    },
    {
     "data": {
      "text/plain": [
       "     Min.   1st Qu.    Median      Mean   3rd Qu.      Max. \n",
       " 0.000073  0.675548  1.403209  1.687056  2.369604 12.262434 "
      ]
     },
     "metadata": {},
     "output_type": "display_data"
    }
   ],
   "source": [
    "# Apply model from trainset to predict on testset.\n",
    "predict.m3.test.imputation <- predict(m3, newdata = testset.imputation)\n",
    "testset.imputation.error <- testset.imputation$windmill_generated_power - predict.m3.test.imputation\n",
    "\n",
    "# Testset Errors\n",
    "RMSE.m3.test.imputation <- sqrt(mean(testset.imputation.error^2))\n",
    "print(RMSE.m3.test.imputation)\n",
    "summary(abs(testset.imputation.error))"
   ]
  },
  {
   "cell_type": "code",
   "execution_count": 23,
   "id": "7bd43e7d",
   "metadata": {},
   "outputs": [
    {
     "data": {
      "text/html": [
       "<table>\n",
       "<thead><tr><th></th><th scope=col>GVIF</th><th scope=col>Df</th><th scope=col>GVIF^(1/(2*Df))</th></tr></thead>\n",
       "<tbody>\n",
       "\t<tr><th scope=row>blade_breadth</th><td>1.070571</td><td> 1      </td><td>1.034684</td></tr>\n",
       "\t<tr><th scope=row>wind_speed</th><td>1.187046</td><td> 1      </td><td>1.089516</td></tr>\n",
       "\t<tr><th scope=row>atmospheric_temperature</th><td>1.474074</td><td> 1      </td><td>1.214115</td></tr>\n",
       "\t<tr><th scope=row>shaft_temperature</th><td>1.045774</td><td> 1      </td><td>1.022631</td></tr>\n",
       "\t<tr><th scope=row>blades_angle</th><td>1.036485</td><td> 1      </td><td>1.018079</td></tr>\n",
       "\t<tr><th scope=row>gearbox_temperature</th><td>1.020326</td><td> 1      </td><td>1.010112</td></tr>\n",
       "\t<tr><th scope=row>engine_temperature</th><td>1.267470</td><td> 1      </td><td>1.125820</td></tr>\n",
       "\t<tr><th scope=row>atmospheric_pressure</th><td>1.084709</td><td> 1      </td><td>1.041494</td></tr>\n",
       "\t<tr><th scope=row>area_temperature</th><td>1.383025</td><td> 1      </td><td>1.176021</td></tr>\n",
       "\t<tr><th scope=row>windmill_body_temperature</th><td>1.010626</td><td> 1      </td><td>1.005299</td></tr>\n",
       "\t<tr><th scope=row>wind_direction</th><td>1.075006</td><td> 1      </td><td>1.036825</td></tr>\n",
       "\t<tr><th scope=row>resistance</th><td>1.306735</td><td> 1      </td><td>1.143125</td></tr>\n",
       "\t<tr><th scope=row>rotor_torque</th><td>1.096952</td><td> 1      </td><td>1.047355</td></tr>\n",
       "\t<tr><th scope=row>blade_length</th><td>1.009051</td><td> 1      </td><td>1.004515</td></tr>\n",
       "\t<tr><th scope=row>windmill_height</th><td>1.003855</td><td> 1      </td><td>1.001926</td></tr>\n",
       "\t<tr><th scope=row>turbine_status</th><td>1.011017</td><td>13      </td><td>1.000422</td></tr>\n",
       "\t<tr><th scope=row>cloud_level</th><td>1.096193</td><td> 2      </td><td>1.023226</td></tr>\n",
       "</tbody>\n",
       "</table>\n"
      ],
      "text/latex": [
       "\\begin{tabular}{r|lll}\n",
       "  & GVIF & Df & GVIF\\textasciicircum{}(1/(2*Df))\\\\\n",
       "\\hline\n",
       "\tblade\\_breadth & 1.070571 &  1       & 1.034684\\\\\n",
       "\twind\\_speed & 1.187046 &  1       & 1.089516\\\\\n",
       "\tatmospheric\\_temperature & 1.474074 &  1       & 1.214115\\\\\n",
       "\tshaft\\_temperature & 1.045774 &  1       & 1.022631\\\\\n",
       "\tblades\\_angle & 1.036485 &  1       & 1.018079\\\\\n",
       "\tgearbox\\_temperature & 1.020326 &  1       & 1.010112\\\\\n",
       "\tengine\\_temperature & 1.267470 &  1       & 1.125820\\\\\n",
       "\tatmospheric\\_pressure & 1.084709 &  1       & 1.041494\\\\\n",
       "\tarea\\_temperature & 1.383025 &  1       & 1.176021\\\\\n",
       "\twindmill\\_body\\_temperature & 1.010626 &  1       & 1.005299\\\\\n",
       "\twind\\_direction & 1.075006 &  1       & 1.036825\\\\\n",
       "\tresistance & 1.306735 &  1       & 1.143125\\\\\n",
       "\trotor\\_torque & 1.096952 &  1       & 1.047355\\\\\n",
       "\tblade\\_length & 1.009051 &  1       & 1.004515\\\\\n",
       "\twindmill\\_height & 1.003855 &  1       & 1.001926\\\\\n",
       "\tturbine\\_status & 1.011017 & 13       & 1.000422\\\\\n",
       "\tcloud\\_level & 1.096193 &  2       & 1.023226\\\\\n",
       "\\end{tabular}\n"
      ],
      "text/markdown": [
       "\n",
       "| <!--/--> | GVIF | Df | GVIF^(1/(2*Df)) |\n",
       "|---|---|---|---|\n",
       "| blade_breadth | 1.070571 |  1       | 1.034684 |\n",
       "| wind_speed | 1.187046 |  1       | 1.089516 |\n",
       "| atmospheric_temperature | 1.474074 |  1       | 1.214115 |\n",
       "| shaft_temperature | 1.045774 |  1       | 1.022631 |\n",
       "| blades_angle | 1.036485 |  1       | 1.018079 |\n",
       "| gearbox_temperature | 1.020326 |  1       | 1.010112 |\n",
       "| engine_temperature | 1.267470 |  1       | 1.125820 |\n",
       "| atmospheric_pressure | 1.084709 |  1       | 1.041494 |\n",
       "| area_temperature | 1.383025 |  1       | 1.176021 |\n",
       "| windmill_body_temperature | 1.010626 |  1       | 1.005299 |\n",
       "| wind_direction | 1.075006 |  1       | 1.036825 |\n",
       "| resistance | 1.306735 |  1       | 1.143125 |\n",
       "| rotor_torque | 1.096952 |  1       | 1.047355 |\n",
       "| blade_length | 1.009051 |  1       | 1.004515 |\n",
       "| windmill_height | 1.003855 |  1       | 1.001926 |\n",
       "| turbine_status | 1.011017 | 13       | 1.000422 |\n",
       "| cloud_level | 1.096193 |  2       | 1.023226 |\n",
       "\n"
      ],
      "text/plain": [
       "                          GVIF     Df GVIF^(1/(2*Df))\n",
       "blade_breadth             1.070571  1 1.034684       \n",
       "wind_speed                1.187046  1 1.089516       \n",
       "atmospheric_temperature   1.474074  1 1.214115       \n",
       "shaft_temperature         1.045774  1 1.022631       \n",
       "blades_angle              1.036485  1 1.018079       \n",
       "gearbox_temperature       1.020326  1 1.010112       \n",
       "engine_temperature        1.267470  1 1.125820       \n",
       "atmospheric_pressure      1.084709  1 1.041494       \n",
       "area_temperature          1.383025  1 1.176021       \n",
       "windmill_body_temperature 1.010626  1 1.005299       \n",
       "wind_direction            1.075006  1 1.036825       \n",
       "resistance                1.306735  1 1.143125       \n",
       "rotor_torque              1.096952  1 1.047355       \n",
       "blade_length              1.009051  1 1.004515       \n",
       "windmill_height           1.003855  1 1.001926       \n",
       "turbine_status            1.011017 13 1.000422       \n",
       "cloud_level               1.096193  2 1.023226       "
      ]
     },
     "metadata": {},
     "output_type": "display_data"
    }
   ],
   "source": [
    "# Check for multicollinearity\n",
    "vif(m3)"
   ]
  },
  {
   "cell_type": "markdown",
   "id": "1aed90f9",
   "metadata": {},
   "source": [
    "### LR Model 2P\n",
    "**Model 2 + high p-value factors removed (turbine_status, shaft_temperature, gearbox_temperature, blade_length, windmill_height)**"
   ]
  },
  {
   "cell_type": "code",
   "execution_count": 24,
   "id": "e8ac4a85",
   "metadata": {},
   "outputs": [
    {
     "data": {
      "text/plain": [
       "\n",
       "Call:\n",
       "lm(formula = windmill_generated_power ~ . - year - mday - wday - \n",
       "    month - hour - motor_torque - generator_temperature - turbine_status - \n",
       "    shaft_temperature - gearbox_temperature - blade_length - \n",
       "    windmill_height, data = trainset.imputation)\n",
       "\n",
       "Residuals:\n",
       "    Min      1Q  Median      3Q     Max \n",
       "-7.4595 -1.5150 -0.0178  1.3355 15.0521 \n",
       "\n",
       "Coefficients:\n",
       "                            Estimate Std. Error t value Pr(>|t|)    \n",
       "(Intercept)               -6.217e+00  2.019e-01 -30.789  < 2e-16 ***\n",
       "blade_breadth              1.279e+00  2.594e-01   4.932 8.20e-07 ***\n",
       "wind_speed                -6.855e-04  2.801e-04  -2.448  0.01439 *  \n",
       "atmospheric_temperature   -6.655e-02  1.814e-03 -36.687  < 2e-16 ***\n",
       "blades_angle              -4.442e-03  3.257e-04 -13.639  < 2e-16 ***\n",
       "engine_temperature         6.560e-02  2.784e-03  23.564  < 2e-16 ***\n",
       "atmospheric_pressure       7.964e-07  1.168e-07   6.820 9.35e-12 ***\n",
       "area_temperature           1.053e-01  2.339e-03  45.030  < 2e-16 ***\n",
       "windmill_body_temperature -8.389e-04  2.843e-04  -2.951  0.00317 ** \n",
       "wind_direction             5.336e-03  1.172e-04  45.512  < 2e-16 ***\n",
       "resistance                 1.226e-03  4.198e-05  29.206  < 2e-16 ***\n",
       "rotor_torque               8.392e-03  4.980e-04  16.852  < 2e-16 ***\n",
       "cloud_levelLow             2.950e+00  1.586e-01  18.605  < 2e-16 ***\n",
       "cloud_levelMedium          3.020e+00  1.589e-01  19.006  < 2e-16 ***\n",
       "---\n",
       "Signif. codes:  0 '***' 0.001 '**' 0.01 '*' 0.05 '.' 0.1 ' ' 1\n",
       "\n",
       "Residual standard error: 2.16 on 19726 degrees of freedom\n",
       "Multiple R-squared:  0.3625,\tAdjusted R-squared:  0.3621 \n",
       "F-statistic: 862.9 on 13 and 19726 DF,  p-value: < 2.2e-16\n"
      ]
     },
     "metadata": {},
     "output_type": "display_data"
    }
   ],
   "source": [
    "# Develop model on m2, excluding high p-value factors\n",
    "# high p-value: shaft_temperature, gearbox_temperature, blade_length, windmill_height\n",
    "m3p <- lm(windmill_generated_power ~ . \n",
    "         - year \n",
    "         - mday \n",
    "         - wday \n",
    "         - month \n",
    "         - hour \n",
    "         - motor_torque \n",
    "         - generator_temperature\n",
    "         - turbine_status\n",
    "         - shaft_temperature\n",
    "         - gearbox_temperature\n",
    "         - blade_length\n",
    "         - windmill_height, data = trainset.imputation)\n",
    "summary(m3p)"
   ]
  },
  {
   "cell_type": "code",
   "execution_count": 25,
   "id": "591559fb",
   "metadata": {},
   "outputs": [
    {
     "name": "stdout",
     "output_type": "stream",
     "text": [
      "[1] 2.158917\n"
     ]
    },
    {
     "data": {
      "text/plain": [
       "     Min.   1st Qu.    Median      Mean   3rd Qu.      Max. \n",
       " 0.000094  0.681684  1.428638  1.695063  2.377084 15.052120 "
      ]
     },
     "metadata": {},
     "output_type": "display_data"
    }
   ],
   "source": [
    "# Residuals = Error = Actual mpg - Model Predicted mpg\n",
    "RMSE.m3p.train.imputation <- sqrt(mean(residuals(m3p)^2))  # RMSE on trainset based on m5 model.\n",
    "print(RMSE.m3p.train.imputation)\n",
    "summary(abs(residuals(m3p)))  # Check Min Abs Error and Max Abs Error."
   ]
  },
  {
   "cell_type": "code",
   "execution_count": 26,
   "id": "ad6baf9c",
   "metadata": {},
   "outputs": [
    {
     "name": "stdout",
     "output_type": "stream",
     "text": [
      "[1] 2.156259\n"
     ]
    },
    {
     "data": {
      "text/plain": [
       "     Min.   1st Qu.    Median      Mean   3rd Qu.      Max. \n",
       " 0.000185  0.672879  1.394054  1.685288  2.361941 12.358343 "
      ]
     },
     "metadata": {},
     "output_type": "display_data"
    }
   ],
   "source": [
    "# Apply model from trainset to predict on testset.\n",
    "predict.m3p.test.imputation <- predict(m3p, newdata = testset.imputation)\n",
    "testset.imputation.error <- testset.imputation$windmill_generated_power - predict.m3p.test.imputation\n",
    "\n",
    "# Testset Errors\n",
    "RMSE.m3p.test.imputation <- sqrt(mean(testset.imputation.error^2))\n",
    "print(RMSE.m3p.test.imputation)\n",
    "summary(abs(testset.imputation.error))"
   ]
  },
  {
   "cell_type": "code",
   "execution_count": 27,
   "id": "a0c4d7a6",
   "metadata": {},
   "outputs": [
    {
     "data": {
      "text/html": [
       "<table>\n",
       "<thead><tr><th></th><th scope=col>GVIF</th><th scope=col>Df</th><th scope=col>GVIF^(1/(2*Df))</th></tr></thead>\n",
       "<tbody>\n",
       "\t<tr><th scope=row>blade_breadth</th><td>1.069023</td><td>1       </td><td>1.033936</td></tr>\n",
       "\t<tr><th scope=row>wind_speed</th><td>1.185841</td><td>1       </td><td>1.088963</td></tr>\n",
       "\t<tr><th scope=row>atmospheric_temperature</th><td>1.472063</td><td>1       </td><td>1.213286</td></tr>\n",
       "\t<tr><th scope=row>blades_angle</th><td>1.035151</td><td>1       </td><td>1.017424</td></tr>\n",
       "\t<tr><th scope=row>engine_temperature</th><td>1.207141</td><td>1       </td><td>1.098700</td></tr>\n",
       "\t<tr><th scope=row>atmospheric_pressure</th><td>1.083844</td><td>1       </td><td>1.041078</td></tr>\n",
       "\t<tr><th scope=row>area_temperature</th><td>1.381407</td><td>1       </td><td>1.175333</td></tr>\n",
       "\t<tr><th scope=row>windmill_body_temperature</th><td>1.010054</td><td>1       </td><td>1.005014</td></tr>\n",
       "\t<tr><th scope=row>wind_direction</th><td>1.073689</td><td>1       </td><td>1.036190</td></tr>\n",
       "\t<tr><th scope=row>resistance</th><td>1.305242</td><td>1       </td><td>1.142472</td></tr>\n",
       "\t<tr><th scope=row>rotor_torque</th><td>1.095426</td><td>1       </td><td>1.046626</td></tr>\n",
       "\t<tr><th scope=row>cloud_level</th><td>1.087979</td><td>2       </td><td>1.021304</td></tr>\n",
       "</tbody>\n",
       "</table>\n"
      ],
      "text/latex": [
       "\\begin{tabular}{r|lll}\n",
       "  & GVIF & Df & GVIF\\textasciicircum{}(1/(2*Df))\\\\\n",
       "\\hline\n",
       "\tblade\\_breadth & 1.069023 & 1        & 1.033936\\\\\n",
       "\twind\\_speed & 1.185841 & 1        & 1.088963\\\\\n",
       "\tatmospheric\\_temperature & 1.472063 & 1        & 1.213286\\\\\n",
       "\tblades\\_angle & 1.035151 & 1        & 1.017424\\\\\n",
       "\tengine\\_temperature & 1.207141 & 1        & 1.098700\\\\\n",
       "\tatmospheric\\_pressure & 1.083844 & 1        & 1.041078\\\\\n",
       "\tarea\\_temperature & 1.381407 & 1        & 1.175333\\\\\n",
       "\twindmill\\_body\\_temperature & 1.010054 & 1        & 1.005014\\\\\n",
       "\twind\\_direction & 1.073689 & 1        & 1.036190\\\\\n",
       "\tresistance & 1.305242 & 1        & 1.142472\\\\\n",
       "\trotor\\_torque & 1.095426 & 1        & 1.046626\\\\\n",
       "\tcloud\\_level & 1.087979 & 2        & 1.021304\\\\\n",
       "\\end{tabular}\n"
      ],
      "text/markdown": [
       "\n",
       "| <!--/--> | GVIF | Df | GVIF^(1/(2*Df)) |\n",
       "|---|---|---|---|\n",
       "| blade_breadth | 1.069023 | 1        | 1.033936 |\n",
       "| wind_speed | 1.185841 | 1        | 1.088963 |\n",
       "| atmospheric_temperature | 1.472063 | 1        | 1.213286 |\n",
       "| blades_angle | 1.035151 | 1        | 1.017424 |\n",
       "| engine_temperature | 1.207141 | 1        | 1.098700 |\n",
       "| atmospheric_pressure | 1.083844 | 1        | 1.041078 |\n",
       "| area_temperature | 1.381407 | 1        | 1.175333 |\n",
       "| windmill_body_temperature | 1.010054 | 1        | 1.005014 |\n",
       "| wind_direction | 1.073689 | 1        | 1.036190 |\n",
       "| resistance | 1.305242 | 1        | 1.142472 |\n",
       "| rotor_torque | 1.095426 | 1        | 1.046626 |\n",
       "| cloud_level | 1.087979 | 2        | 1.021304 |\n",
       "\n"
      ],
      "text/plain": [
       "                          GVIF     Df GVIF^(1/(2*Df))\n",
       "blade_breadth             1.069023 1  1.033936       \n",
       "wind_speed                1.185841 1  1.088963       \n",
       "atmospheric_temperature   1.472063 1  1.213286       \n",
       "blades_angle              1.035151 1  1.017424       \n",
       "engine_temperature        1.207141 1  1.098700       \n",
       "atmospheric_pressure      1.083844 1  1.041078       \n",
       "area_temperature          1.381407 1  1.175333       \n",
       "windmill_body_temperature 1.010054 1  1.005014       \n",
       "wind_direction            1.073689 1  1.036190       \n",
       "resistance                1.305242 1  1.142472       \n",
       "rotor_torque              1.095426 1  1.046626       \n",
       "cloud_level               1.087979 2  1.021304       "
      ]
     },
     "metadata": {},
     "output_type": "display_data"
    }
   ],
   "source": [
    "# Check for multicollinearity\n",
    "vif(m3p)"
   ]
  },
  {
   "cell_type": "markdown",
   "id": "b64e9078",
   "metadata": {},
   "source": [
    "### Insights\n",
    "- RMSE increases when high VIF factors are removed\n",
    "- Possible justification for dropping time data is VIF (<5 but still 2-4, higher than other factors with VIF ~1)\n",
    "- engine_temperature appears to be a significant factor, outlier amongst other temps (low p-value, VIF)\n",
    "- blade_length and windmill_height are less significant (high p-value)"
   ]
  },
  {
   "cell_type": "markdown",
   "id": "7d685b9b",
   "metadata": {},
   "source": [
    "### LR Model 3\n",
    "**Model 2P + manual removal of inputs that can only be observed**"
   ]
  },
  {
   "cell_type": "code",
   "execution_count": 28,
   "id": "95b78640",
   "metadata": {},
   "outputs": [
    {
     "data": {
      "text/plain": [
       "\n",
       "Call:\n",
       "lm(formula = windmill_generated_power ~ . - year - mday - wday - \n",
       "    month - hour - motor_torque - generator_temperature - turbine_status - \n",
       "    shaft_temperature - gearbox_temperature - blade_length - \n",
       "    windmill_height - windmill_body_temperature - rotor_torque - \n",
       "    engine_temperature, data = trainset.imputation)\n",
       "\n",
       "Residuals:\n",
       "    Min      1Q  Median      3Q     Max \n",
       "-7.8726 -1.5329 -0.0091  1.3770 13.6862 \n",
       "\n",
       "Coefficients:\n",
       "                          Estimate Std. Error t value Pr(>|t|)    \n",
       "(Intercept)             -4.395e+00  1.862e-01 -23.609  < 2e-16 ***\n",
       "blade_breadth            1.358e+00  2.650e-01   5.123 3.04e-07 ***\n",
       "wind_speed              -1.563e-04  2.852e-04  -0.548    0.584    \n",
       "atmospheric_temperature -5.772e-02  1.826e-03 -31.613  < 2e-16 ***\n",
       "blades_angle            -4.988e-03  3.323e-04 -15.012  < 2e-16 ***\n",
       "atmospheric_pressure     7.198e-07  1.192e-07   6.038 1.58e-09 ***\n",
       "area_temperature         1.187e-01  2.338e-03  50.780  < 2e-16 ***\n",
       "wind_direction           5.644e-03  1.193e-04  47.315  < 2e-16 ***\n",
       "resistance               1.393e-03  4.244e-05  32.815  < 2e-16 ***\n",
       "cloud_levelLow           3.072e+00  1.619e-01  18.971  < 2e-16 ***\n",
       "cloud_levelMedium        3.154e+00  1.623e-01  19.438  < 2e-16 ***\n",
       "---\n",
       "Signif. codes:  0 '***' 0.001 '**' 0.01 '*' 0.05 '.' 0.1 ' ' 1\n",
       "\n",
       "Residual standard error: 2.207 on 19729 degrees of freedom\n",
       "Multiple R-squared:  0.3344,\tAdjusted R-squared:  0.3341 \n",
       "F-statistic: 991.2 on 10 and 19729 DF,  p-value: < 2.2e-16\n"
      ]
     },
     "metadata": {},
     "output_type": "display_data"
    }
   ],
   "source": [
    "# Develop model on m2p, excluding post-installation observations\n",
    "# observations: windmill_body_temperature, rotor_torque, engine_temperature\n",
    "m4 <- lm(windmill_generated_power ~ . \n",
    "         - year \n",
    "         - mday \n",
    "         - wday \n",
    "         - month \n",
    "         - hour \n",
    "         - motor_torque \n",
    "         - generator_temperature\n",
    "         - turbine_status\n",
    "         - shaft_temperature\n",
    "         - gearbox_temperature\n",
    "         - blade_length\n",
    "         - windmill_height\n",
    "         - windmill_body_temperature\n",
    "         - rotor_torque\n",
    "         - engine_temperature, data = trainset.imputation)\n",
    "summary(m4)"
   ]
  },
  {
   "cell_type": "code",
   "execution_count": 29,
   "id": "6b9e0966",
   "metadata": {},
   "outputs": [
    {
     "name": "stdout",
     "output_type": "stream",
     "text": [
      "[1] 2.206039\n"
     ]
    },
    {
     "data": {
      "text/plain": [
       "     Min.   1st Qu.    Median      Mean   3rd Qu.      Max. \n",
       " 0.000302  0.695113  1.450535  1.729049  2.408641 13.686150 "
      ]
     },
     "metadata": {},
     "output_type": "display_data"
    }
   ],
   "source": [
    "# Residuals = Error = Actual mpg - Model Predicted mpg\n",
    "RMSE.m4.train.imputation <- sqrt(mean(residuals(m4)^2))  # RMSE on trainset based on m5 model.\n",
    "print(RMSE.m4.train.imputation)\n",
    "summary(abs(residuals(m4)))  # Check Min Abs Error and Max Abs Error."
   ]
  },
  {
   "cell_type": "code",
   "execution_count": 30,
   "id": "e4218601",
   "metadata": {},
   "outputs": [
    {
     "name": "stdout",
     "output_type": "stream",
     "text": [
      "[1] 2.19209\n"
     ]
    },
    {
     "data": {
      "text/plain": [
       "     Min.   1st Qu.    Median      Mean   3rd Qu.      Max. \n",
       " 0.000066  0.677352  1.429892  1.709693  2.401013 11.943624 "
      ]
     },
     "metadata": {},
     "output_type": "display_data"
    }
   ],
   "source": [
    "# Apply model from trainset to predict on testset.\n",
    "predict.m4.test.imputation <- predict(m4, newdata = testset.imputation)\n",
    "testset.imputation.error <- testset.imputation$windmill_generated_power - predict.m4.test.imputation\n",
    "\n",
    "# Testset Errors\n",
    "RMSE.m4.test.imputation <- sqrt(mean(testset.imputation.error^2))\n",
    "print(RMSE.m4.test.imputation)\n",
    "summary(abs(testset.imputation.error))"
   ]
  },
  {
   "cell_type": "code",
   "execution_count": 31,
   "id": "2085cadb",
   "metadata": {},
   "outputs": [
    {
     "data": {
      "text/html": [
       "<table>\n",
       "<thead><tr><th></th><th scope=col>GVIF</th><th scope=col>Df</th><th scope=col>GVIF^(1/(2*Df))</th></tr></thead>\n",
       "<tbody>\n",
       "\t<tr><th scope=row>blade_breadth</th><td>1.068714</td><td>1       </td><td>1.033786</td></tr>\n",
       "\t<tr><th scope=row>wind_speed</th><td>1.177808</td><td>1       </td><td>1.085269</td></tr>\n",
       "\t<tr><th scope=row>atmospheric_temperature</th><td>1.428314</td><td>1       </td><td>1.195121</td></tr>\n",
       "\t<tr><th scope=row>blades_angle</th><td>1.031752</td><td>1       </td><td>1.015752</td></tr>\n",
       "\t<tr><th scope=row>atmospheric_pressure</th><td>1.081800</td><td>1       </td><td>1.040096</td></tr>\n",
       "\t<tr><th scope=row>area_temperature</th><td>1.321664</td><td>1       </td><td>1.149636</td></tr>\n",
       "\t<tr><th scope=row>wind_direction</th><td>1.064473</td><td>1       </td><td>1.031733</td></tr>\n",
       "\t<tr><th scope=row>resistance</th><td>1.277511</td><td>1       </td><td>1.130270</td></tr>\n",
       "\t<tr><th scope=row>cloud_level</th><td>1.086388</td><td>2       </td><td>1.020931</td></tr>\n",
       "</tbody>\n",
       "</table>\n"
      ],
      "text/latex": [
       "\\begin{tabular}{r|lll}\n",
       "  & GVIF & Df & GVIF\\textasciicircum{}(1/(2*Df))\\\\\n",
       "\\hline\n",
       "\tblade\\_breadth & 1.068714 & 1        & 1.033786\\\\\n",
       "\twind\\_speed & 1.177808 & 1        & 1.085269\\\\\n",
       "\tatmospheric\\_temperature & 1.428314 & 1        & 1.195121\\\\\n",
       "\tblades\\_angle & 1.031752 & 1        & 1.015752\\\\\n",
       "\tatmospheric\\_pressure & 1.081800 & 1        & 1.040096\\\\\n",
       "\tarea\\_temperature & 1.321664 & 1        & 1.149636\\\\\n",
       "\twind\\_direction & 1.064473 & 1        & 1.031733\\\\\n",
       "\tresistance & 1.277511 & 1        & 1.130270\\\\\n",
       "\tcloud\\_level & 1.086388 & 2        & 1.020931\\\\\n",
       "\\end{tabular}\n"
      ],
      "text/markdown": [
       "\n",
       "| <!--/--> | GVIF | Df | GVIF^(1/(2*Df)) |\n",
       "|---|---|---|---|\n",
       "| blade_breadth | 1.068714 | 1        | 1.033786 |\n",
       "| wind_speed | 1.177808 | 1        | 1.085269 |\n",
       "| atmospheric_temperature | 1.428314 | 1        | 1.195121 |\n",
       "| blades_angle | 1.031752 | 1        | 1.015752 |\n",
       "| atmospheric_pressure | 1.081800 | 1        | 1.040096 |\n",
       "| area_temperature | 1.321664 | 1        | 1.149636 |\n",
       "| wind_direction | 1.064473 | 1        | 1.031733 |\n",
       "| resistance | 1.277511 | 1        | 1.130270 |\n",
       "| cloud_level | 1.086388 | 2        | 1.020931 |\n",
       "\n"
      ],
      "text/plain": [
       "                        GVIF     Df GVIF^(1/(2*Df))\n",
       "blade_breadth           1.068714 1  1.033786       \n",
       "wind_speed              1.177808 1  1.085269       \n",
       "atmospheric_temperature 1.428314 1  1.195121       \n",
       "blades_angle            1.031752 1  1.015752       \n",
       "atmospheric_pressure    1.081800 1  1.040096       \n",
       "area_temperature        1.321664 1  1.149636       \n",
       "wind_direction          1.064473 1  1.031733       \n",
       "resistance              1.277511 1  1.130270       \n",
       "cloud_level             1.086388 2  1.020931       "
      ]
     },
     "metadata": {},
     "output_type": "display_data"
    }
   ],
   "source": [
    "# Check for multicollinearity\n",
    "vif(m4)"
   ]
  },
  {
   "cell_type": "code",
   "execution_count": null,
   "id": "230e188d",
   "metadata": {},
   "outputs": [],
   "source": []
  }
 ],
 "metadata": {
  "kernelspec": {
   "display_name": "R",
   "language": "R",
   "name": "ir"
  },
  "language_info": {
   "codemirror_mode": "r",
   "file_extension": ".r",
   "mimetype": "text/x-r-source",
   "name": "R",
   "pygments_lexer": "r",
   "version": "3.6.1"
  }
 },
 "nbformat": 4,
 "nbformat_minor": 5
}
