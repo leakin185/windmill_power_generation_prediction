{
 "cells": [
  {
   "cell_type": "markdown",
   "id": "882a6b5e",
   "metadata": {},
   "source": [
    "# Training Data Cleaning & Exploration - Linear Regression\n",
    "\n",
    "**Overview of Implementation**\n",
    "1. <a href=\"#section1\">Data Cleaning</a>\n",
    "2. <a href=\"#section2\">Linear Regression</a>\n",
    "    1. <a href=\"#section2a\">Model 0</a>: baseline, no year\n",
    "    2. <a href=\"#section2b\">Model 1</a>: trainset.imputation, no time data\n",
    "    3. <a href=\"#section2c\">Model 2</a>: trainset.imputation, no time data, turbine_status & high VIF removed (motor_torque, generator_temperature\n",
    "    4. <a href=\"#section2d\">Model 2P</a>: Model 2 + high p-value factors removed (turbine_status, shaft_temperature, gearbox_temperature, blade_length, windmill_height)\n",
    "    5. <a href=\"#section2e\">Model 3</a>: Model 2P + manual removal of inputs that can only be observed"
   ]
  },
  {
   "cell_type": "markdown",
   "id": "d833f2c5",
   "metadata": {},
   "source": [
    "## <a id='section1'>1. Data Cleaning</a>\n",
    "Import data & explore statistics"
   ]
  },
  {
   "cell_type": "code",
   "execution_count": 1,
   "id": "356a87dd",
   "metadata": {},
   "outputs": [
    {
     "name": "stderr",
     "output_type": "stream",
     "text": [
      "Registered S3 methods overwritten by 'ggplot2':\n",
      "  method         from \n",
      "  [.quosures     rlang\n",
      "  c.quosures     rlang\n",
      "  print.quosures rlang\n"
     ]
    }
   ],
   "source": [
    "library(data.table)\n",
    "library(ggplot2)"
   ]
  },
  {
   "cell_type": "code",
   "execution_count": 2,
   "id": "9ca2b3dd",
   "metadata": {},
   "outputs": [
    {
     "name": "stdout",
     "output_type": "stream",
     "text": [
      "\n",
      "Number of NA values for imputed:  0"
     ]
    },
    {
     "data": {
      "text/plain": [
       " blade_breadth         year          month             mday      \n",
       " Min.   :0.2001   Min.   :2018   Min.   : 1.000   Min.   : 1.00  \n",
       " 1st Qu.:0.3481   1st Qu.:2019   1st Qu.: 3.000   1st Qu.: 8.00  \n",
       " Median :0.3996   Median :2019   Median : 6.000   Median :15.00  \n",
       " Mean   :0.3979   Mean   :2019   Mean   : 6.222   Mean   :15.55  \n",
       " 3rd Qu.:0.4504   3rd Qu.:2019   3rd Qu.: 9.000   3rd Qu.:23.00  \n",
       " Max.   :0.5000   Max.   :2019   Max.   :12.000   Max.   :31.00  \n",
       "                                                                 \n",
       "      wday            hour         wind_speed      atmospheric_temperature\n",
       " Min.   :0.000   Min.   : 0.00   Min.   :-104.60   Min.   :-166.759       \n",
       " 1st Qu.:1.000   1st Qu.: 6.00   1st Qu.:  33.48   1st Qu.:   5.841       \n",
       " Median :3.000   Median :12.00   Median :  93.59   Median :  15.567       \n",
       " Mean   :2.998   Mean   :11.58   Mean   :  83.46   Mean   :   0.594       \n",
       " 3rd Qu.:5.000   3rd Qu.:18.00   3rd Qu.:  95.60   3rd Qu.:  24.053       \n",
       " Max.   :6.000   Max.   :23.00   Max.   : 601.46   Max.   : 172.751       \n",
       "                                                                          \n",
       " shaft_temperature  blades_angle       gearbox_temperature engine_temperature\n",
       " Min.   :-99.00    Min.   :-146.2595   Min.   :-244.97     Min.   : 3.167    \n",
       " 1st Qu.: 41.64    1st Qu.:  -1.2002   1st Qu.:  40.53     1st Qu.:41.899    \n",
       " Median : 43.67    Median :  -0.4884   Median :  43.22     Median :43.532    \n",
       " Mean   : 40.08    Mean   :  -9.5828   Mean   :  40.90     Mean   :42.637    \n",
       " 3rd Qu.: 45.66    3rd Qu.:   5.5677   3rd Qu.:  45.89     3rd Qu.:45.183    \n",
       " Max.   :169.82    Max.   : 165.9321   Max.   : 999.00     Max.   :50.000    \n",
       "                                                                             \n",
       "  motor_torque    generator_temperature atmospheric_pressure area_temperature\n",
       " Min.   :-330.4   Min.   :  7.069       Min.   :-1188624     Min.   :-30.00  \n",
       " 1st Qu.: 868.1   1st Qu.: 41.128       1st Qu.:   16737     1st Qu.: 27.32  \n",
       " Median :2028.0   Median : 70.657       Median :   18276     Median : 32.65  \n",
       " Mean   :1705.6   Mean   : 64.933       Mean   :   52980     Mean   : 32.76  \n",
       " 3rd Qu.:2460.9   3rd Qu.: 78.926       3rd Qu.:  119111     3rd Qu.: 38.25  \n",
       " Max.   :3000.0   Max.   :100.000       Max.   : 1272552     Max.   : 55.00  \n",
       "                                                                             \n",
       " windmill_body_temperature wind_direction     resistance     rotor_torque    \n",
       " Min.   :-999.00           Min.   :-105.5   Min.   :-1005   Min.   :-136.73  \n",
       " 1st Qu.:  26.95           1st Qu.: 238.7   1st Qu.: 1269   1st Qu.:  13.64  \n",
       " Median :  42.71           Median : 276.7   Median : 1678   Median :  32.37  \n",
       " Mean   :  21.00           Mean   : 312.2   Mean   : 1576   Mean   :  25.64  \n",
       " 3rd Qu.:  44.58           3rd Qu.: 418.3   3rd Qu.: 1829   3rd Qu.:  41.52  \n",
       " Max.   : 323.00           Max.   : 760.5   Max.   : 4693   Max.   : 189.11  \n",
       "                                                                             \n",
       "  blade_length     windmill_height  windmill_generated_power turbine_status \n",
       " Min.   :-99.000   Min.   :-30.30   Min.   :-1.625           AAA    : 1615  \n",
       " 1st Qu.:  2.343   1st Qu.: 24.43   1st Qu.: 4.048           BA     : 1563  \n",
       " Median :  3.415   Median : 25.95   Median : 5.767           BB     : 1477  \n",
       " Mean   :  2.203   Mean   : 25.89   Mean   : 6.127           B2     : 1473  \n",
       " 3rd Qu.:  4.506   3rd Qu.: 27.50   3rd Qu.: 7.963           AB     : 1444  \n",
       " Max.   : 42.396   Max.   : 78.35   Max.   :20.175           BCB    : 1436  \n",
       "                                                             (Other):10732  \n",
       "        cloud_level  \n",
       " Extremely Low: 205  \n",
       " Low          :9797  \n",
       " Medium       :9738  \n",
       "                     \n",
       "                     \n",
       "                     \n",
       "                     "
      ]
     },
     "metadata": {},
     "output_type": "display_data"
    },
    {
     "data": {
      "text/html": [
       "<ol class=list-inline>\n",
       "\t<li>'blade_breadth'</li>\n",
       "\t<li>'year'</li>\n",
       "\t<li>'month'</li>\n",
       "\t<li>'mday'</li>\n",
       "\t<li>'wday'</li>\n",
       "\t<li>'hour'</li>\n",
       "\t<li>'wind_speed'</li>\n",
       "\t<li>'atmospheric_temperature'</li>\n",
       "\t<li>'shaft_temperature'</li>\n",
       "\t<li>'blades_angle'</li>\n",
       "\t<li>'gearbox_temperature'</li>\n",
       "\t<li>'engine_temperature'</li>\n",
       "\t<li>'motor_torque'</li>\n",
       "\t<li>'generator_temperature'</li>\n",
       "\t<li>'atmospheric_pressure'</li>\n",
       "\t<li>'area_temperature'</li>\n",
       "\t<li>'windmill_body_temperature'</li>\n",
       "\t<li>'wind_direction'</li>\n",
       "\t<li>'resistance'</li>\n",
       "\t<li>'rotor_torque'</li>\n",
       "\t<li>'blade_length'</li>\n",
       "\t<li>'windmill_height'</li>\n",
       "\t<li>'windmill_generated_power'</li>\n",
       "\t<li>'turbine_status'</li>\n",
       "\t<li>'cloud_level'</li>\n",
       "</ol>\n"
      ],
      "text/latex": [
       "\\begin{enumerate*}\n",
       "\\item 'blade\\_breadth'\n",
       "\\item 'year'\n",
       "\\item 'month'\n",
       "\\item 'mday'\n",
       "\\item 'wday'\n",
       "\\item 'hour'\n",
       "\\item 'wind\\_speed'\n",
       "\\item 'atmospheric\\_temperature'\n",
       "\\item 'shaft\\_temperature'\n",
       "\\item 'blades\\_angle'\n",
       "\\item 'gearbox\\_temperature'\n",
       "\\item 'engine\\_temperature'\n",
       "\\item 'motor\\_torque'\n",
       "\\item 'generator\\_temperature'\n",
       "\\item 'atmospheric\\_pressure'\n",
       "\\item 'area\\_temperature'\n",
       "\\item 'windmill\\_body\\_temperature'\n",
       "\\item 'wind\\_direction'\n",
       "\\item 'resistance'\n",
       "\\item 'rotor\\_torque'\n",
       "\\item 'blade\\_length'\n",
       "\\item 'windmill\\_height'\n",
       "\\item 'windmill\\_generated\\_power'\n",
       "\\item 'turbine\\_status'\n",
       "\\item 'cloud\\_level'\n",
       "\\end{enumerate*}\n"
      ],
      "text/markdown": [
       "1. 'blade_breadth'\n",
       "2. 'year'\n",
       "3. 'month'\n",
       "4. 'mday'\n",
       "5. 'wday'\n",
       "6. 'hour'\n",
       "7. 'wind_speed'\n",
       "8. 'atmospheric_temperature'\n",
       "9. 'shaft_temperature'\n",
       "10. 'blades_angle'\n",
       "11. 'gearbox_temperature'\n",
       "12. 'engine_temperature'\n",
       "13. 'motor_torque'\n",
       "14. 'generator_temperature'\n",
       "15. 'atmospheric_pressure'\n",
       "16. 'area_temperature'\n",
       "17. 'windmill_body_temperature'\n",
       "18. 'wind_direction'\n",
       "19. 'resistance'\n",
       "20. 'rotor_torque'\n",
       "21. 'blade_length'\n",
       "22. 'windmill_height'\n",
       "23. 'windmill_generated_power'\n",
       "24. 'turbine_status'\n",
       "25. 'cloud_level'\n",
       "\n",
       "\n"
      ],
      "text/plain": [
       " [1] \"blade_breadth\"             \"year\"                     \n",
       " [3] \"month\"                     \"mday\"                     \n",
       " [5] \"wday\"                      \"hour\"                     \n",
       " [7] \"wind_speed\"                \"atmospheric_temperature\"  \n",
       " [9] \"shaft_temperature\"         \"blades_angle\"             \n",
       "[11] \"gearbox_temperature\"       \"engine_temperature\"       \n",
       "[13] \"motor_torque\"              \"generator_temperature\"    \n",
       "[15] \"atmospheric_pressure\"      \"area_temperature\"         \n",
       "[17] \"windmill_body_temperature\" \"wind_direction\"           \n",
       "[19] \"resistance\"                \"rotor_torque\"             \n",
       "[21] \"blade_length\"              \"windmill_height\"          \n",
       "[23] \"windmill_generated_power\"  \"turbine_status\"           \n",
       "[25] \"cloud_level\"              "
      ]
     },
     "metadata": {},
     "output_type": "display_data"
    }
   ],
   "source": [
    "# Import train data using data.table fread function\n",
    "data.imputation <- fread(\"../data/train_data_lr.csv\", stringsAsFactors = T) \n",
    "\n",
    "cat(\"\\nNumber of NA values for imputed: \", sum(is.na(data.imputation)))\n",
    "\n",
    "summary(data.imputation)\n",
    "colnames(data.imputation)"
   ]
  },
  {
   "cell_type": "code",
   "execution_count": 3,
   "id": "a26a1f66",
   "metadata": {},
   "outputs": [],
   "source": [
    "data.imputation$year = as.factor(data.imputation$year)\n",
    "data.imputation$month = as.factor(data.imputation$month)\n",
    "data.imputation$mday = as.factor(data.imputation$mday)\n",
    "data.imputation$wday = as.factor(data.imputation$wday)"
   ]
  },
  {
   "cell_type": "code",
   "execution_count": 4,
   "id": "13f674de",
   "metadata": {},
   "outputs": [
    {
     "data": {
      "text/html": [
       "<span style=white-space:pre-wrap>'number of rows of imputed trainset:  13818'</span>"
      ],
      "text/latex": [
       "'number of rows of imputed trainset:  13818'"
      ],
      "text/markdown": [
       "<span style=white-space:pre-wrap>'number of rows of imputed trainset:  13818'</span>"
      ],
      "text/plain": [
       "[1] \"number of rows of imputed trainset:  13818\""
      ]
     },
     "metadata": {},
     "output_type": "display_data"
    },
    {
     "data": {
      "text/html": [
       "<span style=white-space:pre-wrap>'number of rows of imputed testset:  5922'</span>"
      ],
      "text/latex": [
       "'number of rows of imputed testset:  5922'"
      ],
      "text/markdown": [
       "<span style=white-space:pre-wrap>'number of rows of imputed testset:  5922'</span>"
      ],
      "text/plain": [
       "[1] \"number of rows of imputed testset:  5922\""
      ]
     },
     "metadata": {},
     "output_type": "display_data"
    }
   ],
   "source": [
    "#sample split into train and test set\n",
    "library(caTools)\n",
    "set.seed(2021)\n",
    "train <- sample.split(Y=data.imputation$windmill_generated_power, SplitRatio=0.7)\n",
    "\n",
    "trainset.imputation <- subset(data.imputation, train==T)\n",
    "testset.imputation <- subset(data.imputation, train==F)\n",
    "paste(\"number of rows of imputed trainset: \", nrow(trainset.imputation))\n",
    "paste(\"number of rows of imputed testset: \",nrow(testset.imputation))"
   ]
  },
  {
   "cell_type": "code",
   "execution_count": 5,
   "id": "8e6159fe",
   "metadata": {
    "scrolled": true
   },
   "outputs": [
    {
     "data": {
      "text/html": [
       "<table>\n",
       "<thead><tr><th scope=col>blade_breadth</th><th scope=col>year</th><th scope=col>month</th><th scope=col>mday</th><th scope=col>wday</th><th scope=col>hour</th><th scope=col>wind_speed</th><th scope=col>atmospheric_temperature</th><th scope=col>shaft_temperature</th><th scope=col>blades_angle</th><th scope=col>...</th><th scope=col>area_temperature</th><th scope=col>windmill_body_temperature</th><th scope=col>wind_direction</th><th scope=col>resistance</th><th scope=col>rotor_torque</th><th scope=col>blade_length</th><th scope=col>windmill_height</th><th scope=col>windmill_generated_power</th><th scope=col>turbine_status</th><th scope=col>cloud_level</th></tr></thead>\n",
       "<tbody>\n",
       "\t<tr><td>0.3140648  </td><td>2019       </td><td>8          </td><td>4          </td><td>0          </td><td>14         </td><td>94.82002   </td><td>-99.00000  </td><td>41.723019  </td><td> -0.9034229</td><td>...        </td><td>26.89787   </td><td> 64.71157  </td><td>239.83639  </td><td>2730.311   </td><td>42.08467   </td><td>2.217542   </td><td>24.28169   </td><td>6.766521   </td><td>BA         </td><td>Medium     </td></tr>\n",
       "\t<tr><td>0.4473414  </td><td>2019       </td><td>4          </td><td>17         </td><td>3          </td><td>18         </td><td>16.02625   </td><td>-99.00000  </td><td>44.072819  </td><td> -0.1968448</td><td>...        </td><td>33.84939   </td><td> 43.00875  </td><td>528.00399  </td><td>1222.931   </td><td>11.80511   </td><td>2.917922   </td><td>33.59351   </td><td>5.089173   </td><td>BD         </td><td>Low        </td></tr>\n",
       "\t<tr><td>0.3548810  </td><td>2019       </td><td>7          </td><td>8          </td><td>1          </td><td>21         </td><td>48.73783   </td><td> 12.71681  </td><td>43.217778  </td><td>-99.0000000</td><td>...        </td><td>30.55316   </td><td>-99.00000  </td><td>339.86603  </td><td>1177.637   </td><td>18.38487   </td><td>2.938810   </td><td>29.94482   </td><td>8.536889   </td><td>BA         </td><td>Low        </td></tr>\n",
       "\t<tr><td>0.3019110  </td><td>2019       </td><td>5          </td><td>24         </td><td>5          </td><td>12         </td><td>91.99617   </td><td> 39.43655  </td><td>41.873082  </td><td> 69.4844587</td><td>...        </td><td>23.15148   </td><td> 41.19579  </td><td>248.81426  </td><td>1662.733   </td><td>23.05710   </td><td>2.939582   </td><td>24.55546   </td><td>3.906960   </td><td>BB         </td><td>Medium     </td></tr>\n",
       "\t<tr><td>0.4448594  </td><td>2019       </td><td>7          </td><td>5          </td><td>5          </td><td>10         </td><td>11.59651   </td><td> 10.16427  </td><td>-6.382525  </td><td>  1.2848402</td><td>...        </td><td>22.95195   </td><td> 40.14483  </td><td>279.15467  </td><td>1188.048   </td><td>12.03866   </td><td>2.902797   </td><td>20.15427   </td><td>3.566115   </td><td>BCB        </td><td>Medium     </td></tr>\n",
       "\t<tr><td>0.4288537  </td><td>2019       </td><td>7          </td><td>23         </td><td>2          </td><td> 7         </td><td>11.11376   </td><td> 12.68041  </td><td>42.226497  </td><td>-99.0000000</td><td>...        </td><td>29.41502   </td><td> 41.26187  </td><td> 16.22034  </td><td>1180.577   </td><td>12.98519   </td><td>2.586635   </td><td>60.07083   </td><td>3.757820   </td><td>AC         </td><td>Medium     </td></tr>\n",
       "</tbody>\n",
       "</table>\n"
      ],
      "text/latex": [
       "\\begin{tabular}{r|lllllllllllllllllllllllll}\n",
       " blade\\_breadth & year & month & mday & wday & hour & wind\\_speed & atmospheric\\_temperature & shaft\\_temperature & blades\\_angle & ... & area\\_temperature & windmill\\_body\\_temperature & wind\\_direction & resistance & rotor\\_torque & blade\\_length & windmill\\_height & windmill\\_generated\\_power & turbine\\_status & cloud\\_level\\\\\n",
       "\\hline\n",
       "\t 0.3140648   & 2019        & 8           & 4           & 0           & 14          & 94.82002    & -99.00000   & 41.723019   &  -0.9034229 & ...         & 26.89787    &  64.71157   & 239.83639   & 2730.311    & 42.08467    & 2.217542    & 24.28169    & 6.766521    & BA          & Medium     \\\\\n",
       "\t 0.4473414   & 2019        & 4           & 17          & 3           & 18          & 16.02625    & -99.00000   & 44.072819   &  -0.1968448 & ...         & 33.84939    &  43.00875   & 528.00399   & 1222.931    & 11.80511    & 2.917922    & 33.59351    & 5.089173    & BD          & Low        \\\\\n",
       "\t 0.3548810   & 2019        & 7           & 8           & 1           & 21          & 48.73783    &  12.71681   & 43.217778   & -99.0000000 & ...         & 30.55316    & -99.00000   & 339.86603   & 1177.637    & 18.38487    & 2.938810    & 29.94482    & 8.536889    & BA          & Low        \\\\\n",
       "\t 0.3019110   & 2019        & 5           & 24          & 5           & 12          & 91.99617    &  39.43655   & 41.873082   &  69.4844587 & ...         & 23.15148    &  41.19579   & 248.81426   & 1662.733    & 23.05710    & 2.939582    & 24.55546    & 3.906960    & BB          & Medium     \\\\\n",
       "\t 0.4448594   & 2019        & 7           & 5           & 5           & 10          & 11.59651    &  10.16427   & -6.382525   &   1.2848402 & ...         & 22.95195    &  40.14483   & 279.15467   & 1188.048    & 12.03866    & 2.902797    & 20.15427    & 3.566115    & BCB         & Medium     \\\\\n",
       "\t 0.4288537   & 2019        & 7           & 23          & 2           &  7          & 11.11376    &  12.68041   & 42.226497   & -99.0000000 & ...         & 29.41502    &  41.26187   &  16.22034   & 1180.577    & 12.98519    & 2.586635    & 60.07083    & 3.757820    & AC          & Medium     \\\\\n",
       "\\end{tabular}\n"
      ],
      "text/markdown": [
       "\n",
       "| blade_breadth | year | month | mday | wday | hour | wind_speed | atmospheric_temperature | shaft_temperature | blades_angle | ... | area_temperature | windmill_body_temperature | wind_direction | resistance | rotor_torque | blade_length | windmill_height | windmill_generated_power | turbine_status | cloud_level |\n",
       "|---|---|---|---|---|---|---|---|---|---|---|---|---|---|---|---|---|---|---|---|---|\n",
       "| 0.3140648   | 2019        | 8           | 4           | 0           | 14          | 94.82002    | -99.00000   | 41.723019   |  -0.9034229 | ...         | 26.89787    |  64.71157   | 239.83639   | 2730.311    | 42.08467    | 2.217542    | 24.28169    | 6.766521    | BA          | Medium      |\n",
       "| 0.4473414   | 2019        | 4           | 17          | 3           | 18          | 16.02625    | -99.00000   | 44.072819   |  -0.1968448 | ...         | 33.84939    |  43.00875   | 528.00399   | 1222.931    | 11.80511    | 2.917922    | 33.59351    | 5.089173    | BD          | Low         |\n",
       "| 0.3548810   | 2019        | 7           | 8           | 1           | 21          | 48.73783    |  12.71681   | 43.217778   | -99.0000000 | ...         | 30.55316    | -99.00000   | 339.86603   | 1177.637    | 18.38487    | 2.938810    | 29.94482    | 8.536889    | BA          | Low         |\n",
       "| 0.3019110   | 2019        | 5           | 24          | 5           | 12          | 91.99617    |  39.43655   | 41.873082   |  69.4844587 | ...         | 23.15148    |  41.19579   | 248.81426   | 1662.733    | 23.05710    | 2.939582    | 24.55546    | 3.906960    | BB          | Medium      |\n",
       "| 0.4448594   | 2019        | 7           | 5           | 5           | 10          | 11.59651    |  10.16427   | -6.382525   |   1.2848402 | ...         | 22.95195    |  40.14483   | 279.15467   | 1188.048    | 12.03866    | 2.902797    | 20.15427    | 3.566115    | BCB         | Medium      |\n",
       "| 0.4288537   | 2019        | 7           | 23          | 2           |  7          | 11.11376    |  12.68041   | 42.226497   | -99.0000000 | ...         | 29.41502    |  41.26187   |  16.22034   | 1180.577    | 12.98519    | 2.586635    | 60.07083    | 3.757820    | AC          | Medium      |\n",
       "\n"
      ],
      "text/plain": [
       "  blade_breadth year month mday wday hour wind_speed atmospheric_temperature\n",
       "1 0.3140648     2019 8     4    0    14   94.82002   -99.00000              \n",
       "2 0.4473414     2019 4     17   3    18   16.02625   -99.00000              \n",
       "3 0.3548810     2019 7     8    1    21   48.73783    12.71681              \n",
       "4 0.3019110     2019 5     24   5    12   91.99617    39.43655              \n",
       "5 0.4448594     2019 7     5    5    10   11.59651    10.16427              \n",
       "6 0.4288537     2019 7     23   2     7   11.11376    12.68041              \n",
       "  shaft_temperature blades_angle ... area_temperature windmill_body_temperature\n",
       "1 41.723019          -0.9034229  ... 26.89787          64.71157                \n",
       "2 44.072819          -0.1968448  ... 33.84939          43.00875                \n",
       "3 43.217778         -99.0000000  ... 30.55316         -99.00000                \n",
       "4 41.873082          69.4844587  ... 23.15148          41.19579                \n",
       "5 -6.382525           1.2848402  ... 22.95195          40.14483                \n",
       "6 42.226497         -99.0000000  ... 29.41502          41.26187                \n",
       "  wind_direction resistance rotor_torque blade_length windmill_height\n",
       "1 239.83639      2730.311   42.08467     2.217542     24.28169       \n",
       "2 528.00399      1222.931   11.80511     2.917922     33.59351       \n",
       "3 339.86603      1177.637   18.38487     2.938810     29.94482       \n",
       "4 248.81426      1662.733   23.05710     2.939582     24.55546       \n",
       "5 279.15467      1188.048   12.03866     2.902797     20.15427       \n",
       "6  16.22034      1180.577   12.98519     2.586635     60.07083       \n",
       "  windmill_generated_power turbine_status cloud_level\n",
       "1 6.766521                 BA             Medium     \n",
       "2 5.089173                 BD             Low        \n",
       "3 8.536889                 BA             Low        \n",
       "4 3.906960                 BB             Medium     \n",
       "5 3.566115                 BCB            Medium     \n",
       "6 3.757820                 AC             Medium     "
      ]
     },
     "metadata": {},
     "output_type": "display_data"
    }
   ],
   "source": [
    "head(trainset.imputation)"
   ]
  },
  {
   "cell_type": "markdown",
   "id": "95640da8",
   "metadata": {},
   "source": [
    "### We now have a trainset with data imputation to handle NAs, suitable for use in Linear Regression."
   ]
  },
  {
   "cell_type": "markdown",
   "id": "549fb879",
   "metadata": {},
   "source": [
    "## <a id='section2'>2. Linear Regression</a>"
   ]
  },
  {
   "cell_type": "code",
   "execution_count": 6,
   "id": "d3d64856",
   "metadata": {},
   "outputs": [
    {
     "name": "stderr",
     "output_type": "stream",
     "text": [
      "Loading required package: carData\n",
      "Warning message:\n",
      "\"package 'carData' was built under R version 3.6.3\""
     ]
    }
   ],
   "source": [
    "library(car)"
   ]
  },
  {
   "cell_type": "markdown",
   "id": "8ab03dc0",
   "metadata": {},
   "source": [
    "### <a id=\"section2a\">LR Model 0 (baseline)</a>\n",
    "**trainset.imputation with selected time data (no year)**"
   ]
  },
  {
   "cell_type": "code",
   "execution_count": 7,
   "id": "24013ae5",
   "metadata": {},
   "outputs": [
    {
     "data": {
      "text/plain": [
       "\n",
       "Call:\n",
       "lm(formula = windmill_generated_power ~ . - year, data = trainset.imputation)\n",
       "\n",
       "Residuals:\n",
       "   Min     1Q Median     3Q    Max \n",
       "-7.532 -1.168 -0.127  1.030 13.777 \n",
       "\n",
       "Coefficients:\n",
       "                            Estimate Std. Error t value Pr(>|t|)    \n",
       "(Intercept)                3.104e+00  2.724e-01  11.395  < 2e-16 ***\n",
       "blade_breadth              7.627e-01  2.531e-01   3.014 0.002587 ** \n",
       "month2                    -2.193e-01  6.851e-02  -3.201 0.001373 ** \n",
       "month3                    -2.206e+00  7.477e-02 -29.499  < 2e-16 ***\n",
       "month4                    -3.221e+00  8.481e-02 -37.977  < 2e-16 ***\n",
       "month5                    -2.117e+00  7.617e-02 -27.790  < 2e-16 ***\n",
       "month6                    -1.366e+00  8.008e-02 -17.060  < 2e-16 ***\n",
       "month7                    -1.604e+00  7.570e-02 -21.189  < 2e-16 ***\n",
       "month8                    -1.965e+00  7.279e-02 -26.994  < 2e-16 ***\n",
       "month9                    -2.261e+00  7.595e-02 -29.773  < 2e-16 ***\n",
       "month10                   -1.796e+00  1.724e-01 -10.417  < 2e-16 ***\n",
       "month11                   -3.098e+00  7.306e-02 -42.410  < 2e-16 ***\n",
       "month12                   -4.592e-01  6.884e-02  -6.671 2.64e-11 ***\n",
       "mday2                     -3.398e-01  1.204e-01  -2.822 0.004773 ** \n",
       "mday3                     -7.172e-01  1.206e-01  -5.945 2.84e-09 ***\n",
       "mday4                     -2.365e-01  1.153e-01  -2.050 0.040394 *  \n",
       "mday5                     -4.719e-01  1.145e-01  -4.123 3.76e-05 ***\n",
       "mday6                     -1.570e-01  1.146e-01  -1.369 0.170954    \n",
       "mday7                     -5.241e-01  1.131e-01  -4.632 3.65e-06 ***\n",
       "mday8                     -5.252e-01  1.126e-01  -4.665 3.11e-06 ***\n",
       "mday9                     -6.477e-01  1.185e-01  -5.467 4.65e-08 ***\n",
       "mday10                    -9.508e-01  1.166e-01  -8.152 3.88e-16 ***\n",
       "mday11                    -1.048e+00  1.168e-01  -8.968  < 2e-16 ***\n",
       "mday12                    -8.726e-01  1.199e-01  -7.277 3.60e-13 ***\n",
       "mday13                    -9.995e-01  1.170e-01  -8.543  < 2e-16 ***\n",
       "mday14                    -6.445e-01  1.164e-01  -5.535 3.16e-08 ***\n",
       "mday15                    -3.837e-01  1.127e-01  -3.404 0.000665 ***\n",
       "mday16                    -2.392e-01  1.175e-01  -2.036 0.041773 *  \n",
       "mday17                    -3.266e-01  1.130e-01  -2.889 0.003871 ** \n",
       "mday18                    -2.328e-01  1.169e-01  -1.991 0.046461 *  \n",
       "mday19                    -3.862e-01  1.167e-01  -3.311 0.000932 ***\n",
       "mday20                    -1.470e-01  1.202e-01  -1.223 0.221266    \n",
       "mday21                    -2.742e-02  1.179e-01  -0.233 0.816069    \n",
       "mday22                    -8.210e-02  1.120e-01  -0.733 0.463546    \n",
       "mday23                    -1.333e-01  1.164e-01  -1.145 0.252068    \n",
       "mday24                     1.341e-01  1.211e-01   1.107 0.268230    \n",
       "mday25                     7.374e-01  1.184e-01   6.229 4.82e-10 ***\n",
       "mday26                     3.356e-01  1.181e-01   2.841 0.004502 ** \n",
       "mday27                     2.130e-01  1.199e-01   1.776 0.075835 .  \n",
       "mday28                     1.080e-01  1.174e-01   0.920 0.357740    \n",
       "mday29                     2.125e-01  1.204e-01   1.764 0.077691 .  \n",
       "mday30                     5.793e-01  1.259e-01   4.603 4.21e-06 ***\n",
       "mday31                    -1.620e-01  1.347e-01  -1.202 0.229245    \n",
       "wday1                     -1.090e-01  5.762e-02  -1.892 0.058474 .  \n",
       "wday2                      6.717e-02  5.767e-02   1.165 0.244077    \n",
       "wday3                      4.782e-02  5.848e-02   0.818 0.413591    \n",
       "wday4                      7.847e-02  5.812e-02   1.350 0.176984    \n",
       "wday5                      2.114e-01  5.878e-02   3.595 0.000325 ***\n",
       "wday6                     -1.650e-01  5.837e-02  -2.827 0.004712 ** \n",
       "hour                       3.255e-03  2.310e-03   1.409 0.158783    \n",
       "wind_speed                -2.485e-03  2.881e-04  -8.625  < 2e-16 ***\n",
       "atmospheric_temperature   -1.677e-03  3.431e-04  -4.888 1.03e-06 ***\n",
       "shaft_temperature         -1.154e-03  5.686e-04  -2.030 0.042379 *  \n",
       "blades_angle              -2.387e-04  3.290e-04  -0.726 0.468092    \n",
       "gearbox_temperature        1.240e-03  3.500e-04   3.542 0.000399 ***\n",
       "engine_temperature         1.784e-02  2.817e-03   6.333 2.47e-10 ***\n",
       "motor_torque               2.866e-03  5.609e-05  51.088  < 2e-16 ***\n",
       "generator_temperature     -8.950e-02  2.502e-03 -35.766  < 2e-16 ***\n",
       "atmospheric_pressure       5.616e-07  8.397e-08   6.688 2.35e-11 ***\n",
       "area_temperature           7.875e-02  2.875e-03  27.387  < 2e-16 ***\n",
       "windmill_body_temperature -7.292e-04  2.799e-04  -2.606 0.009179 ** \n",
       "wind_direction             2.823e-03  1.264e-04  22.330  < 2e-16 ***\n",
       "resistance                 7.206e-05  3.702e-05   1.947 0.051602 .  \n",
       "rotor_torque               2.205e-04  5.062e-04   0.436 0.663115    \n",
       "blade_length               8.830e-04  1.305e-03   0.677 0.498510    \n",
       "windmill_height            1.156e-03  1.943e-03   0.595 0.551815    \n",
       "turbine_statusA2          -1.195e-02  8.123e-02  -0.147 0.883003    \n",
       "turbine_statusAAA         -1.004e-01  7.787e-02  -1.290 0.197225    \n",
       "turbine_statusAB          -1.094e-02  8.007e-02  -0.137 0.891330    \n",
       "turbine_statusABC         -9.199e-02  8.148e-02  -1.129 0.258945    \n",
       "turbine_statusAC          -1.477e-01  8.057e-02  -1.833 0.066871 .  \n",
       "turbine_statusB           -1.214e-01  8.227e-02  -1.476 0.140032    \n",
       "turbine_statusB2          -3.774e-02  7.980e-02  -0.473 0.636294    \n",
       "turbine_statusBA          -1.675e-01  7.835e-02  -2.137 0.032593 *  \n",
       "turbine_statusBB          -8.422e-02  8.010e-02  -1.051 0.293073    \n",
       "turbine_statusBBB         -1.789e-01  8.238e-02  -2.172 0.029862 *  \n",
       "turbine_statusBCB         -7.995e-02  7.993e-02  -1.000 0.317223    \n",
       "turbine_statusBD          -8.965e-02  8.026e-02  -1.117 0.263969    \n",
       "turbine_statusD           -1.058e-01  8.210e-02  -1.289 0.197350    \n",
       "cloud_levelLow             1.345e+00  1.633e-01   8.240  < 2e-16 ***\n",
       "cloud_levelMedium          1.411e+00  1.637e-01   8.619  < 2e-16 ***\n",
       "---\n",
       "Signif. codes:  0 '***' 0.001 '**' 0.01 '*' 0.05 '.' 0.1 ' ' 1\n",
       "\n",
       "Residual standard error: 1.763 on 13737 degrees of freedom\n",
       "Multiple R-squared:  0.578,\tAdjusted R-squared:  0.5755 \n",
       "F-statistic: 235.2 on 80 and 13737 DF,  p-value: < 2.2e-16\n"
      ]
     },
     "metadata": {},
     "output_type": "display_data"
    }
   ],
   "source": [
    "# Develop model on trainset.imputation, including selected time data\n",
    "m0 <- lm(windmill_generated_power ~ . - year, data = trainset.imputation)\n",
    "summary(m0)"
   ]
  },
  {
   "cell_type": "code",
   "execution_count": 8,
   "id": "3f5a930a",
   "metadata": {},
   "outputs": [
    {
     "name": "stdout",
     "output_type": "stream",
     "text": [
      "[1] 1.757599\n"
     ]
    },
    {
     "data": {
      "text/plain": [
       "    Min.  1st Qu.   Median     Mean  3rd Qu.     Max. \n",
       " 0.00004  0.52029  1.11093  1.35246  1.87716 13.77667 "
      ]
     },
     "metadata": {},
     "output_type": "display_data"
    }
   ],
   "source": [
    "# Residuals = Error = Actual mpg - Model Predicted mpg\n",
    "RMSE.m0.train.imputation <- sqrt(mean(residuals(m0)^2))  # RMSE on trainset based on m5 model.\n",
    "print(RMSE.m0.train.imputation)\n",
    "summary(abs(residuals(m0)))  # Check Min Abs Error and Max Abs Error."
   ]
  },
  {
   "cell_type": "code",
   "execution_count": 9,
   "id": "f1b50cc7",
   "metadata": {},
   "outputs": [
    {
     "name": "stdout",
     "output_type": "stream",
     "text": [
      "[1] 1.745235\n"
     ]
    },
    {
     "data": {
      "text/plain": [
       "    Min.  1st Qu.   Median     Mean  3rd Qu.     Max. \n",
       "0.000323 0.496531 1.073644 1.342705 1.905631 9.947762 "
      ]
     },
     "metadata": {},
     "output_type": "display_data"
    }
   ],
   "source": [
    "# Apply model from trainset to predict on testset.\n",
    "predict.m0.test.imputation <- predict(m0, newdata = testset.imputation)\n",
    "testset.imputation.error <- testset.imputation$windmill_generated_power - predict.m0.test.imputation\n",
    "\n",
    "# Testset Errors\n",
    "RMSE.m0.test.imputation <- sqrt(mean(testset.imputation.error^2))\n",
    "print(RMSE.m0.test.imputation)\n",
    "summary(abs(testset.imputation.error))"
   ]
  },
  {
   "cell_type": "code",
   "execution_count": 10,
   "id": "490de73a",
   "metadata": {},
   "outputs": [
    {
     "data": {
      "text/html": [
       "<table>\n",
       "<thead><tr><th></th><th scope=col>GVIF</th><th scope=col>Df</th><th scope=col>GVIF^(1/(2*Df))</th></tr></thead>\n",
       "<tbody>\n",
       "\t<tr><th scope=row>blade_breadth</th><td> 1.071393</td><td> 1       </td><td>1.035081 </td></tr>\n",
       "\t<tr><th scope=row>month</th><td> 3.905070</td><td>11       </td><td>1.063879 </td></tr>\n",
       "\t<tr><th scope=row>mday</th><td> 1.817169</td><td>30       </td><td>1.010004 </td></tr>\n",
       "\t<tr><th scope=row>wday</th><td> 1.291296</td><td> 6       </td><td>1.021532 </td></tr>\n",
       "\t<tr><th scope=row>hour</th><td> 1.129380</td><td> 1       </td><td>1.062723 </td></tr>\n",
       "\t<tr><th scope=row>wind_speed</th><td> 1.300991</td><td> 1       </td><td>1.140610 </td></tr>\n",
       "\t<tr><th scope=row>atmospheric_temperature</th><td> 1.025990</td><td> 1       </td><td>1.012912 </td></tr>\n",
       "\t<tr><th scope=row>shaft_temperature</th><td> 1.053324</td><td> 1       </td><td>1.026316 </td></tr>\n",
       "\t<tr><th scope=row>blades_angle</th><td> 1.106650</td><td> 1       </td><td>1.051974 </td></tr>\n",
       "\t<tr><th scope=row>gearbox_temperature</th><td> 1.025612</td><td> 1       </td><td>1.012725 </td></tr>\n",
       "\t<tr><th scope=row>engine_temperature</th><td> 1.324354</td><td> 1       </td><td>1.150806 </td></tr>\n",
       "\t<tr><th scope=row>motor_torque</th><td> 9.595635</td><td> 1       </td><td>3.097682 </td></tr>\n",
       "\t<tr><th scope=row>generator_temperature</th><td>10.968460</td><td> 1       </td><td>3.311867 </td></tr>\n",
       "\t<tr><th scope=row>atmospheric_pressure</th><td> 1.075464</td><td> 1       </td><td>1.037046 </td></tr>\n",
       "\t<tr><th scope=row>area_temperature</th><td> 2.194711</td><td> 1       </td><td>1.481456 </td></tr>\n",
       "\t<tr><th scope=row>windmill_body_temperature</th><td> 1.015874</td><td> 1       </td><td>1.007906 </td></tr>\n",
       "\t<tr><th scope=row>wind_direction</th><td> 1.302870</td><td> 1       </td><td>1.141433 </td></tr>\n",
       "\t<tr><th scope=row>resistance</th><td> 1.425822</td><td> 1       </td><td>1.194078 </td></tr>\n",
       "\t<tr><th scope=row>rotor_torque</th><td> 1.186568</td><td> 1       </td><td>1.089297 </td></tr>\n",
       "\t<tr><th scope=row>blade_length</th><td> 1.006065</td><td> 1       </td><td>1.003028 </td></tr>\n",
       "\t<tr><th scope=row>windmill_height</th><td> 1.008193</td><td> 1       </td><td>1.004088 </td></tr>\n",
       "\t<tr><th scope=row>turbine_status</th><td> 1.074222</td><td>13       </td><td>1.002758 </td></tr>\n",
       "\t<tr><th scope=row>cloud_level</th><td> 1.127939</td><td> 2       </td><td>1.030556 </td></tr>\n",
       "</tbody>\n",
       "</table>\n"
      ],
      "text/latex": [
       "\\begin{tabular}{r|lll}\n",
       "  & GVIF & Df & GVIF\\textasciicircum{}(1/(2*Df))\\\\\n",
       "\\hline\n",
       "\tblade\\_breadth &  1.071393 &  1        & 1.035081 \\\\\n",
       "\tmonth &  3.905070 & 11        & 1.063879 \\\\\n",
       "\tmday &  1.817169 & 30        & 1.010004 \\\\\n",
       "\twday &  1.291296 &  6        & 1.021532 \\\\\n",
       "\thour &  1.129380 &  1        & 1.062723 \\\\\n",
       "\twind\\_speed &  1.300991 &  1        & 1.140610 \\\\\n",
       "\tatmospheric\\_temperature &  1.025990 &  1        & 1.012912 \\\\\n",
       "\tshaft\\_temperature &  1.053324 &  1        & 1.026316 \\\\\n",
       "\tblades\\_angle &  1.106650 &  1        & 1.051974 \\\\\n",
       "\tgearbox\\_temperature &  1.025612 &  1        & 1.012725 \\\\\n",
       "\tengine\\_temperature &  1.324354 &  1        & 1.150806 \\\\\n",
       "\tmotor\\_torque &  9.595635 &  1        & 3.097682 \\\\\n",
       "\tgenerator\\_temperature & 10.968460 &  1        & 3.311867 \\\\\n",
       "\tatmospheric\\_pressure &  1.075464 &  1        & 1.037046 \\\\\n",
       "\tarea\\_temperature &  2.194711 &  1        & 1.481456 \\\\\n",
       "\twindmill\\_body\\_temperature &  1.015874 &  1        & 1.007906 \\\\\n",
       "\twind\\_direction &  1.302870 &  1        & 1.141433 \\\\\n",
       "\tresistance &  1.425822 &  1        & 1.194078 \\\\\n",
       "\trotor\\_torque &  1.186568 &  1        & 1.089297 \\\\\n",
       "\tblade\\_length &  1.006065 &  1        & 1.003028 \\\\\n",
       "\twindmill\\_height &  1.008193 &  1        & 1.004088 \\\\\n",
       "\tturbine\\_status &  1.074222 & 13        & 1.002758 \\\\\n",
       "\tcloud\\_level &  1.127939 &  2        & 1.030556 \\\\\n",
       "\\end{tabular}\n"
      ],
      "text/markdown": [
       "\n",
       "| <!--/--> | GVIF | Df | GVIF^(1/(2*Df)) |\n",
       "|---|---|---|---|\n",
       "| blade_breadth |  1.071393 |  1        | 1.035081  |\n",
       "| month |  3.905070 | 11        | 1.063879  |\n",
       "| mday |  1.817169 | 30        | 1.010004  |\n",
       "| wday |  1.291296 |  6        | 1.021532  |\n",
       "| hour |  1.129380 |  1        | 1.062723  |\n",
       "| wind_speed |  1.300991 |  1        | 1.140610  |\n",
       "| atmospheric_temperature |  1.025990 |  1        | 1.012912  |\n",
       "| shaft_temperature |  1.053324 |  1        | 1.026316  |\n",
       "| blades_angle |  1.106650 |  1        | 1.051974  |\n",
       "| gearbox_temperature |  1.025612 |  1        | 1.012725  |\n",
       "| engine_temperature |  1.324354 |  1        | 1.150806  |\n",
       "| motor_torque |  9.595635 |  1        | 3.097682  |\n",
       "| generator_temperature | 10.968460 |  1        | 3.311867  |\n",
       "| atmospheric_pressure |  1.075464 |  1        | 1.037046  |\n",
       "| area_temperature |  2.194711 |  1        | 1.481456  |\n",
       "| windmill_body_temperature |  1.015874 |  1        | 1.007906  |\n",
       "| wind_direction |  1.302870 |  1        | 1.141433  |\n",
       "| resistance |  1.425822 |  1        | 1.194078  |\n",
       "| rotor_torque |  1.186568 |  1        | 1.089297  |\n",
       "| blade_length |  1.006065 |  1        | 1.003028  |\n",
       "| windmill_height |  1.008193 |  1        | 1.004088  |\n",
       "| turbine_status |  1.074222 | 13        | 1.002758  |\n",
       "| cloud_level |  1.127939 |  2        | 1.030556  |\n",
       "\n"
      ],
      "text/plain": [
       "                          GVIF      Df GVIF^(1/(2*Df))\n",
       "blade_breadth              1.071393  1 1.035081       \n",
       "month                      3.905070 11 1.063879       \n",
       "mday                       1.817169 30 1.010004       \n",
       "wday                       1.291296  6 1.021532       \n",
       "hour                       1.129380  1 1.062723       \n",
       "wind_speed                 1.300991  1 1.140610       \n",
       "atmospheric_temperature    1.025990  1 1.012912       \n",
       "shaft_temperature          1.053324  1 1.026316       \n",
       "blades_angle               1.106650  1 1.051974       \n",
       "gearbox_temperature        1.025612  1 1.012725       \n",
       "engine_temperature         1.324354  1 1.150806       \n",
       "motor_torque               9.595635  1 3.097682       \n",
       "generator_temperature     10.968460  1 3.311867       \n",
       "atmospheric_pressure       1.075464  1 1.037046       \n",
       "area_temperature           2.194711  1 1.481456       \n",
       "windmill_body_temperature  1.015874  1 1.007906       \n",
       "wind_direction             1.302870  1 1.141433       \n",
       "resistance                 1.425822  1 1.194078       \n",
       "rotor_torque               1.186568  1 1.089297       \n",
       "blade_length               1.006065  1 1.003028       \n",
       "windmill_height            1.008193  1 1.004088       \n",
       "turbine_status             1.074222 13 1.002758       \n",
       "cloud_level                1.127939  2 1.030556       "
      ]
     },
     "metadata": {},
     "output_type": "display_data"
    }
   ],
   "source": [
    "# Check for multicollinearity\n",
    "vif(m0)"
   ]
  },
  {
   "cell_type": "markdown",
   "id": "23c8f9c4",
   "metadata": {},
   "source": [
    "### <a id=\"section2b\">LR Model 1</a>\n",
    "**trainset.imputation, no time data**"
   ]
  },
  {
   "cell_type": "code",
   "execution_count": 11,
   "id": "70b14add",
   "metadata": {},
   "outputs": [
    {
     "data": {
      "text/plain": [
       "\n",
       "Call:\n",
       "lm(formula = windmill_generated_power ~ . - year - mday - wday - \n",
       "    month - hour, data = trainset.imputation)\n",
       "\n",
       "Residuals:\n",
       "    Min      1Q  Median      3Q     Max \n",
       "-6.8555 -1.3697 -0.2158  1.1343 16.0174 \n",
       "\n",
       "Coefficients:\n",
       "                            Estimate Std. Error t value Pr(>|t|)    \n",
       "(Intercept)               -2.421e-01  2.572e-01  -0.941 0.346683    \n",
       "blade_breadth              6.588e-01  2.895e-01   2.275 0.022902 *  \n",
       "wind_speed                -3.798e-03  3.288e-04 -11.551  < 2e-16 ***\n",
       "atmospheric_temperature   -2.119e-03  3.919e-04  -5.406 6.56e-08 ***\n",
       "shaft_temperature         -1.599e-03  6.501e-04  -2.459 0.013947 *  \n",
       "blades_angle              -1.489e-04  3.755e-04  -0.397 0.691680    \n",
       "gearbox_temperature        1.322e-03  4.005e-04   3.301 0.000965 ***\n",
       "engine_temperature         3.046e-02  3.169e-03   9.614  < 2e-16 ***\n",
       "motor_torque               3.310e-03  6.231e-05  53.130  < 2e-16 ***\n",
       "generator_temperature     -9.614e-02  2.768e-03 -34.728  < 2e-16 ***\n",
       "atmospheric_pressure       8.452e-07  9.590e-08   8.813  < 2e-16 ***\n",
       "area_temperature           7.216e-02  2.673e-03  26.998  < 2e-16 ***\n",
       "windmill_body_temperature -8.052e-04  3.202e-04  -2.515 0.011912 *  \n",
       "wind_direction             5.186e-03  1.319e-04  39.318  < 2e-16 ***\n",
       "resistance                 1.288e-04  4.232e-05   3.044 0.002340 ** \n",
       "rotor_torque               4.371e-04  5.793e-04   0.754 0.450629    \n",
       "blade_length               7.523e-04  1.492e-03   0.504 0.614102    \n",
       "windmill_height            7.044e-05  2.223e-03   0.032 0.974716    \n",
       "turbine_statusA2          -4.247e-02  9.283e-02  -0.457 0.647343    \n",
       "turbine_statusAAA         -1.640e-01  8.905e-02  -1.842 0.065513 .  \n",
       "turbine_statusAB          -2.181e-02  9.154e-02  -0.238 0.811720    \n",
       "turbine_statusABC         -1.276e-01  9.315e-02  -1.370 0.170738    \n",
       "turbine_statusAC          -1.770e-01  9.210e-02  -1.922 0.054581 .  \n",
       "turbine_statusB           -2.331e-01  9.409e-02  -2.478 0.013241 *  \n",
       "turbine_statusB2          -8.709e-02  9.126e-02  -0.954 0.339954    \n",
       "turbine_statusBA          -2.416e-01  8.961e-02  -2.696 0.007032 ** \n",
       "turbine_statusBB          -7.665e-02  9.162e-02  -0.837 0.402830    \n",
       "turbine_statusBBB         -2.409e-01  9.423e-02  -2.556 0.010591 *  \n",
       "turbine_statusBCB         -1.410e-01  9.135e-02  -1.543 0.122810    \n",
       "turbine_statusBD          -1.757e-01  9.175e-02  -1.915 0.055572 .  \n",
       "turbine_statusD           -1.298e-01  9.391e-02  -1.382 0.166959    \n",
       "cloud_levelLow             1.620e+00  1.862e-01   8.703  < 2e-16 ***\n",
       "cloud_levelMedium          1.715e+00  1.866e-01   9.188  < 2e-16 ***\n",
       "---\n",
       "Signif. codes:  0 '***' 0.001 '**' 0.01 '*' 0.05 '.' 0.1 ' ' 1\n",
       "\n",
       "Residual standard error: 2.02 on 13785 degrees of freedom\n",
       "Multiple R-squared:  0.4441,\tAdjusted R-squared:  0.4428 \n",
       "F-statistic: 344.1 on 32 and 13785 DF,  p-value: < 2.2e-16\n"
      ]
     },
     "metadata": {},
     "output_type": "display_data"
    }
   ],
   "source": [
    "# Develop model on trainset.imputation, excluding time data\n",
    "m1 <- lm(windmill_generated_power ~ . - year - mday - wday - month - hour, data = trainset.imputation)\n",
    "summary(m1)"
   ]
  },
  {
   "cell_type": "code",
   "execution_count": 12,
   "id": "dade44e2",
   "metadata": {},
   "outputs": [
    {
     "name": "stdout",
     "output_type": "stream",
     "text": [
      "[1] 2.017218\n"
     ]
    },
    {
     "data": {
      "text/plain": [
       "     Min.   1st Qu.    Median      Mean   3rd Qu.      Max. \n",
       " 0.000119  0.587901  1.270727  1.551903  2.185962 16.017448 "
      ]
     },
     "metadata": {},
     "output_type": "display_data"
    }
   ],
   "source": [
    "# Residuals = Error = Actual mpg - Model Predicted mpg\n",
    "RMSE.m1.train.imputation <- sqrt(mean(residuals(m1)^2))  # RMSE on trainset based on m5 model.\n",
    "print(RMSE.m1.train.imputation)\n",
    "summary(abs(residuals(m1)))  # Check Min Abs Error and Max Abs Error."
   ]
  },
  {
   "cell_type": "code",
   "execution_count": 13,
   "id": "e45cc81e",
   "metadata": {},
   "outputs": [
    {
     "name": "stdout",
     "output_type": "stream",
     "text": [
      "[1] 1.993386\n"
     ]
    },
    {
     "data": {
      "text/plain": [
       "     Min.   1st Qu.    Median      Mean   3rd Qu.      Max. \n",
       " 0.000025  0.589467  1.258778  1.540312  2.201629 11.495299 "
      ]
     },
     "metadata": {},
     "output_type": "display_data"
    }
   ],
   "source": [
    "# Apply model from trainset to predict on testset.\n",
    "predict.m1.test.imputation <- predict(m1, newdata = testset.imputation)\n",
    "testset.imputation.error <- testset.imputation$windmill_generated_power - predict.m1.test.imputation\n",
    "\n",
    "# Testset Errors\n",
    "RMSE.m1.test.imputation <- sqrt(mean(testset.imputation.error^2))\n",
    "print(RMSE.m1.test.imputation)\n",
    "summary(abs(testset.imputation.error))"
   ]
  },
  {
   "cell_type": "code",
   "execution_count": 14,
   "id": "b1b43f78",
   "metadata": {},
   "outputs": [
    {
     "data": {
      "text/html": [
       "<table>\n",
       "<thead><tr><th></th><th scope=col>GVIF</th><th scope=col>Df</th><th scope=col>GVIF^(1/(2*Df))</th></tr></thead>\n",
       "<tbody>\n",
       "\t<tr><th scope=row>blade_breadth</th><td> 1.068155</td><td> 1       </td><td>1.033516 </td></tr>\n",
       "\t<tr><th scope=row>wind_speed</th><td> 1.290777</td><td> 1       </td><td>1.136124 </td></tr>\n",
       "\t<tr><th scope=row>atmospheric_temperature</th><td> 1.019871</td><td> 1       </td><td>1.009886 </td></tr>\n",
       "\t<tr><th scope=row>shaft_temperature</th><td> 1.048959</td><td> 1       </td><td>1.024187 </td></tr>\n",
       "\t<tr><th scope=row>blades_angle</th><td> 1.098709</td><td> 1       </td><td>1.048193 </td></tr>\n",
       "\t<tr><th scope=row>gearbox_temperature</th><td> 1.022946</td><td> 1       </td><td>1.011408 </td></tr>\n",
       "\t<tr><th scope=row>engine_temperature</th><td> 1.276638</td><td> 1       </td><td>1.129884 </td></tr>\n",
       "\t<tr><th scope=row>motor_torque</th><td> 9.019779</td><td> 1       </td><td>3.003295 </td></tr>\n",
       "\t<tr><th scope=row>generator_temperature</th><td>10.225088</td><td> 1       </td><td>3.197669 </td></tr>\n",
       "\t<tr><th scope=row>atmospheric_pressure</th><td> 1.068788</td><td> 1       </td><td>1.033822 </td></tr>\n",
       "\t<tr><th scope=row>area_temperature</th><td> 1.444518</td><td> 1       </td><td>1.201881 </td></tr>\n",
       "\t<tr><th scope=row>windmill_body_temperature</th><td> 1.012754</td><td> 1       </td><td>1.006357 </td></tr>\n",
       "\t<tr><th scope=row>wind_direction</th><td> 1.079996</td><td> 1       </td><td>1.039229 </td></tr>\n",
       "\t<tr><th scope=row>resistance</th><td> 1.419520</td><td> 1       </td><td>1.191436 </td></tr>\n",
       "\t<tr><th scope=row>rotor_torque</th><td> 1.184156</td><td> 1       </td><td>1.088189 </td></tr>\n",
       "\t<tr><th scope=row>blade_length</th><td> 1.002406</td><td> 1       </td><td>1.001202 </td></tr>\n",
       "\t<tr><th scope=row>windmill_height</th><td> 1.004916</td><td> 1       </td><td>1.002455 </td></tr>\n",
       "\t<tr><th scope=row>turbine_status</th><td> 1.022599</td><td>13       </td><td>1.000860 </td></tr>\n",
       "\t<tr><th scope=row>cloud_level</th><td> 1.112577</td><td> 2       </td><td>1.027028 </td></tr>\n",
       "</tbody>\n",
       "</table>\n"
      ],
      "text/latex": [
       "\\begin{tabular}{r|lll}\n",
       "  & GVIF & Df & GVIF\\textasciicircum{}(1/(2*Df))\\\\\n",
       "\\hline\n",
       "\tblade\\_breadth &  1.068155 &  1        & 1.033516 \\\\\n",
       "\twind\\_speed &  1.290777 &  1        & 1.136124 \\\\\n",
       "\tatmospheric\\_temperature &  1.019871 &  1        & 1.009886 \\\\\n",
       "\tshaft\\_temperature &  1.048959 &  1        & 1.024187 \\\\\n",
       "\tblades\\_angle &  1.098709 &  1        & 1.048193 \\\\\n",
       "\tgearbox\\_temperature &  1.022946 &  1        & 1.011408 \\\\\n",
       "\tengine\\_temperature &  1.276638 &  1        & 1.129884 \\\\\n",
       "\tmotor\\_torque &  9.019779 &  1        & 3.003295 \\\\\n",
       "\tgenerator\\_temperature & 10.225088 &  1        & 3.197669 \\\\\n",
       "\tatmospheric\\_pressure &  1.068788 &  1        & 1.033822 \\\\\n",
       "\tarea\\_temperature &  1.444518 &  1        & 1.201881 \\\\\n",
       "\twindmill\\_body\\_temperature &  1.012754 &  1        & 1.006357 \\\\\n",
       "\twind\\_direction &  1.079996 &  1        & 1.039229 \\\\\n",
       "\tresistance &  1.419520 &  1        & 1.191436 \\\\\n",
       "\trotor\\_torque &  1.184156 &  1        & 1.088189 \\\\\n",
       "\tblade\\_length &  1.002406 &  1        & 1.001202 \\\\\n",
       "\twindmill\\_height &  1.004916 &  1        & 1.002455 \\\\\n",
       "\tturbine\\_status &  1.022599 & 13        & 1.000860 \\\\\n",
       "\tcloud\\_level &  1.112577 &  2        & 1.027028 \\\\\n",
       "\\end{tabular}\n"
      ],
      "text/markdown": [
       "\n",
       "| <!--/--> | GVIF | Df | GVIF^(1/(2*Df)) |\n",
       "|---|---|---|---|\n",
       "| blade_breadth |  1.068155 |  1        | 1.033516  |\n",
       "| wind_speed |  1.290777 |  1        | 1.136124  |\n",
       "| atmospheric_temperature |  1.019871 |  1        | 1.009886  |\n",
       "| shaft_temperature |  1.048959 |  1        | 1.024187  |\n",
       "| blades_angle |  1.098709 |  1        | 1.048193  |\n",
       "| gearbox_temperature |  1.022946 |  1        | 1.011408  |\n",
       "| engine_temperature |  1.276638 |  1        | 1.129884  |\n",
       "| motor_torque |  9.019779 |  1        | 3.003295  |\n",
       "| generator_temperature | 10.225088 |  1        | 3.197669  |\n",
       "| atmospheric_pressure |  1.068788 |  1        | 1.033822  |\n",
       "| area_temperature |  1.444518 |  1        | 1.201881  |\n",
       "| windmill_body_temperature |  1.012754 |  1        | 1.006357  |\n",
       "| wind_direction |  1.079996 |  1        | 1.039229  |\n",
       "| resistance |  1.419520 |  1        | 1.191436  |\n",
       "| rotor_torque |  1.184156 |  1        | 1.088189  |\n",
       "| blade_length |  1.002406 |  1        | 1.001202  |\n",
       "| windmill_height |  1.004916 |  1        | 1.002455  |\n",
       "| turbine_status |  1.022599 | 13        | 1.000860  |\n",
       "| cloud_level |  1.112577 |  2        | 1.027028  |\n",
       "\n"
      ],
      "text/plain": [
       "                          GVIF      Df GVIF^(1/(2*Df))\n",
       "blade_breadth              1.068155  1 1.033516       \n",
       "wind_speed                 1.290777  1 1.136124       \n",
       "atmospheric_temperature    1.019871  1 1.009886       \n",
       "shaft_temperature          1.048959  1 1.024187       \n",
       "blades_angle               1.098709  1 1.048193       \n",
       "gearbox_temperature        1.022946  1 1.011408       \n",
       "engine_temperature         1.276638  1 1.129884       \n",
       "motor_torque               9.019779  1 3.003295       \n",
       "generator_temperature     10.225088  1 3.197669       \n",
       "atmospheric_pressure       1.068788  1 1.033822       \n",
       "area_temperature           1.444518  1 1.201881       \n",
       "windmill_body_temperature  1.012754  1 1.006357       \n",
       "wind_direction             1.079996  1 1.039229       \n",
       "resistance                 1.419520  1 1.191436       \n",
       "rotor_torque               1.184156  1 1.088189       \n",
       "blade_length               1.002406  1 1.001202       \n",
       "windmill_height            1.004916  1 1.002455       \n",
       "turbine_status             1.022599 13 1.000860       \n",
       "cloud_level                1.112577  2 1.027028       "
      ]
     },
     "metadata": {},
     "output_type": "display_data"
    }
   ],
   "source": [
    "# Check for multicollinearity\n",
    "vif(m1)"
   ]
  },
  {
   "cell_type": "markdown",
   "id": "9564ddfe",
   "metadata": {},
   "source": [
    "### <a id=\"section2c\">LR Model 2</a>\n",
    "**trainset.imputation, no time data, turbine_status & high VIF removed (motor_torque, generator_temperature)**"
   ]
  },
  {
   "cell_type": "code",
   "execution_count": 15,
   "id": "03c9a562",
   "metadata": {},
   "outputs": [
    {
     "data": {
      "text/plain": [
       "\n",
       "Call:\n",
       "lm(formula = windmill_generated_power ~ . - year - mday - wday - \n",
       "    month - hour - motor_torque - generator_temperature, data = trainset.imputation)\n",
       "\n",
       "Residuals:\n",
       "    Min      1Q  Median      3Q     Max \n",
       "-7.6686 -1.6016  0.0151  1.4458 15.1802 \n",
       "\n",
       "Coefficients:\n",
       "                            Estimate Std. Error t value Pr(>|t|)    \n",
       "(Intercept)               -5.156e+00  2.699e-01 -19.107  < 2e-16 ***\n",
       "blade_breadth              1.540e+00  3.228e-01   4.772 1.84e-06 ***\n",
       "wind_speed                -2.587e-03  3.425e-04  -7.553 4.51e-14 ***\n",
       "atmospheric_temperature   -2.419e-03  4.362e-04  -5.545 2.99e-08 ***\n",
       "shaft_temperature         -1.560e-03  7.259e-04  -2.149  0.03167 *  \n",
       "blades_angle              -5.142e-03  4.055e-04 -12.683  < 2e-16 ***\n",
       "gearbox_temperature        1.144e-03  4.471e-04   2.558  0.01054 *  \n",
       "engine_temperature         4.897e-02  3.489e-03  14.037  < 2e-16 ***\n",
       "atmospheric_pressure       5.283e-07  1.053e-07   5.015 5.37e-07 ***\n",
       "area_temperature           8.449e-02  2.793e-03  30.253  < 2e-16 ***\n",
       "windmill_body_temperature -1.148e-03  3.574e-04  -3.212  0.00132 ** \n",
       "wind_direction             5.731e-03  1.461e-04  39.223  < 2e-16 ***\n",
       "resistance                 6.305e-04  4.298e-05  14.671  < 2e-16 ***\n",
       "rotor_torque               7.793e-03  6.207e-04  12.556  < 2e-16 ***\n",
       "blade_length               7.159e-04  1.666e-03   0.430  0.66734    \n",
       "windmill_height            9.380e-04  2.481e-03   0.378  0.70544    \n",
       "turbine_statusA2           2.971e-03  1.036e-01   0.029  0.97713    \n",
       "turbine_statusAAA         -1.506e-01  9.942e-02  -1.515  0.12986    \n",
       "turbine_statusAB          -4.346e-02  1.022e-01  -0.425  0.67068    \n",
       "turbine_statusABC         -8.241e-02  1.040e-01  -0.792  0.42816    \n",
       "turbine_statusAC          -1.356e-01  1.028e-01  -1.319  0.18715    \n",
       "turbine_statusB           -3.122e-01  1.050e-01  -2.972  0.00296 ** \n",
       "turbine_statusB2          -8.439e-02  1.019e-01  -0.828  0.40750    \n",
       "turbine_statusBA          -2.314e-01  1.000e-01  -2.313  0.02074 *  \n",
       "turbine_statusBB          -8.377e-02  1.023e-01  -0.819  0.41276    \n",
       "turbine_statusBBB         -1.946e-01  1.052e-01  -1.850  0.06438 .  \n",
       "turbine_statusBCB         -1.633e-01  1.020e-01  -1.601  0.10937    \n",
       "turbine_statusBD          -1.774e-01  1.024e-01  -1.732  0.08331 .  \n",
       "turbine_statusD           -1.411e-01  1.048e-01  -1.346  0.17837    \n",
       "cloud_levelLow             3.098e+00  2.055e-01  15.073  < 2e-16 ***\n",
       "cloud_levelMedium          3.222e+00  2.059e-01  15.644  < 2e-16 ***\n",
       "---\n",
       "Signif. codes:  0 '***' 0.001 '**' 0.01 '*' 0.05 '.' 0.1 ' ' 1\n",
       "\n",
       "Residual standard error: 2.255 on 13787 degrees of freedom\n",
       "Multiple R-squared:  0.3069,\tAdjusted R-squared:  0.3054 \n",
       "F-statistic: 203.5 on 30 and 13787 DF,  p-value: < 2.2e-16\n"
      ]
     },
     "metadata": {},
     "output_type": "display_data"
    }
   ],
   "source": [
    "# Develop model on trainset.imputation, excluding time data and factors with high VIF\n",
    "# high VIF: motor_torque, generator_temperature\n",
    "m2 <- lm(windmill_generated_power ~ . \n",
    "         - year \n",
    "         - mday \n",
    "         - wday \n",
    "         - month \n",
    "         - hour \n",
    "         - motor_torque \n",
    "         - generator_temperature, data = trainset.imputation)\n",
    "summary(m2)"
   ]
  },
  {
   "cell_type": "code",
   "execution_count": 16,
   "id": "4d799605",
   "metadata": {},
   "outputs": [
    {
     "name": "stdout",
     "output_type": "stream",
     "text": [
      "[1] 2.252434\n"
     ]
    },
    {
     "data": {
      "text/plain": [
       "     Min.   1st Qu.    Median      Mean   3rd Qu.      Max. \n",
       " 0.000348  0.725964  1.522702  1.780580  2.498034 15.180239 "
      ]
     },
     "metadata": {},
     "output_type": "display_data"
    }
   ],
   "source": [
    "# Residuals = Error = Actual mpg - Model Predicted mpg\n",
    "RMSE.m2.train.imputation <- sqrt(mean(residuals(m2)^2))  # RMSE on trainset based on m5 model.\n",
    "print(RMSE.m2.train.imputation)\n",
    "summary(abs(residuals(m2)))  # Check Min Abs Error and Max Abs Error."
   ]
  },
  {
   "cell_type": "code",
   "execution_count": 17,
   "id": "21598c24",
   "metadata": {},
   "outputs": [
    {
     "name": "stdout",
     "output_type": "stream",
     "text": [
      "[1] 2.225206\n"
     ]
    },
    {
     "data": {
      "text/plain": [
       "     Min.   1st Qu.    Median      Mean   3rd Qu.      Max. \n",
       " 0.000328  0.715462  1.491257  1.762371  2.497867 10.858205 "
      ]
     },
     "metadata": {},
     "output_type": "display_data"
    }
   ],
   "source": [
    "# Apply model from trainset to predict on testset.\n",
    "predict.m2.test.imputation <- predict(m2, newdata = testset.imputation)\n",
    "testset.imputation.error <- testset.imputation$windmill_generated_power - predict.m2.test.imputation\n",
    "\n",
    "# Testset Errors\n",
    "RMSE.m2.test.imputation <- sqrt(mean(testset.imputation.error^2))\n",
    "print(RMSE.m2.test.imputation)\n",
    "summary(abs(testset.imputation.error))"
   ]
  },
  {
   "cell_type": "code",
   "execution_count": 18,
   "id": "7bd43e7d",
   "metadata": {},
   "outputs": [
    {
     "data": {
      "text/html": [
       "<table>\n",
       "<thead><tr><th></th><th scope=col>GVIF</th><th scope=col>Df</th><th scope=col>GVIF^(1/(2*Df))</th></tr></thead>\n",
       "<tbody>\n",
       "\t<tr><th scope=row>blade_breadth</th><td>1.065066</td><td> 1      </td><td>1.032020</td></tr>\n",
       "\t<tr><th scope=row>wind_speed</th><td>1.123981</td><td> 1      </td><td>1.060180</td></tr>\n",
       "\t<tr><th scope=row>atmospheric_temperature</th><td>1.013622</td><td> 1      </td><td>1.006788</td></tr>\n",
       "\t<tr><th scope=row>shaft_temperature</th><td>1.048947</td><td> 1      </td><td>1.024181</td></tr>\n",
       "\t<tr><th scope=row>blades_angle</th><td>1.027386</td><td> 1      </td><td>1.013601</td></tr>\n",
       "\t<tr><th scope=row>gearbox_temperature</th><td>1.022579</td><td> 1      </td><td>1.011226</td></tr>\n",
       "\t<tr><th scope=row>engine_temperature</th><td>1.241284</td><td> 1      </td><td>1.114129</td></tr>\n",
       "\t<tr><th scope=row>atmospheric_pressure</th><td>1.034468</td><td> 1      </td><td>1.017088</td></tr>\n",
       "\t<tr><th scope=row>area_temperature</th><td>1.265400</td><td> 1      </td><td>1.124900</td></tr>\n",
       "\t<tr><th scope=row>windmill_body_temperature</th><td>1.012411</td><td> 1      </td><td>1.006186</td></tr>\n",
       "\t<tr><th scope=row>wind_direction</th><td>1.063109</td><td> 1      </td><td>1.031072</td></tr>\n",
       "\t<tr><th scope=row>resistance</th><td>1.174670</td><td> 1      </td><td>1.083822</td></tr>\n",
       "\t<tr><th scope=row>rotor_torque</th><td>1.090189</td><td> 1      </td><td>1.044121</td></tr>\n",
       "\t<tr><th scope=row>blade_length</th><td>1.002264</td><td> 1      </td><td>1.001131</td></tr>\n",
       "\t<tr><th scope=row>windmill_height</th><td>1.004868</td><td> 1      </td><td>1.002431</td></tr>\n",
       "\t<tr><th scope=row>turbine_status</th><td>1.019499</td><td>13      </td><td>1.000743</td></tr>\n",
       "\t<tr><th scope=row>cloud_level</th><td>1.086684</td><td> 2      </td><td>1.021000</td></tr>\n",
       "</tbody>\n",
       "</table>\n"
      ],
      "text/latex": [
       "\\begin{tabular}{r|lll}\n",
       "  & GVIF & Df & GVIF\\textasciicircum{}(1/(2*Df))\\\\\n",
       "\\hline\n",
       "\tblade\\_breadth & 1.065066 &  1       & 1.032020\\\\\n",
       "\twind\\_speed & 1.123981 &  1       & 1.060180\\\\\n",
       "\tatmospheric\\_temperature & 1.013622 &  1       & 1.006788\\\\\n",
       "\tshaft\\_temperature & 1.048947 &  1       & 1.024181\\\\\n",
       "\tblades\\_angle & 1.027386 &  1       & 1.013601\\\\\n",
       "\tgearbox\\_temperature & 1.022579 &  1       & 1.011226\\\\\n",
       "\tengine\\_temperature & 1.241284 &  1       & 1.114129\\\\\n",
       "\tatmospheric\\_pressure & 1.034468 &  1       & 1.017088\\\\\n",
       "\tarea\\_temperature & 1.265400 &  1       & 1.124900\\\\\n",
       "\twindmill\\_body\\_temperature & 1.012411 &  1       & 1.006186\\\\\n",
       "\twind\\_direction & 1.063109 &  1       & 1.031072\\\\\n",
       "\tresistance & 1.174670 &  1       & 1.083822\\\\\n",
       "\trotor\\_torque & 1.090189 &  1       & 1.044121\\\\\n",
       "\tblade\\_length & 1.002264 &  1       & 1.001131\\\\\n",
       "\twindmill\\_height & 1.004868 &  1       & 1.002431\\\\\n",
       "\tturbine\\_status & 1.019499 & 13       & 1.000743\\\\\n",
       "\tcloud\\_level & 1.086684 &  2       & 1.021000\\\\\n",
       "\\end{tabular}\n"
      ],
      "text/markdown": [
       "\n",
       "| <!--/--> | GVIF | Df | GVIF^(1/(2*Df)) |\n",
       "|---|---|---|---|\n",
       "| blade_breadth | 1.065066 |  1       | 1.032020 |\n",
       "| wind_speed | 1.123981 |  1       | 1.060180 |\n",
       "| atmospheric_temperature | 1.013622 |  1       | 1.006788 |\n",
       "| shaft_temperature | 1.048947 |  1       | 1.024181 |\n",
       "| blades_angle | 1.027386 |  1       | 1.013601 |\n",
       "| gearbox_temperature | 1.022579 |  1       | 1.011226 |\n",
       "| engine_temperature | 1.241284 |  1       | 1.114129 |\n",
       "| atmospheric_pressure | 1.034468 |  1       | 1.017088 |\n",
       "| area_temperature | 1.265400 |  1       | 1.124900 |\n",
       "| windmill_body_temperature | 1.012411 |  1       | 1.006186 |\n",
       "| wind_direction | 1.063109 |  1       | 1.031072 |\n",
       "| resistance | 1.174670 |  1       | 1.083822 |\n",
       "| rotor_torque | 1.090189 |  1       | 1.044121 |\n",
       "| blade_length | 1.002264 |  1       | 1.001131 |\n",
       "| windmill_height | 1.004868 |  1       | 1.002431 |\n",
       "| turbine_status | 1.019499 | 13       | 1.000743 |\n",
       "| cloud_level | 1.086684 |  2       | 1.021000 |\n",
       "\n"
      ],
      "text/plain": [
       "                          GVIF     Df GVIF^(1/(2*Df))\n",
       "blade_breadth             1.065066  1 1.032020       \n",
       "wind_speed                1.123981  1 1.060180       \n",
       "atmospheric_temperature   1.013622  1 1.006788       \n",
       "shaft_temperature         1.048947  1 1.024181       \n",
       "blades_angle              1.027386  1 1.013601       \n",
       "gearbox_temperature       1.022579  1 1.011226       \n",
       "engine_temperature        1.241284  1 1.114129       \n",
       "atmospheric_pressure      1.034468  1 1.017088       \n",
       "area_temperature          1.265400  1 1.124900       \n",
       "windmill_body_temperature 1.012411  1 1.006186       \n",
       "wind_direction            1.063109  1 1.031072       \n",
       "resistance                1.174670  1 1.083822       \n",
       "rotor_torque              1.090189  1 1.044121       \n",
       "blade_length              1.002264  1 1.001131       \n",
       "windmill_height           1.004868  1 1.002431       \n",
       "turbine_status            1.019499 13 1.000743       \n",
       "cloud_level               1.086684  2 1.021000       "
      ]
     },
     "metadata": {},
     "output_type": "display_data"
    }
   ],
   "source": [
    "# Check for multicollinearity\n",
    "vif(m2)"
   ]
  },
  {
   "cell_type": "markdown",
   "id": "1aed90f9",
   "metadata": {},
   "source": [
    "### <a id=\"section2d\">LR Model 2P</a>\n",
    "**Model 2 + high p-value factors removed (turbine_status, shaft_temperature, gearbox_temperature, blade_length, windmill_height)**"
   ]
  },
  {
   "cell_type": "code",
   "execution_count": 19,
   "id": "e8ac4a85",
   "metadata": {},
   "outputs": [
    {
     "data": {
      "text/plain": [
       "\n",
       "Call:\n",
       "lm(formula = windmill_generated_power ~ . - year - mday - wday - \n",
       "    month - hour - motor_torque - generator_temperature - turbine_status - \n",
       "    shaft_temperature - gearbox_temperature - blade_length - \n",
       "    windmill_height, data = trainset.imputation)\n",
       "\n",
       "Residuals:\n",
       "    Min      1Q  Median      3Q     Max \n",
       "-7.6073 -1.6000  0.0046  1.4512 15.1822 \n",
       "\n",
       "Coefficients:\n",
       "                            Estimate Std. Error t value Pr(>|t|)    \n",
       "(Intercept)               -5.257e+00  2.545e-01 -20.653  < 2e-16 ***\n",
       "blade_breadth              1.562e+00  3.227e-01   4.841 1.31e-06 ***\n",
       "wind_speed                -2.580e-03  3.426e-04  -7.530 5.37e-14 ***\n",
       "atmospheric_temperature   -2.406e-03  4.362e-04  -5.517 3.50e-08 ***\n",
       "blades_angle              -5.171e-03  4.053e-04 -12.759  < 2e-16 ***\n",
       "engine_temperature         4.853e-02  3.398e-03  14.280  < 2e-16 ***\n",
       "atmospheric_pressure       5.292e-07  1.053e-07   5.024 5.13e-07 ***\n",
       "area_temperature           8.447e-02  2.793e-03  30.246  < 2e-16 ***\n",
       "windmill_body_temperature -1.143e-03  3.573e-04  -3.198  0.00139 ** \n",
       "wind_direction             5.733e-03  1.461e-04  39.247  < 2e-16 ***\n",
       "resistance                 6.304e-04  4.296e-05  14.674  < 2e-16 ***\n",
       "rotor_torque               7.775e-03  6.205e-04  12.529  < 2e-16 ***\n",
       "cloud_levelLow             3.090e+00  2.053e-01  15.051  < 2e-16 ***\n",
       "cloud_levelMedium          3.214e+00  2.057e-01  15.623  < 2e-16 ***\n",
       "---\n",
       "Signif. codes:  0 '***' 0.001 '**' 0.01 '*' 0.05 '.' 0.1 ' ' 1\n",
       "\n",
       "Residual standard error: 2.256 on 13804 degrees of freedom\n",
       "Multiple R-squared:  0.3054,\tAdjusted R-squared:  0.3047 \n",
       "F-statistic: 466.8 on 13 and 13804 DF,  p-value: < 2.2e-16\n"
      ]
     },
     "metadata": {},
     "output_type": "display_data"
    }
   ],
   "source": [
    "# Develop model on m2, excluding high p-value factors\n",
    "# high p-value: shaft_temperature, gearbox_temperature, blade_length, windmill_height\n",
    "m2p <- lm(windmill_generated_power ~ . \n",
    "         - year \n",
    "         - mday \n",
    "         - wday \n",
    "         - month \n",
    "         - hour \n",
    "         - motor_torque \n",
    "         - generator_temperature\n",
    "         - turbine_status\n",
    "         - shaft_temperature\n",
    "         - gearbox_temperature\n",
    "         - blade_length\n",
    "         - windmill_height, data = trainset.imputation)\n",
    "summary(m2p)"
   ]
  },
  {
   "cell_type": "code",
   "execution_count": 20,
   "id": "591559fb",
   "metadata": {},
   "outputs": [
    {
     "name": "stdout",
     "output_type": "stream",
     "text": [
      "[1] 2.254904\n"
     ]
    },
    {
     "data": {
      "text/plain": [
       "    Min.  1st Qu.   Median     Mean  3rd Qu.     Max. \n",
       " 0.00004  0.73087  1.52327  1.78287  2.50643 15.18221 "
      ]
     },
     "metadata": {},
     "output_type": "display_data"
    }
   ],
   "source": [
    "# Residuals = Error = Actual mpg - Model Predicted mpg\n",
    "RMSE.m2p.train.imputation <- sqrt(mean(residuals(m2p)^2))  # RMSE on trainset based on m5 model.\n",
    "print(RMSE.m2p.train.imputation)\n",
    "summary(abs(residuals(m2p)))  # Check Min Abs Error and Max Abs Error."
   ]
  },
  {
   "cell_type": "code",
   "execution_count": 21,
   "id": "ad6baf9c",
   "metadata": {},
   "outputs": [
    {
     "name": "stdout",
     "output_type": "stream",
     "text": [
      "[1] 2.224104\n"
     ]
    },
    {
     "data": {
      "text/plain": [
       "     Min.   1st Qu.    Median      Mean   3rd Qu.      Max. \n",
       " 0.000763  0.719582  1.490907  1.760613  2.496258 10.782528 "
      ]
     },
     "metadata": {},
     "output_type": "display_data"
    }
   ],
   "source": [
    "# Apply model from trainset to predict on testset.\n",
    "predict.m2p.test.imputation <- predict(m2p, newdata = testset.imputation)\n",
    "testset.imputation.error <- testset.imputation$windmill_generated_power - predict.m2p.test.imputation\n",
    "\n",
    "# Testset Errors\n",
    "RMSE.m2p.test.imputation <- sqrt(mean(testset.imputation.error^2))\n",
    "print(RMSE.m2p.test.imputation)\n",
    "summary(abs(testset.imputation.error))"
   ]
  },
  {
   "cell_type": "code",
   "execution_count": 22,
   "id": "a0c4d7a6",
   "metadata": {},
   "outputs": [
    {
     "data": {
      "text/html": [
       "<table>\n",
       "<thead><tr><th></th><th scope=col>GVIF</th><th scope=col>Df</th><th scope=col>GVIF^(1/(2*Df))</th></tr></thead>\n",
       "<tbody>\n",
       "\t<tr><th scope=row>blade_breadth</th><td>1.063516</td><td>1       </td><td>1.031269</td></tr>\n",
       "\t<tr><th scope=row>wind_speed</th><td>1.123131</td><td>1       </td><td>1.059779</td></tr>\n",
       "\t<tr><th scope=row>atmospheric_temperature</th><td>1.012322</td><td>1       </td><td>1.006142</td></tr>\n",
       "\t<tr><th scope=row>blades_angle</th><td>1.025697</td><td>1       </td><td>1.012767</td></tr>\n",
       "\t<tr><th scope=row>engine_temperature</th><td>1.176767</td><td>1       </td><td>1.084789</td></tr>\n",
       "\t<tr><th scope=row>atmospheric_pressure</th><td>1.033578</td><td>1       </td><td>1.016650</td></tr>\n",
       "\t<tr><th scope=row>area_temperature</th><td>1.264031</td><td>1       </td><td>1.124291</td></tr>\n",
       "\t<tr><th scope=row>windmill_body_temperature</th><td>1.010800</td><td>1       </td><td>1.005385</td></tr>\n",
       "\t<tr><th scope=row>wind_direction</th><td>1.061588</td><td>1       </td><td>1.030334</td></tr>\n",
       "\t<tr><th scope=row>resistance</th><td>1.172322</td><td>1       </td><td>1.082738</td></tr>\n",
       "\t<tr><th scope=row>rotor_torque</th><td>1.088729</td><td>1       </td><td>1.043422</td></tr>\n",
       "\t<tr><th scope=row>cloud_level</th><td>1.077732</td><td>2       </td><td>1.018891</td></tr>\n",
       "</tbody>\n",
       "</table>\n"
      ],
      "text/latex": [
       "\\begin{tabular}{r|lll}\n",
       "  & GVIF & Df & GVIF\\textasciicircum{}(1/(2*Df))\\\\\n",
       "\\hline\n",
       "\tblade\\_breadth & 1.063516 & 1        & 1.031269\\\\\n",
       "\twind\\_speed & 1.123131 & 1        & 1.059779\\\\\n",
       "\tatmospheric\\_temperature & 1.012322 & 1        & 1.006142\\\\\n",
       "\tblades\\_angle & 1.025697 & 1        & 1.012767\\\\\n",
       "\tengine\\_temperature & 1.176767 & 1        & 1.084789\\\\\n",
       "\tatmospheric\\_pressure & 1.033578 & 1        & 1.016650\\\\\n",
       "\tarea\\_temperature & 1.264031 & 1        & 1.124291\\\\\n",
       "\twindmill\\_body\\_temperature & 1.010800 & 1        & 1.005385\\\\\n",
       "\twind\\_direction & 1.061588 & 1        & 1.030334\\\\\n",
       "\tresistance & 1.172322 & 1        & 1.082738\\\\\n",
       "\trotor\\_torque & 1.088729 & 1        & 1.043422\\\\\n",
       "\tcloud\\_level & 1.077732 & 2        & 1.018891\\\\\n",
       "\\end{tabular}\n"
      ],
      "text/markdown": [
       "\n",
       "| <!--/--> | GVIF | Df | GVIF^(1/(2*Df)) |\n",
       "|---|---|---|---|\n",
       "| blade_breadth | 1.063516 | 1        | 1.031269 |\n",
       "| wind_speed | 1.123131 | 1        | 1.059779 |\n",
       "| atmospheric_temperature | 1.012322 | 1        | 1.006142 |\n",
       "| blades_angle | 1.025697 | 1        | 1.012767 |\n",
       "| engine_temperature | 1.176767 | 1        | 1.084789 |\n",
       "| atmospheric_pressure | 1.033578 | 1        | 1.016650 |\n",
       "| area_temperature | 1.264031 | 1        | 1.124291 |\n",
       "| windmill_body_temperature | 1.010800 | 1        | 1.005385 |\n",
       "| wind_direction | 1.061588 | 1        | 1.030334 |\n",
       "| resistance | 1.172322 | 1        | 1.082738 |\n",
       "| rotor_torque | 1.088729 | 1        | 1.043422 |\n",
       "| cloud_level | 1.077732 | 2        | 1.018891 |\n",
       "\n"
      ],
      "text/plain": [
       "                          GVIF     Df GVIF^(1/(2*Df))\n",
       "blade_breadth             1.063516 1  1.031269       \n",
       "wind_speed                1.123131 1  1.059779       \n",
       "atmospheric_temperature   1.012322 1  1.006142       \n",
       "blades_angle              1.025697 1  1.012767       \n",
       "engine_temperature        1.176767 1  1.084789       \n",
       "atmospheric_pressure      1.033578 1  1.016650       \n",
       "area_temperature          1.264031 1  1.124291       \n",
       "windmill_body_temperature 1.010800 1  1.005385       \n",
       "wind_direction            1.061588 1  1.030334       \n",
       "resistance                1.172322 1  1.082738       \n",
       "rotor_torque              1.088729 1  1.043422       \n",
       "cloud_level               1.077732 2  1.018891       "
      ]
     },
     "metadata": {},
     "output_type": "display_data"
    }
   ],
   "source": [
    "# Check for multicollinearity\n",
    "vif(m2p)"
   ]
  },
  {
   "cell_type": "markdown",
   "id": "7d685b9b",
   "metadata": {},
   "source": [
    "### <a id=\"section2e\">LR Model 3</a>\n",
    "**Model 2P + manual removal of inputs that can only be observed**"
   ]
  },
  {
   "cell_type": "code",
   "execution_count": 23,
   "id": "95b78640",
   "metadata": {},
   "outputs": [
    {
     "data": {
      "text/plain": [
       "\n",
       "Call:\n",
       "lm(formula = windmill_generated_power ~ . - year - mday - wday - \n",
       "    month - hour - motor_torque - generator_temperature - turbine_status - \n",
       "    shaft_temperature - gearbox_temperature - blade_length - \n",
       "    windmill_height - windmill_body_temperature - rotor_torque - \n",
       "    engine_temperature, data = trainset.imputation)\n",
       "\n",
       "Residuals:\n",
       "    Min      1Q  Median      3Q     Max \n",
       "-7.9495 -1.5770  0.0284  1.4638 14.0921 \n",
       "\n",
       "Coefficients:\n",
       "                          Estimate Std. Error t value Pr(>|t|)    \n",
       "(Intercept)             -3.938e+00  2.346e-01 -16.790  < 2e-16 ***\n",
       "blade_breadth            1.705e+00  3.270e-01   5.215 1.86e-07 ***\n",
       "wind_speed              -1.779e-03  3.443e-04  -5.167 2.41e-07 ***\n",
       "atmospheric_temperature -2.102e-03  4.418e-04  -4.758 1.97e-06 ***\n",
       "blades_angle            -5.558e-03  4.104e-04 -13.542  < 2e-16 ***\n",
       "atmospheric_pressure     4.271e-07  1.066e-07   4.006 6.22e-05 ***\n",
       "area_temperature         9.837e-02  2.716e-03  36.219  < 2e-16 ***\n",
       "wind_direction           5.949e-03  1.476e-04  40.310  < 2e-16 ***\n",
       "resistance               7.548e-04  4.304e-05  17.536  < 2e-16 ***\n",
       "cloud_levelLow           3.170e+00  2.081e-01  15.238  < 2e-16 ***\n",
       "cloud_levelMedium        3.307e+00  2.085e-01  15.866  < 2e-16 ***\n",
       "---\n",
       "Signif. codes:  0 '***' 0.001 '**' 0.01 '*' 0.05 '.' 0.1 ' ' 1\n",
       "\n",
       "Residual standard error: 2.287 on 13807 degrees of freedom\n",
       "Multiple R-squared:  0.286,\tAdjusted R-squared:  0.2855 \n",
       "F-statistic:   553 on 10 and 13807 DF,  p-value: < 2.2e-16\n"
      ]
     },
     "metadata": {},
     "output_type": "display_data"
    }
   ],
   "source": [
    "# Develop model on m2p, excluding post-installation observations\n",
    "# observations: windmill_body_temperature, rotor_torque, engine_temperature\n",
    "m3 <- lm(windmill_generated_power ~ . \n",
    "         - year \n",
    "         - mday \n",
    "         - wday \n",
    "         - month \n",
    "         - hour \n",
    "         - motor_torque \n",
    "         - generator_temperature\n",
    "         - turbine_status\n",
    "         - shaft_temperature\n",
    "         - gearbox_temperature\n",
    "         - blade_length\n",
    "         - windmill_height\n",
    "         - windmill_body_temperature\n",
    "         - rotor_torque\n",
    "         - engine_temperature, data = trainset.imputation)\n",
    "summary(m3)"
   ]
  },
  {
   "cell_type": "code",
   "execution_count": 24,
   "id": "6b9e0966",
   "metadata": {},
   "outputs": [
    {
     "name": "stdout",
     "output_type": "stream",
     "text": [
      "[1] 2.286162\n"
     ]
    },
    {
     "data": {
      "text/plain": [
       "     Min.   1st Qu.    Median      Mean   3rd Qu.      Max. \n",
       " 0.000183  0.735454  1.522536  1.801100  2.522995 14.092124 "
      ]
     },
     "metadata": {},
     "output_type": "display_data"
    }
   ],
   "source": [
    "# Residuals = Error = Actual mpg - Model Predicted mpg\n",
    "RMSE.m3.train.imputation <- sqrt(mean(residuals(m3)^2))  # RMSE on trainset based on m5 model.\n",
    "print(RMSE.m3.train.imputation)\n",
    "summary(abs(residuals(m3)))  # Check Min Abs Error and Max Abs Error."
   ]
  },
  {
   "cell_type": "code",
   "execution_count": 25,
   "id": "e4218601",
   "metadata": {},
   "outputs": [
    {
     "name": "stdout",
     "output_type": "stream",
     "text": [
      "[1] 2.257213\n"
     ]
    },
    {
     "data": {
      "text/plain": [
       "     Min.   1st Qu.    Median      Mean   3rd Qu.      Max. \n",
       " 0.000343  0.727997  1.500098  1.783388  2.496319 11.004963 "
      ]
     },
     "metadata": {},
     "output_type": "display_data"
    }
   ],
   "source": [
    "# Apply model from trainset to predict on testset.\n",
    "predict.m3.test.imputation <- predict(m3, newdata = testset.imputation)\n",
    "testset.imputation.error <- testset.imputation$windmill_generated_power - predict.m3.test.imputation\n",
    "\n",
    "# Testset Errors\n",
    "RMSE.m3.test.imputation <- sqrt(mean(testset.imputation.error^2))\n",
    "print(RMSE.m3.test.imputation)\n",
    "summary(abs(testset.imputation.error))"
   ]
  },
  {
   "cell_type": "code",
   "execution_count": 26,
   "id": "2085cadb",
   "metadata": {},
   "outputs": [
    {
     "data": {
      "text/html": [
       "<table>\n",
       "<thead><tr><th></th><th scope=col>GVIF</th><th scope=col>Df</th><th scope=col>GVIF^(1/(2*Df))</th></tr></thead>\n",
       "<tbody>\n",
       "\t<tr><th scope=row>blade_breadth</th><td>1.062695</td><td>1       </td><td>1.030871</td></tr>\n",
       "\t<tr><th scope=row>wind_speed</th><td>1.104045</td><td>1       </td><td>1.050736</td></tr>\n",
       "\t<tr><th scope=row>atmospheric_temperature</th><td>1.010539</td><td>1       </td><td>1.005256</td></tr>\n",
       "\t<tr><th scope=row>blades_angle</th><td>1.023219</td><td>1       </td><td>1.011543</td></tr>\n",
       "\t<tr><th scope=row>atmospheric_pressure</th><td>1.030131</td><td>1       </td><td>1.014954</td></tr>\n",
       "\t<tr><th scope=row>area_temperature</th><td>1.163218</td><td>1       </td><td>1.078526</td></tr>\n",
       "\t<tr><th scope=row>wind_direction</th><td>1.054502</td><td>1       </td><td>1.026889</td></tr>\n",
       "\t<tr><th scope=row>resistance</th><td>1.145312</td><td>1       </td><td>1.070193</td></tr>\n",
       "\t<tr><th scope=row>cloud_level</th><td>1.076488</td><td>2       </td><td>1.018597</td></tr>\n",
       "</tbody>\n",
       "</table>\n"
      ],
      "text/latex": [
       "\\begin{tabular}{r|lll}\n",
       "  & GVIF & Df & GVIF\\textasciicircum{}(1/(2*Df))\\\\\n",
       "\\hline\n",
       "\tblade\\_breadth & 1.062695 & 1        & 1.030871\\\\\n",
       "\twind\\_speed & 1.104045 & 1        & 1.050736\\\\\n",
       "\tatmospheric\\_temperature & 1.010539 & 1        & 1.005256\\\\\n",
       "\tblades\\_angle & 1.023219 & 1        & 1.011543\\\\\n",
       "\tatmospheric\\_pressure & 1.030131 & 1        & 1.014954\\\\\n",
       "\tarea\\_temperature & 1.163218 & 1        & 1.078526\\\\\n",
       "\twind\\_direction & 1.054502 & 1        & 1.026889\\\\\n",
       "\tresistance & 1.145312 & 1        & 1.070193\\\\\n",
       "\tcloud\\_level & 1.076488 & 2        & 1.018597\\\\\n",
       "\\end{tabular}\n"
      ],
      "text/markdown": [
       "\n",
       "| <!--/--> | GVIF | Df | GVIF^(1/(2*Df)) |\n",
       "|---|---|---|---|\n",
       "| blade_breadth | 1.062695 | 1        | 1.030871 |\n",
       "| wind_speed | 1.104045 | 1        | 1.050736 |\n",
       "| atmospheric_temperature | 1.010539 | 1        | 1.005256 |\n",
       "| blades_angle | 1.023219 | 1        | 1.011543 |\n",
       "| atmospheric_pressure | 1.030131 | 1        | 1.014954 |\n",
       "| area_temperature | 1.163218 | 1        | 1.078526 |\n",
       "| wind_direction | 1.054502 | 1        | 1.026889 |\n",
       "| resistance | 1.145312 | 1        | 1.070193 |\n",
       "| cloud_level | 1.076488 | 2        | 1.018597 |\n",
       "\n"
      ],
      "text/plain": [
       "                        GVIF     Df GVIF^(1/(2*Df))\n",
       "blade_breadth           1.062695 1  1.030871       \n",
       "wind_speed              1.104045 1  1.050736       \n",
       "atmospheric_temperature 1.010539 1  1.005256       \n",
       "blades_angle            1.023219 1  1.011543       \n",
       "atmospheric_pressure    1.030131 1  1.014954       \n",
       "area_temperature        1.163218 1  1.078526       \n",
       "wind_direction          1.054502 1  1.026889       \n",
       "resistance              1.145312 1  1.070193       \n",
       "cloud_level             1.076488 2  1.018597       "
      ]
     },
     "metadata": {},
     "output_type": "display_data"
    }
   ],
   "source": [
    "# Check for multicollinearity\n",
    "vif(m3)"
   ]
  },
  {
   "cell_type": "code",
   "execution_count": null,
   "id": "230e188d",
   "metadata": {},
   "outputs": [],
   "source": []
  }
 ],
 "metadata": {
  "kernelspec": {
   "display_name": "R",
   "language": "R",
   "name": "ir"
  },
  "language_info": {
   "codemirror_mode": "r",
   "file_extension": ".r",
   "mimetype": "text/x-r-source",
   "name": "R",
   "pygments_lexer": "r",
   "version": "3.6.1"
  }
 },
 "nbformat": 4,
 "nbformat_minor": 5
}
