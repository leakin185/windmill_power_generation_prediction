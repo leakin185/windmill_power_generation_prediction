{
 "cells": [
  {
   "cell_type": "markdown",
   "id": "882a6b5e",
   "metadata": {},
   "source": [
    "# Training Data - Linear Regression\n",
    "\n",
    "**Overview of Implementation**\n",
    "1. <a href=\"#section1\">Data Cleaning</a>\n",
    "2. <a href=\"#section2\">Data Exploration</a>\n",
    "3. <a href=\"#section3\">Data Imputation</a>\n",
    "4. <a href=\"#section4\">Linear Regression</a>"
   ]
  },
  {
   "cell_type": "markdown",
   "id": "d833f2c5",
   "metadata": {},
   "source": [
    "## <a id='section1'>1. Data Cleaning</a>\n",
    "Import data & explore statistics"
   ]
  },
  {
   "cell_type": "code",
   "execution_count": 1,
   "id": "356a87dd",
   "metadata": {},
   "outputs": [
    {
     "name": "stderr",
     "output_type": "stream",
     "text": [
      "Registered S3 methods overwritten by 'ggplot2':\n",
      "  method         from \n",
      "  [.quosures     rlang\n",
      "  c.quosures     rlang\n",
      "  print.quosures rlang\n"
     ]
    }
   ],
   "source": [
    "library(data.table)\n",
    "library(ggplot2)"
   ]
  },
  {
   "cell_type": "code",
   "execution_count": 2,
   "id": "9ca2b3dd",
   "metadata": {},
   "outputs": [
    {
     "name": "stdout",
     "output_type": "stream",
     "text": [
      "Number of NA values:  20579"
     ]
    },
    {
     "data": {
      "text/html": [
       "<ol class=list-inline>\n",
       "\t<li>'tracking_id'</li>\n",
       "\t<li>'datetime'</li>\n",
       "\t<li>'wind_speed(m/s)'</li>\n",
       "\t<li>'atmospheric_temperature(Â°C)'</li>\n",
       "\t<li>'shaft_temperature(Â°C)'</li>\n",
       "\t<li>'blades_angle(Â°)'</li>\n",
       "\t<li>'gearbox_temperature(Â°C)'</li>\n",
       "\t<li>'engine_temperature(Â°C)'</li>\n",
       "\t<li>'motor_torque(N-m)'</li>\n",
       "\t<li>'generator_temperature(Â°C)'</li>\n",
       "\t<li>'atmospheric_pressure(Pascal)'</li>\n",
       "\t<li>'area_temperature(Â°C)'</li>\n",
       "\t<li>'windmill_body_temperature(Â°C)'</li>\n",
       "\t<li>'wind_direction(Â°)'</li>\n",
       "\t<li>'resistance(ohm)'</li>\n",
       "\t<li>'rotor_torque(N-m)'</li>\n",
       "\t<li>'turbine_status'</li>\n",
       "\t<li>'cloud_level'</li>\n",
       "\t<li>'blade_length(m)'</li>\n",
       "\t<li>'blade_breadth(m)'</li>\n",
       "\t<li>'windmill_height(m)'</li>\n",
       "\t<li>'windmill_generated_power(kW/h)'</li>\n",
       "</ol>\n"
      ],
      "text/latex": [
       "\\begin{enumerate*}\n",
       "\\item 'tracking\\_id'\n",
       "\\item 'datetime'\n",
       "\\item 'wind\\_speed(m/s)'\n",
       "\\item 'atmospheric\\_temperature(Â°C)'\n",
       "\\item 'shaft\\_temperature(Â°C)'\n",
       "\\item 'blades\\_angle(Â°)'\n",
       "\\item 'gearbox\\_temperature(Â°C)'\n",
       "\\item 'engine\\_temperature(Â°C)'\n",
       "\\item 'motor\\_torque(N-m)'\n",
       "\\item 'generator\\_temperature(Â°C)'\n",
       "\\item 'atmospheric\\_pressure(Pascal)'\n",
       "\\item 'area\\_temperature(Â°C)'\n",
       "\\item 'windmill\\_body\\_temperature(Â°C)'\n",
       "\\item 'wind\\_direction(Â°)'\n",
       "\\item 'resistance(ohm)'\n",
       "\\item 'rotor\\_torque(N-m)'\n",
       "\\item 'turbine\\_status'\n",
       "\\item 'cloud\\_level'\n",
       "\\item 'blade\\_length(m)'\n",
       "\\item 'blade\\_breadth(m)'\n",
       "\\item 'windmill\\_height(m)'\n",
       "\\item 'windmill\\_generated\\_power(kW/h)'\n",
       "\\end{enumerate*}\n"
      ],
      "text/markdown": [
       "1. 'tracking_id'\n",
       "2. 'datetime'\n",
       "3. 'wind_speed(m/s)'\n",
       "4. 'atmospheric_temperature(Â°C)'\n",
       "5. 'shaft_temperature(Â°C)'\n",
       "6. 'blades_angle(Â°)'\n",
       "7. 'gearbox_temperature(Â°C)'\n",
       "8. 'engine_temperature(Â°C)'\n",
       "9. 'motor_torque(N-m)'\n",
       "10. 'generator_temperature(Â°C)'\n",
       "11. 'atmospheric_pressure(Pascal)'\n",
       "12. 'area_temperature(Â°C)'\n",
       "13. 'windmill_body_temperature(Â°C)'\n",
       "14. 'wind_direction(Â°)'\n",
       "15. 'resistance(ohm)'\n",
       "16. 'rotor_torque(N-m)'\n",
       "17. 'turbine_status'\n",
       "18. 'cloud_level'\n",
       "19. 'blade_length(m)'\n",
       "20. 'blade_breadth(m)'\n",
       "21. 'windmill_height(m)'\n",
       "22. 'windmill_generated_power(kW/h)'\n",
       "\n",
       "\n"
      ],
      "text/plain": [
       " [1] \"tracking_id\"                    \"datetime\"                      \n",
       " [3] \"wind_speed(m/s)\"                \"atmospheric_temperature(Â°C)\"  \n",
       " [5] \"shaft_temperature(Â°C)\"         \"blades_angle(Â°)\"              \n",
       " [7] \"gearbox_temperature(Â°C)\"       \"engine_temperature(Â°C)\"       \n",
       " [9] \"motor_torque(N-m)\"              \"generator_temperature(Â°C)\"    \n",
       "[11] \"atmospheric_pressure(Pascal)\"   \"area_temperature(Â°C)\"         \n",
       "[13] \"windmill_body_temperature(Â°C)\" \"wind_direction(Â°)\"            \n",
       "[15] \"resistance(ohm)\"                \"rotor_torque(N-m)\"             \n",
       "[17] \"turbine_status\"                 \"cloud_level\"                   \n",
       "[19] \"blade_length(m)\"                \"blade_breadth(m)\"              \n",
       "[21] \"windmill_height(m)\"             \"windmill_generated_power(kW/h)\""
      ]
     },
     "metadata": {},
     "output_type": "display_data"
    },
    {
     "data": {
      "text/plain": [
       "   tracking_id                   datetime     wind_speed(m/s)  \n",
       " WM_1    :    1   2018-10-28 20:53:20:    1   Min.   :-496.21  \n",
       " WM_10   :    1   2018-10-28 21:03:20:    1   1st Qu.:  20.88  \n",
       " WM_1000 :    1   2018-10-28 21:33:20:    1   Median :  93.30  \n",
       " WM_10000:    1   2018-10-28 21:43:20:    1   Mean   :  69.04  \n",
       " WM_10001:    1   2018-10-28 21:53:20:    1   3rd Qu.:  95.27  \n",
       " WM_10002:    1   2018-10-28 22:03:20:    1   Max.   : 601.46  \n",
       " (Other) :28194   (Other)            :28194   NA's   :273      \n",
       " atmospheric_temperature(Â°C) shaft_temperature(Â°C) blades_angle(Â°)   \n",
       " Min.   :-99.000              Min.   :-99.00         Min.   :-146.2595  \n",
       " 1st Qu.:  7.949              1st Qu.: 41.63         1st Qu.:  -1.1977  \n",
       " Median : 16.102              Median : 43.69         Median :  -0.4956  \n",
       " Mean   :  0.384              Mean   : 40.09         Mean   :  -9.6540  \n",
       " 3rd Qu.: 23.687              3rd Qu.: 45.67         3rd Qu.:   5.4950  \n",
       " Max.   : 80.217              Max.   :169.82         Max.   : 165.9321  \n",
       " NA's   :3450                 NA's   :2              NA's   :216        \n",
       " gearbox_temperature(Â°C) engine_temperature(Â°C) motor_torque(N-m)\n",
       " Min.   :-244.97          Min.   : 3.167          Min.   : 500.0   \n",
       " 1st Qu.:  40.56          1st Qu.:41.911          1st Qu.: 870.3   \n",
       " Median :  43.22          Median :43.525          Median :2031.8   \n",
       " Mean   :  41.03          Mean   :42.614          Mean   :1710.8   \n",
       " 3rd Qu.:  45.88          3rd Qu.:45.174          3rd Qu.:2462.6   \n",
       " Max.   : 999.00          Max.   :50.000          Max.   :3000.0   \n",
       " NA's   :1                NA's   :12              NA's   :24       \n",
       " generator_temperature(Â°C) atmospheric_pressure(Pascal) area_temperature(Â°C)\n",
       " Min.   : 33.89             Min.   :-1188624             Min.   :-30.00       \n",
       " 1st Qu.: 41.20             1st Qu.:   16795             1st Qu.: 27.31       \n",
       " Median : 70.73             Median :   18191             Median : 32.61       \n",
       " Mean   : 65.03             Mean   :   53185             Mean   : 32.74       \n",
       " 3rd Qu.: 78.95             3rd Qu.:  118113             3rd Qu.: 38.23       \n",
       " Max.   :100.00             Max.   : 1272552             Max.   : 55.00       \n",
       " NA's   :12                 NA's   :2707                                      \n",
       " windmill_body_temperature(Â°C) wind_direction(Â°) resistance(ohm)\n",
       " Min.   :-999.00                Min.   :  0.0      Min.   :-1005  \n",
       " 1st Qu.:  40.45                1st Qu.:238.6      1st Qu.: 1268  \n",
       " Median :  42.79                Median :271.4      Median : 1678  \n",
       " Mean   :  20.80                Mean   :306.9      Mean   : 1576  \n",
       " 3rd Qu.:  44.49                3rd Qu.:404.2      3rd Qu.: 1829  \n",
       " Max.   : 323.00                Max.   :570.0      Max.   : 4693  \n",
       " NA's   :2363                   NA's   :5103       NA's   :1      \n",
       " rotor_torque(N-m) turbine_status         cloud_level    blade_length(m)  \n",
       " Min.   :-136.73   BB     : 1946                :  276   Min.   :-99.000  \n",
       " 1st Qu.:  13.72   AAA    : 1939   Extremely Low:  299   1st Qu.:  2.545  \n",
       " Median :  32.98   BCB    : 1933   Low          :13921   Median :  3.453  \n",
       " Mean   :  25.85   B2     : 1931   Medium       :13704   Mean   :  2.254  \n",
       " 3rd Qu.:  41.55   A      : 1930                         3rd Qu.:  4.358  \n",
       " Max.   : 236.88   D      : 1922                         Max.   : 18.210  \n",
       " NA's   :572       (Other):16599                         NA's   :5093     \n",
       " blade_breadth(m) windmill_height(m) windmill_generated_power(kW/h)\n",
       " Min.   :0.2001   Min.   :-30.30     Min.   : 0.9623               \n",
       " 1st Qu.:0.3474   1st Qu.: 24.45     1st Qu.: 4.0595               \n",
       " Median :0.3986   Median : 25.96     Median : 5.7647               \n",
       " Mean   :0.3972   Mean   : 25.89     Mean   : 6.1305               \n",
       " 3rd Qu.:0.4494   3rd Qu.: 27.48     3rd Qu.: 7.9472               \n",
       " Max.   :0.5000   Max.   : 78.35     Max.   :20.1754               \n",
       "                  NA's   :543        NA's   :207                   "
      ]
     },
     "metadata": {},
     "output_type": "display_data"
    }
   ],
   "source": [
    "# Import train data using data.table fread function\n",
    "wind.dt <- fread(\"../data/train_data.csv\", stringsAsFactors = T) \n",
    "\n",
    "cat(\"Number of NA values: \", sum(is.na(wind.dt)))\n",
    "colnames(wind.dt)\n",
    "summary(wind.dt)"
   ]
  },
  {
   "cell_type": "code",
   "execution_count": 3,
   "id": "1a9df942",
   "metadata": {},
   "outputs": [
    {
     "data": {
      "text/html": [
       "<ol class=list-inline>\n",
       "\t<li>'tracking_id'</li>\n",
       "\t<li>'datetime'</li>\n",
       "\t<li>'wind_speed'</li>\n",
       "\t<li>'atmospheric_temperature'</li>\n",
       "\t<li>'shaft_temperature'</li>\n",
       "\t<li>'blades_angle'</li>\n",
       "\t<li>'gearbox_temperature'</li>\n",
       "\t<li>'engine_temperature'</li>\n",
       "\t<li>'motor_torque'</li>\n",
       "\t<li>'generator_temperature'</li>\n",
       "\t<li>'atmospheric_pressure'</li>\n",
       "\t<li>'area_temperature'</li>\n",
       "\t<li>'windmill_body_temperature'</li>\n",
       "\t<li>'wind_direction'</li>\n",
       "\t<li>'resistance'</li>\n",
       "\t<li>'rotor_torque'</li>\n",
       "\t<li>'turbine_status'</li>\n",
       "\t<li>'cloud_level'</li>\n",
       "\t<li>'blade_length'</li>\n",
       "\t<li>'blade_breadth'</li>\n",
       "\t<li>'windmill_height'</li>\n",
       "\t<li>'windmill_generated_power'</li>\n",
       "</ol>\n"
      ],
      "text/latex": [
       "\\begin{enumerate*}\n",
       "\\item 'tracking\\_id'\n",
       "\\item 'datetime'\n",
       "\\item 'wind\\_speed'\n",
       "\\item 'atmospheric\\_temperature'\n",
       "\\item 'shaft\\_temperature'\n",
       "\\item 'blades\\_angle'\n",
       "\\item 'gearbox\\_temperature'\n",
       "\\item 'engine\\_temperature'\n",
       "\\item 'motor\\_torque'\n",
       "\\item 'generator\\_temperature'\n",
       "\\item 'atmospheric\\_pressure'\n",
       "\\item 'area\\_temperature'\n",
       "\\item 'windmill\\_body\\_temperature'\n",
       "\\item 'wind\\_direction'\n",
       "\\item 'resistance'\n",
       "\\item 'rotor\\_torque'\n",
       "\\item 'turbine\\_status'\n",
       "\\item 'cloud\\_level'\n",
       "\\item 'blade\\_length'\n",
       "\\item 'blade\\_breadth'\n",
       "\\item 'windmill\\_height'\n",
       "\\item 'windmill\\_generated\\_power'\n",
       "\\end{enumerate*}\n"
      ],
      "text/markdown": [
       "1. 'tracking_id'\n",
       "2. 'datetime'\n",
       "3. 'wind_speed'\n",
       "4. 'atmospheric_temperature'\n",
       "5. 'shaft_temperature'\n",
       "6. 'blades_angle'\n",
       "7. 'gearbox_temperature'\n",
       "8. 'engine_temperature'\n",
       "9. 'motor_torque'\n",
       "10. 'generator_temperature'\n",
       "11. 'atmospheric_pressure'\n",
       "12. 'area_temperature'\n",
       "13. 'windmill_body_temperature'\n",
       "14. 'wind_direction'\n",
       "15. 'resistance'\n",
       "16. 'rotor_torque'\n",
       "17. 'turbine_status'\n",
       "18. 'cloud_level'\n",
       "19. 'blade_length'\n",
       "20. 'blade_breadth'\n",
       "21. 'windmill_height'\n",
       "22. 'windmill_generated_power'\n",
       "\n",
       "\n"
      ],
      "text/plain": [
       " [1] \"tracking_id\"               \"datetime\"                 \n",
       " [3] \"wind_speed\"                \"atmospheric_temperature\"  \n",
       " [5] \"shaft_temperature\"         \"blades_angle\"             \n",
       " [7] \"gearbox_temperature\"       \"engine_temperature\"       \n",
       " [9] \"motor_torque\"              \"generator_temperature\"    \n",
       "[11] \"atmospheric_pressure\"      \"area_temperature\"         \n",
       "[13] \"windmill_body_temperature\" \"wind_direction\"           \n",
       "[15] \"resistance\"                \"rotor_torque\"             \n",
       "[17] \"turbine_status\"            \"cloud_level\"              \n",
       "[19] \"blade_length\"              \"blade_breadth\"            \n",
       "[21] \"windmill_height\"           \"windmill_generated_power\" "
      ]
     },
     "metadata": {},
     "output_type": "display_data"
    }
   ],
   "source": [
    "# Get rid of brackets and units in columns\n",
    "remove_brackets <- function(x) {  \n",
    "  gsub(\"\\\\(.*?\\\\)\", \"\", x)\n",
    "  }\n",
    "colnames(wind.dt) <- sapply(colnames(wind.dt), remove_brackets)\n",
    "colnames(wind.dt)"
   ]
  },
  {
   "cell_type": "code",
   "execution_count": 4,
   "id": "3f49eaab",
   "metadata": {},
   "outputs": [
    {
     "data": {
      "text/html": [
       "'factor'"
      ],
      "text/latex": [
       "'factor'"
      ],
      "text/markdown": [
       "'factor'"
      ],
      "text/plain": [
       "[1] \"factor\""
      ]
     },
     "metadata": {},
     "output_type": "display_data"
    }
   ],
   "source": [
    "# Datetime Utils\n",
    "# Datetime column is in object format. It should be converted into datetime format\n",
    "\n",
    "get_year <- function(x) {  \n",
    "  as.POSIXlt(x,format=\"%Y-%m-%d %H:%M:%S\")$year + 1900 # based on 1990\n",
    "}\n",
    "get_month <- function(x){\n",
    "  as.POSIXlt(x,format=\"%Y-%m-%d %H:%M:%S\")$mon + 1 # 0 index\n",
    "}\n",
    "get_mday <- function(x){\n",
    "  as.POSIXlt(x,format=\"%Y-%m-%d %H:%M:%S\")$mday\n",
    "}\n",
    "get_wday <- function(x){\n",
    "  # The wday component of a POSIXlt object is the numeric weekday (0-6 starting on Sunday).\n",
    "  as.POSIXlt(x,format=\"%Y-%m-%d %H:%M:%S\")$wday\n",
    "}\n",
    "get_hour <- function(x){\n",
    "  as.POSIXlt(x,format=\"%Y-%m-%d %H:%M:%S\")$hour\n",
    "}\n",
    "get_min <- function(x){\n",
    "  as.POSIXlt(x,format=\"%Y-%m-%d %H:%M:%S\")$min\n",
    "}\n",
    "get_sec <- function(x){\n",
    "  as.POSIXlt(x,format=\"%Y-%m-%d %H:%M:%S\")$sec\n",
    "}\n",
    "\n",
    "class(wind.dt$datetime)"
   ]
  },
  {
   "cell_type": "code",
   "execution_count": 5,
   "id": "a26a1f66",
   "metadata": {},
   "outputs": [
    {
     "data": {
      "text/html": [
       "<table>\n",
       "<thead><tr><th scope=col>tracking_id</th><th scope=col>datetime</th><th scope=col>wind_speed</th><th scope=col>atmospheric_temperature</th><th scope=col>shaft_temperature</th><th scope=col>blades_angle</th><th scope=col>gearbox_temperature</th><th scope=col>engine_temperature</th><th scope=col>motor_torque</th><th scope=col>generator_temperature</th><th scope=col>...</th><th scope=col>blade_breadth</th><th scope=col>windmill_height</th><th scope=col>windmill_generated_power</th><th scope=col>year</th><th scope=col>month</th><th scope=col>mday</th><th scope=col>wday</th><th scope=col>hour</th><th scope=col>min</th><th scope=col>sec</th></tr></thead>\n",
       "<tbody>\n",
       "\t<tr><td>WM_33725           </td><td>2019-08-04 14:33:20</td><td> 94.82002          </td><td>-99.00000          </td><td> 41.72302          </td><td> -0.9034229        </td><td> 82.41057          </td><td>42.52302           </td><td>2563.1245          </td><td>76.66556           </td><td>...                </td><td>0.3140648          </td><td>24.28169           </td><td> 6.766521          </td><td>2019               </td><td> 8                 </td><td> 4                 </td><td>0                  </td><td>14                 </td><td>33                 </td><td>20                 </td></tr>\n",
       "\t<tr><td>WM_698             </td><td>2018-11-05 10:13:20</td><td>241.83273          </td><td> 27.76478          </td><td>-99.00000          </td><td>-99.0000000        </td><td> 44.10492          </td><td>46.25887           </td><td>2372.3841          </td><td>78.12980           </td><td>...                </td><td>0.4484944          </td><td>27.26214           </td><td> 5.966275          </td><td>2018               </td><td>11                 </td><td> 5                 </td><td>1                  </td><td>10                 </td><td>13                 </td><td>20                 </td></tr>\n",
       "\t<tr><td>WM_39146           </td><td>2019-09-14 14:03:20</td><td> 95.48472          </td><td>       NA          </td><td> 41.85547          </td><td> 12.6527635        </td><td> 42.32210          </td><td>42.87855           </td><td>1657.1696          </td><td>67.65447           </td><td>...                </td><td>0.3023210          </td><td>27.36613           </td><td> 2.874342          </td><td>2019               </td><td> 9                 </td><td>14                 </td><td>6                  </td><td>14                 </td><td> 3                 </td><td>20                 </td></tr>\n",
       "\t<tr><td>WM_6757            </td><td>2018-12-25 15:33:20</td><td>238.81942          </td><td>-99.00000          </td><td> 45.44391          </td><td> 15.1153228        </td><td> 44.75964          </td><td>47.28210           </td><td>2888.1341          </td><td>95.38997           </td><td>...                </td><td>0.3671399          </td><td>24.28777           </td><td>14.851089          </td><td>2018               </td><td>12                 </td><td>25                 </td><td>2                  </td><td>15                 </td><td>33                 </td><td>20                 </td></tr>\n",
       "\t<tr><td>WM_21521           </td><td>2019-05-04 03:13:20</td><td> 10.72289          </td><td>       NA          </td><td> 41.98118          </td><td>  1.7156961        </td><td>-17.61646          </td><td>43.46985           </td><td> 781.6954          </td><td>37.42307           </td><td>...                </td><td>0.4533737          </td><td>27.97165           </td><td> 3.519074          </td><td>2019               </td><td> 5                 </td><td> 4                 </td><td>6                  </td><td> 3                 </td><td>13                 </td><td>20                 </td></tr>\n",
       "\t<tr><td>WM_17873           </td><td>2019-03-22 21:03:20</td><td> 93.76997          </td><td> 30.32623          </td><td> 17.97062          </td><td>-99.0000000        </td><td> 43.81643          </td><td>40.81579           </td><td>2119.3517          </td><td>72.34513           </td><td>...                </td><td>0.3956420          </td><td>24.67329           </td><td> 4.945780          </td><td>2019               </td><td> 3                 </td><td>22                 </td><td>5                  </td><td>21                 </td><td> 3                 </td><td>20                 </td></tr>\n",
       "</tbody>\n",
       "</table>\n"
      ],
      "text/latex": [
       "\\begin{tabular}{r|lllllllllllllllllllllllllllll}\n",
       " tracking\\_id & datetime & wind\\_speed & atmospheric\\_temperature & shaft\\_temperature & blades\\_angle & gearbox\\_temperature & engine\\_temperature & motor\\_torque & generator\\_temperature & ... & blade\\_breadth & windmill\\_height & windmill\\_generated\\_power & year & month & mday & wday & hour & min & sec\\\\\n",
       "\\hline\n",
       "\t WM\\_33725          & 2019-08-04 14:33:20 &  94.82002           & -99.00000           &  41.72302           &  -0.9034229         &  82.41057           & 42.52302            & 2563.1245           & 76.66556            & ...                 & 0.3140648           & 24.28169            &  6.766521           & 2019                &  8                  &  4                  & 0                   & 14                  & 33                  & 20                 \\\\\n",
       "\t WM\\_698            & 2018-11-05 10:13:20 & 241.83273           &  27.76478           & -99.00000           & -99.0000000         &  44.10492           & 46.25887            & 2372.3841           & 78.12980            & ...                 & 0.4484944           & 27.26214            &  5.966275           & 2018                & 11                  &  5                  & 1                   & 10                  & 13                  & 20                 \\\\\n",
       "\t WM\\_39146          & 2019-09-14 14:03:20 &  95.48472           &        NA           &  41.85547           &  12.6527635         &  42.32210           & 42.87855            & 1657.1696           & 67.65447            & ...                 & 0.3023210           & 27.36613            &  2.874342           & 2019                &  9                  & 14                  & 6                   & 14                  &  3                  & 20                 \\\\\n",
       "\t WM\\_6757           & 2018-12-25 15:33:20 & 238.81942           & -99.00000           &  45.44391           &  15.1153228         &  44.75964           & 47.28210            & 2888.1341           & 95.38997            & ...                 & 0.3671399           & 24.28777            & 14.851089           & 2018                & 12                  & 25                  & 2                   & 15                  & 33                  & 20                 \\\\\n",
       "\t WM\\_21521          & 2019-05-04 03:13:20 &  10.72289           &        NA           &  41.98118           &   1.7156961         & -17.61646           & 43.46985            &  781.6954           & 37.42307            & ...                 & 0.4533737           & 27.97165            &  3.519074           & 2019                &  5                  &  4                  & 6                   &  3                  & 13                  & 20                 \\\\\n",
       "\t WM\\_17873          & 2019-03-22 21:03:20 &  93.76997           &  30.32623           &  17.97062           & -99.0000000         &  43.81643           & 40.81579            & 2119.3517           & 72.34513            & ...                 & 0.3956420           & 24.67329            &  4.945780           & 2019                &  3                  & 22                  & 5                   & 21                  &  3                  & 20                 \\\\\n",
       "\\end{tabular}\n"
      ],
      "text/markdown": [
       "\n",
       "| tracking_id | datetime | wind_speed | atmospheric_temperature | shaft_temperature | blades_angle | gearbox_temperature | engine_temperature | motor_torque | generator_temperature | ... | blade_breadth | windmill_height | windmill_generated_power | year | month | mday | wday | hour | min | sec |\n",
       "|---|---|---|---|---|---|---|---|---|---|---|---|---|---|---|---|---|---|---|---|---|\n",
       "| WM_33725            | 2019-08-04 14:33:20 |  94.82002           | -99.00000           |  41.72302           |  -0.9034229         |  82.41057           | 42.52302            | 2563.1245           | 76.66556            | ...                 | 0.3140648           | 24.28169            |  6.766521           | 2019                |  8                  |  4                  | 0                   | 14                  | 33                  | 20                  |\n",
       "| WM_698              | 2018-11-05 10:13:20 | 241.83273           |  27.76478           | -99.00000           | -99.0000000         |  44.10492           | 46.25887            | 2372.3841           | 78.12980            | ...                 | 0.4484944           | 27.26214            |  5.966275           | 2018                | 11                  |  5                  | 1                   | 10                  | 13                  | 20                  |\n",
       "| WM_39146            | 2019-09-14 14:03:20 |  95.48472           |        NA           |  41.85547           |  12.6527635         |  42.32210           | 42.87855            | 1657.1696           | 67.65447            | ...                 | 0.3023210           | 27.36613            |  2.874342           | 2019                |  9                  | 14                  | 6                   | 14                  |  3                  | 20                  |\n",
       "| WM_6757             | 2018-12-25 15:33:20 | 238.81942           | -99.00000           |  45.44391           |  15.1153228         |  44.75964           | 47.28210            | 2888.1341           | 95.38997            | ...                 | 0.3671399           | 24.28777            | 14.851089           | 2018                | 12                  | 25                  | 2                   | 15                  | 33                  | 20                  |\n",
       "| WM_21521            | 2019-05-04 03:13:20 |  10.72289           |        NA           |  41.98118           |   1.7156961         | -17.61646           | 43.46985            |  781.6954           | 37.42307            | ...                 | 0.4533737           | 27.97165            |  3.519074           | 2019                |  5                  |  4                  | 6                   |  3                  | 13                  | 20                  |\n",
       "| WM_17873            | 2019-03-22 21:03:20 |  93.76997           |  30.32623           |  17.97062           | -99.0000000         |  43.81643           | 40.81579            | 2119.3517           | 72.34513            | ...                 | 0.3956420           | 24.67329            |  4.945780           | 2019                |  3                  | 22                  | 5                   | 21                  |  3                  | 20                  |\n",
       "\n"
      ],
      "text/plain": [
       "  tracking_id datetime            wind_speed atmospheric_temperature\n",
       "1 WM_33725    2019-08-04 14:33:20  94.82002  -99.00000              \n",
       "2 WM_698      2018-11-05 10:13:20 241.83273   27.76478              \n",
       "3 WM_39146    2019-09-14 14:03:20  95.48472         NA              \n",
       "4 WM_6757     2018-12-25 15:33:20 238.81942  -99.00000              \n",
       "5 WM_21521    2019-05-04 03:13:20  10.72289         NA              \n",
       "6 WM_17873    2019-03-22 21:03:20  93.76997   30.32623              \n",
       "  shaft_temperature blades_angle gearbox_temperature engine_temperature\n",
       "1  41.72302          -0.9034229   82.41057           42.52302          \n",
       "2 -99.00000         -99.0000000   44.10492           46.25887          \n",
       "3  41.85547          12.6527635   42.32210           42.87855          \n",
       "4  45.44391          15.1153228   44.75964           47.28210          \n",
       "5  41.98118           1.7156961  -17.61646           43.46985          \n",
       "6  17.97062         -99.0000000   43.81643           40.81579          \n",
       "  motor_torque generator_temperature ... blade_breadth windmill_height\n",
       "1 2563.1245    76.66556              ... 0.3140648     24.28169       \n",
       "2 2372.3841    78.12980              ... 0.4484944     27.26214       \n",
       "3 1657.1696    67.65447              ... 0.3023210     27.36613       \n",
       "4 2888.1341    95.38997              ... 0.3671399     24.28777       \n",
       "5  781.6954    37.42307              ... 0.4533737     27.97165       \n",
       "6 2119.3517    72.34513              ... 0.3956420     24.67329       \n",
       "  windmill_generated_power year month mday wday hour min sec\n",
       "1  6.766521                2019  8     4   0    14   33  20 \n",
       "2  5.966275                2018 11     5   1    10   13  20 \n",
       "3  2.874342                2019  9    14   6    14    3  20 \n",
       "4 14.851089                2018 12    25   2    15   33  20 \n",
       "5  3.519074                2019  5     4   6     3   13  20 \n",
       "6  4.945780                2019  3    22   5    21    3  20 "
      ]
     },
     "metadata": {},
     "output_type": "display_data"
    }
   ],
   "source": [
    "wind.dt$year <- unlist(lapply(wind.dt$datetime, get_year))\n",
    "wind.dt$month <- unlist(lapply(wind.dt$datetime, get_month))\n",
    "wind.dt$mday <- unlist(lapply(wind.dt$datetime, get_mday))\n",
    "wind.dt$wday <- unlist(lapply(wind.dt$datetime, get_wday))\n",
    "wind.dt$hour <- unlist(lapply(wind.dt$datetime, get_hour))\n",
    "wind.dt$min <- unlist(lapply(wind.dt$datetime, get_min))\n",
    "wind.dt$sec <- unlist(lapply(wind.dt$datetime, get_sec))\n",
    "\n",
    "head(wind.dt)"
   ]
  },
  {
   "cell_type": "code",
   "execution_count": 6,
   "id": "b382f0c5",
   "metadata": {},
   "outputs": [],
   "source": [
    "# Convert necessary features to factor\n",
    "wind.dt$year = as.factor(wind.dt$year)\n",
    "wind.dt$month = as.factor(wind.dt$month)\n",
    "wind.dt$mday = as.factor(wind.dt$mday)\n",
    "wind.dt$wday = as.factor(wind.dt$wday)"
   ]
  },
  {
   "cell_type": "code",
   "execution_count": 7,
   "id": "13f674de",
   "metadata": {},
   "outputs": [
    {
     "data": {
      "text/html": [
       "<ol class=list-inline>\n",
       "\t<li>'wind_speed'</li>\n",
       "\t<li>'atmospheric_temperature'</li>\n",
       "\t<li>'shaft_temperature'</li>\n",
       "\t<li>'blades_angle'</li>\n",
       "\t<li>'gearbox_temperature'</li>\n",
       "\t<li>'engine_temperature'</li>\n",
       "\t<li>'motor_torque'</li>\n",
       "\t<li>'generator_temperature'</li>\n",
       "\t<li>'atmospheric_pressure'</li>\n",
       "\t<li>'area_temperature'</li>\n",
       "\t<li>'windmill_body_temperature'</li>\n",
       "\t<li>'wind_direction'</li>\n",
       "\t<li>'resistance'</li>\n",
       "\t<li>'rotor_torque'</li>\n",
       "\t<li>'turbine_status'</li>\n",
       "\t<li>'cloud_level'</li>\n",
       "\t<li>'blade_length'</li>\n",
       "\t<li>'blade_breadth'</li>\n",
       "\t<li>'windmill_height'</li>\n",
       "\t<li>'windmill_generated_power'</li>\n",
       "\t<li>'year'</li>\n",
       "\t<li>'month'</li>\n",
       "\t<li>'mday'</li>\n",
       "\t<li>'wday'</li>\n",
       "\t<li>'hour'</li>\n",
       "</ol>\n"
      ],
      "text/latex": [
       "\\begin{enumerate*}\n",
       "\\item 'wind\\_speed'\n",
       "\\item 'atmospheric\\_temperature'\n",
       "\\item 'shaft\\_temperature'\n",
       "\\item 'blades\\_angle'\n",
       "\\item 'gearbox\\_temperature'\n",
       "\\item 'engine\\_temperature'\n",
       "\\item 'motor\\_torque'\n",
       "\\item 'generator\\_temperature'\n",
       "\\item 'atmospheric\\_pressure'\n",
       "\\item 'area\\_temperature'\n",
       "\\item 'windmill\\_body\\_temperature'\n",
       "\\item 'wind\\_direction'\n",
       "\\item 'resistance'\n",
       "\\item 'rotor\\_torque'\n",
       "\\item 'turbine\\_status'\n",
       "\\item 'cloud\\_level'\n",
       "\\item 'blade\\_length'\n",
       "\\item 'blade\\_breadth'\n",
       "\\item 'windmill\\_height'\n",
       "\\item 'windmill\\_generated\\_power'\n",
       "\\item 'year'\n",
       "\\item 'month'\n",
       "\\item 'mday'\n",
       "\\item 'wday'\n",
       "\\item 'hour'\n",
       "\\end{enumerate*}\n"
      ],
      "text/markdown": [
       "1. 'wind_speed'\n",
       "2. 'atmospheric_temperature'\n",
       "3. 'shaft_temperature'\n",
       "4. 'blades_angle'\n",
       "5. 'gearbox_temperature'\n",
       "6. 'engine_temperature'\n",
       "7. 'motor_torque'\n",
       "8. 'generator_temperature'\n",
       "9. 'atmospheric_pressure'\n",
       "10. 'area_temperature'\n",
       "11. 'windmill_body_temperature'\n",
       "12. 'wind_direction'\n",
       "13. 'resistance'\n",
       "14. 'rotor_torque'\n",
       "15. 'turbine_status'\n",
       "16. 'cloud_level'\n",
       "17. 'blade_length'\n",
       "18. 'blade_breadth'\n",
       "19. 'windmill_height'\n",
       "20. 'windmill_generated_power'\n",
       "21. 'year'\n",
       "22. 'month'\n",
       "23. 'mday'\n",
       "24. 'wday'\n",
       "25. 'hour'\n",
       "\n",
       "\n"
      ],
      "text/plain": [
       " [1] \"wind_speed\"                \"atmospheric_temperature\"  \n",
       " [3] \"shaft_temperature\"         \"blades_angle\"             \n",
       " [5] \"gearbox_temperature\"       \"engine_temperature\"       \n",
       " [7] \"motor_torque\"              \"generator_temperature\"    \n",
       " [9] \"atmospheric_pressure\"      \"area_temperature\"         \n",
       "[11] \"windmill_body_temperature\" \"wind_direction\"           \n",
       "[13] \"resistance\"                \"rotor_torque\"             \n",
       "[15] \"turbine_status\"            \"cloud_level\"              \n",
       "[17] \"blade_length\"              \"blade_breadth\"            \n",
       "[19] \"windmill_height\"           \"windmill_generated_power\" \n",
       "[21] \"year\"                      \"month\"                    \n",
       "[23] \"mday\"                      \"wday\"                     \n",
       "[25] \"hour\"                     "
      ]
     },
     "metadata": {},
     "output_type": "display_data"
    },
    {
     "data": {
      "text/html": [
       "25"
      ],
      "text/latex": [
       "25"
      ],
      "text/markdown": [
       "25"
      ],
      "text/plain": [
       "[1] 25"
      ]
     },
     "metadata": {},
     "output_type": "display_data"
    },
    {
     "data": {
      "text/plain": [
       "   wind_speed      atmospheric_temperature shaft_temperature\n",
       " Min.   :-496.21   Min.   :-99.000         Min.   :-99.00   \n",
       " 1st Qu.:  20.88   1st Qu.:  7.949         1st Qu.: 41.63   \n",
       " Median :  93.30   Median : 16.102         Median : 43.69   \n",
       " Mean   :  69.04   Mean   :  0.384         Mean   : 40.09   \n",
       " 3rd Qu.:  95.27   3rd Qu.: 23.687         3rd Qu.: 45.67   \n",
       " Max.   : 601.46   Max.   : 80.217         Max.   :169.82   \n",
       " NA's   :273       NA's   :3450            NA's   :2        \n",
       "  blades_angle       gearbox_temperature engine_temperature  motor_torque   \n",
       " Min.   :-146.2595   Min.   :-244.97     Min.   : 3.167     Min.   : 500.0  \n",
       " 1st Qu.:  -1.1977   1st Qu.:  40.56     1st Qu.:41.911     1st Qu.: 870.3  \n",
       " Median :  -0.4956   Median :  43.22     Median :43.525     Median :2031.8  \n",
       " Mean   :  -9.6540   Mean   :  41.03     Mean   :42.614     Mean   :1710.8  \n",
       " 3rd Qu.:   5.4950   3rd Qu.:  45.88     3rd Qu.:45.174     3rd Qu.:2462.6  \n",
       " Max.   : 165.9321   Max.   : 999.00     Max.   :50.000     Max.   :3000.0  \n",
       " NA's   :216         NA's   :1           NA's   :12         NA's   :24      \n",
       " generator_temperature atmospheric_pressure area_temperature\n",
       " Min.   : 33.89        Min.   :-1188624     Min.   :-30.00  \n",
       " 1st Qu.: 41.20        1st Qu.:   16795     1st Qu.: 27.31  \n",
       " Median : 70.73        Median :   18191     Median : 32.61  \n",
       " Mean   : 65.03        Mean   :   53185     Mean   : 32.74  \n",
       " 3rd Qu.: 78.95        3rd Qu.:  118113     3rd Qu.: 38.23  \n",
       " Max.   :100.00        Max.   : 1272552     Max.   : 55.00  \n",
       " NA's   :12            NA's   :2707                         \n",
       " windmill_body_temperature wind_direction    resistance     rotor_torque    \n",
       " Min.   :-999.00           Min.   :  0.0   Min.   :-1005   Min.   :-136.73  \n",
       " 1st Qu.:  40.45           1st Qu.:238.6   1st Qu.: 1268   1st Qu.:  13.72  \n",
       " Median :  42.79           Median :271.4   Median : 1678   Median :  32.98  \n",
       " Mean   :  20.80           Mean   :306.9   Mean   : 1576   Mean   :  25.85  \n",
       " 3rd Qu.:  44.49           3rd Qu.:404.2   3rd Qu.: 1829   3rd Qu.:  41.55  \n",
       " Max.   : 323.00           Max.   :570.0   Max.   : 4693   Max.   : 236.88  \n",
       " NA's   :2363              NA's   :5103    NA's   :1       NA's   :572      \n",
       " turbine_status         cloud_level     blade_length     blade_breadth   \n",
       " BB     : 1946                :  276   Min.   :-99.000   Min.   :0.2001  \n",
       " AAA    : 1939   Extremely Low:  299   1st Qu.:  2.545   1st Qu.:0.3474  \n",
       " BCB    : 1933   Low          :13921   Median :  3.453   Median :0.3986  \n",
       " B2     : 1931   Medium       :13704   Mean   :  2.254   Mean   :0.3972  \n",
       " A      : 1930                         3rd Qu.:  4.358   3rd Qu.:0.4494  \n",
       " D      : 1922                         Max.   : 18.210   Max.   :0.5000  \n",
       " (Other):16599                         NA's   :5093                      \n",
       " windmill_height  windmill_generated_power   year           month      \n",
       " Min.   :-30.30   Min.   : 0.9623          2018: 5333   1      : 2884  \n",
       " 1st Qu.: 24.45   1st Qu.: 4.0595          2019:22867   5      : 2869  \n",
       " Median : 25.96   Median : 5.7647                       8      : 2834  \n",
       " Mean   : 25.89   Mean   : 6.1305                       6      : 2797  \n",
       " 3rd Qu.: 27.48   3rd Qu.: 7.9472                       7      : 2772  \n",
       " Max.   : 78.35   Max.   :20.1754                       12     : 2748  \n",
       " NA's   :543      NA's   :207                           (Other):11296  \n",
       "      mday       wday          hour      \n",
       " 8      : 1069   0:3770   Min.   : 0.00  \n",
       " 22     : 1068   1:4238   1st Qu.: 6.00  \n",
       " 7      : 1057   2:4154   Median :12.00  \n",
       " 17     : 1020   3:4141   Mean   :11.59  \n",
       " 6      : 1019   4:4068   3rd Qu.:18.00  \n",
       " 5      : 1016   5:3803   Max.   :23.00  \n",
       " (Other):21951   6:4026                  "
      ]
     },
     "metadata": {},
     "output_type": "display_data"
    }
   ],
   "source": [
    "# drop column tracking_id and datetime\n",
    "wind.dt[,tracking_id:=NULL]\n",
    "wind.dt[,datetime:=NULL]\n",
    "wind.dt[,sec:=NULL]\n",
    "wind.dt[,min:=NULL]\n",
    "# wind.dt[,mday:=NULL]\n",
    "# wind.dt[,wday:=NULL]\n",
    "# wind.dt[,year:=NULL]\n",
    "\n",
    "colnames(wind.dt)\n",
    "ncol(wind.dt)\n",
    "\n",
    "summary(wind.dt)"
   ]
  },
  {
   "cell_type": "code",
   "execution_count": 8,
   "id": "8e6159fe",
   "metadata": {},
   "outputs": [
    {
     "data": {
      "text/plain": [
       "   wind_speed      atmospheric_temperature shaft_temperature\n",
       " Min.   :-496.21   Min.   :-99.000         Min.   :-99.00   \n",
       " 1st Qu.:  20.88   1st Qu.:  7.949         1st Qu.: 41.63   \n",
       " Median :  93.30   Median : 16.102         Median : 43.69   \n",
       " Mean   :  69.04   Mean   :  0.384         Mean   : 40.09   \n",
       " 3rd Qu.:  95.27   3rd Qu.: 23.687         3rd Qu.: 45.67   \n",
       " Max.   : 601.46   Max.   : 80.217         Max.   :169.82   \n",
       " NA's   :273       NA's   :3450            NA's   :2        \n",
       "  blades_angle       gearbox_temperature engine_temperature  motor_torque   \n",
       " Min.   :-146.2595   Min.   :-244.97     Min.   : 3.167     Min.   : 500.0  \n",
       " 1st Qu.:  -1.1977   1st Qu.:  40.56     1st Qu.:41.911     1st Qu.: 870.3  \n",
       " Median :  -0.4956   Median :  43.22     Median :43.525     Median :2031.8  \n",
       " Mean   :  -9.6540   Mean   :  41.03     Mean   :42.614     Mean   :1710.8  \n",
       " 3rd Qu.:   5.4950   3rd Qu.:  45.88     3rd Qu.:45.174     3rd Qu.:2462.6  \n",
       " Max.   : 165.9321   Max.   : 999.00     Max.   :50.000     Max.   :3000.0  \n",
       " NA's   :216         NA's   :1           NA's   :12         NA's   :24      \n",
       " generator_temperature atmospheric_pressure area_temperature\n",
       " Min.   : 33.89        Min.   :-1188624     Min.   :-30.00  \n",
       " 1st Qu.: 41.20        1st Qu.:   16795     1st Qu.: 27.31  \n",
       " Median : 70.73        Median :   18191     Median : 32.61  \n",
       " Mean   : 65.03        Mean   :   53185     Mean   : 32.74  \n",
       " 3rd Qu.: 78.95        3rd Qu.:  118113     3rd Qu.: 38.23  \n",
       " Max.   :100.00        Max.   : 1272552     Max.   : 55.00  \n",
       " NA's   :12            NA's   :2707                         \n",
       " windmill_body_temperature wind_direction    resistance     rotor_torque    \n",
       " Min.   :-999.00           Min.   :  0.0   Min.   :-1005   Min.   :-136.73  \n",
       " 1st Qu.:  40.45           1st Qu.:238.6   1st Qu.: 1268   1st Qu.:  13.72  \n",
       " Median :  42.79           Median :271.4   Median : 1678   Median :  32.98  \n",
       " Mean   :  20.80           Mean   :306.9   Mean   : 1576   Mean   :  25.85  \n",
       " 3rd Qu.:  44.49           3rd Qu.:404.2   3rd Qu.: 1829   3rd Qu.:  41.55  \n",
       " Max.   : 323.00           Max.   :570.0   Max.   : 4693   Max.   : 236.88  \n",
       " NA's   :2363              NA's   :5103    NA's   :1       NA's   :572      \n",
       " turbine_status         cloud_level     blade_length     blade_breadth   \n",
       " BB     : 1946                :  276   Min.   :-99.000   Min.   :0.2001  \n",
       " AAA    : 1939   Extremely Low:  299   1st Qu.:  2.545   1st Qu.:0.3474  \n",
       " BCB    : 1933   Low          :13921   Median :  3.453   Median :0.3986  \n",
       " B2     : 1931   Medium       :13704   Mean   :  2.254   Mean   :0.3972  \n",
       " A      : 1930                         3rd Qu.:  4.358   3rd Qu.:0.4494  \n",
       " D      : 1922                         Max.   : 18.210   Max.   :0.5000  \n",
       " (Other):16599                         NA's   :5093                      \n",
       " windmill_height  windmill_generated_power   year           month      \n",
       " Min.   :-30.30   Min.   : 0.9623          2018: 5333   1      : 2884  \n",
       " 1st Qu.: 24.45   1st Qu.: 4.0595          2019:22867   5      : 2869  \n",
       " Median : 25.96   Median : 5.7647                       8      : 2834  \n",
       " Mean   : 25.89   Mean   : 6.1305                       6      : 2797  \n",
       " 3rd Qu.: 27.48   3rd Qu.: 7.9472                       7      : 2772  \n",
       " Max.   : 78.35   Max.   :20.1754                       12     : 2748  \n",
       " NA's   :543      NA's   :207                           (Other):11296  \n",
       "      mday       wday          hour      \n",
       " 8      : 1069   0:3770   Min.   : 0.00  \n",
       " 22     : 1068   1:4238   1st Qu.: 6.00  \n",
       " 7      : 1057   2:4154   Median :12.00  \n",
       " 17     : 1020   3:4141   Mean   :11.59  \n",
       " 6      : 1019   4:4068   3rd Qu.:18.00  \n",
       " 5      : 1016   5:3803   Max.   :23.00  \n",
       " (Other):21951   6:4026                  "
      ]
     },
     "metadata": {},
     "output_type": "display_data"
    }
   ],
   "source": [
    "summary(wind.dt)"
   ]
  },
  {
   "cell_type": "code",
   "execution_count": 9,
   "id": "bceffcb0",
   "metadata": {},
   "outputs": [
    {
     "data": {
      "text/html": [
       "<span style=white-space:pre-wrap>'number of rows of trainset:  19740'</span>"
      ],
      "text/latex": [
       "'number of rows of trainset:  19740'"
      ],
      "text/markdown": [
       "<span style=white-space:pre-wrap>'number of rows of trainset:  19740'</span>"
      ],
      "text/plain": [
       "[1] \"number of rows of trainset:  19740\""
      ]
     },
     "metadata": {},
     "output_type": "display_data"
    },
    {
     "data": {
      "text/html": [
       "<span style=white-space:pre-wrap>'proportion of trainset:  0.7'</span>"
      ],
      "text/latex": [
       "'proportion of trainset:  0.7'"
      ],
      "text/markdown": [
       "<span style=white-space:pre-wrap>'proportion of trainset:  0.7'</span>"
      ],
      "text/plain": [
       "[1] \"proportion of trainset:  0.7\""
      ]
     },
     "metadata": {},
     "output_type": "display_data"
    },
    {
     "data": {
      "text/html": [
       "<span style=white-space:pre-wrap>'number of rows of testset:  8460'</span>"
      ],
      "text/latex": [
       "'number of rows of testset:  8460'"
      ],
      "text/markdown": [
       "<span style=white-space:pre-wrap>'number of rows of testset:  8460'</span>"
      ],
      "text/plain": [
       "[1] \"number of rows of testset:  8460\""
      ]
     },
     "metadata": {},
     "output_type": "display_data"
    },
    {
     "data": {
      "text/html": [
       "<span style=white-space:pre-wrap>'proportion of testset:  0.3'</span>"
      ],
      "text/latex": [
       "'proportion of testset:  0.3'"
      ],
      "text/markdown": [
       "<span style=white-space:pre-wrap>'proportion of testset:  0.3'</span>"
      ],
      "text/plain": [
       "[1] \"proportion of testset:  0.3\""
      ]
     },
     "metadata": {},
     "output_type": "display_data"
    }
   ],
   "source": [
    "# Split into train and test set\n",
    "library(caTools)\n",
    "\n",
    "set.seed(2021)\n",
    "train <- sample.split(Y=wind.dt$windmill_generated_power, SplitRatio=0.7)\n",
    "trainset<- subset(wind.dt, train==T)\n",
    "testset<- subset(wind.dt, train==F)\n",
    "paste(\"number of rows of trainset: \",nrow(trainset))\n",
    "paste(\"proportion of trainset: \", nrow(trainset)/nrow(wind.dt))\n",
    "paste(\"number of rows of testset: \",nrow(testset))\n",
    "paste(\"proportion of testset: \", nrow(testset)/nrow(wind.dt))"
   ]
  },
  {
   "cell_type": "markdown",
   "id": "2b7e5057",
   "metadata": {},
   "source": [
    "## <a id='section2'>2. Data Exploration</a>"
   ]
  },
  {
   "cell_type": "code",
   "execution_count": 10,
   "id": "c1b731e8",
   "metadata": {},
   "outputs": [
    {
     "name": "stderr",
     "output_type": "stream",
     "text": [
      "Warning message:\n",
      "\"package 'naniar' was built under R version 3.6.3\"Warning message:\n",
      "\"package 'VIM' was built under R version 3.6.3\"Loading required package: colorspace\n",
      "Loading required package: grid\n",
      "VIM is ready to use.\n",
      "\n",
      "Suggestions and bug-reports can be submitted at: https://github.com/statistikat/VIM/issues\n",
      "\n",
      "Attaching package: 'VIM'\n",
      "\n",
      "The following object is masked from 'package:datasets':\n",
      "\n",
      "    sleep\n",
      "\n"
     ]
    }
   ],
   "source": [
    "# NA Analysis and Handling\n",
    "library(naniar)\n",
    "library(VIM)"
   ]
  },
  {
   "cell_type": "code",
   "execution_count": 11,
   "id": "6b566986",
   "metadata": {},
   "outputs": [
    {
     "data": {
      "image/png": "[encoded data removed]",
      "text/plain": [
       "plot without title"
      ]
     },
     "metadata": {},
     "output_type": "display_data"
    }
   ],
   "source": [
    "gg_miss_upset(wind.dt) # interesting overview of NA"
   ]
  },
  {
   "cell_type": "code",
   "execution_count": 12,
   "id": "e02989db",
   "metadata": {},
   "outputs": [
    {
     "name": "stderr",
     "output_type": "stream",
     "text": [
      "Warning message in plot.aggr(res, ...):\n",
      "\"not enough vertical space to display frequencies (too many combinations)\""
     ]
    },
    {
     "name": "stdout",
     "output_type": "stream",
     "text": [
      "\n",
      " Variables sorted by number of missings: \n",
      "                  Variable        Count\n",
      "            wind_direction 1.809574e-01\n",
      "              blade_length 1.806028e-01\n",
      "   atmospheric_temperature 1.223404e-01\n",
      "      atmospheric_pressure 9.599291e-02\n",
      " windmill_body_temperature 8.379433e-02\n",
      "              rotor_torque 2.028369e-02\n",
      "           windmill_height 1.925532e-02\n",
      "                wind_speed 9.680851e-03\n",
      "              blades_angle 7.659574e-03\n",
      "  windmill_generated_power 7.340426e-03\n",
      "              motor_torque 8.510638e-04\n",
      "        engine_temperature 4.255319e-04\n",
      "     generator_temperature 4.255319e-04\n",
      "         shaft_temperature 7.092199e-05\n",
      "       gearbox_temperature 3.546099e-05\n",
      "                resistance 3.546099e-05\n",
      "          area_temperature 0.000000e+00\n",
      "            turbine_status 0.000000e+00\n",
      "               cloud_level 0.000000e+00\n",
      "             blade_breadth 0.000000e+00\n",
      "                      year 0.000000e+00\n",
      "                     month 0.000000e+00\n",
      "                      mday 0.000000e+00\n",
      "                      wday 0.000000e+00\n",
      "                      hour 0.000000e+00\n"
     ]
    },
    {
     "data": {
      "image/png": "[encoded data removed]",
      "text/plain": [
       "plot without title"
      ]
     },
     "metadata": {},
     "output_type": "display_data"
    }
   ],
   "source": [
    "# Missing Values Pattern\n",
    "aggr_plot <- aggr(wind.dt, col=c('black','red'), \n",
    "                  numbers=TRUE, sortVars=TRUE, labels=names(data), \n",
    "                  cex.axis=0.4, gap=10, ylab=c(\"Histogram of missing data\",\"Pattern\"))"
   ]
  },
  {
   "cell_type": "markdown",
   "id": "bdffa93b",
   "metadata": {},
   "source": [
    "## <a id='section2'>3. Data Imputation</a>"
   ]
  },
  {
   "cell_type": "code",
   "execution_count": 13,
   "id": "f786b1d1",
   "metadata": {},
   "outputs": [
    {
     "name": "stderr",
     "output_type": "stream",
     "text": [
      "Warning message:\n",
      "\"package 'mice' was built under R version 3.6.3\"\n",
      "Attaching package: 'mice'\n",
      "\n",
      "The following object is masked from 'package:stats':\n",
      "\n",
      "    filter\n",
      "\n",
      "The following objects are masked from 'package:base':\n",
      "\n",
      "    cbind, rbind\n",
      "\n"
     ]
    },
    {
     "name": "stdout",
     "output_type": "stream",
     "text": [
      "\n",
      " iter imp variable\n",
      "  1   1  wind_speed  atmospheric_temperature  blades_angle  engine_temperature  motor_torque  generator_temperature  atmospheric_pressure  windmill_body_temperature  wind_direction  resistance  rotor_torque  blade_length  windmill_height  windmill_generated_power\n",
      "  1   2  wind_speed  atmospheric_temperature  blades_angle  engine_temperature  motor_torque  generator_temperature  atmospheric_pressure  windmill_body_temperature  wind_direction  resistance  rotor_torque  blade_length  windmill_height  windmill_generated_power\n",
      "  1   3  wind_speed  atmospheric_temperature  blades_angle  engine_temperature  motor_torque  generator_temperature  atmospheric_pressure  windmill_body_temperature  wind_direction  resistance  rotor_torque  blade_length  windmill_height  windmill_generated_power\n",
      "  1   4  wind_speed  atmospheric_temperature  blades_angle  engine_temperature  motor_torque  generator_temperature  atmospheric_pressure  windmill_body_temperature  wind_direction  resistance  rotor_torque  blade_length  windmill_height  windmill_generated_power\n",
      "  1   5  wind_speed  atmospheric_temperature  blades_angle  engine_temperature  motor_torque  generator_temperature  atmospheric_pressure  windmill_body_temperature  wind_direction  resistance  rotor_torque  blade_length  windmill_height  windmill_generated_power\n",
      "  2   1  wind_speed  atmospheric_temperature  blades_angle  engine_temperature  motor_torque  generator_temperature  atmospheric_pressure  windmill_body_temperature  wind_direction  resistance  rotor_torque  blade_length  windmill_height  windmill_generated_power\n",
      "  2   2  wind_speed  atmospheric_temperature  blades_angle  engine_temperature  motor_torque  generator_temperature  atmospheric_pressure  windmill_body_temperature  wind_direction  resistance  rotor_torque  blade_length  windmill_height  windmill_generated_power\n",
      "  2   3  wind_speed  atmospheric_temperature  blades_angle  engine_temperature  motor_torque  generator_temperature  atmospheric_pressure  windmill_body_temperature  wind_direction  resistance  rotor_torque  blade_length  windmill_height  windmill_generated_power\n",
      "  2   4  wind_speed  atmospheric_temperature  blades_angle  engine_temperature  motor_torque  generator_temperature  atmospheric_pressure  windmill_body_temperature  wind_direction  resistance  rotor_torque  blade_length  windmill_height  windmill_generated_power\n",
      "  2   5  wind_speed  atmospheric_temperature  blades_angle  engine_temperature  motor_torque  generator_temperature  atmospheric_pressure  windmill_body_temperature  wind_direction  resistance  rotor_torque  blade_length  windmill_height  windmill_generated_power\n",
      "  3   1  wind_speed  atmospheric_temperature  blades_angle  engine_temperature  motor_torque  generator_temperature  atmospheric_pressure  windmill_body_temperature  wind_direction  resistance  rotor_torque  blade_length  windmill_height  windmill_generated_power\n",
      "  3   2  wind_speed  atmospheric_temperature  blades_angle  engine_temperature  motor_torque  generator_temperature  atmospheric_pressure  windmill_body_temperature  wind_direction  resistance  rotor_torque  blade_length  windmill_height  windmill_generated_power\n",
      "  3   3  wind_speed  atmospheric_temperature  blades_angle  engine_temperature  motor_torque  generator_temperature  atmospheric_pressure  windmill_body_temperature  wind_direction  resistance  rotor_torque  blade_length  windmill_height  windmill_generated_power\n",
      "  3   4  wind_speed  atmospheric_temperature  blades_angle  engine_temperature  motor_torque  generator_temperature  atmospheric_pressure  windmill_body_temperature  wind_direction  resistance  rotor_torque  blade_length  windmill_height  windmill_generated_power\n",
      "  3   5  wind_speed  atmospheric_temperature  blades_angle  engine_temperature  motor_torque  generator_temperature  atmospheric_pressure  windmill_body_temperature  wind_direction  resistance  rotor_torque  blade_length  windmill_height  windmill_generated_power\n",
      "  4   1  wind_speed  atmospheric_temperature  blades_angle  engine_temperature  motor_torque  generator_temperature  atmospheric_pressure  windmill_body_temperature  wind_direction  resistance  rotor_torque  blade_length  windmill_height  windmill_generated_power\n",
      "  4   2  wind_speed  atmospheric_temperature  blades_angle  engine_temperature  motor_torque  generator_temperature  atmospheric_pressure  windmill_body_temperature  wind_direction  resistance  rotor_torque  blade_length  windmill_height  windmill_generated_power\n",
      "  4   3  wind_speed  atmospheric_temperature  blades_angle  engine_temperature  motor_torque  generator_temperature  atmospheric_pressure  windmill_body_temperature  wind_direction  resistance  rotor_torque  blade_length  windmill_height  windmill_generated_power\n",
      "  4   4  wind_speed  atmospheric_temperature  blades_angle  engine_temperature  motor_torque  generator_temperature  atmospheric_pressure  windmill_body_temperature  wind_direction  resistance  rotor_torque  blade_length  windmill_height  windmill_generated_power\n",
      "  4   5  wind_speed  atmospheric_temperature  blades_angle  engine_temperature  motor_torque  generator_temperature  atmospheric_pressure  windmill_body_temperature  wind_direction  resistance  rotor_torque  blade_length  windmill_height  windmill_generated_power\n",
      "  5   1  wind_speed  atmospheric_temperature  blades_angle  engine_temperature  motor_torque  generator_temperature  atmospheric_pressure  windmill_body_temperature  wind_direction  resistance  rotor_torque  blade_length  windmill_height  windmill_generated_power\n",
      "  5   2  wind_speed  atmospheric_temperature  blades_angle  engine_temperature  motor_torque  generator_temperature  atmospheric_pressure  windmill_body_temperature  wind_direction  resistance  rotor_torque  blade_length  windmill_height  windmill_generated_power\n",
      "  5   3  wind_speed  atmospheric_temperature  blades_angle  engine_temperature  motor_torque  generator_temperature  atmospheric_pressure  windmill_body_temperature  wind_direction  resistance  rotor_torque  blade_length  windmill_height  windmill_generated_power\n",
      "  5   4  wind_speed  atmospheric_temperature  blades_angle  engine_temperature  motor_torque  generator_temperature  atmospheric_pressure  windmill_body_temperature  wind_direction  resistance  rotor_torque  blade_length  windmill_height  windmill_generated_power\n",
      "  5   5  wind_speed  atmospheric_temperature  blades_angle  engine_temperature  motor_torque  generator_temperature  atmospheric_pressure  windmill_body_temperature  wind_direction  resistance  rotor_torque  blade_length  windmill_height  windmill_generated_power\n",
      "\n",
      " iter imp variable\n",
      "  1   1  wind_speed  atmospheric_temperature  shaft_temperature  blades_angle  gearbox_temperature  engine_temperature  motor_torque  generator_temperature  atmospheric_pressure  windmill_body_temperature  wind_direction  rotor_torque  blade_length  windmill_height  windmill_generated_power\n",
      "  1   2  wind_speed  atmospheric_temperature  shaft_temperature  blades_angle  gearbox_temperature  engine_temperature  motor_torque  generator_temperature  atmospheric_pressure  windmill_body_temperature  wind_direction  rotor_torque  blade_length  windmill_height  windmill_generated_power\n",
      "  1   3  wind_speed  atmospheric_temperature  shaft_temperature  blades_angle  gearbox_temperature  engine_temperature  motor_torque  generator_temperature  atmospheric_pressure  windmill_body_temperature  wind_direction  rotor_torque  blade_length  windmill_height  windmill_generated_power\n",
      "  1   4  wind_speed  atmospheric_temperature  shaft_temperature  blades_angle  gearbox_temperature  engine_temperature  motor_torque  generator_temperature  atmospheric_pressure  windmill_body_temperature  wind_direction  rotor_torque  blade_length  windmill_height  windmill_generated_power\n",
      "  1   5  wind_speed  atmospheric_temperature  shaft_temperature  blades_angle  gearbox_temperature  engine_temperature  motor_torque  generator_temperature  atmospheric_pressure  windmill_body_temperature  wind_direction  rotor_torque  blade_length  windmill_height  windmill_generated_power\n",
      "  2   1  wind_speed  atmospheric_temperature  shaft_temperature  blades_angle  gearbox_temperature  engine_temperature  motor_torque  generator_temperature  atmospheric_pressure  windmill_body_temperature  wind_direction  rotor_torque  blade_length  windmill_height  windmill_generated_power\n",
      "  2   2  wind_speed  atmospheric_temperature  shaft_temperature  blades_angle  gearbox_temperature  engine_temperature  motor_torque  generator_temperature  atmospheric_pressure  windmill_body_temperature  wind_direction  rotor_torque  blade_length  windmill_height  windmill_generated_power\n",
      "  2   3  wind_speed  atmospheric_temperature  shaft_temperature  blades_angle  gearbox_temperature  engine_temperature  motor_torque  generator_temperature  atmospheric_pressure  windmill_body_temperature  wind_direction  rotor_torque  blade_length  windmill_height  windmill_generated_power\n",
      "  2   4  wind_speed  atmospheric_temperature  shaft_temperature  blades_angle  gearbox_temperature  engine_temperature  motor_torque  generator_temperature  atmospheric_pressure  windmill_body_temperature  wind_direction  rotor_torque  blade_length  windmill_height  windmill_generated_power\n",
      "  2   5  wind_speed  atmospheric_temperature  shaft_temperature  blades_angle  gearbox_temperature  engine_temperature  motor_torque  generator_temperature  atmospheric_pressure  windmill_body_temperature  wind_direction  rotor_torque  blade_length  windmill_height  windmill_generated_power\n",
      "  3   1  wind_speed  atmospheric_temperature  shaft_temperature  blades_angle  gearbox_temperature  engine_temperature  motor_torque  generator_temperature  atmospheric_pressure  windmill_body_temperature  wind_direction  rotor_torque  blade_length  windmill_height  windmill_generated_power\n",
      "  3   2  wind_speed  atmospheric_temperature  shaft_temperature  blades_angle  gearbox_temperature  engine_temperature  motor_torque  generator_temperature  atmospheric_pressure  windmill_body_temperature  wind_direction  rotor_torque  blade_length  windmill_height  windmill_generated_power\n",
      "  3   3  wind_speed  atmospheric_temperature  shaft_temperature  blades_angle  gearbox_temperature  engine_temperature  motor_torque  generator_temperature  atmospheric_pressure  windmill_body_temperature  wind_direction  rotor_torque  blade_length  windmill_height  windmill_generated_power\n",
      "  3   4  wind_speed  atmospheric_temperature  shaft_temperature  blades_angle  gearbox_temperature  engine_temperature  motor_torque  generator_temperature  atmospheric_pressure  windmill_body_temperature  wind_direction  rotor_torque  blade_length  windmill_height  windmill_generated_power\n",
      "  3   5  wind_speed  atmospheric_temperature  shaft_temperature  blades_angle  gearbox_temperature  engine_temperature  motor_torque  generator_temperature  atmospheric_pressure  windmill_body_temperature  wind_direction  rotor_torque  blade_length  windmill_height  windmill_generated_power\n",
      "  4   1  wind_speed  atmospheric_temperature  shaft_temperature  blades_angle  gearbox_temperature  engine_temperature  motor_torque  generator_temperature  atmospheric_pressure  windmill_body_temperature  wind_direction  rotor_torque  blade_length  windmill_height  windmill_generated_power\n",
      "  4   2  wind_speed  atmospheric_temperature  shaft_temperature  blades_angle  gearbox_temperature  engine_temperature  motor_torque  generator_temperature  atmospheric_pressure  windmill_body_temperature  wind_direction  rotor_torque  blade_length  windmill_height  windmill_generated_power\n",
      "  4   3  wind_speed  atmospheric_temperature  shaft_temperature  blades_angle  gearbox_temperature  engine_temperature  motor_torque  generator_temperature  atmospheric_pressure  windmill_body_temperature  wind_direction  rotor_torque  blade_length  windmill_height  windmill_generated_power\n",
      "  4   4  wind_speed  atmospheric_temperature  shaft_temperature  blades_angle  gearbox_temperature  engine_temperature  motor_torque  generator_temperature  atmospheric_pressure  windmill_body_temperature  wind_direction  rotor_torque  blade_length  windmill_height  windmill_generated_power\n",
      "  4   5  wind_speed  atmospheric_temperature  shaft_temperature  blades_angle  gearbox_temperature  engine_temperature  motor_torque  generator_temperature  atmospheric_pressure  windmill_body_temperature  wind_direction  rotor_torque  blade_length  windmill_height  windmill_generated_power\n",
      "  5   1  wind_speed  atmospheric_temperature  shaft_temperature  blades_angle  gearbox_temperature  engine_temperature  motor_torque  generator_temperature  atmospheric_pressure  windmill_body_temperature  wind_direction  rotor_torque  blade_length  windmill_height  windmill_generated_power\n",
      "  5   2  wind_speed  atmospheric_temperature  shaft_temperature  blades_angle  gearbox_temperature  engine_temperature  motor_torque  generator_temperature  atmospheric_pressure  windmill_body_temperature  wind_direction  rotor_torque  blade_length  windmill_height  windmill_generated_power\n",
      "  5   3  wind_speed  atmospheric_temperature  shaft_temperature  blades_angle  gearbox_temperature  engine_temperature  motor_torque  generator_temperature  atmospheric_pressure  windmill_body_temperature  wind_direction  rotor_torque  blade_length  windmill_height  windmill_generated_power\n",
      "  5   4  wind_speed  atmospheric_temperature  shaft_temperature  blades_angle  gearbox_temperature  engine_temperature  motor_torque  generator_temperature  atmospheric_pressure  windmill_body_temperature  wind_direction  rotor_torque  blade_length  windmill_height  windmill_generated_power\n",
      "  5   5  wind_speed  atmospheric_temperature  shaft_temperature  blades_angle  gearbox_temperature  engine_temperature  motor_torque  generator_temperature  atmospheric_pressure  windmill_body_temperature  wind_direction  rotor_torque  blade_length  windmill_height  windmill_generated_power\n"
     ]
    }
   ],
   "source": [
    "# Data imputation with MICE stochastic regression imputation\n",
    "library(mice)\n",
    "\n",
    "trainset[trainset == \"\"] <- NA # account for \"\" as NA\n",
    "testset[testset == \"\"] <- NA\n",
    "\n",
    "data_imputation = function(data)\n",
    "{\n",
    "  # Imputing Numeric missing data using MICE stochastic regression imputation\n",
    "  imp = mice(data[,c(1:14,17,19:20)], method = \"norm.nob\", m = 5, maxit = 5)\n",
    "  data1 = complete(imp,2)\n",
    "  \n",
    "  # Filling missing values in categorical variables using KNN imputer\n",
    "  imp2 = kNN(data[,c(15,16)])\n",
    "  data2 = imp2[,c(1,2)]\n",
    "  \n",
    "  # Concatenating all the imputed features\n",
    "  data1 = cbind(data[,c(18,21:25)],data1, data2)\n",
    "  \n",
    "  return(data1)\n",
    "}\n",
    "\n",
    "trainset.imputation <- data_imputation(trainset)\n",
    "testset.imputation <- data_imputation(testset)"
   ]
  },
  {
   "cell_type": "code",
   "execution_count": 14,
   "id": "f984eec9",
   "metadata": {},
   "outputs": [
    {
     "data": {
      "text/html": [
       "15912"
      ],
      "text/latex": [
       "15912"
      ],
      "text/markdown": [
       "15912"
      ],
      "text/plain": [
       "[1] 15912"
      ]
     },
     "metadata": {},
     "output_type": "display_data"
    },
    {
     "data": {
      "text/html": [
       "0"
      ],
      "text/latex": [
       "0"
      ],
      "text/markdown": [
       "0"
      ],
      "text/plain": [
       "[1] 0"
      ]
     },
     "metadata": {},
     "output_type": "display_data"
    },
    {
     "data": {
      "text/html": [
       "6702"
      ],
      "text/latex": [
       "6702"
      ],
      "text/markdown": [
       "6702"
      ],
      "text/plain": [
       "[1] 6702"
      ]
     },
     "metadata": {},
     "output_type": "display_data"
    },
    {
     "data": {
      "text/html": [
       "0"
      ],
      "text/latex": [
       "0"
      ],
      "text/markdown": [
       "0"
      ],
      "text/plain": [
       "[1] 0"
      ]
     },
     "metadata": {},
     "output_type": "display_data"
    }
   ],
   "source": [
    "# Check NAs\n",
    "sum(is.na(trainset)) \n",
    "sum(is.na(trainset.imputation))\n",
    "sum(is.na(testset))\n",
    "sum(is.na(testset.imputation))"
   ]
  },
  {
   "cell_type": "code",
   "execution_count": 15,
   "id": "5b75549d",
   "metadata": {},
   "outputs": [],
   "source": [
    "trainset.imputation$cloud_level = as.factor(trainset.imputation$cloud_level)\n",
    "trainset$cloud_level = as.factor(trainset$cloud_level)\n",
    "testset.imputation$cloud_level = as.factor(testset.imputation$cloud_level)\n",
    "testset$cloud_level = as.factor(testset$cloud_level)\n",
    "\n",
    "trainset.imputation$cloud_level <- droplevels(trainset.imputation$cloud_level) # removes unused \"\" level\n",
    "trainset$cloud_level <- droplevels(trainset$cloud_level) # removes unused \"\" level\n",
    "testset.imputation$cloud_level <- droplevels(testset.imputation$cloud_level) # removes unused \"\" level\n",
    "testset$cloud_level <- droplevels(testset$cloud_level) # removes unused \"\" level"
   ]
  },
  {
   "cell_type": "markdown",
   "id": "95640da8",
   "metadata": {},
   "source": [
    "### We now have 2 sets of train/test data, one with data imputation to handle NAs and one without handling of NAs."
   ]
  },
  {
   "cell_type": "markdown",
   "id": "549fb879",
   "metadata": {},
   "source": [
    "## <a id='section4'>4. Linear Regression</a>"
   ]
  },
  {
   "cell_type": "code",
   "execution_count": 16,
   "id": "d3d64856",
   "metadata": {},
   "outputs": [
    {
     "name": "stderr",
     "output_type": "stream",
     "text": [
      "Loading required package: carData\n",
      "Warning message:\n",
      "\"package 'carData' was built under R version 3.6.3\""
     ]
    }
   ],
   "source": [
    "library(car)"
   ]
  },
  {
   "cell_type": "markdown",
   "id": "8ab03dc0",
   "metadata": {},
   "source": [
    "### LR Model 0\n",
    "**trainset.imputation, selected time data (no year)**"
   ]
  },
  {
   "cell_type": "code",
   "execution_count": 17,
   "id": "24013ae5",
   "metadata": {},
   "outputs": [
    {
     "data": {
      "text/plain": [
       "\n",
       "Call:\n",
       "lm(formula = windmill_generated_power ~ . - year, data = trainset.imputation)\n",
       "\n",
       "Residuals:\n",
       "    Min      1Q  Median      3Q     Max \n",
       "-7.4729 -1.1610 -0.1136  1.0148 13.9593 \n",
       "\n",
       "Coefficients:\n",
       "                            Estimate Std. Error t value Pr(>|t|)    \n",
       "(Intercept)                2.973e+00  2.248e-01  13.223  < 2e-16 ***\n",
       "blade_breadth              5.364e-01  2.116e-01   2.535 0.011248 *  \n",
       "month2                    -2.090e-01  5.726e-02  -3.650 0.000263 ***\n",
       "month3                    -2.213e+00  6.206e-02 -35.669  < 2e-16 ***\n",
       "month4                    -3.191e+00  7.006e-02 -45.547  < 2e-16 ***\n",
       "month5                    -2.129e+00  6.358e-02 -33.477  < 2e-16 ***\n",
       "month6                    -1.373e+00  6.675e-02 -20.568  < 2e-16 ***\n",
       "month7                    -1.648e+00  6.302e-02 -26.152  < 2e-16 ***\n",
       "month8                    -2.011e+00  6.030e-02 -33.354  < 2e-16 ***\n",
       "month9                    -2.322e+00  6.300e-02 -36.861  < 2e-16 ***\n",
       "month10                   -1.781e+00  1.429e-01 -12.461  < 2e-16 ***\n",
       "month11                   -3.129e+00  6.149e-02 -50.888  < 2e-16 ***\n",
       "month12                   -5.238e-01  5.707e-02  -9.179  < 2e-16 ***\n",
       "mday2                     -3.407e-01  9.996e-02  -3.408 0.000656 ***\n",
       "mday3                     -7.461e-01  1.001e-01  -7.457 9.21e-14 ***\n",
       "mday4                     -3.034e-01  9.599e-02  -3.161 0.001576 ** \n",
       "mday5                     -5.150e-01  9.517e-02  -5.412 6.32e-08 ***\n",
       "mday6                     -2.395e-01  9.504e-02  -2.520 0.011754 *  \n",
       "mday7                     -5.624e-01  9.425e-02  -5.967 2.45e-09 ***\n",
       "mday8                     -5.865e-01  9.319e-02  -6.294 3.16e-10 ***\n",
       "mday9                     -7.060e-01  9.816e-02  -7.193 6.57e-13 ***\n",
       "mday10                    -9.425e-01  9.718e-02  -9.699  < 2e-16 ***\n",
       "mday11                    -1.085e+00  9.767e-02 -11.113  < 2e-16 ***\n",
       "mday12                    -9.083e-01  9.924e-02  -9.152  < 2e-16 ***\n",
       "mday13                    -9.833e-01  9.898e-02  -9.934  < 2e-16 ***\n",
       "mday14                    -6.685e-01  9.694e-02  -6.896 5.51e-12 ***\n",
       "mday15                    -3.679e-01  9.506e-02  -3.870 0.000109 ***\n",
       "mday16                    -2.656e-01  9.825e-02  -2.704 0.006867 ** \n",
       "mday17                    -3.530e-01  9.460e-02  -3.731 0.000191 ***\n",
       "mday18                    -2.711e-01  9.832e-02  -2.758 0.005826 ** \n",
       "mday19                    -4.298e-01  9.696e-02  -4.433 9.35e-06 ***\n",
       "mday20                    -2.236e-01  1.004e-01  -2.227 0.025933 *  \n",
       "mday21                    -9.578e-02  9.760e-02  -0.981 0.326461    \n",
       "mday22                    -8.483e-02  9.338e-02  -0.908 0.363627    \n",
       "mday23                    -1.142e-01  9.700e-02  -1.177 0.239188    \n",
       "mday24                     8.691e-02  1.010e-01   0.860 0.389727    \n",
       "mday25                     7.029e-01  9.875e-02   7.118 1.13e-12 ***\n",
       "mday26                     2.704e-01  9.849e-02   2.746 0.006039 ** \n",
       "mday27                     8.853e-02  9.928e-02   0.892 0.372551    \n",
       "mday28                     6.223e-02  9.857e-02   0.631 0.527847    \n",
       "mday29                     1.733e-01  1.015e-01   1.707 0.087800 .  \n",
       "mday30                     5.175e-01  1.041e-01   4.974 6.63e-07 ***\n",
       "mday31                    -2.081e-01  1.126e-01  -1.847 0.064740 .  \n",
       "wday1                     -6.723e-02  4.823e-02  -1.394 0.163409    \n",
       "wday2                      8.041e-02  4.797e-02   1.676 0.093720 .  \n",
       "wday3                      7.019e-02  4.877e-02   1.439 0.150125    \n",
       "wday4                      1.104e-01  4.845e-02   2.278 0.022712 *  \n",
       "wday5                      2.595e-01  4.879e-02   5.318 1.06e-07 ***\n",
       "wday6                     -1.123e-01  4.843e-02  -2.318 0.020436 *  \n",
       "hour                       2.787e-03  1.922e-03   1.450 0.147112    \n",
       "wind_speed                -1.669e-03  1.827e-04  -9.137  < 2e-16 ***\n",
       "atmospheric_temperature   -1.724e-03  2.857e-04  -6.035 1.61e-09 ***\n",
       "shaft_temperature         -8.665e-04  4.736e-04  -1.829 0.067342 .  \n",
       "blades_angle              -3.901e-04  2.743e-04  -1.422 0.154997    \n",
       "gearbox_temperature        7.111e-04  2.925e-04   2.431 0.015076 *  \n",
       "engine_temperature         2.042e-02  2.363e-03   8.643  < 2e-16 ***\n",
       "motor_torque               2.887e-03  4.692e-05  61.518  < 2e-16 ***\n",
       "generator_temperature     -9.034e-02  2.078e-03 -43.481  < 2e-16 ***\n",
       "atmospheric_pressure       6.529e-07  6.896e-08   9.468  < 2e-16 ***\n",
       "area_temperature           7.854e-02  2.390e-03  32.866  < 2e-16 ***\n",
       "windmill_body_temperature -5.915e-04  2.310e-04  -2.560 0.010461 *  \n",
       "wind_direction             2.776e-03  1.054e-04  26.330  < 2e-16 ***\n",
       "resistance                 7.234e-05  3.081e-05   2.348 0.018886 *  \n",
       "rotor_torque              -2.507e-04  4.215e-04  -0.595 0.551922    \n",
       "blade_length               1.549e-03  1.081e-03   1.433 0.151828    \n",
       "windmill_height            8.218e-04  1.615e-03   0.509 0.610882    \n",
       "turbine_statusA2           7.420e-03  6.843e-02   0.108 0.913652    \n",
       "turbine_statusAAA         -1.353e-01  6.511e-02  -2.078 0.037749 *  \n",
       "turbine_statusAB          -2.741e-02  6.685e-02  -0.410 0.681787    \n",
       "turbine_statusABC         -7.993e-02  6.803e-02  -1.175 0.240049    \n",
       "turbine_statusAC          -1.336e-01  6.704e-02  -1.993 0.046305 *  \n",
       "turbine_statusB           -9.043e-02  6.864e-02  -1.317 0.187729    \n",
       "turbine_statusB2          -5.211e-03  6.651e-02  -0.078 0.937553    \n",
       "turbine_statusBA          -1.519e-01  6.562e-02  -2.315 0.020636 *  \n",
       "turbine_statusBB          -2.003e-02  6.649e-02  -0.301 0.763218    \n",
       "turbine_statusBBB         -1.602e-01  6.881e-02  -2.329 0.019871 *  \n",
       "turbine_statusBCB         -6.132e-02  6.695e-02  -0.916 0.359731    \n",
       "turbine_statusBD          -9.303e-02  6.724e-02  -1.384 0.166497    \n",
       "turbine_statusD           -1.190e-01  6.829e-02  -1.743 0.081405 .  \n",
       "cloud_levelLow             1.434e+00  1.314e-01  10.914  < 2e-16 ***\n",
       "cloud_levelMedium          1.492e+00  1.317e-01  11.330  < 2e-16 ***\n",
       "---\n",
       "Signif. codes:  0 '***' 0.001 '**' 0.01 '*' 0.05 '.' 0.1 ' ' 1\n",
       "\n",
       "Residual standard error: 1.757 on 19659 degrees of freedom\n",
       "Multiple R-squared:  0.5795,\tAdjusted R-squared:  0.5778 \n",
       "F-statistic: 338.6 on 80 and 19659 DF,  p-value: < 2.2e-16\n"
      ]
     },
     "metadata": {},
     "output_type": "display_data"
    }
   ],
   "source": [
    "# Develop model on trainset.imputation, including selected time data\n",
    "m0 <- lm(windmill_generated_power ~ . - year, data = trainset.imputation)\n",
    "summary(m0)"
   ]
  },
  {
   "cell_type": "code",
   "execution_count": 18,
   "id": "3f5a930a",
   "metadata": {},
   "outputs": [
    {
     "name": "stdout",
     "output_type": "stream",
     "text": [
      "[1] 1.753353\n"
     ]
    },
    {
     "data": {
      "text/plain": [
       "     Min.   1st Qu.    Median      Mean   3rd Qu.      Max. \n",
       " 0.000075  0.513121  1.092209  1.348214  1.890298 13.959275 "
      ]
     },
     "metadata": {},
     "output_type": "display_data"
    }
   ],
   "source": [
    "# Residuals = Error = Actual mpg - Model Predicted mpg\n",
    "RMSE.m0.train.imputation <- sqrt(mean(residuals(m0)^2))  # RMSE on trainset based on m5 model.\n",
    "print(RMSE.m0.train.imputation)\n",
    "summary(abs(residuals(m0)))  # Check Min Abs Error and Max Abs Error."
   ]
  },
  {
   "cell_type": "code",
   "execution_count": 19,
   "id": "f1b50cc7",
   "metadata": {},
   "outputs": [
    {
     "name": "stdout",
     "output_type": "stream",
     "text": [
      "[1] 1.739269\n"
     ]
    },
    {
     "data": {
      "text/plain": [
       "     Min.   1st Qu.    Median      Mean   3rd Qu.      Max. \n",
       " 0.000141  0.516942  1.070163  1.336821  1.878491 14.714095 "
      ]
     },
     "metadata": {},
     "output_type": "display_data"
    }
   ],
   "source": [
    "# Apply model from trainset to predict on testset.\n",
    "predict.m0.test.imputation <- predict(m0, newdata = testset.imputation)\n",
    "testset.imputation.error <- testset.imputation$windmill_generated_power - predict.m0.test.imputation\n",
    "\n",
    "# Testset Errors\n",
    "RMSE.m0.test.imputation <- sqrt(mean(testset.imputation.error^2))\n",
    "print(RMSE.m0.test.imputation)\n",
    "summary(abs(testset.imputation.error))"
   ]
  },
  {
   "cell_type": "code",
   "execution_count": 20,
   "id": "490de73a",
   "metadata": {},
   "outputs": [
    {
     "data": {
      "text/html": [
       "<table>\n",
       "<thead><tr><th></th><th scope=col>GVIF</th><th scope=col>Df</th><th scope=col>GVIF^(1/(2*Df))</th></tr></thead>\n",
       "<tbody>\n",
       "\t<tr><th scope=row>blade_breadth</th><td> 1.074710</td><td> 1       </td><td>1.036682 </td></tr>\n",
       "\t<tr><th scope=row>month</th><td> 3.825437</td><td>11       </td><td>1.062883 </td></tr>\n",
       "\t<tr><th scope=row>mday</th><td> 1.769833</td><td>30       </td><td>1.009560 </td></tr>\n",
       "\t<tr><th scope=row>wday</th><td> 1.284834</td><td> 6       </td><td>1.021105 </td></tr>\n",
       "\t<tr><th scope=row>hour</th><td> 1.124648</td><td> 1       </td><td>1.060494 </td></tr>\n",
       "\t<tr><th scope=row>wind_speed</th><td> 1.247152</td><td> 1       </td><td>1.116760 </td></tr>\n",
       "\t<tr><th scope=row>atmospheric_temperature</th><td> 1.022881</td><td> 1       </td><td>1.011376 </td></tr>\n",
       "\t<tr><th scope=row>shaft_temperature</th><td> 1.047713</td><td> 1       </td><td>1.023579 </td></tr>\n",
       "\t<tr><th scope=row>blades_angle</th><td> 1.108934</td><td> 1       </td><td>1.053060 </td></tr>\n",
       "\t<tr><th scope=row>gearbox_temperature</th><td> 1.022365</td><td> 1       </td><td>1.011120 </td></tr>\n",
       "\t<tr><th scope=row>engine_temperature</th><td> 1.314602</td><td> 1       </td><td>1.146561 </td></tr>\n",
       "\t<tr><th scope=row>motor_torque</th><td> 9.654383</td><td> 1       </td><td>3.107150 </td></tr>\n",
       "\t<tr><th scope=row>generator_temperature</th><td>10.880957</td><td> 1       </td><td>3.298630 </td></tr>\n",
       "\t<tr><th scope=row>atmospheric_pressure</th><td> 1.068668</td><td> 1       </td><td>1.033764 </td></tr>\n",
       "\t<tr><th scope=row>area_temperature</th><td> 2.178244</td><td> 1       </td><td>1.475888 </td></tr>\n",
       "\t<tr><th scope=row>windmill_body_temperature</th><td> 1.013439</td><td> 1       </td><td>1.006697 </td></tr>\n",
       "\t<tr><th scope=row>wind_direction</th><td> 1.303295</td><td> 1       </td><td>1.141619 </td></tr>\n",
       "\t<tr><th scope=row>resistance</th><td> 1.421896</td><td> 1       </td><td>1.192433 </td></tr>\n",
       "\t<tr><th scope=row>rotor_torque</th><td> 1.185019</td><td> 1       </td><td>1.088586 </td></tr>\n",
       "\t<tr><th scope=row>blade_length</th><td> 1.004571</td><td> 1       </td><td>1.002283 </td></tr>\n",
       "\t<tr><th scope=row>windmill_height</th><td> 1.006579</td><td> 1       </td><td>1.003284 </td></tr>\n",
       "\t<tr><th scope=row>turbine_status</th><td> 1.054578</td><td>13       </td><td>1.002046 </td></tr>\n",
       "\t<tr><th scope=row>cloud_level</th><td> 1.138548</td><td> 2       </td><td>1.032970 </td></tr>\n",
       "</tbody>\n",
       "</table>\n"
      ],
      "text/latex": [
       "\\begin{tabular}{r|lll}\n",
       "  & GVIF & Df & GVIF\\textasciicircum{}(1/(2*Df))\\\\\n",
       "\\hline\n",
       "\tblade\\_breadth &  1.074710 &  1        & 1.036682 \\\\\n",
       "\tmonth &  3.825437 & 11        & 1.062883 \\\\\n",
       "\tmday &  1.769833 & 30        & 1.009560 \\\\\n",
       "\twday &  1.284834 &  6        & 1.021105 \\\\\n",
       "\thour &  1.124648 &  1        & 1.060494 \\\\\n",
       "\twind\\_speed &  1.247152 &  1        & 1.116760 \\\\\n",
       "\tatmospheric\\_temperature &  1.022881 &  1        & 1.011376 \\\\\n",
       "\tshaft\\_temperature &  1.047713 &  1        & 1.023579 \\\\\n",
       "\tblades\\_angle &  1.108934 &  1        & 1.053060 \\\\\n",
       "\tgearbox\\_temperature &  1.022365 &  1        & 1.011120 \\\\\n",
       "\tengine\\_temperature &  1.314602 &  1        & 1.146561 \\\\\n",
       "\tmotor\\_torque &  9.654383 &  1        & 3.107150 \\\\\n",
       "\tgenerator\\_temperature & 10.880957 &  1        & 3.298630 \\\\\n",
       "\tatmospheric\\_pressure &  1.068668 &  1        & 1.033764 \\\\\n",
       "\tarea\\_temperature &  2.178244 &  1        & 1.475888 \\\\\n",
       "\twindmill\\_body\\_temperature &  1.013439 &  1        & 1.006697 \\\\\n",
       "\twind\\_direction &  1.303295 &  1        & 1.141619 \\\\\n",
       "\tresistance &  1.421896 &  1        & 1.192433 \\\\\n",
       "\trotor\\_torque &  1.185019 &  1        & 1.088586 \\\\\n",
       "\tblade\\_length &  1.004571 &  1        & 1.002283 \\\\\n",
       "\twindmill\\_height &  1.006579 &  1        & 1.003284 \\\\\n",
       "\tturbine\\_status &  1.054578 & 13        & 1.002046 \\\\\n",
       "\tcloud\\_level &  1.138548 &  2        & 1.032970 \\\\\n",
       "\\end{tabular}\n"
      ],
      "text/markdown": [
       "\n",
       "| <!--/--> | GVIF | Df | GVIF^(1/(2*Df)) |\n",
       "|---|---|---|---|\n",
       "| blade_breadth |  1.074710 |  1        | 1.036682  |\n",
       "| month |  3.825437 | 11        | 1.062883  |\n",
       "| mday |  1.769833 | 30        | 1.009560  |\n",
       "| wday |  1.284834 |  6        | 1.021105  |\n",
       "| hour |  1.124648 |  1        | 1.060494  |\n",
       "| wind_speed |  1.247152 |  1        | 1.116760  |\n",
       "| atmospheric_temperature |  1.022881 |  1        | 1.011376  |\n",
       "| shaft_temperature |  1.047713 |  1        | 1.023579  |\n",
       "| blades_angle |  1.108934 |  1        | 1.053060  |\n",
       "| gearbox_temperature |  1.022365 |  1        | 1.011120  |\n",
       "| engine_temperature |  1.314602 |  1        | 1.146561  |\n",
       "| motor_torque |  9.654383 |  1        | 3.107150  |\n",
       "| generator_temperature | 10.880957 |  1        | 3.298630  |\n",
       "| atmospheric_pressure |  1.068668 |  1        | 1.033764  |\n",
       "| area_temperature |  2.178244 |  1        | 1.475888  |\n",
       "| windmill_body_temperature |  1.013439 |  1        | 1.006697  |\n",
       "| wind_direction |  1.303295 |  1        | 1.141619  |\n",
       "| resistance |  1.421896 |  1        | 1.192433  |\n",
       "| rotor_torque |  1.185019 |  1        | 1.088586  |\n",
       "| blade_length |  1.004571 |  1        | 1.002283  |\n",
       "| windmill_height |  1.006579 |  1        | 1.003284  |\n",
       "| turbine_status |  1.054578 | 13        | 1.002046  |\n",
       "| cloud_level |  1.138548 |  2        | 1.032970  |\n",
       "\n"
      ],
      "text/plain": [
       "                          GVIF      Df GVIF^(1/(2*Df))\n",
       "blade_breadth              1.074710  1 1.036682       \n",
       "month                      3.825437 11 1.062883       \n",
       "mday                       1.769833 30 1.009560       \n",
       "wday                       1.284834  6 1.021105       \n",
       "hour                       1.124648  1 1.060494       \n",
       "wind_speed                 1.247152  1 1.116760       \n",
       "atmospheric_temperature    1.022881  1 1.011376       \n",
       "shaft_temperature          1.047713  1 1.023579       \n",
       "blades_angle               1.108934  1 1.053060       \n",
       "gearbox_temperature        1.022365  1 1.011120       \n",
       "engine_temperature         1.314602  1 1.146561       \n",
       "motor_torque               9.654383  1 3.107150       \n",
       "generator_temperature     10.880957  1 3.298630       \n",
       "atmospheric_pressure       1.068668  1 1.033764       \n",
       "area_temperature           2.178244  1 1.475888       \n",
       "windmill_body_temperature  1.013439  1 1.006697       \n",
       "wind_direction             1.303295  1 1.141619       \n",
       "resistance                 1.421896  1 1.192433       \n",
       "rotor_torque               1.185019  1 1.088586       \n",
       "blade_length               1.004571  1 1.002283       \n",
       "windmill_height            1.006579  1 1.003284       \n",
       "turbine_status             1.054578 13 1.002046       \n",
       "cloud_level                1.138548  2 1.032970       "
      ]
     },
     "metadata": {},
     "output_type": "display_data"
    }
   ],
   "source": [
    "# Check for multicollinearity\n",
    "vif(m0)"
   ]
  },
  {
   "cell_type": "markdown",
   "id": "23c8f9c4",
   "metadata": {},
   "source": [
    "### LR Model 1\n",
    "**trainset.imputation, no time data**"
   ]
  },
  {
   "cell_type": "code",
   "execution_count": 21,
   "id": "70b14add",
   "metadata": {},
   "outputs": [
    {
     "data": {
      "text/plain": [
       "\n",
       "Call:\n",
       "lm(formula = windmill_generated_power ~ . - year - mday - wday - \n",
       "    month - hour, data = trainset.imputation)\n",
       "\n",
       "Residuals:\n",
       "    Min      1Q  Median      3Q     Max \n",
       "-6.8104 -1.3481 -0.2129  1.1351 16.2191 \n",
       "\n",
       "Coefficients:\n",
       "                            Estimate Std. Error t value Pr(>|t|)    \n",
       "(Intercept)               -4.444e-01  2.118e-01  -2.098  0.03594 *  \n",
       "blade_breadth              5.539e-01  2.421e-01   2.288  0.02214 *  \n",
       "wind_speed                -2.633e-03  2.085e-04 -12.626  < 2e-16 ***\n",
       "atmospheric_temperature   -2.227e-03  3.264e-04  -6.821 9.32e-12 ***\n",
       "shaft_temperature         -1.019e-03  5.418e-04  -1.881  0.06000 .  \n",
       "blades_angle              -2.721e-04  3.131e-04  -0.869  0.38489    \n",
       "gearbox_temperature        8.199e-04  3.347e-04   2.450  0.01429 *  \n",
       "engine_temperature         3.292e-02  2.659e-03  12.377  < 2e-16 ***\n",
       "motor_torque               3.322e-03  5.213e-05  63.735  < 2e-16 ***\n",
       "generator_temperature     -9.730e-02  2.300e-03 -42.307  < 2e-16 ***\n",
       "atmospheric_pressure       9.114e-07  7.879e-08  11.567  < 2e-16 ***\n",
       "area_temperature           7.238e-02  2.229e-03  32.467  < 2e-16 ***\n",
       "windmill_body_temperature -7.794e-04  2.643e-04  -2.949  0.00319 ** \n",
       "wind_direction             5.197e-03  1.097e-04  47.361  < 2e-16 ***\n",
       "resistance                 1.362e-04  3.521e-05   3.868  0.00011 ***\n",
       "rotor_torque              -3.293e-05  4.824e-04  -0.068  0.94557    \n",
       "blade_length               1.431e-03  1.236e-03   1.157  0.24720    \n",
       "windmill_height            3.837e-05  1.847e-03   0.021  0.98343    \n",
       "turbine_statusA2          -2.158e-02  7.825e-02  -0.276  0.78272    \n",
       "turbine_statusAAA         -1.906e-01  7.447e-02  -2.559  0.01051 *  \n",
       "turbine_statusAB          -7.026e-02  7.646e-02  -0.919  0.35819    \n",
       "turbine_statusABC         -1.110e-01  7.782e-02  -1.426  0.15375    \n",
       "turbine_statusAC          -2.124e-01  7.666e-02  -2.771  0.00560 ** \n",
       "turbine_statusB           -1.963e-01  7.852e-02  -2.500  0.01241 *  \n",
       "turbine_statusB2          -4.905e-02  7.610e-02  -0.645  0.51923    \n",
       "turbine_statusBA          -2.176e-01  7.505e-02  -2.900  0.00374 ** \n",
       "turbine_statusBB           2.757e-03  7.606e-02   0.036  0.97109    \n",
       "turbine_statusBBB         -2.339e-01  7.870e-02  -2.972  0.00296 ** \n",
       "turbine_statusBCB         -1.423e-01  7.656e-02  -1.859  0.06309 .  \n",
       "turbine_statusBD          -1.466e-01  7.689e-02  -1.907  0.05656 .  \n",
       "turbine_statusD           -1.436e-01  7.812e-02  -1.839  0.06599 .  \n",
       "cloud_levelLow             1.644e+00  1.499e-01  10.973  < 2e-16 ***\n",
       "cloud_levelMedium          1.725e+00  1.502e-01  11.486  < 2e-16 ***\n",
       "---\n",
       "Signif. codes:  0 '***' 0.001 '**' 0.01 '*' 0.05 '.' 0.1 ' ' 1\n",
       "\n",
       "Residual standard error: 2.012 on 19707 degrees of freedom\n",
       "Multiple R-squared:  0.4471,\tAdjusted R-squared:  0.4462 \n",
       "F-statistic:   498 on 32 and 19707 DF,  p-value: < 2.2e-16\n"
      ]
     },
     "metadata": {},
     "output_type": "display_data"
    }
   ],
   "source": [
    "# Develop model on trainset.imputation, excluding time data\n",
    "m1 <- lm(windmill_generated_power ~ . - year - mday - wday - month - hour, data = trainset.imputation)\n",
    "summary(m1)"
   ]
  },
  {
   "cell_type": "code",
   "execution_count": 22,
   "id": "dade44e2",
   "metadata": {},
   "outputs": [
    {
     "name": "stdout",
     "output_type": "stream",
     "text": [
      "[1] 2.010461\n"
     ]
    },
    {
     "data": {
      "text/plain": [
       "     Min.   1st Qu.    Median      Mean   3rd Qu.      Max. \n",
       " 0.000552  0.590675  1.260905  1.548534  2.178869 16.219149 "
      ]
     },
     "metadata": {},
     "output_type": "display_data"
    }
   ],
   "source": [
    "# Residuals = Error = Actual mpg - Model Predicted mpg\n",
    "RMSE.m1.train.imputation <- sqrt(mean(residuals(m1)^2))  # RMSE on trainset based on m5 model.\n",
    "print(RMSE.m1.train.imputation)\n",
    "summary(abs(residuals(m1)))  # Check Min Abs Error and Max Abs Error."
   ]
  },
  {
   "cell_type": "code",
   "execution_count": 23,
   "id": "e45cc81e",
   "metadata": {},
   "outputs": [
    {
     "name": "stdout",
     "output_type": "stream",
     "text": [
      "[1] 1.998935\n"
     ]
    },
    {
     "data": {
      "text/plain": [
       "     Min.   1st Qu.    Median      Mean   3rd Qu.      Max. \n",
       " 0.001189  0.590320  1.263676  1.544001  2.166004 13.579316 "
      ]
     },
     "metadata": {},
     "output_type": "display_data"
    }
   ],
   "source": [
    "# Apply model from trainset to predict on testset.\n",
    "predict.m1.test.imputation <- predict(m1, newdata = testset.imputation)\n",
    "testset.imputation.error <- testset.imputation$windmill_generated_power - predict.m1.test.imputation\n",
    "\n",
    "# Testset Errors\n",
    "RMSE.m1.test.imputation <- sqrt(mean(testset.imputation.error^2))\n",
    "print(RMSE.m1.test.imputation)\n",
    "summary(abs(testset.imputation.error))"
   ]
  },
  {
   "cell_type": "code",
   "execution_count": 24,
   "id": "b1b43f78",
   "metadata": {},
   "outputs": [
    {
     "data": {
      "text/html": [
       "<table>\n",
       "<thead><tr><th></th><th scope=col>GVIF</th><th scope=col>Df</th><th scope=col>GVIF^(1/(2*Df))</th></tr></thead>\n",
       "<tbody>\n",
       "\t<tr><th scope=row>blade_breadth</th><td> 1.072315</td><td> 1       </td><td>1.035527 </td></tr>\n",
       "\t<tr><th scope=row>wind_speed</th><td> 1.238589</td><td> 1       </td><td>1.112919 </td></tr>\n",
       "\t<tr><th scope=row>atmospheric_temperature</th><td> 1.018157</td><td> 1       </td><td>1.009038 </td></tr>\n",
       "\t<tr><th scope=row>shaft_temperature</th><td> 1.045355</td><td> 1       </td><td>1.022426 </td></tr>\n",
       "\t<tr><th scope=row>blades_angle</th><td> 1.101366</td><td> 1       </td><td>1.049460 </td></tr>\n",
       "\t<tr><th scope=row>gearbox_temperature</th><td> 1.020111</td><td> 1       </td><td>1.010005 </td></tr>\n",
       "\t<tr><th scope=row>engine_temperature</th><td> 1.269414</td><td> 1       </td><td>1.126683 </td></tr>\n",
       "\t<tr><th scope=row>motor_torque</th><td> 9.083992</td><td> 1       </td><td>3.013966 </td></tr>\n",
       "\t<tr><th scope=row>generator_temperature</th><td>10.165014</td><td> 1       </td><td>3.188262 </td></tr>\n",
       "\t<tr><th scope=row>atmospheric_pressure</th><td> 1.063890</td><td> 1       </td><td>1.031450 </td></tr>\n",
       "\t<tr><th scope=row>area_temperature</th><td> 1.445034</td><td> 1       </td><td>1.202095 </td></tr>\n",
       "\t<tr><th scope=row>windmill_body_temperature</th><td> 1.010993</td><td> 1       </td><td>1.005482 </td></tr>\n",
       "\t<tr><th scope=row>wind_direction</th><td> 1.076561</td><td> 1       </td><td>1.037575 </td></tr>\n",
       "\t<tr><th scope=row>resistance</th><td> 1.416114</td><td> 1       </td><td>1.190006 </td></tr>\n",
       "\t<tr><th scope=row>rotor_torque</th><td> 1.183282</td><td> 1       </td><td>1.087788 </td></tr>\n",
       "\t<tr><th scope=row>blade_length</th><td> 1.002113</td><td> 1       </td><td>1.001056 </td></tr>\n",
       "\t<tr><th scope=row>windmill_height</th><td> 1.003876</td><td> 1       </td><td>1.001936 </td></tr>\n",
       "\t<tr><th scope=row>turbine_status</th><td> 1.017482</td><td>13       </td><td>1.000667 </td></tr>\n",
       "\t<tr><th scope=row>cloud_level</th><td> 1.125965</td><td> 2       </td><td>1.030104 </td></tr>\n",
       "</tbody>\n",
       "</table>\n"
      ],
      "text/latex": [
       "\\begin{tabular}{r|lll}\n",
       "  & GVIF & Df & GVIF\\textasciicircum{}(1/(2*Df))\\\\\n",
       "\\hline\n",
       "\tblade\\_breadth &  1.072315 &  1        & 1.035527 \\\\\n",
       "\twind\\_speed &  1.238589 &  1        & 1.112919 \\\\\n",
       "\tatmospheric\\_temperature &  1.018157 &  1        & 1.009038 \\\\\n",
       "\tshaft\\_temperature &  1.045355 &  1        & 1.022426 \\\\\n",
       "\tblades\\_angle &  1.101366 &  1        & 1.049460 \\\\\n",
       "\tgearbox\\_temperature &  1.020111 &  1        & 1.010005 \\\\\n",
       "\tengine\\_temperature &  1.269414 &  1        & 1.126683 \\\\\n",
       "\tmotor\\_torque &  9.083992 &  1        & 3.013966 \\\\\n",
       "\tgenerator\\_temperature & 10.165014 &  1        & 3.188262 \\\\\n",
       "\tatmospheric\\_pressure &  1.063890 &  1        & 1.031450 \\\\\n",
       "\tarea\\_temperature &  1.445034 &  1        & 1.202095 \\\\\n",
       "\twindmill\\_body\\_temperature &  1.010993 &  1        & 1.005482 \\\\\n",
       "\twind\\_direction &  1.076561 &  1        & 1.037575 \\\\\n",
       "\tresistance &  1.416114 &  1        & 1.190006 \\\\\n",
       "\trotor\\_torque &  1.183282 &  1        & 1.087788 \\\\\n",
       "\tblade\\_length &  1.002113 &  1        & 1.001056 \\\\\n",
       "\twindmill\\_height &  1.003876 &  1        & 1.001936 \\\\\n",
       "\tturbine\\_status &  1.017482 & 13        & 1.000667 \\\\\n",
       "\tcloud\\_level &  1.125965 &  2        & 1.030104 \\\\\n",
       "\\end{tabular}\n"
      ],
      "text/markdown": [
       "\n",
       "| <!--/--> | GVIF | Df | GVIF^(1/(2*Df)) |\n",
       "|---|---|---|---|\n",
       "| blade_breadth |  1.072315 |  1        | 1.035527  |\n",
       "| wind_speed |  1.238589 |  1        | 1.112919  |\n",
       "| atmospheric_temperature |  1.018157 |  1        | 1.009038  |\n",
       "| shaft_temperature |  1.045355 |  1        | 1.022426  |\n",
       "| blades_angle |  1.101366 |  1        | 1.049460  |\n",
       "| gearbox_temperature |  1.020111 |  1        | 1.010005  |\n",
       "| engine_temperature |  1.269414 |  1        | 1.126683  |\n",
       "| motor_torque |  9.083992 |  1        | 3.013966  |\n",
       "| generator_temperature | 10.165014 |  1        | 3.188262  |\n",
       "| atmospheric_pressure |  1.063890 |  1        | 1.031450  |\n",
       "| area_temperature |  1.445034 |  1        | 1.202095  |\n",
       "| windmill_body_temperature |  1.010993 |  1        | 1.005482  |\n",
       "| wind_direction |  1.076561 |  1        | 1.037575  |\n",
       "| resistance |  1.416114 |  1        | 1.190006  |\n",
       "| rotor_torque |  1.183282 |  1        | 1.087788  |\n",
       "| blade_length |  1.002113 |  1        | 1.001056  |\n",
       "| windmill_height |  1.003876 |  1        | 1.001936  |\n",
       "| turbine_status |  1.017482 | 13        | 1.000667  |\n",
       "| cloud_level |  1.125965 |  2        | 1.030104  |\n",
       "\n"
      ],
      "text/plain": [
       "                          GVIF      Df GVIF^(1/(2*Df))\n",
       "blade_breadth              1.072315  1 1.035527       \n",
       "wind_speed                 1.238589  1 1.112919       \n",
       "atmospheric_temperature    1.018157  1 1.009038       \n",
       "shaft_temperature          1.045355  1 1.022426       \n",
       "blades_angle               1.101366  1 1.049460       \n",
       "gearbox_temperature        1.020111  1 1.010005       \n",
       "engine_temperature         1.269414  1 1.126683       \n",
       "motor_torque               9.083992  1 3.013966       \n",
       "generator_temperature     10.165014  1 3.188262       \n",
       "atmospheric_pressure       1.063890  1 1.031450       \n",
       "area_temperature           1.445034  1 1.202095       \n",
       "windmill_body_temperature  1.010993  1 1.005482       \n",
       "wind_direction             1.076561  1 1.037575       \n",
       "resistance                 1.416114  1 1.190006       \n",
       "rotor_torque               1.183282  1 1.087788       \n",
       "blade_length               1.002113  1 1.001056       \n",
       "windmill_height            1.003876  1 1.001936       \n",
       "turbine_status             1.017482 13 1.000667       \n",
       "cloud_level                1.125965  2 1.030104       "
      ]
     },
     "metadata": {},
     "output_type": "display_data"
    }
   ],
   "source": [
    "# Check for multicollinearity\n",
    "vif(m1)"
   ]
  },
  {
   "cell_type": "markdown",
   "id": "c309b901",
   "metadata": {},
   "source": [
    "### LR Model 2\n",
    "**trainset (drop NA), selected time data (no year)**"
   ]
  },
  {
   "cell_type": "code",
   "execution_count": 25,
   "id": "5d7e1230",
   "metadata": {},
   "outputs": [
    {
     "data": {
      "text/html": [
       "19740"
      ],
      "text/latex": [
       "19740"
      ],
      "text/markdown": [
       "19740"
      ],
      "text/plain": [
       "[1] 19740"
      ]
     },
     "metadata": {},
     "output_type": "display_data"
    },
    {
     "data": {
      "text/html": [
       "15912"
      ],
      "text/latex": [
       "15912"
      ],
      "text/markdown": [
       "15912"
      ],
      "text/plain": [
       "[1] 15912"
      ]
     },
     "metadata": {},
     "output_type": "display_data"
    },
    {
     "data": {
      "text/html": [
       "8314"
      ],
      "text/latex": [
       "8314"
      ],
      "text/markdown": [
       "8314"
      ],
      "text/plain": [
       "[1] 8314"
      ]
     },
     "metadata": {},
     "output_type": "display_data"
    },
    {
     "data": {
      "text/html": [
       "0"
      ],
      "text/latex": [
       "0"
      ],
      "text/markdown": [
       "0"
      ],
      "text/plain": [
       "[1] 0"
      ]
     },
     "metadata": {},
     "output_type": "display_data"
    },
    {
     "data": {
      "text/plain": [
       "\n",
       "Call:\n",
       "lm(formula = windmill_generated_power ~ . - year, data = trainset.drop)\n",
       "\n",
       "Residuals:\n",
       "    Min      1Q  Median      3Q     Max \n",
       "-7.1847 -1.1130 -0.1244  0.9661 13.9446 \n",
       "\n",
       "Coefficients:\n",
       "                            Estimate Std. Error t value Pr(>|t|)    \n",
       "(Intercept)                3.558e+00  3.281e-01  10.842  < 2e-16 ***\n",
       "wind_speed                -1.528e-03  2.710e-04  -5.640 1.76e-08 ***\n",
       "atmospheric_temperature   -1.800e-03  4.270e-04  -4.216 2.52e-05 ***\n",
       "shaft_temperature         -3.540e-04  6.909e-04  -0.512 0.608438    \n",
       "blades_angle              -2.669e-04  4.044e-04  -0.660 0.509325    \n",
       "gearbox_temperature        9.706e-04  4.311e-04   2.251 0.024393 *  \n",
       "engine_temperature         1.876e-02  3.480e-03   5.390 7.26e-08 ***\n",
       "motor_torque               2.932e-03  6.869e-05  42.690  < 2e-16 ***\n",
       "generator_temperature     -9.101e-02  3.074e-03 -29.604  < 2e-16 ***\n",
       "atmospheric_pressure       6.220e-07  1.045e-07   5.952 2.76e-09 ***\n",
       "area_temperature           7.011e-02  3.660e-03  19.155  < 2e-16 ***\n",
       "windmill_body_temperature -7.290e-04  3.556e-04  -2.050 0.040395 *  \n",
       "wind_direction             2.339e-03  1.637e-04  14.286  < 2e-16 ***\n",
       "resistance                 4.411e-05  4.530e-05   0.974 0.330303    \n",
       "rotor_torque               2.119e-04  6.191e-04   0.342 0.732197    \n",
       "turbine_statusA2           1.265e-01  1.004e-01   1.260 0.207850    \n",
       "turbine_statusAAA          3.264e-02  1.006e-01   0.325 0.745530    \n",
       "turbine_statusAB           2.864e-03  1.019e-01   0.028 0.977583    \n",
       "turbine_statusABC          8.386e-03  1.004e-01   0.084 0.933418    \n",
       "turbine_statusAC           6.869e-02  1.009e-01   0.681 0.495998    \n",
       "turbine_statusB            6.263e-02  9.994e-02   0.627 0.530861    \n",
       "turbine_statusB2           9.011e-02  9.922e-02   0.908 0.363806    \n",
       "turbine_statusBA           5.062e-02  9.964e-02   0.508 0.611441    \n",
       "turbine_statusBB           1.129e-01  9.951e-02   1.135 0.256496    \n",
       "turbine_statusBBB          9.937e-02  1.013e-01   0.981 0.326578    \n",
       "turbine_statusBCB          5.857e-02  1.004e-01   0.583 0.559581    \n",
       "turbine_statusBD           7.175e-03  9.989e-02   0.072 0.942743    \n",
       "turbine_statusD            7.987e-02  1.003e-01   0.796 0.425927    \n",
       "cloud_levelLow             1.351e+00  1.742e-01   7.756 9.84e-15 ***\n",
       "cloud_levelMedium          1.459e+00  1.749e-01   8.341  < 2e-16 ***\n",
       "blade_length               3.495e-03  1.565e-03   2.234 0.025540 *  \n",
       "blade_breadth              5.370e-01  3.163e-01   1.697 0.089649 .  \n",
       "windmill_height            1.946e-03  2.435e-03   0.799 0.424083    \n",
       "month2                    -3.735e-01  9.829e-02  -3.800 0.000146 ***\n",
       "month3                    -2.411e+00  1.045e-01 -23.071  < 2e-16 ***\n",
       "month4                    -3.337e+00  1.097e-01 -30.415  < 2e-16 ***\n",
       "month5                    -2.268e+00  1.009e-01 -22.485  < 2e-16 ***\n",
       "month6                    -1.529e+00  1.055e-01 -14.491  < 2e-16 ***\n",
       "month7                    -1.814e+00  9.967e-02 -18.200  < 2e-16 ***\n",
       "month8                    -2.211e+00  9.541e-02 -23.177  < 2e-16 ***\n",
       "month9                    -2.453e+00  9.849e-02 -24.912  < 2e-16 ***\n",
       "month10                   -1.666e+00  2.128e-01  -7.829 5.52e-15 ***\n",
       "month11                   -3.220e+00  9.987e-02 -32.236  < 2e-16 ***\n",
       "month12                   -5.296e-01  9.872e-02  -5.365 8.34e-08 ***\n",
       "mday2                     -5.703e-01  1.529e-01  -3.729 0.000193 ***\n",
       "mday3                     -9.446e-01  1.530e-01  -6.176 6.89e-10 ***\n",
       "mday4                     -3.436e-01  1.452e-01  -2.366 0.018002 *  \n",
       "mday5                     -7.375e-01  1.432e-01  -5.149 2.68e-07 ***\n",
       "mday6                     -3.869e-01  1.432e-01  -2.701 0.006935 ** \n",
       "mday7                     -8.515e-01  1.440e-01  -5.915 3.45e-09 ***\n",
       "mday8                     -7.517e-01  1.396e-01  -5.384 7.49e-08 ***\n",
       "mday9                     -8.898e-01  1.456e-01  -6.111 1.04e-09 ***\n",
       "mday10                    -1.135e+00  1.468e-01  -7.728 1.22e-14 ***\n",
       "mday11                    -1.189e+00  1.473e-01  -8.076 7.62e-16 ***\n",
       "mday12                    -1.118e+00  1.474e-01  -7.588 3.62e-14 ***\n",
       "mday13                    -9.682e-01  1.458e-01  -6.641 3.31e-11 ***\n",
       "mday14                    -7.732e-01  1.460e-01  -5.294 1.22e-07 ***\n",
       "mday15                    -5.447e-01  1.432e-01  -3.804 0.000143 ***\n",
       "mday16                    -4.453e-01  1.471e-01  -3.027 0.002480 ** \n",
       "mday17                    -4.684e-01  1.411e-01  -3.319 0.000909 ***\n",
       "mday18                    -3.709e-01  1.505e-01  -2.464 0.013759 *  \n",
       "mday19                    -6.208e-01  1.456e-01  -4.265 2.02e-05 ***\n",
       "mday20                    -5.137e-01  1.504e-01  -3.416 0.000639 ***\n",
       "mday21                    -3.869e-01  1.493e-01  -2.591 0.009598 ** \n",
       "mday22                    -2.552e-01  1.389e-01  -1.837 0.066209 .  \n",
       "mday23                    -3.304e-01  1.468e-01  -2.251 0.024424 *  \n",
       "mday24                    -4.342e-02  1.530e-01  -0.284 0.776566    \n",
       "mday25                     4.522e-01  1.519e-01   2.977 0.002919 ** \n",
       "mday26                    -3.364e-02  1.498e-01  -0.225 0.822359    \n",
       "mday27                    -1.849e-01  1.524e-01  -1.214 0.224931    \n",
       "mday28                     5.063e-03  1.467e-01   0.035 0.972469    \n",
       "mday29                    -4.753e-02  1.544e-01  -0.308 0.758264    \n",
       "mday30                     3.222e-01  1.564e-01   2.060 0.039448 *  \n",
       "mday31                    -6.299e-01  1.713e-01  -3.678 0.000236 ***\n",
       "wday1                     -9.695e-02  7.203e-02  -1.346 0.178360    \n",
       "wday2                     -6.279e-03  7.138e-02  -0.088 0.929906    \n",
       "wday3                     -2.471e-02  7.336e-02  -0.337 0.736288    \n",
       "wday4                      1.977e-02  7.220e-02   0.274 0.784198    \n",
       "wday5                      1.708e-01  7.275e-02   2.348 0.018908 *  \n",
       "wday6                     -1.006e-01  7.198e-02  -1.398 0.162099    \n",
       "hour                       9.698e-03  3.025e-03   3.206 0.001351 ** \n",
       "---\n",
       "Signif. codes:  0 '***' 0.001 '**' 0.01 '*' 0.05 '.' 0.1 ' ' 1\n",
       "\n",
       "Residual standard error: 1.704 on 8233 degrees of freedom\n",
       "Multiple R-squared:  0.5764,\tAdjusted R-squared:  0.5722 \n",
       "F-statistic:   140 on 80 and 8233 DF,  p-value: < 2.2e-16\n"
      ]
     },
     "metadata": {},
     "output_type": "display_data"
    }
   ],
   "source": [
    "# Develop model on trainset, including time data, but dropping NA values\n",
    "nrow(trainset)\n",
    "sum(is.na(trainset))\n",
    "\n",
    "trainset.drop <- trainset[complete.cases(trainset), ]\n",
    "testset.drop <- testset[complete.cases(testset), ]\n",
    "\n",
    "nrow(trainset.drop)\n",
    "sum(is.na(trainset.drop))\n",
    "\n",
    "m2 <- lm(windmill_generated_power ~ . - year, data = trainset.drop)\n",
    "summary(m2)"
   ]
  },
  {
   "cell_type": "code",
   "execution_count": 26,
   "id": "66e44ebb",
   "metadata": {},
   "outputs": [
    {
     "name": "stdout",
     "output_type": "stream",
     "text": [
      "[1] 1.696021\n"
     ]
    },
    {
     "data": {
      "text/plain": [
       "     Min.   1st Qu.    Median      Mean   3rd Qu.      Max. \n",
       " 0.001274  0.476068  1.046812  1.294638  1.806921 13.944557 "
      ]
     },
     "metadata": {},
     "output_type": "display_data"
    }
   ],
   "source": [
    "# Residuals = Error = Actual mpg - Model Predicted mpg\n",
    "RMSE.m2.train.drop <- sqrt(mean(residuals(m2)^2))  # RMSE on trainset based on m5 model.\n",
    "print(RMSE.m2.train.drop)\n",
    "summary(abs(residuals(m2)))  # Check Min Abs Error and Max Abs Error."
   ]
  },
  {
   "cell_type": "code",
   "execution_count": 27,
   "id": "d3fcc72b",
   "metadata": {},
   "outputs": [
    {
     "name": "stdout",
     "output_type": "stream",
     "text": [
      "[1] 1.720975\n"
     ]
    },
    {
     "data": {
      "text/plain": [
       "     Min.   1st Qu.    Median      Mean   3rd Qu.      Max. \n",
       " 0.001189  0.590320  1.263676  1.544001  2.166004 13.579316 "
      ]
     },
     "metadata": {},
     "output_type": "display_data"
    }
   ],
   "source": [
    "# Apply model from trainset to predict on testset.\n",
    "predict.m2.test.drop <- predict(m2, newdata = testset.drop)\n",
    "testset.error <- testset.drop$windmill_generated_power - predict.m2.test.drop\n",
    "\n",
    "# Testset Errors\n",
    "RMSE.m2.test.drop <- sqrt(mean(testset.error^2))\n",
    "print(RMSE.m2.test.drop)\n",
    "summary(abs(testset.imputation.error))"
   ]
  },
  {
   "cell_type": "code",
   "execution_count": 28,
   "id": "15f290ad",
   "metadata": {},
   "outputs": [
    {
     "data": {
      "text/html": [
       "<table>\n",
       "<thead><tr><th></th><th scope=col>GVIF</th><th scope=col>Df</th><th scope=col>GVIF^(1/(2*Df))</th></tr></thead>\n",
       "<tbody>\n",
       "\t<tr><th scope=row>wind_speed</th><td> 1.254088</td><td> 1       </td><td>1.119861 </td></tr>\n",
       "\t<tr><th scope=row>atmospheric_temperature</th><td> 1.027146</td><td> 1       </td><td>1.013482 </td></tr>\n",
       "\t<tr><th scope=row>shaft_temperature</th><td> 1.050495</td><td> 1       </td><td>1.024937 </td></tr>\n",
       "\t<tr><th scope=row>blades_angle</th><td> 1.129894</td><td> 1       </td><td>1.062965 </td></tr>\n",
       "\t<tr><th scope=row>gearbox_temperature</th><td> 1.032697</td><td> 1       </td><td>1.016217 </td></tr>\n",
       "\t<tr><th scope=row>engine_temperature</th><td> 1.311700</td><td> 1       </td><td>1.145295 </td></tr>\n",
       "\t<tr><th scope=row>motor_torque</th><td> 8.901470</td><td> 1       </td><td>2.983533 </td></tr>\n",
       "\t<tr><th scope=row>generator_temperature</th><td>10.203433</td><td> 1       </td><td>3.194281 </td></tr>\n",
       "\t<tr><th scope=row>atmospheric_pressure</th><td> 1.085311</td><td> 1       </td><td>1.041783 </td></tr>\n",
       "\t<tr><th scope=row>area_temperature</th><td> 2.189458</td><td> 1       </td><td>1.479682 </td></tr>\n",
       "\t<tr><th scope=row>windmill_body_temperature</th><td> 1.019131</td><td> 1       </td><td>1.009520 </td></tr>\n",
       "\t<tr><th scope=row>wind_direction</th><td> 1.403545</td><td> 1       </td><td>1.184713 </td></tr>\n",
       "\t<tr><th scope=row>resistance</th><td> 1.395341</td><td> 1       </td><td>1.181246 </td></tr>\n",
       "\t<tr><th scope=row>rotor_torque</th><td> 1.196033</td><td> 1       </td><td>1.093633 </td></tr>\n",
       "\t<tr><th scope=row>turbine_status</th><td> 1.115100</td><td>13       </td><td>1.004199 </td></tr>\n",
       "\t<tr><th scope=row>cloud_level</th><td> 1.168322</td><td> 2       </td><td>1.039658 </td></tr>\n",
       "\t<tr><th scope=row>blade_length</th><td> 1.012427</td><td> 1       </td><td>1.006194 </td></tr>\n",
       "\t<tr><th scope=row>blade_breadth</th><td> 1.101594</td><td> 1       </td><td>1.049569 </td></tr>\n",
       "\t<tr><th scope=row>windmill_height</th><td> 1.013664</td><td> 1       </td><td>1.006809 </td></tr>\n",
       "\t<tr><th scope=row>month</th><td> 4.462835</td><td>11       </td><td>1.070355 </td></tr>\n",
       "\t<tr><th scope=row>mday</th><td> 2.054051</td><td>30       </td><td>1.012069 </td></tr>\n",
       "\t<tr><th scope=row>wday</th><td> 1.350380</td><td> 6       </td><td>1.025348 </td></tr>\n",
       "\t<tr><th scope=row>hour</th><td> 1.177378</td><td> 1       </td><td>1.085071 </td></tr>\n",
       "</tbody>\n",
       "</table>\n"
      ],
      "text/latex": [
       "\\begin{tabular}{r|lll}\n",
       "  & GVIF & Df & GVIF\\textasciicircum{}(1/(2*Df))\\\\\n",
       "\\hline\n",
       "\twind\\_speed &  1.254088 &  1        & 1.119861 \\\\\n",
       "\tatmospheric\\_temperature &  1.027146 &  1        & 1.013482 \\\\\n",
       "\tshaft\\_temperature &  1.050495 &  1        & 1.024937 \\\\\n",
       "\tblades\\_angle &  1.129894 &  1        & 1.062965 \\\\\n",
       "\tgearbox\\_temperature &  1.032697 &  1        & 1.016217 \\\\\n",
       "\tengine\\_temperature &  1.311700 &  1        & 1.145295 \\\\\n",
       "\tmotor\\_torque &  8.901470 &  1        & 2.983533 \\\\\n",
       "\tgenerator\\_temperature & 10.203433 &  1        & 3.194281 \\\\\n",
       "\tatmospheric\\_pressure &  1.085311 &  1        & 1.041783 \\\\\n",
       "\tarea\\_temperature &  2.189458 &  1        & 1.479682 \\\\\n",
       "\twindmill\\_body\\_temperature &  1.019131 &  1        & 1.009520 \\\\\n",
       "\twind\\_direction &  1.403545 &  1        & 1.184713 \\\\\n",
       "\tresistance &  1.395341 &  1        & 1.181246 \\\\\n",
       "\trotor\\_torque &  1.196033 &  1        & 1.093633 \\\\\n",
       "\tturbine\\_status &  1.115100 & 13        & 1.004199 \\\\\n",
       "\tcloud\\_level &  1.168322 &  2        & 1.039658 \\\\\n",
       "\tblade\\_length &  1.012427 &  1        & 1.006194 \\\\\n",
       "\tblade\\_breadth &  1.101594 &  1        & 1.049569 \\\\\n",
       "\twindmill\\_height &  1.013664 &  1        & 1.006809 \\\\\n",
       "\tmonth &  4.462835 & 11        & 1.070355 \\\\\n",
       "\tmday &  2.054051 & 30        & 1.012069 \\\\\n",
       "\twday &  1.350380 &  6        & 1.025348 \\\\\n",
       "\thour &  1.177378 &  1        & 1.085071 \\\\\n",
       "\\end{tabular}\n"
      ],
      "text/markdown": [
       "\n",
       "| <!--/--> | GVIF | Df | GVIF^(1/(2*Df)) |\n",
       "|---|---|---|---|\n",
       "| wind_speed |  1.254088 |  1        | 1.119861  |\n",
       "| atmospheric_temperature |  1.027146 |  1        | 1.013482  |\n",
       "| shaft_temperature |  1.050495 |  1        | 1.024937  |\n",
       "| blades_angle |  1.129894 |  1        | 1.062965  |\n",
       "| gearbox_temperature |  1.032697 |  1        | 1.016217  |\n",
       "| engine_temperature |  1.311700 |  1        | 1.145295  |\n",
       "| motor_torque |  8.901470 |  1        | 2.983533  |\n",
       "| generator_temperature | 10.203433 |  1        | 3.194281  |\n",
       "| atmospheric_pressure |  1.085311 |  1        | 1.041783  |\n",
       "| area_temperature |  2.189458 |  1        | 1.479682  |\n",
       "| windmill_body_temperature |  1.019131 |  1        | 1.009520  |\n",
       "| wind_direction |  1.403545 |  1        | 1.184713  |\n",
       "| resistance |  1.395341 |  1        | 1.181246  |\n",
       "| rotor_torque |  1.196033 |  1        | 1.093633  |\n",
       "| turbine_status |  1.115100 | 13        | 1.004199  |\n",
       "| cloud_level |  1.168322 |  2        | 1.039658  |\n",
       "| blade_length |  1.012427 |  1        | 1.006194  |\n",
       "| blade_breadth |  1.101594 |  1        | 1.049569  |\n",
       "| windmill_height |  1.013664 |  1        | 1.006809  |\n",
       "| month |  4.462835 | 11        | 1.070355  |\n",
       "| mday |  2.054051 | 30        | 1.012069  |\n",
       "| wday |  1.350380 |  6        | 1.025348  |\n",
       "| hour |  1.177378 |  1        | 1.085071  |\n",
       "\n"
      ],
      "text/plain": [
       "                          GVIF      Df GVIF^(1/(2*Df))\n",
       "wind_speed                 1.254088  1 1.119861       \n",
       "atmospheric_temperature    1.027146  1 1.013482       \n",
       "shaft_temperature          1.050495  1 1.024937       \n",
       "blades_angle               1.129894  1 1.062965       \n",
       "gearbox_temperature        1.032697  1 1.016217       \n",
       "engine_temperature         1.311700  1 1.145295       \n",
       "motor_torque               8.901470  1 2.983533       \n",
       "generator_temperature     10.203433  1 3.194281       \n",
       "atmospheric_pressure       1.085311  1 1.041783       \n",
       "area_temperature           2.189458  1 1.479682       \n",
       "windmill_body_temperature  1.019131  1 1.009520       \n",
       "wind_direction             1.403545  1 1.184713       \n",
       "resistance                 1.395341  1 1.181246       \n",
       "rotor_torque               1.196033  1 1.093633       \n",
       "turbine_status             1.115100 13 1.004199       \n",
       "cloud_level                1.168322  2 1.039658       \n",
       "blade_length               1.012427  1 1.006194       \n",
       "blade_breadth              1.101594  1 1.049569       \n",
       "windmill_height            1.013664  1 1.006809       \n",
       "month                      4.462835 11 1.070355       \n",
       "mday                       2.054051 30 1.012069       \n",
       "wday                       1.350380  6 1.025348       \n",
       "hour                       1.177378  1 1.085071       "
      ]
     },
     "metadata": {},
     "output_type": "display_data"
    }
   ],
   "source": [
    "# Check for multicollinearity\n",
    "vif(m2)"
   ]
  },
  {
   "cell_type": "markdown",
   "id": "9564ddfe",
   "metadata": {},
   "source": [
    "### LR Model 3\n",
    "**trainset.imputation, no time data, high VIF removed (motor_torque, generator_temperature)**"
   ]
  },
  {
   "cell_type": "code",
   "execution_count": 29,
   "id": "03c9a562",
   "metadata": {},
   "outputs": [
    {
     "data": {
      "text/plain": [
       "\n",
       "Call:\n",
       "lm(formula = windmill_generated_power ~ . - year - mday - wday - \n",
       "    month - hour - motor_torque - generator_temperature, data = trainset.imputation)\n",
       "\n",
       "Residuals:\n",
       "    Min      1Q  Median      3Q     Max \n",
       "-7.7264 -1.5889 -0.0003  1.4265 15.3406 \n",
       "\n",
       "Coefficients:\n",
       "                            Estimate Std. Error t value Pr(>|t|)    \n",
       "(Intercept)               -5.350e+00  2.217e-01 -24.136  < 2e-16 ***\n",
       "blade_breadth              1.342e+00  2.699e-01   4.973 6.64e-07 ***\n",
       "wind_speed                -1.664e-03  2.197e-04  -7.572 3.84e-14 ***\n",
       "atmospheric_temperature   -2.477e-03  3.633e-04  -6.819 9.41e-12 ***\n",
       "shaft_temperature         -9.658e-04  6.047e-04  -1.597  0.11027    \n",
       "blades_angle              -5.219e-03  3.381e-04 -15.437  < 2e-16 ***\n",
       "gearbox_temperature        7.429e-04  3.735e-04   1.989  0.04673 *  \n",
       "engine_temperature         5.169e-02  2.926e-03  17.666  < 2e-16 ***\n",
       "atmospheric_pressure       6.278e-07  8.662e-08   7.248 4.37e-13 ***\n",
       "area_temperature           8.463e-02  2.322e-03  36.445  < 2e-16 ***\n",
       "windmill_body_temperature -1.173e-03  2.949e-04  -3.977 7.01e-05 ***\n",
       "wind_direction             5.737e-03  1.216e-04  47.173  < 2e-16 ***\n",
       "resistance                 6.155e-04  3.570e-05  17.239  < 2e-16 ***\n",
       "rotor_torque               7.224e-03  5.155e-04  14.012  < 2e-16 ***\n",
       "blade_length               9.869e-04  1.380e-03   0.715  0.47452    \n",
       "windmill_height            4.079e-04  2.062e-03   0.198  0.84317    \n",
       "turbine_statusA2           9.703e-03  8.733e-02   0.111  0.91153    \n",
       "turbine_statusAAA         -1.845e-01  8.312e-02  -2.219  0.02648 *  \n",
       "turbine_statusAB          -9.530e-02  8.534e-02  -1.117  0.26416    \n",
       "turbine_statusABC         -1.009e-01  8.686e-02  -1.162  0.24527    \n",
       "turbine_statusAC          -2.008e-01  8.557e-02  -2.346  0.01897 *  \n",
       "turbine_statusB           -2.463e-01  8.763e-02  -2.811  0.00495 ** \n",
       "turbine_statusB2          -6.648e-02  8.493e-02  -0.783  0.43378    \n",
       "turbine_statusBA          -1.992e-01  8.377e-02  -2.378  0.01741 *  \n",
       "turbine_statusBB          -6.957e-03  8.488e-02  -0.082  0.93468    \n",
       "turbine_statusBBB         -1.953e-01  8.784e-02  -2.224  0.02618 *  \n",
       "turbine_statusBCB         -1.787e-01  8.545e-02  -2.091  0.03653 *  \n",
       "turbine_statusBD          -1.470e-01  8.583e-02  -1.713  0.08674 .  \n",
       "turbine_statusD           -1.672e-01  8.719e-02  -1.917  0.05520 .  \n",
       "cloud_levelLow             3.186e+00  1.651e-01  19.306  < 2e-16 ***\n",
       "cloud_levelMedium          3.282e+00  1.654e-01  19.841  < 2e-16 ***\n",
       "---\n",
       "Signif. codes:  0 '***' 0.001 '**' 0.01 '*' 0.05 '.' 0.1 ' ' 1\n",
       "\n",
       "Residual standard error: 2.246 on 19709 degrees of freedom\n",
       "Multiple R-squared:  0.3111,\tAdjusted R-squared:   0.31 \n",
       "F-statistic: 296.7 on 30 and 19709 DF,  p-value: < 2.2e-16\n"
      ]
     },
     "metadata": {},
     "output_type": "display_data"
    }
   ],
   "source": [
    "# Develop model on trainset.imputation, excluding time data and factors with high VIF\n",
    "# high VIF: motor_torque, generator_temperature\n",
    "m3 <- lm(windmill_generated_power ~ . \n",
    "         - year \n",
    "         - mday \n",
    "         - wday \n",
    "         - month \n",
    "         - hour \n",
    "         - motor_torque \n",
    "         - generator_temperature, data = trainset.imputation)\n",
    "summary(m3)"
   ]
  },
  {
   "cell_type": "code",
   "execution_count": 30,
   "id": "4d799605",
   "metadata": {},
   "outputs": [
    {
     "name": "stdout",
     "output_type": "stream",
     "text": [
      "[1] 2.244207\n"
     ]
    },
    {
     "data": {
      "text/plain": [
       "     Min.   1st Qu.    Median      Mean   3rd Qu.      Max. \n",
       " 0.000017  0.728738  1.508793  1.776123  2.495393 15.340573 "
      ]
     },
     "metadata": {},
     "output_type": "display_data"
    }
   ],
   "source": [
    "# Residuals = Error = Actual mpg - Model Predicted mpg\n",
    "RMSE.m3.train.imputation <- sqrt(mean(residuals(m3)^2))  # RMSE on trainset based on m5 model.\n",
    "print(RMSE.m3.train.imputation)\n",
    "summary(abs(residuals(m3)))  # Check Min Abs Error and Max Abs Error."
   ]
  },
  {
   "cell_type": "code",
   "execution_count": 31,
   "id": "21598c24",
   "metadata": {},
   "outputs": [
    {
     "name": "stdout",
     "output_type": "stream",
     "text": [
      "[1] 2.227431\n"
     ]
    },
    {
     "data": {
      "text/plain": [
       "    Min.  1st Qu.   Median     Mean  3rd Qu.     Max. \n",
       " 0.00006  0.72083  1.48859  1.75929  2.47336 13.82222 "
      ]
     },
     "metadata": {},
     "output_type": "display_data"
    }
   ],
   "source": [
    "# Apply model from trainset to predict on testset.\n",
    "predict.m3.test.imputation <- predict(m3, newdata = testset.imputation)\n",
    "testset.imputation.error <- testset.imputation$windmill_generated_power - predict.m3.test.imputation\n",
    "\n",
    "# Testset Errors\n",
    "RMSE.m3.test.imputation <- sqrt(mean(testset.imputation.error^2))\n",
    "print(RMSE.m3.test.imputation)\n",
    "summary(abs(testset.imputation.error))"
   ]
  },
  {
   "cell_type": "code",
   "execution_count": 32,
   "id": "7bd43e7d",
   "metadata": {},
   "outputs": [
    {
     "data": {
      "text/html": [
       "<table>\n",
       "<thead><tr><th></th><th scope=col>GVIF</th><th scope=col>Df</th><th scope=col>GVIF^(1/(2*Df))</th></tr></thead>\n",
       "<tbody>\n",
       "\t<tr><th scope=row>blade_breadth</th><td>1.069916</td><td> 1      </td><td>1.034368</td></tr>\n",
       "\t<tr><th scope=row>wind_speed</th><td>1.103421</td><td> 1      </td><td>1.050439</td></tr>\n",
       "\t<tr><th scope=row>atmospheric_temperature</th><td>1.012048</td><td> 1      </td><td>1.006006</td></tr>\n",
       "\t<tr><th scope=row>shaft_temperature</th><td>1.045333</td><td> 1      </td><td>1.022415</td></tr>\n",
       "\t<tr><th scope=row>blades_angle</th><td>1.030516</td><td> 1      </td><td>1.015144</td></tr>\n",
       "\t<tr><th scope=row>gearbox_temperature</th><td>1.020049</td><td> 1      </td><td>1.009975</td></tr>\n",
       "\t<tr><th scope=row>engine_temperature</th><td>1.233355</td><td> 1      </td><td>1.110565</td></tr>\n",
       "\t<tr><th scope=row>atmospheric_pressure</th><td>1.031834</td><td> 1      </td><td>1.015792</td></tr>\n",
       "\t<tr><th scope=row>area_temperature</th><td>1.258653</td><td> 1      </td><td>1.121897</td></tr>\n",
       "\t<tr><th scope=row>windmill_body_temperature</th><td>1.010464</td><td> 1      </td><td>1.005219</td></tr>\n",
       "\t<tr><th scope=row>wind_direction</th><td>1.061686</td><td> 1      </td><td>1.030382</td></tr>\n",
       "\t<tr><th scope=row>resistance</th><td>1.168381</td><td> 1      </td><td>1.080917</td></tr>\n",
       "\t<tr><th scope=row>rotor_torque</th><td>1.084777</td><td> 1      </td><td>1.041526</td></tr>\n",
       "\t<tr><th scope=row>blade_length</th><td>1.002055</td><td> 1      </td><td>1.001027</td></tr>\n",
       "\t<tr><th scope=row>windmill_height</th><td>1.003756</td><td> 1      </td><td>1.001876</td></tr>\n",
       "\t<tr><th scope=row>turbine_status</th><td>1.015662</td><td>13      </td><td>1.000598</td></tr>\n",
       "\t<tr><th scope=row>cloud_level</th><td>1.095750</td><td> 2      </td><td>1.023123</td></tr>\n",
       "</tbody>\n",
       "</table>\n"
      ],
      "text/latex": [
       "\\begin{tabular}{r|lll}\n",
       "  & GVIF & Df & GVIF\\textasciicircum{}(1/(2*Df))\\\\\n",
       "\\hline\n",
       "\tblade\\_breadth & 1.069916 &  1       & 1.034368\\\\\n",
       "\twind\\_speed & 1.103421 &  1       & 1.050439\\\\\n",
       "\tatmospheric\\_temperature & 1.012048 &  1       & 1.006006\\\\\n",
       "\tshaft\\_temperature & 1.045333 &  1       & 1.022415\\\\\n",
       "\tblades\\_angle & 1.030516 &  1       & 1.015144\\\\\n",
       "\tgearbox\\_temperature & 1.020049 &  1       & 1.009975\\\\\n",
       "\tengine\\_temperature & 1.233355 &  1       & 1.110565\\\\\n",
       "\tatmospheric\\_pressure & 1.031834 &  1       & 1.015792\\\\\n",
       "\tarea\\_temperature & 1.258653 &  1       & 1.121897\\\\\n",
       "\twindmill\\_body\\_temperature & 1.010464 &  1       & 1.005219\\\\\n",
       "\twind\\_direction & 1.061686 &  1       & 1.030382\\\\\n",
       "\tresistance & 1.168381 &  1       & 1.080917\\\\\n",
       "\trotor\\_torque & 1.084777 &  1       & 1.041526\\\\\n",
       "\tblade\\_length & 1.002055 &  1       & 1.001027\\\\\n",
       "\twindmill\\_height & 1.003756 &  1       & 1.001876\\\\\n",
       "\tturbine\\_status & 1.015662 & 13       & 1.000598\\\\\n",
       "\tcloud\\_level & 1.095750 &  2       & 1.023123\\\\\n",
       "\\end{tabular}\n"
      ],
      "text/markdown": [
       "\n",
       "| <!--/--> | GVIF | Df | GVIF^(1/(2*Df)) |\n",
       "|---|---|---|---|\n",
       "| blade_breadth | 1.069916 |  1       | 1.034368 |\n",
       "| wind_speed | 1.103421 |  1       | 1.050439 |\n",
       "| atmospheric_temperature | 1.012048 |  1       | 1.006006 |\n",
       "| shaft_temperature | 1.045333 |  1       | 1.022415 |\n",
       "| blades_angle | 1.030516 |  1       | 1.015144 |\n",
       "| gearbox_temperature | 1.020049 |  1       | 1.009975 |\n",
       "| engine_temperature | 1.233355 |  1       | 1.110565 |\n",
       "| atmospheric_pressure | 1.031834 |  1       | 1.015792 |\n",
       "| area_temperature | 1.258653 |  1       | 1.121897 |\n",
       "| windmill_body_temperature | 1.010464 |  1       | 1.005219 |\n",
       "| wind_direction | 1.061686 |  1       | 1.030382 |\n",
       "| resistance | 1.168381 |  1       | 1.080917 |\n",
       "| rotor_torque | 1.084777 |  1       | 1.041526 |\n",
       "| blade_length | 1.002055 |  1       | 1.001027 |\n",
       "| windmill_height | 1.003756 |  1       | 1.001876 |\n",
       "| turbine_status | 1.015662 | 13       | 1.000598 |\n",
       "| cloud_level | 1.095750 |  2       | 1.023123 |\n",
       "\n"
      ],
      "text/plain": [
       "                          GVIF     Df GVIF^(1/(2*Df))\n",
       "blade_breadth             1.069916  1 1.034368       \n",
       "wind_speed                1.103421  1 1.050439       \n",
       "atmospheric_temperature   1.012048  1 1.006006       \n",
       "shaft_temperature         1.045333  1 1.022415       \n",
       "blades_angle              1.030516  1 1.015144       \n",
       "gearbox_temperature       1.020049  1 1.009975       \n",
       "engine_temperature        1.233355  1 1.110565       \n",
       "atmospheric_pressure      1.031834  1 1.015792       \n",
       "area_temperature          1.258653  1 1.121897       \n",
       "windmill_body_temperature 1.010464  1 1.005219       \n",
       "wind_direction            1.061686  1 1.030382       \n",
       "resistance                1.168381  1 1.080917       \n",
       "rotor_torque              1.084777  1 1.041526       \n",
       "blade_length              1.002055  1 1.001027       \n",
       "windmill_height           1.003756  1 1.001876       \n",
       "turbine_status            1.015662 13 1.000598       \n",
       "cloud_level               1.095750  2 1.023123       "
      ]
     },
     "metadata": {},
     "output_type": "display_data"
    }
   ],
   "source": [
    "# Check for multicollinearity\n",
    "vif(m3)"
   ]
  },
  {
   "cell_type": "markdown",
   "id": "6a81556a",
   "metadata": {},
   "source": [
    "### LR Model 3T\n",
    "**Model 3 + turbine_status removed**"
   ]
  },
  {
   "cell_type": "code",
   "execution_count": 33,
   "id": "b2834238",
   "metadata": {},
   "outputs": [
    {
     "data": {
      "text/plain": [
       "\n",
       "Call:\n",
       "lm(formula = windmill_generated_power ~ . - year - mday - wday - \n",
       "    month - hour - motor_torque - generator_temperature - turbine_status, \n",
       "    data = trainset.imputation)\n",
       "\n",
       "Residuals:\n",
       "    Min      1Q  Median      3Q     Max \n",
       "-7.5903 -1.5858 -0.0005  1.4228 15.2987 \n",
       "\n",
       "Coefficients:\n",
       "                            Estimate Std. Error t value Pr(>|t|)    \n",
       "(Intercept)               -5.464e+00  2.134e-01 -25.599  < 2e-16 ***\n",
       "blade_breadth              1.337e+00  2.699e-01   4.953 7.36e-07 ***\n",
       "wind_speed                -1.675e-03  2.197e-04  -7.623 2.59e-14 ***\n",
       "atmospheric_temperature   -2.475e-03  3.633e-04  -6.814 9.75e-12 ***\n",
       "shaft_temperature         -9.680e-04  6.047e-04  -1.601   0.1095    \n",
       "blades_angle              -5.238e-03  3.381e-04 -15.492  < 2e-16 ***\n",
       "gearbox_temperature        7.300e-04  3.736e-04   1.954   0.0507 .  \n",
       "engine_temperature         5.157e-02  2.926e-03  17.623  < 2e-16 ***\n",
       "atmospheric_pressure       6.296e-07  8.663e-08   7.267 3.80e-13 ***\n",
       "area_temperature           8.460e-02  2.323e-03  36.425  < 2e-16 ***\n",
       "windmill_body_temperature -1.169e-03  2.949e-04  -3.963 7.42e-05 ***\n",
       "wind_direction             5.737e-03  1.216e-04  47.170  < 2e-16 ***\n",
       "resistance                 6.144e-04  3.570e-05  17.210  < 2e-16 ***\n",
       "rotor_torque               7.250e-03  5.154e-04  14.066  < 2e-16 ***\n",
       "blade_length               1.119e-03  1.380e-03   0.811   0.4172    \n",
       "windmill_height            3.814e-04  2.062e-03   0.185   0.8533    \n",
       "cloud_levelLow             3.184e+00  1.650e-01  19.293  < 2e-16 ***\n",
       "cloud_levelMedium          3.279e+00  1.654e-01  19.827  < 2e-16 ***\n",
       "---\n",
       "Signif. codes:  0 '***' 0.001 '**' 0.01 '*' 0.05 '.' 0.1 ' ' 1\n",
       "\n",
       "Residual standard error: 2.247 on 19722 degrees of freedom\n",
       "Multiple R-squared:  0.3102,\tAdjusted R-squared:  0.3096 \n",
       "F-statistic: 521.7 on 17 and 19722 DF,  p-value: < 2.2e-16\n"
      ]
     },
     "metadata": {},
     "output_type": "display_data"
    }
   ],
   "source": [
    "# Develop model on m3, excluding turbine_status\n",
    "m3t <- lm(windmill_generated_power ~ . \n",
    "         - year \n",
    "         - mday \n",
    "         - wday \n",
    "         - month \n",
    "         - hour \n",
    "         - motor_torque \n",
    "         - generator_temperature\n",
    "         - turbine_status, data = trainset.imputation)\n",
    "summary(m3t)"
   ]
  },
  {
   "cell_type": "code",
   "execution_count": 34,
   "id": "ff686f96",
   "metadata": {},
   "outputs": [
    {
     "name": "stdout",
     "output_type": "stream",
     "text": [
      "[1] 2.245642\n"
     ]
    },
    {
     "data": {
      "text/plain": [
       "     Min.   1st Qu.    Median      Mean   3rd Qu.      Max. \n",
       " 0.000471  0.729878  1.507705  1.776576  2.495738 15.298673 "
      ]
     },
     "metadata": {},
     "output_type": "display_data"
    }
   ],
   "source": [
    "# Residuals = Error = Actual mpg - Model Predicted mpg\n",
    "RMSE.m3t.train.imputation <- sqrt(mean(residuals(m3t)^2))  # RMSE on trainset based on m5 model.\n",
    "print(RMSE.m3t.train.imputation)\n",
    "summary(abs(residuals(m3t)))  # Check Min Abs Error and Max Abs Error."
   ]
  },
  {
   "cell_type": "code",
   "execution_count": 35,
   "id": "d294e438",
   "metadata": {},
   "outputs": [
    {
     "name": "stdout",
     "output_type": "stream",
     "text": [
      "[1] 2.224342\n"
     ]
    },
    {
     "data": {
      "text/plain": [
       "     Min.   1st Qu.    Median      Mean   3rd Qu.      Max. \n",
       " 0.000114  0.717483  1.476878  1.756662  2.474630 13.947827 "
      ]
     },
     "metadata": {},
     "output_type": "display_data"
    }
   ],
   "source": [
    "# Apply model from trainset to predict on testset.\n",
    "predict.m3t.test.imputation <- predict(m3t, newdata = testset.imputation)\n",
    "testset.imputation.error <- testset.imputation$windmill_generated_power - predict.m3t.test.imputation\n",
    "\n",
    "# Testset Errors\n",
    "RMSE.m3t.test.imputation <- sqrt(mean(testset.imputation.error^2))\n",
    "print(RMSE.m3t.test.imputation)\n",
    "summary(abs(testset.imputation.error))"
   ]
  },
  {
   "cell_type": "code",
   "execution_count": 36,
   "id": "9bdb2683",
   "metadata": {},
   "outputs": [
    {
     "data": {
      "text/html": [
       "<table>\n",
       "<thead><tr><th></th><th scope=col>GVIF</th><th scope=col>Df</th><th scope=col>GVIF^(1/(2*Df))</th></tr></thead>\n",
       "<tbody>\n",
       "\t<tr><th scope=row>blade_breadth</th><td>1.069386</td><td>1       </td><td>1.034111</td></tr>\n",
       "\t<tr><th scope=row>wind_speed</th><td>1.102738</td><td>1       </td><td>1.050113</td></tr>\n",
       "\t<tr><th scope=row>atmospheric_temperature</th><td>1.011440</td><td>1       </td><td>1.005703</td></tr>\n",
       "\t<tr><th scope=row>shaft_temperature</th><td>1.044692</td><td>1       </td><td>1.022102</td></tr>\n",
       "\t<tr><th scope=row>blades_angle</th><td>1.029995</td><td>1       </td><td>1.014887</td></tr>\n",
       "\t<tr><th scope=row>gearbox_temperature</th><td>1.019568</td><td>1       </td><td>1.009737</td></tr>\n",
       "\t<tr><th scope=row>engine_temperature</th><td>1.232783</td><td>1       </td><td>1.110308</td></tr>\n",
       "\t<tr><th scope=row>atmospheric_pressure</th><td>1.031634</td><td>1       </td><td>1.015694</td></tr>\n",
       "\t<tr><th scope=row>area_temperature</th><td>1.258301</td><td>1       </td><td>1.121740</td></tr>\n",
       "\t<tr><th scope=row>windmill_body_temperature</th><td>1.010162</td><td>1       </td><td>1.005068</td></tr>\n",
       "\t<tr><th scope=row>wind_direction</th><td>1.060989</td><td>1       </td><td>1.030043</td></tr>\n",
       "\t<tr><th scope=row>resistance</th><td>1.167357</td><td>1       </td><td>1.080443</td></tr>\n",
       "\t<tr><th scope=row>rotor_torque</th><td>1.083659</td><td>1       </td><td>1.040989</td></tr>\n",
       "\t<tr><th scope=row>blade_length</th><td>1.001117</td><td>1       </td><td>1.000558</td></tr>\n",
       "\t<tr><th scope=row>windmill_height</th><td>1.003216</td><td>1       </td><td>1.001607</td></tr>\n",
       "\t<tr><th scope=row>cloud_level</th><td>1.088695</td><td>2       </td><td>1.021472</td></tr>\n",
       "</tbody>\n",
       "</table>\n"
      ],
      "text/latex": [
       "\\begin{tabular}{r|lll}\n",
       "  & GVIF & Df & GVIF\\textasciicircum{}(1/(2*Df))\\\\\n",
       "\\hline\n",
       "\tblade\\_breadth & 1.069386 & 1        & 1.034111\\\\\n",
       "\twind\\_speed & 1.102738 & 1        & 1.050113\\\\\n",
       "\tatmospheric\\_temperature & 1.011440 & 1        & 1.005703\\\\\n",
       "\tshaft\\_temperature & 1.044692 & 1        & 1.022102\\\\\n",
       "\tblades\\_angle & 1.029995 & 1        & 1.014887\\\\\n",
       "\tgearbox\\_temperature & 1.019568 & 1        & 1.009737\\\\\n",
       "\tengine\\_temperature & 1.232783 & 1        & 1.110308\\\\\n",
       "\tatmospheric\\_pressure & 1.031634 & 1        & 1.015694\\\\\n",
       "\tarea\\_temperature & 1.258301 & 1        & 1.121740\\\\\n",
       "\twindmill\\_body\\_temperature & 1.010162 & 1        & 1.005068\\\\\n",
       "\twind\\_direction & 1.060989 & 1        & 1.030043\\\\\n",
       "\tresistance & 1.167357 & 1        & 1.080443\\\\\n",
       "\trotor\\_torque & 1.083659 & 1        & 1.040989\\\\\n",
       "\tblade\\_length & 1.001117 & 1        & 1.000558\\\\\n",
       "\twindmill\\_height & 1.003216 & 1        & 1.001607\\\\\n",
       "\tcloud\\_level & 1.088695 & 2        & 1.021472\\\\\n",
       "\\end{tabular}\n"
      ],
      "text/markdown": [
       "\n",
       "| <!--/--> | GVIF | Df | GVIF^(1/(2*Df)) |\n",
       "|---|---|---|---|\n",
       "| blade_breadth | 1.069386 | 1        | 1.034111 |\n",
       "| wind_speed | 1.102738 | 1        | 1.050113 |\n",
       "| atmospheric_temperature | 1.011440 | 1        | 1.005703 |\n",
       "| shaft_temperature | 1.044692 | 1        | 1.022102 |\n",
       "| blades_angle | 1.029995 | 1        | 1.014887 |\n",
       "| gearbox_temperature | 1.019568 | 1        | 1.009737 |\n",
       "| engine_temperature | 1.232783 | 1        | 1.110308 |\n",
       "| atmospheric_pressure | 1.031634 | 1        | 1.015694 |\n",
       "| area_temperature | 1.258301 | 1        | 1.121740 |\n",
       "| windmill_body_temperature | 1.010162 | 1        | 1.005068 |\n",
       "| wind_direction | 1.060989 | 1        | 1.030043 |\n",
       "| resistance | 1.167357 | 1        | 1.080443 |\n",
       "| rotor_torque | 1.083659 | 1        | 1.040989 |\n",
       "| blade_length | 1.001117 | 1        | 1.000558 |\n",
       "| windmill_height | 1.003216 | 1        | 1.001607 |\n",
       "| cloud_level | 1.088695 | 2        | 1.021472 |\n",
       "\n"
      ],
      "text/plain": [
       "                          GVIF     Df GVIF^(1/(2*Df))\n",
       "blade_breadth             1.069386 1  1.034111       \n",
       "wind_speed                1.102738 1  1.050113       \n",
       "atmospheric_temperature   1.011440 1  1.005703       \n",
       "shaft_temperature         1.044692 1  1.022102       \n",
       "blades_angle              1.029995 1  1.014887       \n",
       "gearbox_temperature       1.019568 1  1.009737       \n",
       "engine_temperature        1.232783 1  1.110308       \n",
       "atmospheric_pressure      1.031634 1  1.015694       \n",
       "area_temperature          1.258301 1  1.121740       \n",
       "windmill_body_temperature 1.010162 1  1.005068       \n",
       "wind_direction            1.060989 1  1.030043       \n",
       "resistance                1.167357 1  1.080443       \n",
       "rotor_torque              1.083659 1  1.040989       \n",
       "blade_length              1.001117 1  1.000558       \n",
       "windmill_height           1.003216 1  1.001607       \n",
       "cloud_level               1.088695 2  1.021472       "
      ]
     },
     "metadata": {},
     "output_type": "display_data"
    }
   ],
   "source": [
    "# Check for multicollinearity\n",
    "vif(m3t)"
   ]
  },
  {
   "cell_type": "markdown",
   "id": "1aed90f9",
   "metadata": {},
   "source": [
    "### LR Model 3P\n",
    "**Model 3T + high p-value factors removed (shaft_temperature, gearbox_temperature, blade_length, windmill_height)**"
   ]
  },
  {
   "cell_type": "code",
   "execution_count": 37,
   "id": "e8ac4a85",
   "metadata": {},
   "outputs": [
    {
     "data": {
      "text/plain": [
       "\n",
       "Call:\n",
       "lm(formula = windmill_generated_power ~ . - year - mday - wday - \n",
       "    month - hour - motor_torque - generator_temperature - turbine_status - \n",
       "    shaft_temperature - gearbox_temperature - blade_length - \n",
       "    windmill_height, data = trainset.imputation)\n",
       "\n",
       "Residuals:\n",
       "    Min      1Q  Median      3Q     Max \n",
       "-7.6325 -1.5852 -0.0035  1.4277 15.3074 \n",
       "\n",
       "Coefficients:\n",
       "                            Estimate Std. Error t value Pr(>|t|)    \n",
       "(Intercept)               -5.456e+00  2.082e-01 -26.207  < 2e-16 ***\n",
       "blade_breadth              1.351e+00  2.698e-01   5.005 5.64e-07 ***\n",
       "wind_speed                -1.677e-03  2.197e-04  -7.635 2.37e-14 ***\n",
       "atmospheric_temperature   -2.475e-03  3.633e-04  -6.813 9.82e-12 ***\n",
       "blades_angle              -5.249e-03  3.380e-04 -15.530  < 2e-16 ***\n",
       "engine_temperature         5.134e-02  2.855e-03  17.979  < 2e-16 ***\n",
       "atmospheric_pressure       6.290e-07  8.664e-08   7.260 4.02e-13 ***\n",
       "area_temperature           8.460e-02  2.322e-03  36.432  < 2e-16 ***\n",
       "windmill_body_temperature -1.162e-03  2.949e-04  -3.940 8.18e-05 ***\n",
       "wind_direction             5.740e-03  1.216e-04  47.198  < 2e-16 ***\n",
       "resistance                 6.143e-04  3.570e-05  17.208  < 2e-16 ***\n",
       "rotor_torque               7.249e-03  5.154e-04  14.065  < 2e-16 ***\n",
       "cloud_levelLow             3.183e+00  1.649e-01  19.306  < 2e-16 ***\n",
       "cloud_levelMedium          3.279e+00  1.652e-01  19.843  < 2e-16 ***\n",
       "---\n",
       "Signif. codes:  0 '***' 0.001 '**' 0.01 '*' 0.05 '.' 0.1 ' ' 1\n",
       "\n",
       "Residual standard error: 2.247 on 19726 degrees of freedom\n",
       "Multiple R-squared:   0.31,\tAdjusted R-squared:  0.3095 \n",
       "F-statistic: 681.6 on 13 and 19726 DF,  p-value: < 2.2e-16\n"
      ]
     },
     "metadata": {},
     "output_type": "display_data"
    }
   ],
   "source": [
    "# Develop model on m3t, excluding high p-value factors\n",
    "# high p-value: shaft_temperature, gearbox_temperature, blade_length, windmill_height\n",
    "m3p <- lm(windmill_generated_power ~ . \n",
    "         - year \n",
    "         - mday \n",
    "         - wday \n",
    "         - month \n",
    "         - hour \n",
    "         - motor_torque \n",
    "         - generator_temperature\n",
    "         - turbine_status\n",
    "         - shaft_temperature\n",
    "         - gearbox_temperature\n",
    "         - blade_length\n",
    "         - windmill_height, data = trainset.imputation)\n",
    "summary(m3p)"
   ]
  },
  {
   "cell_type": "code",
   "execution_count": 38,
   "id": "591559fb",
   "metadata": {},
   "outputs": [
    {
     "name": "stdout",
     "output_type": "stream",
     "text": [
      "[1] 2.246045\n"
     ]
    },
    {
     "data": {
      "text/plain": [
       "     Min.   1st Qu.    Median      Mean   3rd Qu.      Max. \n",
       " 0.000245  0.728512  1.508168  1.777229  2.494952 15.307427 "
      ]
     },
     "metadata": {},
     "output_type": "display_data"
    }
   ],
   "source": [
    "# Residuals = Error = Actual mpg - Model Predicted mpg\n",
    "RMSE.m3p.train.imputation <- sqrt(mean(residuals(m3p)^2))  # RMSE on trainset based on m5 model.\n",
    "print(RMSE.m3p.train.imputation)\n",
    "summary(abs(residuals(m3p)))  # Check Min Abs Error and Max Abs Error."
   ]
  },
  {
   "cell_type": "code",
   "execution_count": 39,
   "id": "ad6baf9c",
   "metadata": {},
   "outputs": [
    {
     "name": "stdout",
     "output_type": "stream",
     "text": [
      "[1] 2.224902\n"
     ]
    },
    {
     "data": {
      "text/plain": [
       "     Min.   1st Qu.    Median      Mean   3rd Qu.      Max. \n",
       " 0.000078  0.718323  1.480825  1.757108  2.480531 13.950711 "
      ]
     },
     "metadata": {},
     "output_type": "display_data"
    }
   ],
   "source": [
    "# Apply model from trainset to predict on testset.\n",
    "predict.m3p.test.imputation <- predict(m3p, newdata = testset.imputation)\n",
    "testset.imputation.error <- testset.imputation$windmill_generated_power - predict.m3p.test.imputation\n",
    "\n",
    "# Testset Errors\n",
    "RMSE.m3p.test.imputation <- sqrt(mean(testset.imputation.error^2))\n",
    "print(RMSE.m3p.test.imputation)\n",
    "summary(abs(testset.imputation.error))"
   ]
  },
  {
   "cell_type": "code",
   "execution_count": 40,
   "id": "a0c4d7a6",
   "metadata": {},
   "outputs": [
    {
     "data": {
      "text/html": [
       "<table>\n",
       "<thead><tr><th></th><th scope=col>GVIF</th><th scope=col>Df</th><th scope=col>GVIF^(1/(2*Df))</th></tr></thead>\n",
       "<tbody>\n",
       "\t<tr><th scope=row>blade_breadth</th><td>1.068871</td><td>1       </td><td>1.033862</td></tr>\n",
       "\t<tr><th scope=row>wind_speed</th><td>1.102480</td><td>1       </td><td>1.049991</td></tr>\n",
       "\t<tr><th scope=row>atmospheric_temperature</th><td>1.011350</td><td>1       </td><td>1.005659</td></tr>\n",
       "\t<tr><th scope=row>blades_angle</th><td>1.029401</td><td>1       </td><td>1.014594</td></tr>\n",
       "\t<tr><th scope=row>engine_temperature</th><td>1.173732</td><td>1       </td><td>1.083389</td></tr>\n",
       "\t<tr><th scope=row>atmospheric_pressure</th><td>1.031563</td><td>1       </td><td>1.015659</td></tr>\n",
       "\t<tr><th scope=row>area_temperature</th><td>1.257537</td><td>1       </td><td>1.121399</td></tr>\n",
       "\t<tr><th scope=row>windmill_body_temperature</th><td>1.009827</td><td>1       </td><td>1.004902</td></tr>\n",
       "\t<tr><th scope=row>wind_direction</th><td>1.060778</td><td>1       </td><td>1.029941</td></tr>\n",
       "\t<tr><th scope=row>resistance</th><td>1.167106</td><td>1       </td><td>1.080327</td></tr>\n",
       "\t<tr><th scope=row>rotor_torque</th><td>1.083472</td><td>1       </td><td>1.040900</td></tr>\n",
       "\t<tr><th scope=row>cloud_level</th><td>1.086356</td><td>2       </td><td>1.020923</td></tr>\n",
       "</tbody>\n",
       "</table>\n"
      ],
      "text/latex": [
       "\\begin{tabular}{r|lll}\n",
       "  & GVIF & Df & GVIF\\textasciicircum{}(1/(2*Df))\\\\\n",
       "\\hline\n",
       "\tblade\\_breadth & 1.068871 & 1        & 1.033862\\\\\n",
       "\twind\\_speed & 1.102480 & 1        & 1.049991\\\\\n",
       "\tatmospheric\\_temperature & 1.011350 & 1        & 1.005659\\\\\n",
       "\tblades\\_angle & 1.029401 & 1        & 1.014594\\\\\n",
       "\tengine\\_temperature & 1.173732 & 1        & 1.083389\\\\\n",
       "\tatmospheric\\_pressure & 1.031563 & 1        & 1.015659\\\\\n",
       "\tarea\\_temperature & 1.257537 & 1        & 1.121399\\\\\n",
       "\twindmill\\_body\\_temperature & 1.009827 & 1        & 1.004902\\\\\n",
       "\twind\\_direction & 1.060778 & 1        & 1.029941\\\\\n",
       "\tresistance & 1.167106 & 1        & 1.080327\\\\\n",
       "\trotor\\_torque & 1.083472 & 1        & 1.040900\\\\\n",
       "\tcloud\\_level & 1.086356 & 2        & 1.020923\\\\\n",
       "\\end{tabular}\n"
      ],
      "text/markdown": [
       "\n",
       "| <!--/--> | GVIF | Df | GVIF^(1/(2*Df)) |\n",
       "|---|---|---|---|\n",
       "| blade_breadth | 1.068871 | 1        | 1.033862 |\n",
       "| wind_speed | 1.102480 | 1        | 1.049991 |\n",
       "| atmospheric_temperature | 1.011350 | 1        | 1.005659 |\n",
       "| blades_angle | 1.029401 | 1        | 1.014594 |\n",
       "| engine_temperature | 1.173732 | 1        | 1.083389 |\n",
       "| atmospheric_pressure | 1.031563 | 1        | 1.015659 |\n",
       "| area_temperature | 1.257537 | 1        | 1.121399 |\n",
       "| windmill_body_temperature | 1.009827 | 1        | 1.004902 |\n",
       "| wind_direction | 1.060778 | 1        | 1.029941 |\n",
       "| resistance | 1.167106 | 1        | 1.080327 |\n",
       "| rotor_torque | 1.083472 | 1        | 1.040900 |\n",
       "| cloud_level | 1.086356 | 2        | 1.020923 |\n",
       "\n"
      ],
      "text/plain": [
       "                          GVIF     Df GVIF^(1/(2*Df))\n",
       "blade_breadth             1.068871 1  1.033862       \n",
       "wind_speed                1.102480 1  1.049991       \n",
       "atmospheric_temperature   1.011350 1  1.005659       \n",
       "blades_angle              1.029401 1  1.014594       \n",
       "engine_temperature        1.173732 1  1.083389       \n",
       "atmospheric_pressure      1.031563 1  1.015659       \n",
       "area_temperature          1.257537 1  1.121399       \n",
       "windmill_body_temperature 1.009827 1  1.004902       \n",
       "wind_direction            1.060778 1  1.029941       \n",
       "resistance                1.167106 1  1.080327       \n",
       "rotor_torque              1.083472 1  1.040900       \n",
       "cloud_level               1.086356 2  1.020923       "
      ]
     },
     "metadata": {},
     "output_type": "display_data"
    }
   ],
   "source": [
    "# Check for multicollinearity\n",
    "vif(m3p)"
   ]
  },
  {
   "cell_type": "markdown",
   "id": "b64e9078",
   "metadata": {},
   "source": [
    "### Insights\n",
    "- RMSE increases when high VIF factors are removed\n",
    "- Possible justification for dropping time data is VIF (<5 but still 2-4, higher than other factors with VIF ~1)\n",
    "- engine_temperature appears to be a significant factor, outlier amongst other temps (low p-value, VIF)\n",
    "- blade_length and windmill_height are less significant (high p-value)"
   ]
  },
  {
   "cell_type": "code",
   "execution_count": null,
   "id": "0ce18266",
   "metadata": {},
   "outputs": [],
   "source": []
  }
 ],
 "metadata": {
  "kernelspec": {
   "display_name": "R",
   "language": "R",
   "name": "ir"
  },
  "language_info": {
   "codemirror_mode": "r",
   "file_extension": ".r",
   "mimetype": "text/x-r-source",
   "name": "R",
   "pygments_lexer": "r",
   "version": "3.6.1"
  }
 },
 "nbformat": 4,
 "nbformat_minor": 5
}
