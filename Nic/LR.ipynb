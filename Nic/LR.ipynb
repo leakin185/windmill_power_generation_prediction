{
 "cells": [
  {
   "cell_type": "markdown",
   "id": "882a6b5e",
   "metadata": {},
   "source": [
    "# Training Data - Linear Regression\n",
    "\n",
    "**Overview of Implementation**\n",
    "1. <a href=\"#section1\">Data Cleaning</a>\n",
    "2. <a href=\"#section2\">Data Exploration</a>\n",
    "3. <a href=\"#section3\">Data Imputation</a>\n",
    "4. <a href=\"#section4\">Linear Regression</a>"
   ]
  },
  {
   "cell_type": "markdown",
   "id": "d833f2c5",
   "metadata": {},
   "source": [
    "## <a id='section1'>1. Data Cleaning</a>\n",
    "Import data & explore statistics"
   ]
  },
  {
   "cell_type": "code",
   "execution_count": 1,
   "id": "356a87dd",
   "metadata": {},
   "outputs": [
    {
     "name": "stderr",
     "output_type": "stream",
     "text": [
      "Registered S3 methods overwritten by 'ggplot2':\n",
      "  method         from \n",
      "  [.quosures     rlang\n",
      "  c.quosures     rlang\n",
      "  print.quosures rlang\n"
     ]
    }
   ],
   "source": [
    "library(data.table)\n",
    "library(ggplot2)"
   ]
  },
  {
   "cell_type": "code",
   "execution_count": 2,
   "id": "9ca2b3dd",
   "metadata": {},
   "outputs": [
    {
     "name": "stdout",
     "output_type": "stream",
     "text": [
      "Number of NA values:  20579"
     ]
    },
    {
     "data": {
      "text/html": [
       "<ol class=list-inline>\n",
       "\t<li>'tracking_id'</li>\n",
       "\t<li>'datetime'</li>\n",
       "\t<li>'wind_speed(m/s)'</li>\n",
       "\t<li>'atmospheric_temperature(Â°C)'</li>\n",
       "\t<li>'shaft_temperature(Â°C)'</li>\n",
       "\t<li>'blades_angle(Â°)'</li>\n",
       "\t<li>'gearbox_temperature(Â°C)'</li>\n",
       "\t<li>'engine_temperature(Â°C)'</li>\n",
       "\t<li>'motor_torque(N-m)'</li>\n",
       "\t<li>'generator_temperature(Â°C)'</li>\n",
       "\t<li>'atmospheric_pressure(Pascal)'</li>\n",
       "\t<li>'area_temperature(Â°C)'</li>\n",
       "\t<li>'windmill_body_temperature(Â°C)'</li>\n",
       "\t<li>'wind_direction(Â°)'</li>\n",
       "\t<li>'resistance(ohm)'</li>\n",
       "\t<li>'rotor_torque(N-m)'</li>\n",
       "\t<li>'turbine_status'</li>\n",
       "\t<li>'cloud_level'</li>\n",
       "\t<li>'blade_length(m)'</li>\n",
       "\t<li>'blade_breadth(m)'</li>\n",
       "\t<li>'windmill_height(m)'</li>\n",
       "\t<li>'windmill_generated_power(kW/h)'</li>\n",
       "</ol>\n"
      ],
      "text/latex": [
       "\\begin{enumerate*}\n",
       "\\item 'tracking\\_id'\n",
       "\\item 'datetime'\n",
       "\\item 'wind\\_speed(m/s)'\n",
       "\\item 'atmospheric\\_temperature(Â°C)'\n",
       "\\item 'shaft\\_temperature(Â°C)'\n",
       "\\item 'blades\\_angle(Â°)'\n",
       "\\item 'gearbox\\_temperature(Â°C)'\n",
       "\\item 'engine\\_temperature(Â°C)'\n",
       "\\item 'motor\\_torque(N-m)'\n",
       "\\item 'generator\\_temperature(Â°C)'\n",
       "\\item 'atmospheric\\_pressure(Pascal)'\n",
       "\\item 'area\\_temperature(Â°C)'\n",
       "\\item 'windmill\\_body\\_temperature(Â°C)'\n",
       "\\item 'wind\\_direction(Â°)'\n",
       "\\item 'resistance(ohm)'\n",
       "\\item 'rotor\\_torque(N-m)'\n",
       "\\item 'turbine\\_status'\n",
       "\\item 'cloud\\_level'\n",
       "\\item 'blade\\_length(m)'\n",
       "\\item 'blade\\_breadth(m)'\n",
       "\\item 'windmill\\_height(m)'\n",
       "\\item 'windmill\\_generated\\_power(kW/h)'\n",
       "\\end{enumerate*}\n"
      ],
      "text/markdown": [
       "1. 'tracking_id'\n",
       "2. 'datetime'\n",
       "3. 'wind_speed(m/s)'\n",
       "4. 'atmospheric_temperature(Â°C)'\n",
       "5. 'shaft_temperature(Â°C)'\n",
       "6. 'blades_angle(Â°)'\n",
       "7. 'gearbox_temperature(Â°C)'\n",
       "8. 'engine_temperature(Â°C)'\n",
       "9. 'motor_torque(N-m)'\n",
       "10. 'generator_temperature(Â°C)'\n",
       "11. 'atmospheric_pressure(Pascal)'\n",
       "12. 'area_temperature(Â°C)'\n",
       "13. 'windmill_body_temperature(Â°C)'\n",
       "14. 'wind_direction(Â°)'\n",
       "15. 'resistance(ohm)'\n",
       "16. 'rotor_torque(N-m)'\n",
       "17. 'turbine_status'\n",
       "18. 'cloud_level'\n",
       "19. 'blade_length(m)'\n",
       "20. 'blade_breadth(m)'\n",
       "21. 'windmill_height(m)'\n",
       "22. 'windmill_generated_power(kW/h)'\n",
       "\n",
       "\n"
      ],
      "text/plain": [
       " [1] \"tracking_id\"                    \"datetime\"                      \n",
       " [3] \"wind_speed(m/s)\"                \"atmospheric_temperature(Â°C)\"  \n",
       " [5] \"shaft_temperature(Â°C)\"         \"blades_angle(Â°)\"              \n",
       " [7] \"gearbox_temperature(Â°C)\"       \"engine_temperature(Â°C)\"       \n",
       " [9] \"motor_torque(N-m)\"              \"generator_temperature(Â°C)\"    \n",
       "[11] \"atmospheric_pressure(Pascal)\"   \"area_temperature(Â°C)\"         \n",
       "[13] \"windmill_body_temperature(Â°C)\" \"wind_direction(Â°)\"            \n",
       "[15] \"resistance(ohm)\"                \"rotor_torque(N-m)\"             \n",
       "[17] \"turbine_status\"                 \"cloud_level\"                   \n",
       "[19] \"blade_length(m)\"                \"blade_breadth(m)\"              \n",
       "[21] \"windmill_height(m)\"             \"windmill_generated_power(kW/h)\""
      ]
     },
     "metadata": {},
     "output_type": "display_data"
    },
    {
     "data": {
      "text/plain": [
       "   tracking_id                   datetime     wind_speed(m/s)  \n",
       " WM_1    :    1   2018-10-28 20:53:20:    1   Min.   :-496.21  \n",
       " WM_10   :    1   2018-10-28 21:03:20:    1   1st Qu.:  20.88  \n",
       " WM_1000 :    1   2018-10-28 21:33:20:    1   Median :  93.30  \n",
       " WM_10000:    1   2018-10-28 21:43:20:    1   Mean   :  69.04  \n",
       " WM_10001:    1   2018-10-28 21:53:20:    1   3rd Qu.:  95.27  \n",
       " WM_10002:    1   2018-10-28 22:03:20:    1   Max.   : 601.46  \n",
       " (Other) :28194   (Other)            :28194   NA's   :273      \n",
       " atmospheric_temperature(Â°C) shaft_temperature(Â°C) blades_angle(Â°)   \n",
       " Min.   :-99.000              Min.   :-99.00         Min.   :-146.2595  \n",
       " 1st Qu.:  7.949              1st Qu.: 41.63         1st Qu.:  -1.1977  \n",
       " Median : 16.102              Median : 43.69         Median :  -0.4956  \n",
       " Mean   :  0.384              Mean   : 40.09         Mean   :  -9.6540  \n",
       " 3rd Qu.: 23.687              3rd Qu.: 45.67         3rd Qu.:   5.4950  \n",
       " Max.   : 80.217              Max.   :169.82         Max.   : 165.9321  \n",
       " NA's   :3450                 NA's   :2              NA's   :216        \n",
       " gearbox_temperature(Â°C) engine_temperature(Â°C) motor_torque(N-m)\n",
       " Min.   :-244.97          Min.   : 3.167          Min.   : 500.0   \n",
       " 1st Qu.:  40.56          1st Qu.:41.911          1st Qu.: 870.3   \n",
       " Median :  43.22          Median :43.525          Median :2031.8   \n",
       " Mean   :  41.03          Mean   :42.614          Mean   :1710.8   \n",
       " 3rd Qu.:  45.88          3rd Qu.:45.174          3rd Qu.:2462.6   \n",
       " Max.   : 999.00          Max.   :50.000          Max.   :3000.0   \n",
       " NA's   :1                NA's   :12              NA's   :24       \n",
       " generator_temperature(Â°C) atmospheric_pressure(Pascal) area_temperature(Â°C)\n",
       " Min.   : 33.89             Min.   :-1188624             Min.   :-30.00       \n",
       " 1st Qu.: 41.20             1st Qu.:   16795             1st Qu.: 27.31       \n",
       " Median : 70.73             Median :   18191             Median : 32.61       \n",
       " Mean   : 65.03             Mean   :   53185             Mean   : 32.74       \n",
       " 3rd Qu.: 78.95             3rd Qu.:  118113             3rd Qu.: 38.23       \n",
       " Max.   :100.00             Max.   : 1272552             Max.   : 55.00       \n",
       " NA's   :12                 NA's   :2707                                      \n",
       " windmill_body_temperature(Â°C) wind_direction(Â°) resistance(ohm)\n",
       " Min.   :-999.00                Min.   :  0.0      Min.   :-1005  \n",
       " 1st Qu.:  40.45                1st Qu.:238.6      1st Qu.: 1268  \n",
       " Median :  42.79                Median :271.4      Median : 1678  \n",
       " Mean   :  20.80                Mean   :306.9      Mean   : 1576  \n",
       " 3rd Qu.:  44.49                3rd Qu.:404.2      3rd Qu.: 1829  \n",
       " Max.   : 323.00                Max.   :570.0      Max.   : 4693  \n",
       " NA's   :2363                   NA's   :5103       NA's   :1      \n",
       " rotor_torque(N-m) turbine_status         cloud_level    blade_length(m)  \n",
       " Min.   :-136.73   BB     : 1946                :  276   Min.   :-99.000  \n",
       " 1st Qu.:  13.72   AAA    : 1939   Extremely Low:  299   1st Qu.:  2.545  \n",
       " Median :  32.98   BCB    : 1933   Low          :13921   Median :  3.453  \n",
       " Mean   :  25.85   B2     : 1931   Medium       :13704   Mean   :  2.254  \n",
       " 3rd Qu.:  41.55   A      : 1930                         3rd Qu.:  4.358  \n",
       " Max.   : 236.88   D      : 1922                         Max.   : 18.210  \n",
       " NA's   :572       (Other):16599                         NA's   :5093     \n",
       " blade_breadth(m) windmill_height(m) windmill_generated_power(kW/h)\n",
       " Min.   :0.2001   Min.   :-30.30     Min.   : 0.9623               \n",
       " 1st Qu.:0.3474   1st Qu.: 24.45     1st Qu.: 4.0595               \n",
       " Median :0.3986   Median : 25.96     Median : 5.7647               \n",
       " Mean   :0.3972   Mean   : 25.89     Mean   : 6.1305               \n",
       " 3rd Qu.:0.4494   3rd Qu.: 27.48     3rd Qu.: 7.9472               \n",
       " Max.   :0.5000   Max.   : 78.35     Max.   :20.1754               \n",
       "                  NA's   :543        NA's   :207                   "
      ]
     },
     "metadata": {},
     "output_type": "display_data"
    }
   ],
   "source": [
    "# Import train data using data.table fread function\n",
    "wind.dt <- fread(\"../data/train_data.csv\", stringsAsFactors = T) \n",
    "\n",
    "cat(\"Number of NA values: \", sum(is.na(wind.dt)))\n",
    "colnames(wind.dt)\n",
    "summary(wind.dt)"
   ]
  },
  {
   "cell_type": "code",
   "execution_count": 3,
   "id": "1a9df942",
   "metadata": {},
   "outputs": [
    {
     "data": {
      "text/html": [
       "<ol class=list-inline>\n",
       "\t<li>'tracking_id'</li>\n",
       "\t<li>'datetime'</li>\n",
       "\t<li>'wind_speed'</li>\n",
       "\t<li>'atmospheric_temperature'</li>\n",
       "\t<li>'shaft_temperature'</li>\n",
       "\t<li>'blades_angle'</li>\n",
       "\t<li>'gearbox_temperature'</li>\n",
       "\t<li>'engine_temperature'</li>\n",
       "\t<li>'motor_torque'</li>\n",
       "\t<li>'generator_temperature'</li>\n",
       "\t<li>'atmospheric_pressure'</li>\n",
       "\t<li>'area_temperature'</li>\n",
       "\t<li>'windmill_body_temperature'</li>\n",
       "\t<li>'wind_direction'</li>\n",
       "\t<li>'resistance'</li>\n",
       "\t<li>'rotor_torque'</li>\n",
       "\t<li>'turbine_status'</li>\n",
       "\t<li>'cloud_level'</li>\n",
       "\t<li>'blade_length'</li>\n",
       "\t<li>'blade_breadth'</li>\n",
       "\t<li>'windmill_height'</li>\n",
       "\t<li>'windmill_generated_power'</li>\n",
       "</ol>\n"
      ],
      "text/latex": [
       "\\begin{enumerate*}\n",
       "\\item 'tracking\\_id'\n",
       "\\item 'datetime'\n",
       "\\item 'wind\\_speed'\n",
       "\\item 'atmospheric\\_temperature'\n",
       "\\item 'shaft\\_temperature'\n",
       "\\item 'blades\\_angle'\n",
       "\\item 'gearbox\\_temperature'\n",
       "\\item 'engine\\_temperature'\n",
       "\\item 'motor\\_torque'\n",
       "\\item 'generator\\_temperature'\n",
       "\\item 'atmospheric\\_pressure'\n",
       "\\item 'area\\_temperature'\n",
       "\\item 'windmill\\_body\\_temperature'\n",
       "\\item 'wind\\_direction'\n",
       "\\item 'resistance'\n",
       "\\item 'rotor\\_torque'\n",
       "\\item 'turbine\\_status'\n",
       "\\item 'cloud\\_level'\n",
       "\\item 'blade\\_length'\n",
       "\\item 'blade\\_breadth'\n",
       "\\item 'windmill\\_height'\n",
       "\\item 'windmill\\_generated\\_power'\n",
       "\\end{enumerate*}\n"
      ],
      "text/markdown": [
       "1. 'tracking_id'\n",
       "2. 'datetime'\n",
       "3. 'wind_speed'\n",
       "4. 'atmospheric_temperature'\n",
       "5. 'shaft_temperature'\n",
       "6. 'blades_angle'\n",
       "7. 'gearbox_temperature'\n",
       "8. 'engine_temperature'\n",
       "9. 'motor_torque'\n",
       "10. 'generator_temperature'\n",
       "11. 'atmospheric_pressure'\n",
       "12. 'area_temperature'\n",
       "13. 'windmill_body_temperature'\n",
       "14. 'wind_direction'\n",
       "15. 'resistance'\n",
       "16. 'rotor_torque'\n",
       "17. 'turbine_status'\n",
       "18. 'cloud_level'\n",
       "19. 'blade_length'\n",
       "20. 'blade_breadth'\n",
       "21. 'windmill_height'\n",
       "22. 'windmill_generated_power'\n",
       "\n",
       "\n"
      ],
      "text/plain": [
       " [1] \"tracking_id\"               \"datetime\"                 \n",
       " [3] \"wind_speed\"                \"atmospheric_temperature\"  \n",
       " [5] \"shaft_temperature\"         \"blades_angle\"             \n",
       " [7] \"gearbox_temperature\"       \"engine_temperature\"       \n",
       " [9] \"motor_torque\"              \"generator_temperature\"    \n",
       "[11] \"atmospheric_pressure\"      \"area_temperature\"         \n",
       "[13] \"windmill_body_temperature\" \"wind_direction\"           \n",
       "[15] \"resistance\"                \"rotor_torque\"             \n",
       "[17] \"turbine_status\"            \"cloud_level\"              \n",
       "[19] \"blade_length\"              \"blade_breadth\"            \n",
       "[21] \"windmill_height\"           \"windmill_generated_power\" "
      ]
     },
     "metadata": {},
     "output_type": "display_data"
    }
   ],
   "source": [
    "# Get rid of brackets and units in columns\n",
    "remove_brackets <- function(x) {  \n",
    "  gsub(\"\\\\(.*?\\\\)\", \"\", x)\n",
    "  }\n",
    "colnames(wind.dt) <- sapply(colnames(wind.dt), remove_brackets)\n",
    "colnames(wind.dt)"
   ]
  },
  {
   "cell_type": "code",
   "execution_count": 4,
   "id": "3f49eaab",
   "metadata": {},
   "outputs": [
    {
     "data": {
      "text/html": [
       "'factor'"
      ],
      "text/latex": [
       "'factor'"
      ],
      "text/markdown": [
       "'factor'"
      ],
      "text/plain": [
       "[1] \"factor\""
      ]
     },
     "metadata": {},
     "output_type": "display_data"
    }
   ],
   "source": [
    "# Datetime Utils\n",
    "# Datetime column is in object format. It should be converted into datetime format\n",
    "\n",
    "get_year <- function(x) {  \n",
    "  as.POSIXlt(x,format=\"%Y-%m-%d %H:%M:%S\")$year + 1900 # based on 1990\n",
    "}\n",
    "get_month <- function(x){\n",
    "  as.POSIXlt(x,format=\"%Y-%m-%d %H:%M:%S\")$mon + 1 # 0 index\n",
    "}\n",
    "get_mday <- function(x){\n",
    "  as.POSIXlt(x,format=\"%Y-%m-%d %H:%M:%S\")$mday\n",
    "}\n",
    "get_wday <- function(x){\n",
    "  # The wday component of a POSIXlt object is the numeric weekday (0-6 starting on Sunday).\n",
    "  as.POSIXlt(x,format=\"%Y-%m-%d %H:%M:%S\")$wday\n",
    "}\n",
    "get_hour <- function(x){\n",
    "  as.POSIXlt(x,format=\"%Y-%m-%d %H:%M:%S\")$hour\n",
    "}\n",
    "get_min <- function(x){\n",
    "  as.POSIXlt(x,format=\"%Y-%m-%d %H:%M:%S\")$min\n",
    "}\n",
    "get_sec <- function(x){\n",
    "  as.POSIXlt(x,format=\"%Y-%m-%d %H:%M:%S\")$sec\n",
    "}\n",
    "\n",
    "class(wind.dt$datetime)"
   ]
  },
  {
   "cell_type": "code",
   "execution_count": 5,
   "id": "a26a1f66",
   "metadata": {},
   "outputs": [
    {
     "data": {
      "text/html": [
       "<table>\n",
       "<thead><tr><th scope=col>tracking_id</th><th scope=col>datetime</th><th scope=col>wind_speed</th><th scope=col>atmospheric_temperature</th><th scope=col>shaft_temperature</th><th scope=col>blades_angle</th><th scope=col>gearbox_temperature</th><th scope=col>engine_temperature</th><th scope=col>motor_torque</th><th scope=col>generator_temperature</th><th scope=col>...</th><th scope=col>blade_breadth</th><th scope=col>windmill_height</th><th scope=col>windmill_generated_power</th><th scope=col>year</th><th scope=col>month</th><th scope=col>mday</th><th scope=col>wday</th><th scope=col>hour</th><th scope=col>min</th><th scope=col>sec</th></tr></thead>\n",
       "<tbody>\n",
       "\t<tr><td>WM_33725           </td><td>2019-08-04 14:33:20</td><td> 94.82002          </td><td>-99.00000          </td><td> 41.72302          </td><td> -0.9034229        </td><td> 82.41057          </td><td>42.52302           </td><td>2563.1245          </td><td>76.66556           </td><td>...                </td><td>0.3140648          </td><td>24.28169           </td><td> 6.766521          </td><td>2019               </td><td> 8                 </td><td> 4                 </td><td>0                  </td><td>14                 </td><td>33                 </td><td>20                 </td></tr>\n",
       "\t<tr><td>WM_698             </td><td>2018-11-05 10:13:20</td><td>241.83273          </td><td> 27.76478          </td><td>-99.00000          </td><td>-99.0000000        </td><td> 44.10492          </td><td>46.25887           </td><td>2372.3841          </td><td>78.12980           </td><td>...                </td><td>0.4484944          </td><td>27.26214           </td><td> 5.966275          </td><td>2018               </td><td>11                 </td><td> 5                 </td><td>1                  </td><td>10                 </td><td>13                 </td><td>20                 </td></tr>\n",
       "\t<tr><td>WM_39146           </td><td>2019-09-14 14:03:20</td><td> 95.48472          </td><td>       NA          </td><td> 41.85547          </td><td> 12.6527635        </td><td> 42.32210          </td><td>42.87855           </td><td>1657.1696          </td><td>67.65447           </td><td>...                </td><td>0.3023210          </td><td>27.36613           </td><td> 2.874342          </td><td>2019               </td><td> 9                 </td><td>14                 </td><td>6                  </td><td>14                 </td><td> 3                 </td><td>20                 </td></tr>\n",
       "\t<tr><td>WM_6757            </td><td>2018-12-25 15:33:20</td><td>238.81942          </td><td>-99.00000          </td><td> 45.44391          </td><td> 15.1153228        </td><td> 44.75964          </td><td>47.28210           </td><td>2888.1341          </td><td>95.38997           </td><td>...                </td><td>0.3671399          </td><td>24.28777           </td><td>14.851089          </td><td>2018               </td><td>12                 </td><td>25                 </td><td>2                  </td><td>15                 </td><td>33                 </td><td>20                 </td></tr>\n",
       "\t<tr><td>WM_21521           </td><td>2019-05-04 03:13:20</td><td> 10.72289          </td><td>       NA          </td><td> 41.98118          </td><td>  1.7156961        </td><td>-17.61646          </td><td>43.46985           </td><td> 781.6954          </td><td>37.42307           </td><td>...                </td><td>0.4533737          </td><td>27.97165           </td><td> 3.519074          </td><td>2019               </td><td> 5                 </td><td> 4                 </td><td>6                  </td><td> 3                 </td><td>13                 </td><td>20                 </td></tr>\n",
       "\t<tr><td>WM_17873           </td><td>2019-03-22 21:03:20</td><td> 93.76997          </td><td> 30.32623          </td><td> 17.97062          </td><td>-99.0000000        </td><td> 43.81643          </td><td>40.81579           </td><td>2119.3517          </td><td>72.34513           </td><td>...                </td><td>0.3956420          </td><td>24.67329           </td><td> 4.945780          </td><td>2019               </td><td> 3                 </td><td>22                 </td><td>5                  </td><td>21                 </td><td> 3                 </td><td>20                 </td></tr>\n",
       "</tbody>\n",
       "</table>\n"
      ],
      "text/latex": [
       "\\begin{tabular}{r|lllllllllllllllllllllllllllll}\n",
       " tracking\\_id & datetime & wind\\_speed & atmospheric\\_temperature & shaft\\_temperature & blades\\_angle & gearbox\\_temperature & engine\\_temperature & motor\\_torque & generator\\_temperature & ... & blade\\_breadth & windmill\\_height & windmill\\_generated\\_power & year & month & mday & wday & hour & min & sec\\\\\n",
       "\\hline\n",
       "\t WM\\_33725          & 2019-08-04 14:33:20 &  94.82002           & -99.00000           &  41.72302           &  -0.9034229         &  82.41057           & 42.52302            & 2563.1245           & 76.66556            & ...                 & 0.3140648           & 24.28169            &  6.766521           & 2019                &  8                  &  4                  & 0                   & 14                  & 33                  & 20                 \\\\\n",
       "\t WM\\_698            & 2018-11-05 10:13:20 & 241.83273           &  27.76478           & -99.00000           & -99.0000000         &  44.10492           & 46.25887            & 2372.3841           & 78.12980            & ...                 & 0.4484944           & 27.26214            &  5.966275           & 2018                & 11                  &  5                  & 1                   & 10                  & 13                  & 20                 \\\\\n",
       "\t WM\\_39146          & 2019-09-14 14:03:20 &  95.48472           &        NA           &  41.85547           &  12.6527635         &  42.32210           & 42.87855            & 1657.1696           & 67.65447            & ...                 & 0.3023210           & 27.36613            &  2.874342           & 2019                &  9                  & 14                  & 6                   & 14                  &  3                  & 20                 \\\\\n",
       "\t WM\\_6757           & 2018-12-25 15:33:20 & 238.81942           & -99.00000           &  45.44391           &  15.1153228         &  44.75964           & 47.28210            & 2888.1341           & 95.38997            & ...                 & 0.3671399           & 24.28777            & 14.851089           & 2018                & 12                  & 25                  & 2                   & 15                  & 33                  & 20                 \\\\\n",
       "\t WM\\_21521          & 2019-05-04 03:13:20 &  10.72289           &        NA           &  41.98118           &   1.7156961         & -17.61646           & 43.46985            &  781.6954           & 37.42307            & ...                 & 0.4533737           & 27.97165            &  3.519074           & 2019                &  5                  &  4                  & 6                   &  3                  & 13                  & 20                 \\\\\n",
       "\t WM\\_17873          & 2019-03-22 21:03:20 &  93.76997           &  30.32623           &  17.97062           & -99.0000000         &  43.81643           & 40.81579            & 2119.3517           & 72.34513            & ...                 & 0.3956420           & 24.67329            &  4.945780           & 2019                &  3                  & 22                  & 5                   & 21                  &  3                  & 20                 \\\\\n",
       "\\end{tabular}\n"
      ],
      "text/markdown": [
       "\n",
       "| tracking_id | datetime | wind_speed | atmospheric_temperature | shaft_temperature | blades_angle | gearbox_temperature | engine_temperature | motor_torque | generator_temperature | ... | blade_breadth | windmill_height | windmill_generated_power | year | month | mday | wday | hour | min | sec |\n",
       "|---|---|---|---|---|---|---|---|---|---|---|---|---|---|---|---|---|---|---|---|---|\n",
       "| WM_33725            | 2019-08-04 14:33:20 |  94.82002           | -99.00000           |  41.72302           |  -0.9034229         |  82.41057           | 42.52302            | 2563.1245           | 76.66556            | ...                 | 0.3140648           | 24.28169            |  6.766521           | 2019                |  8                  |  4                  | 0                   | 14                  | 33                  | 20                  |\n",
       "| WM_698              | 2018-11-05 10:13:20 | 241.83273           |  27.76478           | -99.00000           | -99.0000000         |  44.10492           | 46.25887            | 2372.3841           | 78.12980            | ...                 | 0.4484944           | 27.26214            |  5.966275           | 2018                | 11                  |  5                  | 1                   | 10                  | 13                  | 20                  |\n",
       "| WM_39146            | 2019-09-14 14:03:20 |  95.48472           |        NA           |  41.85547           |  12.6527635         |  42.32210           | 42.87855            | 1657.1696           | 67.65447            | ...                 | 0.3023210           | 27.36613            |  2.874342           | 2019                |  9                  | 14                  | 6                   | 14                  |  3                  | 20                  |\n",
       "| WM_6757             | 2018-12-25 15:33:20 | 238.81942           | -99.00000           |  45.44391           |  15.1153228         |  44.75964           | 47.28210            | 2888.1341           | 95.38997            | ...                 | 0.3671399           | 24.28777            | 14.851089           | 2018                | 12                  | 25                  | 2                   | 15                  | 33                  | 20                  |\n",
       "| WM_21521            | 2019-05-04 03:13:20 |  10.72289           |        NA           |  41.98118           |   1.7156961         | -17.61646           | 43.46985            |  781.6954           | 37.42307            | ...                 | 0.4533737           | 27.97165            |  3.519074           | 2019                |  5                  |  4                  | 6                   |  3                  | 13                  | 20                  |\n",
       "| WM_17873            | 2019-03-22 21:03:20 |  93.76997           |  30.32623           |  17.97062           | -99.0000000         |  43.81643           | 40.81579            | 2119.3517           | 72.34513            | ...                 | 0.3956420           | 24.67329            |  4.945780           | 2019                |  3                  | 22                  | 5                   | 21                  |  3                  | 20                  |\n",
       "\n"
      ],
      "text/plain": [
       "  tracking_id datetime            wind_speed atmospheric_temperature\n",
       "1 WM_33725    2019-08-04 14:33:20  94.82002  -99.00000              \n",
       "2 WM_698      2018-11-05 10:13:20 241.83273   27.76478              \n",
       "3 WM_39146    2019-09-14 14:03:20  95.48472         NA              \n",
       "4 WM_6757     2018-12-25 15:33:20 238.81942  -99.00000              \n",
       "5 WM_21521    2019-05-04 03:13:20  10.72289         NA              \n",
       "6 WM_17873    2019-03-22 21:03:20  93.76997   30.32623              \n",
       "  shaft_temperature blades_angle gearbox_temperature engine_temperature\n",
       "1  41.72302          -0.9034229   82.41057           42.52302          \n",
       "2 -99.00000         -99.0000000   44.10492           46.25887          \n",
       "3  41.85547          12.6527635   42.32210           42.87855          \n",
       "4  45.44391          15.1153228   44.75964           47.28210          \n",
       "5  41.98118           1.7156961  -17.61646           43.46985          \n",
       "6  17.97062         -99.0000000   43.81643           40.81579          \n",
       "  motor_torque generator_temperature ... blade_breadth windmill_height\n",
       "1 2563.1245    76.66556              ... 0.3140648     24.28169       \n",
       "2 2372.3841    78.12980              ... 0.4484944     27.26214       \n",
       "3 1657.1696    67.65447              ... 0.3023210     27.36613       \n",
       "4 2888.1341    95.38997              ... 0.3671399     24.28777       \n",
       "5  781.6954    37.42307              ... 0.4533737     27.97165       \n",
       "6 2119.3517    72.34513              ... 0.3956420     24.67329       \n",
       "  windmill_generated_power year month mday wday hour min sec\n",
       "1  6.766521                2019  8     4   0    14   33  20 \n",
       "2  5.966275                2018 11     5   1    10   13  20 \n",
       "3  2.874342                2019  9    14   6    14    3  20 \n",
       "4 14.851089                2018 12    25   2    15   33  20 \n",
       "5  3.519074                2019  5     4   6     3   13  20 \n",
       "6  4.945780                2019  3    22   5    21    3  20 "
      ]
     },
     "metadata": {},
     "output_type": "display_data"
    }
   ],
   "source": [
    "wind.dt$year <- unlist(lapply(wind.dt$datetime, get_year))\n",
    "wind.dt$month <- unlist(lapply(wind.dt$datetime, get_month))\n",
    "wind.dt$mday <- unlist(lapply(wind.dt$datetime, get_mday))\n",
    "wind.dt$wday <- unlist(lapply(wind.dt$datetime, get_wday))\n",
    "wind.dt$hour <- unlist(lapply(wind.dt$datetime, get_hour))\n",
    "wind.dt$min <- unlist(lapply(wind.dt$datetime, get_min))\n",
    "wind.dt$sec <- unlist(lapply(wind.dt$datetime, get_sec))\n",
    "\n",
    "head(wind.dt)"
   ]
  },
  {
   "cell_type": "code",
   "execution_count": 6,
   "id": "b382f0c5",
   "metadata": {},
   "outputs": [],
   "source": [
    "# Convert necessary features to factor\n",
    "wind.dt$year = as.factor(wind.dt$year)\n",
    "wind.dt$month = as.factor(wind.dt$month)\n",
    "wind.dt$mday = as.factor(wind.dt$mday)\n",
    "wind.dt$wday = as.factor(wind.dt$wday)"
   ]
  },
  {
   "cell_type": "code",
   "execution_count": 7,
   "id": "13f674de",
   "metadata": {},
   "outputs": [
    {
     "data": {
      "text/html": [
       "<ol class=list-inline>\n",
       "\t<li>'wind_speed'</li>\n",
       "\t<li>'atmospheric_temperature'</li>\n",
       "\t<li>'shaft_temperature'</li>\n",
       "\t<li>'blades_angle'</li>\n",
       "\t<li>'gearbox_temperature'</li>\n",
       "\t<li>'engine_temperature'</li>\n",
       "\t<li>'motor_torque'</li>\n",
       "\t<li>'generator_temperature'</li>\n",
       "\t<li>'atmospheric_pressure'</li>\n",
       "\t<li>'area_temperature'</li>\n",
       "\t<li>'windmill_body_temperature'</li>\n",
       "\t<li>'wind_direction'</li>\n",
       "\t<li>'resistance'</li>\n",
       "\t<li>'rotor_torque'</li>\n",
       "\t<li>'turbine_status'</li>\n",
       "\t<li>'cloud_level'</li>\n",
       "\t<li>'blade_length'</li>\n",
       "\t<li>'blade_breadth'</li>\n",
       "\t<li>'windmill_height'</li>\n",
       "\t<li>'windmill_generated_power'</li>\n",
       "\t<li>'year'</li>\n",
       "\t<li>'month'</li>\n",
       "\t<li>'mday'</li>\n",
       "\t<li>'wday'</li>\n",
       "\t<li>'hour'</li>\n",
       "</ol>\n"
      ],
      "text/latex": [
       "\\begin{enumerate*}\n",
       "\\item 'wind\\_speed'\n",
       "\\item 'atmospheric\\_temperature'\n",
       "\\item 'shaft\\_temperature'\n",
       "\\item 'blades\\_angle'\n",
       "\\item 'gearbox\\_temperature'\n",
       "\\item 'engine\\_temperature'\n",
       "\\item 'motor\\_torque'\n",
       "\\item 'generator\\_temperature'\n",
       "\\item 'atmospheric\\_pressure'\n",
       "\\item 'area\\_temperature'\n",
       "\\item 'windmill\\_body\\_temperature'\n",
       "\\item 'wind\\_direction'\n",
       "\\item 'resistance'\n",
       "\\item 'rotor\\_torque'\n",
       "\\item 'turbine\\_status'\n",
       "\\item 'cloud\\_level'\n",
       "\\item 'blade\\_length'\n",
       "\\item 'blade\\_breadth'\n",
       "\\item 'windmill\\_height'\n",
       "\\item 'windmill\\_generated\\_power'\n",
       "\\item 'year'\n",
       "\\item 'month'\n",
       "\\item 'mday'\n",
       "\\item 'wday'\n",
       "\\item 'hour'\n",
       "\\end{enumerate*}\n"
      ],
      "text/markdown": [
       "1. 'wind_speed'\n",
       "2. 'atmospheric_temperature'\n",
       "3. 'shaft_temperature'\n",
       "4. 'blades_angle'\n",
       "5. 'gearbox_temperature'\n",
       "6. 'engine_temperature'\n",
       "7. 'motor_torque'\n",
       "8. 'generator_temperature'\n",
       "9. 'atmospheric_pressure'\n",
       "10. 'area_temperature'\n",
       "11. 'windmill_body_temperature'\n",
       "12. 'wind_direction'\n",
       "13. 'resistance'\n",
       "14. 'rotor_torque'\n",
       "15. 'turbine_status'\n",
       "16. 'cloud_level'\n",
       "17. 'blade_length'\n",
       "18. 'blade_breadth'\n",
       "19. 'windmill_height'\n",
       "20. 'windmill_generated_power'\n",
       "21. 'year'\n",
       "22. 'month'\n",
       "23. 'mday'\n",
       "24. 'wday'\n",
       "25. 'hour'\n",
       "\n",
       "\n"
      ],
      "text/plain": [
       " [1] \"wind_speed\"                \"atmospheric_temperature\"  \n",
       " [3] \"shaft_temperature\"         \"blades_angle\"             \n",
       " [5] \"gearbox_temperature\"       \"engine_temperature\"       \n",
       " [7] \"motor_torque\"              \"generator_temperature\"    \n",
       " [9] \"atmospheric_pressure\"      \"area_temperature\"         \n",
       "[11] \"windmill_body_temperature\" \"wind_direction\"           \n",
       "[13] \"resistance\"                \"rotor_torque\"             \n",
       "[15] \"turbine_status\"            \"cloud_level\"              \n",
       "[17] \"blade_length\"              \"blade_breadth\"            \n",
       "[19] \"windmill_height\"           \"windmill_generated_power\" \n",
       "[21] \"year\"                      \"month\"                    \n",
       "[23] \"mday\"                      \"wday\"                     \n",
       "[25] \"hour\"                     "
      ]
     },
     "metadata": {},
     "output_type": "display_data"
    },
    {
     "data": {
      "text/html": [
       "25"
      ],
      "text/latex": [
       "25"
      ],
      "text/markdown": [
       "25"
      ],
      "text/plain": [
       "[1] 25"
      ]
     },
     "metadata": {},
     "output_type": "display_data"
    },
    {
     "data": {
      "text/plain": [
       "   wind_speed      atmospheric_temperature shaft_temperature\n",
       " Min.   :-496.21   Min.   :-99.000         Min.   :-99.00   \n",
       " 1st Qu.:  20.88   1st Qu.:  7.949         1st Qu.: 41.63   \n",
       " Median :  93.30   Median : 16.102         Median : 43.69   \n",
       " Mean   :  69.04   Mean   :  0.384         Mean   : 40.09   \n",
       " 3rd Qu.:  95.27   3rd Qu.: 23.687         3rd Qu.: 45.67   \n",
       " Max.   : 601.46   Max.   : 80.217         Max.   :169.82   \n",
       " NA's   :273       NA's   :3450            NA's   :2        \n",
       "  blades_angle       gearbox_temperature engine_temperature  motor_torque   \n",
       " Min.   :-146.2595   Min.   :-244.97     Min.   : 3.167     Min.   : 500.0  \n",
       " 1st Qu.:  -1.1977   1st Qu.:  40.56     1st Qu.:41.911     1st Qu.: 870.3  \n",
       " Median :  -0.4956   Median :  43.22     Median :43.525     Median :2031.8  \n",
       " Mean   :  -9.6540   Mean   :  41.03     Mean   :42.614     Mean   :1710.8  \n",
       " 3rd Qu.:   5.4950   3rd Qu.:  45.88     3rd Qu.:45.174     3rd Qu.:2462.6  \n",
       " Max.   : 165.9321   Max.   : 999.00     Max.   :50.000     Max.   :3000.0  \n",
       " NA's   :216         NA's   :1           NA's   :12         NA's   :24      \n",
       " generator_temperature atmospheric_pressure area_temperature\n",
       " Min.   : 33.89        Min.   :-1188624     Min.   :-30.00  \n",
       " 1st Qu.: 41.20        1st Qu.:   16795     1st Qu.: 27.31  \n",
       " Median : 70.73        Median :   18191     Median : 32.61  \n",
       " Mean   : 65.03        Mean   :   53185     Mean   : 32.74  \n",
       " 3rd Qu.: 78.95        3rd Qu.:  118113     3rd Qu.: 38.23  \n",
       " Max.   :100.00        Max.   : 1272552     Max.   : 55.00  \n",
       " NA's   :12            NA's   :2707                         \n",
       " windmill_body_temperature wind_direction    resistance     rotor_torque    \n",
       " Min.   :-999.00           Min.   :  0.0   Min.   :-1005   Min.   :-136.73  \n",
       " 1st Qu.:  40.45           1st Qu.:238.6   1st Qu.: 1268   1st Qu.:  13.72  \n",
       " Median :  42.79           Median :271.4   Median : 1678   Median :  32.98  \n",
       " Mean   :  20.80           Mean   :306.9   Mean   : 1576   Mean   :  25.85  \n",
       " 3rd Qu.:  44.49           3rd Qu.:404.2   3rd Qu.: 1829   3rd Qu.:  41.55  \n",
       " Max.   : 323.00           Max.   :570.0   Max.   : 4693   Max.   : 236.88  \n",
       " NA's   :2363              NA's   :5103    NA's   :1       NA's   :572      \n",
       " turbine_status         cloud_level     blade_length     blade_breadth   \n",
       " BB     : 1946                :  276   Min.   :-99.000   Min.   :0.2001  \n",
       " AAA    : 1939   Extremely Low:  299   1st Qu.:  2.545   1st Qu.:0.3474  \n",
       " BCB    : 1933   Low          :13921   Median :  3.453   Median :0.3986  \n",
       " B2     : 1931   Medium       :13704   Mean   :  2.254   Mean   :0.3972  \n",
       " A      : 1930                         3rd Qu.:  4.358   3rd Qu.:0.4494  \n",
       " D      : 1922                         Max.   : 18.210   Max.   :0.5000  \n",
       " (Other):16599                         NA's   :5093                      \n",
       " windmill_height  windmill_generated_power   year           month      \n",
       " Min.   :-30.30   Min.   : 0.9623          2018: 5333   1      : 2884  \n",
       " 1st Qu.: 24.45   1st Qu.: 4.0595          2019:22867   5      : 2869  \n",
       " Median : 25.96   Median : 5.7647                       8      : 2834  \n",
       " Mean   : 25.89   Mean   : 6.1305                       6      : 2797  \n",
       " 3rd Qu.: 27.48   3rd Qu.: 7.9472                       7      : 2772  \n",
       " Max.   : 78.35   Max.   :20.1754                       12     : 2748  \n",
       " NA's   :543      NA's   :207                           (Other):11296  \n",
       "      mday       wday          hour      \n",
       " 8      : 1069   0:3770   Min.   : 0.00  \n",
       " 22     : 1068   1:4238   1st Qu.: 6.00  \n",
       " 7      : 1057   2:4154   Median :12.00  \n",
       " 17     : 1020   3:4141   Mean   :11.59  \n",
       " 6      : 1019   4:4068   3rd Qu.:18.00  \n",
       " 5      : 1016   5:3803   Max.   :23.00  \n",
       " (Other):21951   6:4026                  "
      ]
     },
     "metadata": {},
     "output_type": "display_data"
    }
   ],
   "source": [
    "# drop column tracking_id and datetime\n",
    "wind.dt[,tracking_id:=NULL]\n",
    "wind.dt[,datetime:=NULL]\n",
    "wind.dt[,sec:=NULL]\n",
    "wind.dt[,min:=NULL]\n",
    "# wind.dt[,mday:=NULL]\n",
    "# wind.dt[,wday:=NULL]\n",
    "# wind.dt[,year:=NULL]\n",
    "\n",
    "colnames(wind.dt)\n",
    "ncol(wind.dt)\n",
    "\n",
    "summary(wind.dt)"
   ]
  },
  {
   "cell_type": "code",
   "execution_count": 8,
   "id": "35755b58",
   "metadata": {},
   "outputs": [],
   "source": [
    "# Take absolute value of wind_speed\n",
    "wind.dt$wind_speed = abs(wind.dt$wind_speed)"
   ]
  },
  {
   "cell_type": "code",
   "execution_count": 9,
   "id": "8e6159fe",
   "metadata": {},
   "outputs": [
    {
     "data": {
      "text/plain": [
       "   wind_speed      atmospheric_temperature shaft_temperature\n",
       " Min.   :  1.768   Min.   :-99.000         Min.   :-99.00   \n",
       " 1st Qu.: 34.136   1st Qu.:  7.949         1st Qu.: 41.63   \n",
       " Median : 93.625   Median : 16.102         Median : 43.69   \n",
       " Mean   : 83.843   Mean   :  0.384         Mean   : 40.09   \n",
       " 3rd Qu.: 95.612   3rd Qu.: 23.687         3rd Qu.: 45.67   \n",
       " Max.   :601.456   Max.   : 80.217         Max.   :169.82   \n",
       " NA's   :273       NA's   :3450            NA's   :2        \n",
       "  blades_angle       gearbox_temperature engine_temperature  motor_torque   \n",
       " Min.   :-146.2595   Min.   :-244.97     Min.   : 3.167     Min.   : 500.0  \n",
       " 1st Qu.:  -1.1977   1st Qu.:  40.56     1st Qu.:41.911     1st Qu.: 870.3  \n",
       " Median :  -0.4956   Median :  43.22     Median :43.525     Median :2031.8  \n",
       " Mean   :  -9.6540   Mean   :  41.03     Mean   :42.614     Mean   :1710.8  \n",
       " 3rd Qu.:   5.4950   3rd Qu.:  45.88     3rd Qu.:45.174     3rd Qu.:2462.6  \n",
       " Max.   : 165.9321   Max.   : 999.00     Max.   :50.000     Max.   :3000.0  \n",
       " NA's   :216         NA's   :1           NA's   :12         NA's   :24      \n",
       " generator_temperature atmospheric_pressure area_temperature\n",
       " Min.   : 33.89        Min.   :-1188624     Min.   :-30.00  \n",
       " 1st Qu.: 41.20        1st Qu.:   16795     1st Qu.: 27.31  \n",
       " Median : 70.73        Median :   18191     Median : 32.61  \n",
       " Mean   : 65.03        Mean   :   53185     Mean   : 32.74  \n",
       " 3rd Qu.: 78.95        3rd Qu.:  118113     3rd Qu.: 38.23  \n",
       " Max.   :100.00        Max.   : 1272552     Max.   : 55.00  \n",
       " NA's   :12            NA's   :2707                         \n",
       " windmill_body_temperature wind_direction    resistance     rotor_torque    \n",
       " Min.   :-999.00           Min.   :  0.0   Min.   :-1005   Min.   :-136.73  \n",
       " 1st Qu.:  40.45           1st Qu.:238.6   1st Qu.: 1268   1st Qu.:  13.72  \n",
       " Median :  42.79           Median :271.4   Median : 1678   Median :  32.98  \n",
       " Mean   :  20.80           Mean   :306.9   Mean   : 1576   Mean   :  25.85  \n",
       " 3rd Qu.:  44.49           3rd Qu.:404.2   3rd Qu.: 1829   3rd Qu.:  41.55  \n",
       " Max.   : 323.00           Max.   :570.0   Max.   : 4693   Max.   : 236.88  \n",
       " NA's   :2363              NA's   :5103    NA's   :1       NA's   :572      \n",
       " turbine_status         cloud_level     blade_length     blade_breadth   \n",
       " BB     : 1946                :  276   Min.   :-99.000   Min.   :0.2001  \n",
       " AAA    : 1939   Extremely Low:  299   1st Qu.:  2.545   1st Qu.:0.3474  \n",
       " BCB    : 1933   Low          :13921   Median :  3.453   Median :0.3986  \n",
       " B2     : 1931   Medium       :13704   Mean   :  2.254   Mean   :0.3972  \n",
       " A      : 1930                         3rd Qu.:  4.358   3rd Qu.:0.4494  \n",
       " D      : 1922                         Max.   : 18.210   Max.   :0.5000  \n",
       " (Other):16599                         NA's   :5093                      \n",
       " windmill_height  windmill_generated_power   year           month      \n",
       " Min.   :-30.30   Min.   : 0.9623          2018: 5333   1      : 2884  \n",
       " 1st Qu.: 24.45   1st Qu.: 4.0595          2019:22867   5      : 2869  \n",
       " Median : 25.96   Median : 5.7647                       8      : 2834  \n",
       " Mean   : 25.89   Mean   : 6.1305                       6      : 2797  \n",
       " 3rd Qu.: 27.48   3rd Qu.: 7.9472                       7      : 2772  \n",
       " Max.   : 78.35   Max.   :20.1754                       12     : 2748  \n",
       " NA's   :543      NA's   :207                           (Other):11296  \n",
       "      mday       wday          hour      \n",
       " 8      : 1069   0:3770   Min.   : 0.00  \n",
       " 22     : 1068   1:4238   1st Qu.: 6.00  \n",
       " 7      : 1057   2:4154   Median :12.00  \n",
       " 17     : 1020   3:4141   Mean   :11.59  \n",
       " 6      : 1019   4:4068   3rd Qu.:18.00  \n",
       " 5      : 1016   5:3803   Max.   :23.00  \n",
       " (Other):21951   6:4026                  "
      ]
     },
     "metadata": {},
     "output_type": "display_data"
    }
   ],
   "source": [
    "summary(wind.dt)"
   ]
  },
  {
   "cell_type": "code",
   "execution_count": 10,
   "id": "bceffcb0",
   "metadata": {},
   "outputs": [
    {
     "data": {
      "text/html": [
       "<span style=white-space:pre-wrap>'number of rows of trainset:  19740'</span>"
      ],
      "text/latex": [
       "'number of rows of trainset:  19740'"
      ],
      "text/markdown": [
       "<span style=white-space:pre-wrap>'number of rows of trainset:  19740'</span>"
      ],
      "text/plain": [
       "[1] \"number of rows of trainset:  19740\""
      ]
     },
     "metadata": {},
     "output_type": "display_data"
    },
    {
     "data": {
      "text/html": [
       "<span style=white-space:pre-wrap>'proportion of trainset:  0.7'</span>"
      ],
      "text/latex": [
       "'proportion of trainset:  0.7'"
      ],
      "text/markdown": [
       "<span style=white-space:pre-wrap>'proportion of trainset:  0.7'</span>"
      ],
      "text/plain": [
       "[1] \"proportion of trainset:  0.7\""
      ]
     },
     "metadata": {},
     "output_type": "display_data"
    },
    {
     "data": {
      "text/html": [
       "<span style=white-space:pre-wrap>'number of rows of testset:  8460'</span>"
      ],
      "text/latex": [
       "'number of rows of testset:  8460'"
      ],
      "text/markdown": [
       "<span style=white-space:pre-wrap>'number of rows of testset:  8460'</span>"
      ],
      "text/plain": [
       "[1] \"number of rows of testset:  8460\""
      ]
     },
     "metadata": {},
     "output_type": "display_data"
    },
    {
     "data": {
      "text/html": [
       "<span style=white-space:pre-wrap>'proportion of testset:  0.3'</span>"
      ],
      "text/latex": [
       "'proportion of testset:  0.3'"
      ],
      "text/markdown": [
       "<span style=white-space:pre-wrap>'proportion of testset:  0.3'</span>"
      ],
      "text/plain": [
       "[1] \"proportion of testset:  0.3\""
      ]
     },
     "metadata": {},
     "output_type": "display_data"
    }
   ],
   "source": [
    "# Split into train and test set\n",
    "library(caTools)\n",
    "\n",
    "set.seed(2021)\n",
    "train <- sample.split(Y=wind.dt$windmill_generated_power, SplitRatio=0.7)\n",
    "trainset<- subset(wind.dt, train==T)\n",
    "testset<- subset(wind.dt, train==F)\n",
    "paste(\"number of rows of trainset: \",nrow(trainset))\n",
    "paste(\"proportion of trainset: \", nrow(trainset)/nrow(wind.dt))\n",
    "paste(\"number of rows of testset: \",nrow(testset))\n",
    "paste(\"proportion of testset: \", nrow(testset)/nrow(wind.dt))"
   ]
  },
  {
   "cell_type": "markdown",
   "id": "2b7e5057",
   "metadata": {},
   "source": [
    "## <a id='section2'>2. Data Exploration</a>"
   ]
  },
  {
   "cell_type": "code",
   "execution_count": 11,
   "id": "c1b731e8",
   "metadata": {},
   "outputs": [
    {
     "name": "stderr",
     "output_type": "stream",
     "text": [
      "Warning message:\n",
      "\"package 'naniar' was built under R version 3.6.3\"Warning message:\n",
      "\"package 'VIM' was built under R version 3.6.3\"Loading required package: colorspace\n",
      "Loading required package: grid\n",
      "VIM is ready to use.\n",
      "\n",
      "Suggestions and bug-reports can be submitted at: https://github.com/statistikat/VIM/issues\n",
      "\n",
      "Attaching package: 'VIM'\n",
      "\n",
      "The following object is masked from 'package:datasets':\n",
      "\n",
      "    sleep\n",
      "\n"
     ]
    }
   ],
   "source": [
    "# NA Analysis and Handling\n",
    "library(naniar)\n",
    "library(VIM)"
   ]
  },
  {
   "cell_type": "code",
   "execution_count": 12,
   "id": "6b566986",
   "metadata": {},
   "outputs": [
    {
     "data": {
      "image/png": "[encoded data removed]",
      "text/plain": [
       "plot without title"
      ]
     },
     "metadata": {},
     "output_type": "display_data"
    }
   ],
   "source": [
    "gg_miss_upset(wind.dt) # interesting overview of NA"
   ]
  },
  {
   "cell_type": "code",
   "execution_count": 13,
   "id": "e02989db",
   "metadata": {},
   "outputs": [
    {
     "name": "stderr",
     "output_type": "stream",
     "text": [
      "Warning message in plot.aggr(res, ...):\n",
      "\"not enough vertical space to display frequencies (too many combinations)\""
     ]
    },
    {
     "name": "stdout",
     "output_type": "stream",
     "text": [
      "\n",
      " Variables sorted by number of missings: \n",
      "                  Variable        Count\n",
      "            wind_direction 1.809574e-01\n",
      "              blade_length 1.806028e-01\n",
      "   atmospheric_temperature 1.223404e-01\n",
      "      atmospheric_pressure 9.599291e-02\n",
      " windmill_body_temperature 8.379433e-02\n",
      "              rotor_torque 2.028369e-02\n",
      "           windmill_height 1.925532e-02\n",
      "                wind_speed 9.680851e-03\n",
      "              blades_angle 7.659574e-03\n",
      "  windmill_generated_power 7.340426e-03\n",
      "              motor_torque 8.510638e-04\n",
      "        engine_temperature 4.255319e-04\n",
      "     generator_temperature 4.255319e-04\n",
      "         shaft_temperature 7.092199e-05\n",
      "       gearbox_temperature 3.546099e-05\n",
      "                resistance 3.546099e-05\n",
      "          area_temperature 0.000000e+00\n",
      "            turbine_status 0.000000e+00\n",
      "               cloud_level 0.000000e+00\n",
      "             blade_breadth 0.000000e+00\n",
      "                      year 0.000000e+00\n",
      "                     month 0.000000e+00\n",
      "                      mday 0.000000e+00\n",
      "                      wday 0.000000e+00\n",
      "                      hour 0.000000e+00\n"
     ]
    },
    {
     "data": {
      "image/png": "[encoded data removed]",
      "text/plain": [
       "plot without title"
      ]
     },
     "metadata": {},
     "output_type": "display_data"
    }
   ],
   "source": [
    "# Missing Values Pattern\n",
    "aggr_plot <- aggr(wind.dt, col=c('black','red'), \n",
    "                  numbers=TRUE, sortVars=TRUE, labels=names(data), \n",
    "                  cex.axis=0.4, gap=10, ylab=c(\"Histogram of missing data\",\"Pattern\"))"
   ]
  },
  {
   "cell_type": "markdown",
   "id": "bdffa93b",
   "metadata": {},
   "source": [
    "## <a id='section2'>3. Data Imputation</a>"
   ]
  },
  {
   "cell_type": "code",
   "execution_count": 14,
   "id": "f786b1d1",
   "metadata": {},
   "outputs": [
    {
     "name": "stderr",
     "output_type": "stream",
     "text": [
      "Warning message:\n",
      "\"package 'mice' was built under R version 3.6.3\"\n",
      "Attaching package: 'mice'\n",
      "\n",
      "The following object is masked from 'package:stats':\n",
      "\n",
      "    filter\n",
      "\n",
      "The following objects are masked from 'package:base':\n",
      "\n",
      "    cbind, rbind\n",
      "\n"
     ]
    },
    {
     "name": "stdout",
     "output_type": "stream",
     "text": [
      "\n",
      " iter imp variable\n",
      "  1   1  wind_speed  atmospheric_temperature  blades_angle  engine_temperature  motor_torque  generator_temperature  atmospheric_pressure  windmill_body_temperature  wind_direction  resistance  rotor_torque  blade_length  windmill_height  windmill_generated_power\n",
      "  1   2  wind_speed  atmospheric_temperature  blades_angle  engine_temperature  motor_torque  generator_temperature  atmospheric_pressure  windmill_body_temperature  wind_direction  resistance  rotor_torque  blade_length  windmill_height  windmill_generated_power\n",
      "  1   3  wind_speed  atmospheric_temperature  blades_angle  engine_temperature  motor_torque  generator_temperature  atmospheric_pressure  windmill_body_temperature  wind_direction  resistance  rotor_torque  blade_length  windmill_height  windmill_generated_power\n",
      "  1   4  wind_speed  atmospheric_temperature  blades_angle  engine_temperature  motor_torque  generator_temperature  atmospheric_pressure  windmill_body_temperature  wind_direction  resistance  rotor_torque  blade_length  windmill_height  windmill_generated_power\n",
      "  1   5  wind_speed  atmospheric_temperature  blades_angle  engine_temperature  motor_torque  generator_temperature  atmospheric_pressure  windmill_body_temperature  wind_direction  resistance  rotor_torque  blade_length  windmill_height  windmill_generated_power\n",
      "  2   1  wind_speed  atmospheric_temperature  blades_angle  engine_temperature  motor_torque  generator_temperature  atmospheric_pressure  windmill_body_temperature  wind_direction  resistance  rotor_torque  blade_length  windmill_height  windmill_generated_power\n",
      "  2   2  wind_speed  atmospheric_temperature  blades_angle  engine_temperature  motor_torque  generator_temperature  atmospheric_pressure  windmill_body_temperature  wind_direction  resistance  rotor_torque  blade_length  windmill_height  windmill_generated_power\n",
      "  2   3  wind_speed  atmospheric_temperature  blades_angle  engine_temperature  motor_torque  generator_temperature  atmospheric_pressure  windmill_body_temperature  wind_direction  resistance  rotor_torque  blade_length  windmill_height  windmill_generated_power\n",
      "  2   4  wind_speed  atmospheric_temperature  blades_angle  engine_temperature  motor_torque  generator_temperature  atmospheric_pressure  windmill_body_temperature  wind_direction  resistance  rotor_torque  blade_length  windmill_height  windmill_generated_power\n",
      "  2   5  wind_speed  atmospheric_temperature  blades_angle  engine_temperature  motor_torque  generator_temperature  atmospheric_pressure  windmill_body_temperature  wind_direction  resistance  rotor_torque  blade_length  windmill_height  windmill_generated_power\n",
      "  3   1  wind_speed  atmospheric_temperature  blades_angle  engine_temperature  motor_torque  generator_temperature  atmospheric_pressure  windmill_body_temperature  wind_direction  resistance  rotor_torque  blade_length  windmill_height  windmill_generated_power\n",
      "  3   2  wind_speed  atmospheric_temperature  blades_angle  engine_temperature  motor_torque  generator_temperature  atmospheric_pressure  windmill_body_temperature  wind_direction  resistance  rotor_torque  blade_length  windmill_height  windmill_generated_power\n",
      "  3   3  wind_speed  atmospheric_temperature  blades_angle  engine_temperature  motor_torque  generator_temperature  atmospheric_pressure  windmill_body_temperature  wind_direction  resistance  rotor_torque  blade_length  windmill_height  windmill_generated_power\n",
      "  3   4  wind_speed  atmospheric_temperature  blades_angle  engine_temperature  motor_torque  generator_temperature  atmospheric_pressure  windmill_body_temperature  wind_direction  resistance  rotor_torque  blade_length  windmill_height  windmill_generated_power\n",
      "  3   5  wind_speed  atmospheric_temperature  blades_angle  engine_temperature  motor_torque  generator_temperature  atmospheric_pressure  windmill_body_temperature  wind_direction  resistance  rotor_torque  blade_length  windmill_height  windmill_generated_power\n",
      "  4   1  wind_speed  atmospheric_temperature  blades_angle  engine_temperature  motor_torque  generator_temperature  atmospheric_pressure  windmill_body_temperature  wind_direction  resistance  rotor_torque  blade_length  windmill_height  windmill_generated_power\n",
      "  4   2  wind_speed  atmospheric_temperature  blades_angle  engine_temperature  motor_torque  generator_temperature  atmospheric_pressure  windmill_body_temperature  wind_direction  resistance  rotor_torque  blade_length  windmill_height  windmill_generated_power\n",
      "  4   3  wind_speed  atmospheric_temperature  blades_angle  engine_temperature  motor_torque  generator_temperature  atmospheric_pressure  windmill_body_temperature  wind_direction  resistance  rotor_torque  blade_length  windmill_height  windmill_generated_power\n",
      "  4   4  wind_speed  atmospheric_temperature  blades_angle  engine_temperature  motor_torque  generator_temperature  atmospheric_pressure  windmill_body_temperature  wind_direction  resistance  rotor_torque  blade_length  windmill_height  windmill_generated_power\n",
      "  4   5  wind_speed  atmospheric_temperature  blades_angle  engine_temperature  motor_torque  generator_temperature  atmospheric_pressure  windmill_body_temperature  wind_direction  resistance  rotor_torque  blade_length  windmill_height  windmill_generated_power\n",
      "  5   1  wind_speed  atmospheric_temperature  blades_angle  engine_temperature  motor_torque  generator_temperature  atmospheric_pressure  windmill_body_temperature  wind_direction  resistance  rotor_torque  blade_length  windmill_height  windmill_generated_power\n",
      "  5   2  wind_speed  atmospheric_temperature  blades_angle  engine_temperature  motor_torque  generator_temperature  atmospheric_pressure  windmill_body_temperature  wind_direction  resistance  rotor_torque  blade_length  windmill_height  windmill_generated_power\n",
      "  5   3  wind_speed  atmospheric_temperature  blades_angle  engine_temperature  motor_torque  generator_temperature  atmospheric_pressure  windmill_body_temperature  wind_direction  resistance  rotor_torque  blade_length  windmill_height  windmill_generated_power\n",
      "  5   4  wind_speed  atmospheric_temperature  blades_angle  engine_temperature  motor_torque  generator_temperature  atmospheric_pressure  windmill_body_temperature  wind_direction  resistance  rotor_torque  blade_length  windmill_height  windmill_generated_power\n",
      "  5   5  wind_speed  atmospheric_temperature  blades_angle  engine_temperature  motor_torque  generator_temperature  atmospheric_pressure  windmill_body_temperature  wind_direction  resistance  rotor_torque  blade_length  windmill_height  windmill_generated_power\n",
      "\n",
      " iter imp variable\n",
      "  1   1  wind_speed  atmospheric_temperature  shaft_temperature  blades_angle  gearbox_temperature  engine_temperature  motor_torque  generator_temperature  atmospheric_pressure  windmill_body_temperature  wind_direction  rotor_torque  blade_length  windmill_height  windmill_generated_power\n",
      "  1   2  wind_speed  atmospheric_temperature  shaft_temperature  blades_angle  gearbox_temperature  engine_temperature  motor_torque  generator_temperature  atmospheric_pressure  windmill_body_temperature  wind_direction  rotor_torque  blade_length  windmill_height  windmill_generated_power\n",
      "  1   3  wind_speed  atmospheric_temperature  shaft_temperature  blades_angle  gearbox_temperature  engine_temperature  motor_torque  generator_temperature  atmospheric_pressure  windmill_body_temperature  wind_direction  rotor_torque  blade_length  windmill_height  windmill_generated_power\n",
      "  1   4  wind_speed  atmospheric_temperature  shaft_temperature  blades_angle  gearbox_temperature  engine_temperature  motor_torque  generator_temperature  atmospheric_pressure  windmill_body_temperature  wind_direction  rotor_torque  blade_length  windmill_height  windmill_generated_power\n",
      "  1   5  wind_speed  atmospheric_temperature  shaft_temperature  blades_angle  gearbox_temperature  engine_temperature  motor_torque  generator_temperature  atmospheric_pressure  windmill_body_temperature  wind_direction  rotor_torque  blade_length  windmill_height  windmill_generated_power\n",
      "  2   1  wind_speed  atmospheric_temperature  shaft_temperature  blades_angle  gearbox_temperature  engine_temperature  motor_torque  generator_temperature  atmospheric_pressure  windmill_body_temperature  wind_direction  rotor_torque  blade_length  windmill_height  windmill_generated_power\n",
      "  2   2  wind_speed  atmospheric_temperature  shaft_temperature  blades_angle  gearbox_temperature  engine_temperature  motor_torque  generator_temperature  atmospheric_pressure  windmill_body_temperature  wind_direction  rotor_torque  blade_length  windmill_height  windmill_generated_power\n",
      "  2   3  wind_speed  atmospheric_temperature  shaft_temperature  blades_angle  gearbox_temperature  engine_temperature  motor_torque  generator_temperature  atmospheric_pressure  windmill_body_temperature  wind_direction  rotor_torque  blade_length  windmill_height  windmill_generated_power\n",
      "  2   4  wind_speed  atmospheric_temperature  shaft_temperature  blades_angle  gearbox_temperature  engine_temperature  motor_torque  generator_temperature  atmospheric_pressure  windmill_body_temperature  wind_direction  rotor_torque  blade_length  windmill_height  windmill_generated_power\n",
      "  2   5  wind_speed  atmospheric_temperature  shaft_temperature  blades_angle  gearbox_temperature  engine_temperature  motor_torque  generator_temperature  atmospheric_pressure  windmill_body_temperature  wind_direction  rotor_torque  blade_length  windmill_height  windmill_generated_power\n",
      "  3   1  wind_speed  atmospheric_temperature  shaft_temperature  blades_angle  gearbox_temperature  engine_temperature  motor_torque  generator_temperature  atmospheric_pressure  windmill_body_temperature  wind_direction  rotor_torque  blade_length  windmill_height  windmill_generated_power\n",
      "  3   2  wind_speed  atmospheric_temperature  shaft_temperature  blades_angle  gearbox_temperature  engine_temperature  motor_torque  generator_temperature  atmospheric_pressure  windmill_body_temperature  wind_direction  rotor_torque  blade_length  windmill_height  windmill_generated_power\n",
      "  3   3  wind_speed  atmospheric_temperature  shaft_temperature  blades_angle  gearbox_temperature  engine_temperature  motor_torque  generator_temperature  atmospheric_pressure  windmill_body_temperature  wind_direction  rotor_torque  blade_length  windmill_height  windmill_generated_power\n",
      "  3   4  wind_speed  atmospheric_temperature  shaft_temperature  blades_angle  gearbox_temperature  engine_temperature  motor_torque  generator_temperature  atmospheric_pressure  windmill_body_temperature  wind_direction  rotor_torque  blade_length  windmill_height  windmill_generated_power\n",
      "  3   5  wind_speed  atmospheric_temperature  shaft_temperature  blades_angle  gearbox_temperature  engine_temperature  motor_torque  generator_temperature  atmospheric_pressure  windmill_body_temperature  wind_direction  rotor_torque  blade_length  windmill_height  windmill_generated_power\n",
      "  4   1  wind_speed  atmospheric_temperature  shaft_temperature  blades_angle  gearbox_temperature  engine_temperature  motor_torque  generator_temperature  atmospheric_pressure  windmill_body_temperature  wind_direction  rotor_torque  blade_length  windmill_height  windmill_generated_power\n",
      "  4   2  wind_speed  atmospheric_temperature  shaft_temperature  blades_angle  gearbox_temperature  engine_temperature  motor_torque  generator_temperature  atmospheric_pressure  windmill_body_temperature  wind_direction  rotor_torque  blade_length  windmill_height  windmill_generated_power\n",
      "  4   3  wind_speed  atmospheric_temperature  shaft_temperature  blades_angle  gearbox_temperature  engine_temperature  motor_torque  generator_temperature  atmospheric_pressure  windmill_body_temperature  wind_direction  rotor_torque  blade_length  windmill_height  windmill_generated_power\n",
      "  4   4  wind_speed  atmospheric_temperature  shaft_temperature  blades_angle  gearbox_temperature  engine_temperature  motor_torque  generator_temperature  atmospheric_pressure  windmill_body_temperature  wind_direction  rotor_torque  blade_length  windmill_height  windmill_generated_power\n",
      "  4   5  wind_speed  atmospheric_temperature  shaft_temperature  blades_angle  gearbox_temperature  engine_temperature  motor_torque  generator_temperature  atmospheric_pressure  windmill_body_temperature  wind_direction  rotor_torque  blade_length  windmill_height  windmill_generated_power\n",
      "  5   1  wind_speed  atmospheric_temperature  shaft_temperature  blades_angle  gearbox_temperature  engine_temperature  motor_torque  generator_temperature  atmospheric_pressure  windmill_body_temperature  wind_direction  rotor_torque  blade_length  windmill_height  windmill_generated_power\n",
      "  5   2  wind_speed  atmospheric_temperature  shaft_temperature  blades_angle  gearbox_temperature  engine_temperature  motor_torque  generator_temperature  atmospheric_pressure  windmill_body_temperature  wind_direction  rotor_torque  blade_length  windmill_height  windmill_generated_power\n",
      "  5   3  wind_speed  atmospheric_temperature  shaft_temperature  blades_angle  gearbox_temperature  engine_temperature  motor_torque  generator_temperature  atmospheric_pressure  windmill_body_temperature  wind_direction  rotor_torque  blade_length  windmill_height  windmill_generated_power\n",
      "  5   4  wind_speed  atmospheric_temperature  shaft_temperature  blades_angle  gearbox_temperature  engine_temperature  motor_torque  generator_temperature  atmospheric_pressure  windmill_body_temperature  wind_direction  rotor_torque  blade_length  windmill_height  windmill_generated_power\n",
      "  5   5  wind_speed  atmospheric_temperature  shaft_temperature  blades_angle  gearbox_temperature  engine_temperature  motor_torque  generator_temperature  atmospheric_pressure  windmill_body_temperature  wind_direction  rotor_torque  blade_length  windmill_height  windmill_generated_power\n"
     ]
    }
   ],
   "source": [
    "# Data imputation with MICE stochastic regression imputation\n",
    "library(mice)\n",
    "\n",
    "trainset[trainset == \"\"] <- NA # account for \"\" as NA\n",
    "testset[testset == \"\"] <- NA\n",
    "\n",
    "data_imputation = function(data)\n",
    "{\n",
    "  # Imputing Numeric missing data using MICE stochastic regression imputation\n",
    "  imp = mice(data[,c(1:14,17,19:20)], method = \"norm.nob\", m = 5, maxit = 5)\n",
    "  data1 = complete(imp,2)\n",
    "  \n",
    "  # Filling missing values in categorical variables using KNN imputer\n",
    "  imp2 = kNN(data[,c(15,16)])\n",
    "  data2 = imp2[,c(1,2)]\n",
    "  \n",
    "  # Concatenating all the imputed features\n",
    "  data1 = cbind(data[,c(18,21:25)],data1, data2)\n",
    "  \n",
    "  return(data1)\n",
    "}\n",
    "\n",
    "trainset.imputation <- data_imputation(trainset)\n",
    "testset.imputation <- data_imputation(testset)"
   ]
  },
  {
   "cell_type": "code",
   "execution_count": 15,
   "id": "f984eec9",
   "metadata": {},
   "outputs": [
    {
     "data": {
      "text/html": [
       "15912"
      ],
      "text/latex": [
       "15912"
      ],
      "text/markdown": [
       "15912"
      ],
      "text/plain": [
       "[1] 15912"
      ]
     },
     "metadata": {},
     "output_type": "display_data"
    },
    {
     "data": {
      "text/html": [
       "0"
      ],
      "text/latex": [
       "0"
      ],
      "text/markdown": [
       "0"
      ],
      "text/plain": [
       "[1] 0"
      ]
     },
     "metadata": {},
     "output_type": "display_data"
    },
    {
     "data": {
      "text/html": [
       "6702"
      ],
      "text/latex": [
       "6702"
      ],
      "text/markdown": [
       "6702"
      ],
      "text/plain": [
       "[1] 6702"
      ]
     },
     "metadata": {},
     "output_type": "display_data"
    },
    {
     "data": {
      "text/html": [
       "0"
      ],
      "text/latex": [
       "0"
      ],
      "text/markdown": [
       "0"
      ],
      "text/plain": [
       "[1] 0"
      ]
     },
     "metadata": {},
     "output_type": "display_data"
    }
   ],
   "source": [
    "# Check NAs\n",
    "sum(is.na(trainset)) \n",
    "sum(is.na(trainset.imputation))\n",
    "sum(is.na(testset))\n",
    "sum(is.na(testset.imputation))"
   ]
  },
  {
   "cell_type": "code",
   "execution_count": 16,
   "id": "5b75549d",
   "metadata": {},
   "outputs": [],
   "source": [
    "trainset.imputation$cloud_level = as.factor(trainset.imputation$cloud_level)\n",
    "trainset$cloud_level = as.factor(trainset$cloud_level)\n",
    "testset.imputation$cloud_level = as.factor(testset.imputation$cloud_level)\n",
    "testset$cloud_level = as.factor(testset$cloud_level)\n",
    "\n",
    "trainset.imputation$cloud_level <- droplevels(trainset.imputation$cloud_level) # removes unused \"\" level\n",
    "trainset$cloud_level <- droplevels(trainset$cloud_level) # removes unused \"\" level\n",
    "testset.imputation$cloud_level <- droplevels(testset.imputation$cloud_level) # removes unused \"\" level\n",
    "testset$cloud_level <- droplevels(testset$cloud_level) # removes unused \"\" level"
   ]
  },
  {
   "cell_type": "code",
   "execution_count": 17,
   "id": "cdade0e3",
   "metadata": {},
   "outputs": [
    {
     "data": {
      "text/plain": [
       " blade_breadth      year           month           mday       wday    \n",
       " Min.   :0.2001   2018: 3778   5      :2037   8      :  771   0:2644  \n",
       " 1st Qu.:0.3481   2019:15962   1      :1985   22     :  757   1:2984  \n",
       " Median :0.3996                6      :1954   7      :  731   2:2925  \n",
       " Mean   :0.3979                8      :1952   17     :  728   3:2796  \n",
       " 3rd Qu.:0.4504                12     :1922   6      :  712   4:2843  \n",
       " Max.   :0.5000                7      :1911   15     :  711   5:2706  \n",
       "                               (Other):7979   (Other):15330   6:2842  \n",
       "      hour         wind_speed      atmospheric_temperature shaft_temperature\n",
       " Min.   : 0.00   Min.   :-104.60   Min.   :-166.759        Min.   :-99.00   \n",
       " 1st Qu.: 6.00   1st Qu.:  33.48   1st Qu.:   5.841        1st Qu.: 41.64   \n",
       " Median :12.00   Median :  93.59   Median :  15.567        Median : 43.67   \n",
       " Mean   :11.58   Mean   :  83.46   Mean   :   0.594        Mean   : 40.08   \n",
       " 3rd Qu.:18.00   3rd Qu.:  95.60   3rd Qu.:  24.053        3rd Qu.: 45.66   \n",
       " Max.   :23.00   Max.   : 601.46   Max.   : 172.751        Max.   :169.82   \n",
       "                                                                            \n",
       "  blades_angle       gearbox_temperature engine_temperature  motor_torque   \n",
       " Min.   :-146.2595   Min.   :-244.97     Min.   : 3.167     Min.   :-330.4  \n",
       " 1st Qu.:  -1.2002   1st Qu.:  40.53     1st Qu.:41.899     1st Qu.: 868.1  \n",
       " Median :  -0.4884   Median :  43.22     Median :43.532     Median :2028.0  \n",
       " Mean   :  -9.5828   Mean   :  40.90     Mean   :42.637     Mean   :1705.6  \n",
       " 3rd Qu.:   5.5677   3rd Qu.:  45.89     3rd Qu.:45.183     3rd Qu.:2460.9  \n",
       " Max.   : 165.9321   Max.   : 999.00     Max.   :50.000     Max.   :3000.0  \n",
       "                                                                            \n",
       " generator_temperature atmospheric_pressure area_temperature\n",
       " Min.   :  7.069       Min.   :-1188624     Min.   :-30.00  \n",
       " 1st Qu.: 41.128       1st Qu.:   16737     1st Qu.: 27.32  \n",
       " Median : 70.657       Median :   18276     Median : 32.65  \n",
       " Mean   : 64.933       Mean   :   52980     Mean   : 32.76  \n",
       " 3rd Qu.: 78.926       3rd Qu.:  119111     3rd Qu.: 38.25  \n",
       " Max.   :100.000       Max.   : 1272552     Max.   : 55.00  \n",
       "                                                            \n",
       " windmill_body_temperature wind_direction     resistance     rotor_torque    \n",
       " Min.   :-999.00           Min.   :-105.5   Min.   :-1005   Min.   :-136.73  \n",
       " 1st Qu.:  26.95           1st Qu.: 238.7   1st Qu.: 1269   1st Qu.:  13.64  \n",
       " Median :  42.71           Median : 276.7   Median : 1678   Median :  32.37  \n",
       " Mean   :  21.00           Mean   : 312.2   Mean   : 1576   Mean   :  25.64  \n",
       " 3rd Qu.:  44.58           3rd Qu.: 418.3   3rd Qu.: 1829   3rd Qu.:  41.52  \n",
       " Max.   : 323.00           Max.   : 760.5   Max.   : 4693   Max.   : 189.11  \n",
       "                                                                             \n",
       "  blade_length     windmill_height  windmill_generated_power turbine_status \n",
       " Min.   :-99.000   Min.   :-30.30   Min.   :-1.625           AAA    : 1615  \n",
       " 1st Qu.:  2.343   1st Qu.: 24.43   1st Qu.: 4.048           BA     : 1563  \n",
       " Median :  3.415   Median : 25.95   Median : 5.767           BB     : 1477  \n",
       " Mean   :  2.203   Mean   : 25.89   Mean   : 6.127           B2     : 1473  \n",
       " 3rd Qu.:  4.506   3rd Qu.: 27.50   3rd Qu.: 7.963           AB     : 1444  \n",
       " Max.   : 42.396   Max.   : 78.35   Max.   :20.175           BCB    : 1436  \n",
       "                                                             (Other):10732  \n",
       "        cloud_level  \n",
       " Extremely Low: 205  \n",
       " Low          :9797  \n",
       " Medium       :9738  \n",
       "                     \n",
       "                     \n",
       "                     \n",
       "                     "
      ]
     },
     "metadata": {},
     "output_type": "display_data"
    }
   ],
   "source": [
    "summary(trainset.imputation)"
   ]
  },
  {
   "cell_type": "markdown",
   "id": "95640da8",
   "metadata": {},
   "source": [
    "### We now have 2 sets of train/test data, one with data imputation to handle NAs and one without handling of NAs."
   ]
  },
  {
   "cell_type": "markdown",
   "id": "549fb879",
   "metadata": {},
   "source": [
    "## <a id='section4'>4. Linear Regression</a>"
   ]
  },
  {
   "cell_type": "code",
   "execution_count": 18,
   "id": "d3d64856",
   "metadata": {},
   "outputs": [
    {
     "name": "stderr",
     "output_type": "stream",
     "text": [
      "Loading required package: carData\n",
      "Warning message:\n",
      "\"package 'carData' was built under R version 3.6.3\""
     ]
    }
   ],
   "source": [
    "library(car)"
   ]
  },
  {
   "cell_type": "markdown",
   "id": "8ab03dc0",
   "metadata": {},
   "source": [
    "### LR Model 0\n",
    "**trainset.imputation, selected time data (no year)**"
   ]
  },
  {
   "cell_type": "code",
   "execution_count": 19,
   "id": "24013ae5",
   "metadata": {},
   "outputs": [
    {
     "data": {
      "text/plain": [
       "\n",
       "Call:\n",
       "lm(formula = windmill_generated_power ~ . - year, data = trainset.imputation)\n",
       "\n",
       "Residuals:\n",
       "   Min     1Q Median     3Q    Max \n",
       "-7.500 -1.160 -0.116  1.013 13.892 \n",
       "\n",
       "Coefficients:\n",
       "                            Estimate Std. Error t value Pr(>|t|)    \n",
       "(Intercept)                3.002e+00  2.246e-01  13.364  < 2e-16 ***\n",
       "blade_breadth              5.648e-01  2.115e-01   2.670 0.007583 ** \n",
       "month2                    -2.075e-01  5.724e-02  -3.625 0.000290 ***\n",
       "month3                    -2.208e+00  6.204e-02 -35.592  < 2e-16 ***\n",
       "month4                    -3.192e+00  7.002e-02 -45.586  < 2e-16 ***\n",
       "month5                    -2.125e+00  6.356e-02 -33.428  < 2e-16 ***\n",
       "month6                    -1.372e+00  6.672e-02 -20.558  < 2e-16 ***\n",
       "month7                    -1.639e+00  6.302e-02 -26.002  < 2e-16 ***\n",
       "month8                    -2.011e+00  6.027e-02 -33.373  < 2e-16 ***\n",
       "month9                    -2.322e+00  6.296e-02 -36.877  < 2e-16 ***\n",
       "month10                   -1.782e+00  1.429e-01 -12.474  < 2e-16 ***\n",
       "month11                   -3.125e+00  6.146e-02 -50.841  < 2e-16 ***\n",
       "month12                   -5.238e-01  5.704e-02  -9.182  < 2e-16 ***\n",
       "mday2                     -3.417e-01  9.992e-02  -3.420 0.000628 ***\n",
       "mday3                     -7.456e-01  1.000e-01  -7.455 9.34e-14 ***\n",
       "mday4                     -3.093e-01  9.595e-02  -3.224 0.001266 ** \n",
       "mday5                     -5.129e-01  9.513e-02  -5.392 7.06e-08 ***\n",
       "mday6                     -2.426e-01  9.501e-02  -2.553 0.010679 *  \n",
       "mday7                     -5.565e-01  9.421e-02  -5.907 3.54e-09 ***\n",
       "mday8                     -5.850e-01  9.315e-02  -6.281 3.44e-10 ***\n",
       "mday9                     -6.963e-01  9.812e-02  -7.097 1.32e-12 ***\n",
       "mday10                    -9.410e-01  9.714e-02  -9.687  < 2e-16 ***\n",
       "mday11                    -1.083e+00  9.763e-02 -11.088  < 2e-16 ***\n",
       "mday12                    -9.031e-01  9.920e-02  -9.104  < 2e-16 ***\n",
       "mday13                    -9.762e-01  9.894e-02  -9.866  < 2e-16 ***\n",
       "mday14                    -6.632e-01  9.690e-02  -6.844 7.91e-12 ***\n",
       "mday15                    -3.673e-01  9.502e-02  -3.865 0.000111 ***\n",
       "mday16                    -2.606e-01  9.821e-02  -2.653 0.007979 ** \n",
       "mday17                    -3.447e-01  9.456e-02  -3.645 0.000268 ***\n",
       "mday18                    -2.616e-01  9.828e-02  -2.662 0.007779 ** \n",
       "mday19                    -4.284e-01  9.692e-02  -4.420 9.92e-06 ***\n",
       "mday20                    -2.280e-01  1.003e-01  -2.273 0.023051 *  \n",
       "mday21                    -9.436e-02  9.756e-02  -0.967 0.333458    \n",
       "mday22                    -7.953e-02  9.333e-02  -0.852 0.394181    \n",
       "mday23                    -1.112e-01  9.696e-02  -1.147 0.251272    \n",
       "mday24                     9.009e-02  1.010e-01   0.892 0.372364    \n",
       "mday25                     7.062e-01  9.870e-02   7.155 8.66e-13 ***\n",
       "mday26                     2.746e-01  9.845e-02   2.789 0.005292 ** \n",
       "mday27                     9.818e-02  9.923e-02   0.989 0.322475    \n",
       "mday28                     6.220e-02  9.853e-02   0.631 0.527865    \n",
       "mday29                     1.789e-01  1.015e-01   1.763 0.077987 .  \n",
       "mday30                     5.222e-01  1.040e-01   5.020 5.21e-07 ***\n",
       "mday31                    -2.030e-01  1.126e-01  -1.803 0.071431 .  \n",
       "wday1                     -6.644e-02  4.822e-02  -1.378 0.168222    \n",
       "wday2                      7.737e-02  4.795e-02   1.614 0.106639    \n",
       "wday3                      6.414e-02  4.875e-02   1.316 0.188295    \n",
       "wday4                      1.059e-01  4.843e-02   2.186 0.028804 *  \n",
       "wday5                      2.554e-01  4.877e-02   5.237 1.65e-07 ***\n",
       "wday6                     -1.158e-01  4.840e-02  -2.393 0.016743 *  \n",
       "hour                       2.569e-03  1.921e-03   1.337 0.181224    \n",
       "wind_speed                -2.384e-03  2.382e-04 -10.008  < 2e-16 ***\n",
       "atmospheric_temperature   -1.707e-03  2.856e-04  -5.978 2.30e-09 ***\n",
       "shaft_temperature         -8.702e-04  4.734e-04  -1.838 0.066057 .  \n",
       "blades_angle              -3.856e-04  2.742e-04  -1.406 0.159638    \n",
       "gearbox_temperature        7.221e-04  2.924e-04   2.469 0.013547 *  \n",
       "engine_temperature         2.045e-02  2.362e-03   8.659  < 2e-16 ***\n",
       "motor_torque               2.876e-03  4.696e-05  61.252  < 2e-16 ***\n",
       "generator_temperature     -8.934e-02  2.090e-03 -42.745  < 2e-16 ***\n",
       "atmospheric_pressure       6.503e-07  6.893e-08   9.434  < 2e-16 ***\n",
       "area_temperature           7.876e-02  2.388e-03  32.980  < 2e-16 ***\n",
       "windmill_body_temperature -5.977e-04  2.309e-04  -2.588 0.009650 ** \n",
       "wind_direction             2.768e-03  1.054e-04  26.264  < 2e-16 ***\n",
       "resistance                 6.933e-05  3.080e-05   2.251 0.024381 *  \n",
       "rotor_torque              -2.066e-04  4.214e-04  -0.490 0.623899    \n",
       "blade_length               1.416e-03  1.080e-03   1.311 0.189959    \n",
       "windmill_height            7.816e-04  1.615e-03   0.484 0.628329    \n",
       "turbine_statusA2           1.071e-02  6.840e-02   0.157 0.875574    \n",
       "turbine_statusAAA         -1.360e-01  6.508e-02  -2.090 0.036600 *  \n",
       "turbine_statusAB          -2.015e-02  6.682e-02  -0.302 0.762958    \n",
       "turbine_statusABC         -7.776e-02  6.800e-02  -1.143 0.252868    \n",
       "turbine_statusAC          -1.333e-01  6.701e-02  -1.989 0.046762 *  \n",
       "turbine_statusB           -9.059e-02  6.861e-02  -1.320 0.186746    \n",
       "turbine_statusB2          -7.598e-03  6.649e-02  -0.114 0.909020    \n",
       "turbine_statusBA          -1.519e-01  6.559e-02  -2.316 0.020590 *  \n",
       "turbine_statusBB          -1.805e-02  6.646e-02  -0.272 0.785922    \n",
       "turbine_statusBBB         -1.617e-01  6.878e-02  -2.351 0.018725 *  \n",
       "turbine_statusBCB         -6.368e-02  6.692e-02  -0.952 0.341315    \n",
       "turbine_statusBD          -9.582e-02  6.721e-02  -1.426 0.153974    \n",
       "turbine_statusD           -1.182e-01  6.827e-02  -1.732 0.083364 .  \n",
       "cloud_levelLow             1.429e+00  1.313e-01  10.881  < 2e-16 ***\n",
       "cloud_levelMedium          1.489e+00  1.317e-01  11.311  < 2e-16 ***\n",
       "---\n",
       "Signif. codes:  0 '***' 0.001 '**' 0.01 '*' 0.05 '.' 0.1 ' ' 1\n",
       "\n",
       "Residual standard error: 1.756 on 19659 degrees of freedom\n",
       "Multiple R-squared:  0.5798,\tAdjusted R-squared:  0.5781 \n",
       "F-statistic: 339.1 on 80 and 19659 DF,  p-value: < 2.2e-16\n"
      ]
     },
     "metadata": {},
     "output_type": "display_data"
    }
   ],
   "source": [
    "# Develop model on trainset.imputation, including selected time data\n",
    "m0 <- lm(windmill_generated_power ~ . - year, data = trainset.imputation)\n",
    "summary(m0)"
   ]
  },
  {
   "cell_type": "code",
   "execution_count": 20,
   "id": "3f5a930a",
   "metadata": {},
   "outputs": [
    {
     "name": "stdout",
     "output_type": "stream",
     "text": [
      "[1] 1.752639\n"
     ]
    },
    {
     "data": {
      "text/plain": [
       "     Min.   1st Qu.    Median      Mean   3rd Qu.      Max. \n",
       " 0.000028  0.510760  1.095376  1.347581  1.886163 13.892165 "
      ]
     },
     "metadata": {},
     "output_type": "display_data"
    }
   ],
   "source": [
    "# Residuals = Error = Actual mpg - Model Predicted mpg\n",
    "RMSE.m0.train.imputation <- sqrt(mean(residuals(m0)^2))  # RMSE on trainset based on m5 model.\n",
    "print(RMSE.m0.train.imputation)\n",
    "summary(abs(residuals(m0)))  # Check Min Abs Error and Max Abs Error."
   ]
  },
  {
   "cell_type": "code",
   "execution_count": 21,
   "id": "f1b50cc7",
   "metadata": {},
   "outputs": [
    {
     "name": "stdout",
     "output_type": "stream",
     "text": [
      "[1] 1.739687\n"
     ]
    },
    {
     "data": {
      "text/plain": [
       "     Min.   1st Qu.    Median      Mean   3rd Qu.      Max. \n",
       " 0.000377  0.515979  1.076284  1.337095  1.887124 14.671717 "
      ]
     },
     "metadata": {},
     "output_type": "display_data"
    }
   ],
   "source": [
    "# Apply model from trainset to predict on testset.\n",
    "predict.m0.test.imputation <- predict(m0, newdata = testset.imputation)\n",
    "testset.imputation.error <- testset.imputation$windmill_generated_power - predict.m0.test.imputation\n",
    "\n",
    "# Testset Errors\n",
    "RMSE.m0.test.imputation <- sqrt(mean(testset.imputation.error^2))\n",
    "print(RMSE.m0.test.imputation)\n",
    "summary(abs(testset.imputation.error))"
   ]
  },
  {
   "cell_type": "code",
   "execution_count": 22,
   "id": "490de73a",
   "metadata": {},
   "outputs": [
    {
     "data": {
      "text/html": [
       "<table>\n",
       "<thead><tr><th></th><th scope=col>GVIF</th><th scope=col>Df</th><th scope=col>GVIF^(1/(2*Df))</th></tr></thead>\n",
       "<tbody>\n",
       "\t<tr><th scope=row>blade_breadth</th><td> 1.074788</td><td> 1       </td><td>1.036720 </td></tr>\n",
       "\t<tr><th scope=row>month</th><td> 3.825566</td><td>11       </td><td>1.062885 </td></tr>\n",
       "\t<tr><th scope=row>mday</th><td> 1.769351</td><td>30       </td><td>1.009556 </td></tr>\n",
       "\t<tr><th scope=row>wday</th><td> 1.284916</td><td> 6       </td><td>1.021111 </td></tr>\n",
       "\t<tr><th scope=row>hour</th><td> 1.124521</td><td> 1       </td><td>1.060434 </td></tr>\n",
       "\t<tr><th scope=row>wind_speed</th><td> 1.299219</td><td> 1       </td><td>1.139833 </td></tr>\n",
       "\t<tr><th scope=row>atmospheric_temperature</th><td> 1.022965</td><td> 1       </td><td>1.011417 </td></tr>\n",
       "\t<tr><th scope=row>shaft_temperature</th><td> 1.047704</td><td> 1       </td><td>1.023574 </td></tr>\n",
       "\t<tr><th scope=row>blades_angle</th><td> 1.108931</td><td> 1       </td><td>1.053058 </td></tr>\n",
       "\t<tr><th scope=row>gearbox_temperature</th><td> 1.022379</td><td> 1       </td><td>1.011128 </td></tr>\n",
       "\t<tr><th scope=row>engine_temperature</th><td> 1.314627</td><td> 1       </td><td>1.146572 </td></tr>\n",
       "\t<tr><th scope=row>motor_torque</th><td> 9.675085</td><td> 1       </td><td>3.110480 </td></tr>\n",
       "\t<tr><th scope=row>generator_temperature</th><td>11.019506</td><td> 1       </td><td>3.319564 </td></tr>\n",
       "\t<tr><th scope=row>atmospheric_pressure</th><td> 1.068731</td><td> 1       </td><td>1.033794 </td></tr>\n",
       "\t<tr><th scope=row>area_temperature</th><td> 2.176902</td><td> 1       </td><td>1.475433 </td></tr>\n",
       "\t<tr><th scope=row>windmill_body_temperature</th><td> 1.013331</td><td> 1       </td><td>1.006643 </td></tr>\n",
       "\t<tr><th scope=row>wind_direction</th><td> 1.303594</td><td> 1       </td><td>1.141750 </td></tr>\n",
       "\t<tr><th scope=row>resistance</th><td> 1.421870</td><td> 1       </td><td>1.192422 </td></tr>\n",
       "\t<tr><th scope=row>rotor_torque</th><td> 1.185311</td><td> 1       </td><td>1.088720 </td></tr>\n",
       "\t<tr><th scope=row>blade_length</th><td> 1.004553</td><td> 1       </td><td>1.002274 </td></tr>\n",
       "\t<tr><th scope=row>windmill_height</th><td> 1.006582</td><td> 1       </td><td>1.003286 </td></tr>\n",
       "\t<tr><th scope=row>turbine_status</th><td> 1.054255</td><td>13       </td><td>1.002034 </td></tr>\n",
       "\t<tr><th scope=row>cloud_level</th><td> 1.138484</td><td> 2       </td><td>1.032956 </td></tr>\n",
       "</tbody>\n",
       "</table>\n"
      ],
      "text/latex": [
       "\\begin{tabular}{r|lll}\n",
       "  & GVIF & Df & GVIF\\textasciicircum{}(1/(2*Df))\\\\\n",
       "\\hline\n",
       "\tblade\\_breadth &  1.074788 &  1        & 1.036720 \\\\\n",
       "\tmonth &  3.825566 & 11        & 1.062885 \\\\\n",
       "\tmday &  1.769351 & 30        & 1.009556 \\\\\n",
       "\twday &  1.284916 &  6        & 1.021111 \\\\\n",
       "\thour &  1.124521 &  1        & 1.060434 \\\\\n",
       "\twind\\_speed &  1.299219 &  1        & 1.139833 \\\\\n",
       "\tatmospheric\\_temperature &  1.022965 &  1        & 1.011417 \\\\\n",
       "\tshaft\\_temperature &  1.047704 &  1        & 1.023574 \\\\\n",
       "\tblades\\_angle &  1.108931 &  1        & 1.053058 \\\\\n",
       "\tgearbox\\_temperature &  1.022379 &  1        & 1.011128 \\\\\n",
       "\tengine\\_temperature &  1.314627 &  1        & 1.146572 \\\\\n",
       "\tmotor\\_torque &  9.675085 &  1        & 3.110480 \\\\\n",
       "\tgenerator\\_temperature & 11.019506 &  1        & 3.319564 \\\\\n",
       "\tatmospheric\\_pressure &  1.068731 &  1        & 1.033794 \\\\\n",
       "\tarea\\_temperature &  2.176902 &  1        & 1.475433 \\\\\n",
       "\twindmill\\_body\\_temperature &  1.013331 &  1        & 1.006643 \\\\\n",
       "\twind\\_direction &  1.303594 &  1        & 1.141750 \\\\\n",
       "\tresistance &  1.421870 &  1        & 1.192422 \\\\\n",
       "\trotor\\_torque &  1.185311 &  1        & 1.088720 \\\\\n",
       "\tblade\\_length &  1.004553 &  1        & 1.002274 \\\\\n",
       "\twindmill\\_height &  1.006582 &  1        & 1.003286 \\\\\n",
       "\tturbine\\_status &  1.054255 & 13        & 1.002034 \\\\\n",
       "\tcloud\\_level &  1.138484 &  2        & 1.032956 \\\\\n",
       "\\end{tabular}\n"
      ],
      "text/markdown": [
       "\n",
       "| <!--/--> | GVIF | Df | GVIF^(1/(2*Df)) |\n",
       "|---|---|---|---|\n",
       "| blade_breadth |  1.074788 |  1        | 1.036720  |\n",
       "| month |  3.825566 | 11        | 1.062885  |\n",
       "| mday |  1.769351 | 30        | 1.009556  |\n",
       "| wday |  1.284916 |  6        | 1.021111  |\n",
       "| hour |  1.124521 |  1        | 1.060434  |\n",
       "| wind_speed |  1.299219 |  1        | 1.139833  |\n",
       "| atmospheric_temperature |  1.022965 |  1        | 1.011417  |\n",
       "| shaft_temperature |  1.047704 |  1        | 1.023574  |\n",
       "| blades_angle |  1.108931 |  1        | 1.053058  |\n",
       "| gearbox_temperature |  1.022379 |  1        | 1.011128  |\n",
       "| engine_temperature |  1.314627 |  1        | 1.146572  |\n",
       "| motor_torque |  9.675085 |  1        | 3.110480  |\n",
       "| generator_temperature | 11.019506 |  1        | 3.319564  |\n",
       "| atmospheric_pressure |  1.068731 |  1        | 1.033794  |\n",
       "| area_temperature |  2.176902 |  1        | 1.475433  |\n",
       "| windmill_body_temperature |  1.013331 |  1        | 1.006643  |\n",
       "| wind_direction |  1.303594 |  1        | 1.141750  |\n",
       "| resistance |  1.421870 |  1        | 1.192422  |\n",
       "| rotor_torque |  1.185311 |  1        | 1.088720  |\n",
       "| blade_length |  1.004553 |  1        | 1.002274  |\n",
       "| windmill_height |  1.006582 |  1        | 1.003286  |\n",
       "| turbine_status |  1.054255 | 13        | 1.002034  |\n",
       "| cloud_level |  1.138484 |  2        | 1.032956  |\n",
       "\n"
      ],
      "text/plain": [
       "                          GVIF      Df GVIF^(1/(2*Df))\n",
       "blade_breadth              1.074788  1 1.036720       \n",
       "month                      3.825566 11 1.062885       \n",
       "mday                       1.769351 30 1.009556       \n",
       "wday                       1.284916  6 1.021111       \n",
       "hour                       1.124521  1 1.060434       \n",
       "wind_speed                 1.299219  1 1.139833       \n",
       "atmospheric_temperature    1.022965  1 1.011417       \n",
       "shaft_temperature          1.047704  1 1.023574       \n",
       "blades_angle               1.108931  1 1.053058       \n",
       "gearbox_temperature        1.022379  1 1.011128       \n",
       "engine_temperature         1.314627  1 1.146572       \n",
       "motor_torque               9.675085  1 3.110480       \n",
       "generator_temperature     11.019506  1 3.319564       \n",
       "atmospheric_pressure       1.068731  1 1.033794       \n",
       "area_temperature           2.176902  1 1.475433       \n",
       "windmill_body_temperature  1.013331  1 1.006643       \n",
       "wind_direction             1.303594  1 1.141750       \n",
       "resistance                 1.421870  1 1.192422       \n",
       "rotor_torque               1.185311  1 1.088720       \n",
       "blade_length               1.004553  1 1.002274       \n",
       "windmill_height            1.006582  1 1.003286       \n",
       "turbine_status             1.054255 13 1.002034       \n",
       "cloud_level                1.138484  2 1.032956       "
      ]
     },
     "metadata": {},
     "output_type": "display_data"
    }
   ],
   "source": [
    "# Check for multicollinearity\n",
    "vif(m0)"
   ]
  },
  {
   "cell_type": "markdown",
   "id": "23c8f9c4",
   "metadata": {},
   "source": [
    "### LR Model 1\n",
    "**trainset.imputation, no time data**"
   ]
  },
  {
   "cell_type": "code",
   "execution_count": 23,
   "id": "70b14add",
   "metadata": {},
   "outputs": [
    {
     "data": {
      "text/plain": [
       "\n",
       "Call:\n",
       "lm(formula = windmill_generated_power ~ . - year - mday - wday - \n",
       "    month - hour, data = trainset.imputation)\n",
       "\n",
       "Residuals:\n",
       "    Min      1Q  Median      3Q     Max \n",
       "-6.8619 -1.3525 -0.2062  1.1338 16.1164 \n",
       "\n",
       "Coefficients:\n",
       "                            Estimate Std. Error t value Pr(>|t|)    \n",
       "(Intercept)               -3.872e-01  2.116e-01  -1.830 0.067252 .  \n",
       "blade_breadth              5.973e-01  2.419e-01   2.469 0.013558 *  \n",
       "wind_speed                -3.656e-03  2.719e-04 -13.447  < 2e-16 ***\n",
       "atmospheric_temperature   -2.202e-03  3.263e-04  -6.749 1.53e-11 ***\n",
       "shaft_temperature         -1.021e-03  5.415e-04  -1.886 0.059338 .  \n",
       "blades_angle              -2.668e-04  3.129e-04  -0.852 0.393972    \n",
       "gearbox_temperature        8.355e-04  3.345e-04   2.498 0.012500 *  \n",
       "engine_temperature         3.293e-02  2.658e-03  12.388  < 2e-16 ***\n",
       "motor_torque               3.309e-03  5.216e-05  63.429  < 2e-16 ***\n",
       "generator_temperature     -9.603e-02  2.313e-03 -41.517  < 2e-16 ***\n",
       "atmospheric_pressure       9.080e-07  7.876e-08  11.529  < 2e-16 ***\n",
       "area_temperature           7.259e-02  2.228e-03  32.587  < 2e-16 ***\n",
       "windmill_body_temperature -7.919e-04  2.641e-04  -2.998 0.002719 ** \n",
       "wind_direction             5.186e-03  1.097e-04  47.279  < 2e-16 ***\n",
       "resistance                 1.316e-04  3.520e-05   3.740 0.000184 ***\n",
       "rotor_torque               3.599e-05  4.822e-04   0.075 0.940496    \n",
       "blade_length               1.240e-03  1.236e-03   1.004 0.315524    \n",
       "windmill_height            1.432e-05  1.846e-03   0.008 0.993811    \n",
       "turbine_statusA2          -1.569e-02  7.821e-02  -0.201 0.840971    \n",
       "turbine_statusAAA         -1.919e-01  7.443e-02  -2.578 0.009958 ** \n",
       "turbine_statusAB          -5.856e-02  7.643e-02  -0.766 0.443538    \n",
       "turbine_statusABC         -1.078e-01  7.778e-02  -1.386 0.165614    \n",
       "turbine_statusAC          -2.120e-01  7.663e-02  -2.766 0.005676 ** \n",
       "turbine_statusB           -1.960e-01  7.848e-02  -2.497 0.012527 *  \n",
       "turbine_statusB2          -5.285e-02  7.606e-02  -0.695 0.487133    \n",
       "turbine_statusBA          -2.179e-01  7.501e-02  -2.905 0.003673 ** \n",
       "turbine_statusBB           5.946e-03  7.602e-02   0.078 0.937655    \n",
       "turbine_statusBBB         -2.358e-01  7.866e-02  -2.998 0.002721 ** \n",
       "turbine_statusBCB         -1.462e-01  7.652e-02  -1.911 0.056056 .  \n",
       "turbine_statusBD          -1.519e-01  7.685e-02  -1.977 0.048104 *  \n",
       "turbine_statusD           -1.424e-01  7.808e-02  -1.823 0.068289 .  \n",
       "cloud_levelLow             1.636e+00  1.498e-01  10.920  < 2e-16 ***\n",
       "cloud_levelMedium          1.719e+00  1.501e-01  11.452  < 2e-16 ***\n",
       "---\n",
       "Signif. codes:  0 '***' 0.001 '**' 0.01 '*' 0.05 '.' 0.1 ' ' 1\n",
       "\n",
       "Residual standard error: 2.011 on 19707 degrees of freedom\n",
       "Multiple R-squared:  0.4477,\tAdjusted R-squared:  0.4468 \n",
       "F-statistic: 499.1 on 32 and 19707 DF,  p-value: < 2.2e-16\n"
      ]
     },
     "metadata": {},
     "output_type": "display_data"
    }
   ],
   "source": [
    "# Develop model on trainset.imputation, excluding time data\n",
    "m1 <- lm(windmill_generated_power ~ . - year - mday - wday - month - hour, data = trainset.imputation)\n",
    "summary(m1)"
   ]
  },
  {
   "cell_type": "code",
   "execution_count": 24,
   "id": "dade44e2",
   "metadata": {},
   "outputs": [
    {
     "name": "stdout",
     "output_type": "stream",
     "text": [
      "[1] 2.009459\n"
     ]
    },
    {
     "data": {
      "text/plain": [
       "     Min.   1st Qu.    Median      Mean   3rd Qu.      Max. \n",
       " 0.000047  0.585652  1.264249  1.547285  2.187390 16.116403 "
      ]
     },
     "metadata": {},
     "output_type": "display_data"
    }
   ],
   "source": [
    "# Residuals = Error = Actual mpg - Model Predicted mpg\n",
    "RMSE.m1.train.imputation <- sqrt(mean(residuals(m1)^2))  # RMSE on trainset based on m5 model.\n",
    "print(RMSE.m1.train.imputation)\n",
    "summary(abs(residuals(m1)))  # Check Min Abs Error and Max Abs Error."
   ]
  },
  {
   "cell_type": "code",
   "execution_count": 25,
   "id": "e45cc81e",
   "metadata": {},
   "outputs": [
    {
     "name": "stdout",
     "output_type": "stream",
     "text": [
      "[1] 1.999656\n"
     ]
    },
    {
     "data": {
      "text/plain": [
       "     Min.   1st Qu.    Median      Mean   3rd Qu.      Max. \n",
       " 0.000392  0.592842  1.254243  1.542016  2.169462 13.509303 "
      ]
     },
     "metadata": {},
     "output_type": "display_data"
    }
   ],
   "source": [
    "# Apply model from trainset to predict on testset.\n",
    "predict.m1.test.imputation <- predict(m1, newdata = testset.imputation)\n",
    "testset.imputation.error <- testset.imputation$windmill_generated_power - predict.m1.test.imputation\n",
    "\n",
    "# Testset Errors\n",
    "RMSE.m1.test.imputation <- sqrt(mean(testset.imputation.error^2))\n",
    "print(RMSE.m1.test.imputation)\n",
    "summary(abs(testset.imputation.error))"
   ]
  },
  {
   "cell_type": "code",
   "execution_count": 26,
   "id": "b1b43f78",
   "metadata": {},
   "outputs": [
    {
     "data": {
      "text/html": [
       "<table>\n",
       "<thead><tr><th></th><th scope=col>GVIF</th><th scope=col>Df</th><th scope=col>GVIF^(1/(2*Df))</th></tr></thead>\n",
       "<tbody>\n",
       "\t<tr><th scope=row>blade_breadth</th><td> 1.072399</td><td> 1       </td><td>1.035567 </td></tr>\n",
       "\t<tr><th scope=row>wind_speed</th><td> 1.290369</td><td> 1       </td><td>1.135944 </td></tr>\n",
       "\t<tr><th scope=row>atmospheric_temperature</th><td> 1.018249</td><td> 1       </td><td>1.009083 </td></tr>\n",
       "\t<tr><th scope=row>shaft_temperature</th><td> 1.045351</td><td> 1       </td><td>1.022424 </td></tr>\n",
       "\t<tr><th scope=row>blades_angle</th><td> 1.101361</td><td> 1       </td><td>1.049458 </td></tr>\n",
       "\t<tr><th scope=row>gearbox_temperature</th><td> 1.020124</td><td> 1       </td><td>1.010012 </td></tr>\n",
       "\t<tr><th scope=row>engine_temperature</th><td> 1.269425</td><td> 1       </td><td>1.126688 </td></tr>\n",
       "\t<tr><th scope=row>motor_torque</th><td> 9.104936</td><td> 1       </td><td>3.017439 </td></tr>\n",
       "\t<tr><th scope=row>generator_temperature</th><td>10.291833</td><td> 1       </td><td>3.208089 </td></tr>\n",
       "\t<tr><th scope=row>atmospheric_pressure</th><td> 1.063960</td><td> 1       </td><td>1.031484 </td></tr>\n",
       "\t<tr><th scope=row>area_temperature</th><td> 1.444298</td><td> 1       </td><td>1.201789 </td></tr>\n",
       "\t<tr><th scope=row>windmill_body_temperature</th><td> 1.010862</td><td> 1       </td><td>1.005416 </td></tr>\n",
       "\t<tr><th scope=row>wind_direction</th><td> 1.077043</td><td> 1       </td><td>1.037807 </td></tr>\n",
       "\t<tr><th scope=row>resistance</th><td> 1.416133</td><td> 1       </td><td>1.190014 </td></tr>\n",
       "\t<tr><th scope=row>rotor_torque</th><td> 1.183568</td><td> 1       </td><td>1.087919 </td></tr>\n",
       "\t<tr><th scope=row>blade_length</th><td> 1.002103</td><td> 1       </td><td>1.001051 </td></tr>\n",
       "\t<tr><th scope=row>windmill_height</th><td> 1.003856</td><td> 1       </td><td>1.001926 </td></tr>\n",
       "\t<tr><th scope=row>turbine_status</th><td> 1.017106</td><td>13       </td><td>1.000653 </td></tr>\n",
       "\t<tr><th scope=row>cloud_level</th><td> 1.125895</td><td> 2       </td><td>1.030088 </td></tr>\n",
       "</tbody>\n",
       "</table>\n"
      ],
      "text/latex": [
       "\\begin{tabular}{r|lll}\n",
       "  & GVIF & Df & GVIF\\textasciicircum{}(1/(2*Df))\\\\\n",
       "\\hline\n",
       "\tblade\\_breadth &  1.072399 &  1        & 1.035567 \\\\\n",
       "\twind\\_speed &  1.290369 &  1        & 1.135944 \\\\\n",
       "\tatmospheric\\_temperature &  1.018249 &  1        & 1.009083 \\\\\n",
       "\tshaft\\_temperature &  1.045351 &  1        & 1.022424 \\\\\n",
       "\tblades\\_angle &  1.101361 &  1        & 1.049458 \\\\\n",
       "\tgearbox\\_temperature &  1.020124 &  1        & 1.010012 \\\\\n",
       "\tengine\\_temperature &  1.269425 &  1        & 1.126688 \\\\\n",
       "\tmotor\\_torque &  9.104936 &  1        & 3.017439 \\\\\n",
       "\tgenerator\\_temperature & 10.291833 &  1        & 3.208089 \\\\\n",
       "\tatmospheric\\_pressure &  1.063960 &  1        & 1.031484 \\\\\n",
       "\tarea\\_temperature &  1.444298 &  1        & 1.201789 \\\\\n",
       "\twindmill\\_body\\_temperature &  1.010862 &  1        & 1.005416 \\\\\n",
       "\twind\\_direction &  1.077043 &  1        & 1.037807 \\\\\n",
       "\tresistance &  1.416133 &  1        & 1.190014 \\\\\n",
       "\trotor\\_torque &  1.183568 &  1        & 1.087919 \\\\\n",
       "\tblade\\_length &  1.002103 &  1        & 1.001051 \\\\\n",
       "\twindmill\\_height &  1.003856 &  1        & 1.001926 \\\\\n",
       "\tturbine\\_status &  1.017106 & 13        & 1.000653 \\\\\n",
       "\tcloud\\_level &  1.125895 &  2        & 1.030088 \\\\\n",
       "\\end{tabular}\n"
      ],
      "text/markdown": [
       "\n",
       "| <!--/--> | GVIF | Df | GVIF^(1/(2*Df)) |\n",
       "|---|---|---|---|\n",
       "| blade_breadth |  1.072399 |  1        | 1.035567  |\n",
       "| wind_speed |  1.290369 |  1        | 1.135944  |\n",
       "| atmospheric_temperature |  1.018249 |  1        | 1.009083  |\n",
       "| shaft_temperature |  1.045351 |  1        | 1.022424  |\n",
       "| blades_angle |  1.101361 |  1        | 1.049458  |\n",
       "| gearbox_temperature |  1.020124 |  1        | 1.010012  |\n",
       "| engine_temperature |  1.269425 |  1        | 1.126688  |\n",
       "| motor_torque |  9.104936 |  1        | 3.017439  |\n",
       "| generator_temperature | 10.291833 |  1        | 3.208089  |\n",
       "| atmospheric_pressure |  1.063960 |  1        | 1.031484  |\n",
       "| area_temperature |  1.444298 |  1        | 1.201789  |\n",
       "| windmill_body_temperature |  1.010862 |  1        | 1.005416  |\n",
       "| wind_direction |  1.077043 |  1        | 1.037807  |\n",
       "| resistance |  1.416133 |  1        | 1.190014  |\n",
       "| rotor_torque |  1.183568 |  1        | 1.087919  |\n",
       "| blade_length |  1.002103 |  1        | 1.001051  |\n",
       "| windmill_height |  1.003856 |  1        | 1.001926  |\n",
       "| turbine_status |  1.017106 | 13        | 1.000653  |\n",
       "| cloud_level |  1.125895 |  2        | 1.030088  |\n",
       "\n"
      ],
      "text/plain": [
       "                          GVIF      Df GVIF^(1/(2*Df))\n",
       "blade_breadth              1.072399  1 1.035567       \n",
       "wind_speed                 1.290369  1 1.135944       \n",
       "atmospheric_temperature    1.018249  1 1.009083       \n",
       "shaft_temperature          1.045351  1 1.022424       \n",
       "blades_angle               1.101361  1 1.049458       \n",
       "gearbox_temperature        1.020124  1 1.010012       \n",
       "engine_temperature         1.269425  1 1.126688       \n",
       "motor_torque               9.104936  1 3.017439       \n",
       "generator_temperature     10.291833  1 3.208089       \n",
       "atmospheric_pressure       1.063960  1 1.031484       \n",
       "area_temperature           1.444298  1 1.201789       \n",
       "windmill_body_temperature  1.010862  1 1.005416       \n",
       "wind_direction             1.077043  1 1.037807       \n",
       "resistance                 1.416133  1 1.190014       \n",
       "rotor_torque               1.183568  1 1.087919       \n",
       "blade_length               1.002103  1 1.001051       \n",
       "windmill_height            1.003856  1 1.001926       \n",
       "turbine_status             1.017106 13 1.000653       \n",
       "cloud_level                1.125895  2 1.030088       "
      ]
     },
     "metadata": {},
     "output_type": "display_data"
    }
   ],
   "source": [
    "# Check for multicollinearity\n",
    "vif(m1)"
   ]
  },
  {
   "cell_type": "markdown",
   "id": "c309b901",
   "metadata": {},
   "source": [
    "### LR Model 2\n",
    "**trainset (drop NA), selected time data (no year)**"
   ]
  },
  {
   "cell_type": "code",
   "execution_count": 27,
   "id": "5d7e1230",
   "metadata": {},
   "outputs": [
    {
     "data": {
      "text/html": [
       "19740"
      ],
      "text/latex": [
       "19740"
      ],
      "text/markdown": [
       "19740"
      ],
      "text/plain": [
       "[1] 19740"
      ]
     },
     "metadata": {},
     "output_type": "display_data"
    },
    {
     "data": {
      "text/html": [
       "15912"
      ],
      "text/latex": [
       "15912"
      ],
      "text/markdown": [
       "15912"
      ],
      "text/plain": [
       "[1] 15912"
      ]
     },
     "metadata": {},
     "output_type": "display_data"
    },
    {
     "data": {
      "text/html": [
       "8314"
      ],
      "text/latex": [
       "8314"
      ],
      "text/markdown": [
       "8314"
      ],
      "text/plain": [
       "[1] 8314"
      ]
     },
     "metadata": {},
     "output_type": "display_data"
    },
    {
     "data": {
      "text/html": [
       "0"
      ],
      "text/latex": [
       "0"
      ],
      "text/markdown": [
       "0"
      ],
      "text/plain": [
       "[1] 0"
      ]
     },
     "metadata": {},
     "output_type": "display_data"
    },
    {
     "data": {
      "text/plain": [
       "\n",
       "Call:\n",
       "lm(formula = windmill_generated_power ~ . - year, data = trainset.drop)\n",
       "\n",
       "Residuals:\n",
       "    Min      1Q  Median      3Q     Max \n",
       "-7.2085 -1.1068 -0.1260  0.9608 13.8764 \n",
       "\n",
       "Coefficients:\n",
       "                            Estimate Std. Error t value Pr(>|t|)    \n",
       "(Intercept)                3.581e+00  3.276e-01  10.931  < 2e-16 ***\n",
       "wind_speed                -2.308e-03  3.504e-04  -6.587 4.78e-11 ***\n",
       "atmospheric_temperature   -1.796e-03  4.267e-04  -4.208 2.60e-05 ***\n",
       "shaft_temperature         -3.240e-04  6.905e-04  -0.469 0.638941    \n",
       "blades_angle              -2.839e-04  4.041e-04  -0.702 0.482417    \n",
       "gearbox_temperature        9.842e-04  4.308e-04   2.284 0.022372 *  \n",
       "engine_temperature         1.868e-02  3.478e-03   5.373 7.97e-08 ***\n",
       "motor_torque               2.922e-03  6.871e-05  42.518  < 2e-16 ***\n",
       "generator_temperature     -8.982e-02  3.092e-03 -29.047  < 2e-16 ***\n",
       "atmospheric_pressure       6.142e-07  1.044e-07   5.880 4.26e-09 ***\n",
       "area_temperature           7.016e-02  3.657e-03  19.183  < 2e-16 ***\n",
       "windmill_body_temperature -7.281e-04  3.553e-04  -2.049 0.040497 *  \n",
       "wind_direction             2.338e-03  1.636e-04  14.289  < 2e-16 ***\n",
       "resistance                 4.268e-05  4.527e-05   0.943 0.345818    \n",
       "rotor_torque               2.446e-04  6.187e-04   0.395 0.692611    \n",
       "turbine_statusA2           1.333e-01  1.004e-01   1.329 0.184007    \n",
       "turbine_statusAAA          2.859e-02  1.005e-01   0.284 0.776040    \n",
       "turbine_statusAB           8.976e-03  1.018e-01   0.088 0.929767    \n",
       "turbine_statusABC          1.156e-02  1.003e-01   0.115 0.908255    \n",
       "turbine_statusAC           6.861e-02  1.008e-01   0.681 0.496191    \n",
       "turbine_statusB            6.577e-02  9.986e-02   0.659 0.510161    \n",
       "turbine_statusB2           8.703e-02  9.915e-02   0.878 0.380124    \n",
       "turbine_statusBA           5.317e-02  9.957e-02   0.534 0.593395    \n",
       "turbine_statusBB           1.144e-01  9.943e-02   1.150 0.250033    \n",
       "turbine_statusBBB          9.745e-02  1.012e-01   0.963 0.335656    \n",
       "turbine_statusBCB          5.350e-02  1.003e-01   0.533 0.593767    \n",
       "turbine_statusBD           2.742e-03  9.982e-02   0.027 0.978084    \n",
       "turbine_statusD            7.737e-02  1.002e-01   0.772 0.440258    \n",
       "cloud_levelLow             1.343e+00  1.741e-01   7.713 1.38e-14 ***\n",
       "cloud_levelMedium          1.451e+00  1.748e-01   8.304  < 2e-16 ***\n",
       "blade_length               3.545e-03  1.564e-03   2.267 0.023426 *  \n",
       "blade_breadth              5.506e-01  3.161e-01   1.742 0.081576 .  \n",
       "windmill_height            1.938e-03  2.433e-03   0.797 0.425652    \n",
       "month2                    -3.733e-01  9.822e-02  -3.800 0.000145 ***\n",
       "month3                    -2.399e+00  1.045e-01 -22.966  < 2e-16 ***\n",
       "month4                    -3.333e+00  1.096e-01 -30.407  < 2e-16 ***\n",
       "month5                    -2.260e+00  1.008e-01 -22.416  < 2e-16 ***\n",
       "month6                    -1.529e+00  1.055e-01 -14.500  < 2e-16 ***\n",
       "month7                    -1.801e+00  9.966e-02 -18.075  < 2e-16 ***\n",
       "month8                    -2.209e+00  9.534e-02 -23.165  < 2e-16 ***\n",
       "month9                    -2.448e+00  9.843e-02 -24.869  < 2e-16 ***\n",
       "month10                   -1.677e+00  2.126e-01  -7.888 3.48e-15 ***\n",
       "month11                   -3.213e+00  9.982e-02 -32.190  < 2e-16 ***\n",
       "month12                   -5.247e-01  9.865e-02  -5.319 1.07e-07 ***\n",
       "mday2                     -5.679e-01  1.528e-01  -3.716 0.000203 ***\n",
       "mday3                     -9.349e-01  1.529e-01  -6.116 1.00e-09 ***\n",
       "mday4                     -3.436e-01  1.451e-01  -2.368 0.017905 *  \n",
       "mday5                     -7.361e-01  1.431e-01  -5.143 2.76e-07 ***\n",
       "mday6                     -3.838e-01  1.431e-01  -2.681 0.007358 ** \n",
       "mday7                     -8.482e-01  1.439e-01  -5.896 3.88e-09 ***\n",
       "mday8                     -7.487e-01  1.395e-01  -5.366 8.28e-08 ***\n",
       "mday9                     -8.755e-01  1.455e-01  -6.016 1.86e-09 ***\n",
       "mday10                    -1.130e+00  1.467e-01  -7.701 1.51e-14 ***\n",
       "mday11                    -1.189e+00  1.472e-01  -8.076 7.67e-16 ***\n",
       "mday12                    -1.098e+00  1.473e-01  -7.455 9.90e-14 ***\n",
       "mday13                    -9.602e-01  1.457e-01  -6.590 4.68e-11 ***\n",
       "mday14                    -7.567e-01  1.459e-01  -5.185 2.21e-07 ***\n",
       "mday15                    -5.374e-01  1.431e-01  -3.756 0.000174 ***\n",
       "mday16                    -4.461e-01  1.470e-01  -3.034 0.002419 ** \n",
       "mday17                    -4.577e-01  1.411e-01  -3.245 0.001179 ** \n",
       "mday18                    -3.713e-01  1.504e-01  -2.468 0.013604 *  \n",
       "mday19                    -6.211e-01  1.455e-01  -4.270 1.97e-05 ***\n",
       "mday20                    -5.130e-01  1.503e-01  -3.414 0.000644 ***\n",
       "mday21                    -3.784e-01  1.492e-01  -2.536 0.011243 *  \n",
       "mday22                    -2.437e-01  1.388e-01  -1.756 0.079174 .  \n",
       "mday23                    -3.191e-01  1.467e-01  -2.175 0.029626 *  \n",
       "mday24                    -3.635e-02  1.529e-01  -0.238 0.812041    \n",
       "mday25                     4.632e-01  1.518e-01   3.051 0.002287 ** \n",
       "mday26                    -2.726e-02  1.498e-01  -0.182 0.855556    \n",
       "mday27                    -1.753e-01  1.523e-01  -1.151 0.249627    \n",
       "mday28                     9.648e-03  1.466e-01   0.066 0.947531    \n",
       "mday29                    -3.521e-02  1.543e-01  -0.228 0.819539    \n",
       "mday30                     3.346e-01  1.563e-01   2.140 0.032351 *  \n",
       "mday31                    -6.096e-01  1.711e-01  -3.562 0.000370 ***\n",
       "wday1                     -9.494e-02  7.198e-02  -1.319 0.187248    \n",
       "wday2                     -6.194e-03  7.133e-02  -0.087 0.930795    \n",
       "wday3                     -3.380e-02  7.330e-02  -0.461 0.644746    \n",
       "wday4                      1.847e-02  7.215e-02   0.256 0.797979    \n",
       "wday5                      1.714e-01  7.270e-02   2.358 0.018420 *  \n",
       "wday6                     -1.034e-01  7.193e-02  -1.438 0.150487    \n",
       "hour                       9.668e-03  3.023e-03   3.198 0.001388 ** \n",
       "---\n",
       "Signif. codes:  0 '***' 0.001 '**' 0.01 '*' 0.05 '.' 0.1 ' ' 1\n",
       "\n",
       "Residual standard error: 1.703 on 8233 degrees of freedom\n",
       "Multiple R-squared:  0.5769,\tAdjusted R-squared:  0.5728 \n",
       "F-statistic: 140.3 on 80 and 8233 DF,  p-value: < 2.2e-16\n"
      ]
     },
     "metadata": {},
     "output_type": "display_data"
    }
   ],
   "source": [
    "# Develop model on trainset, including time data, but dropping NA values\n",
    "nrow(trainset)\n",
    "sum(is.na(trainset))\n",
    "\n",
    "trainset.drop <- trainset[complete.cases(trainset), ]\n",
    "testset.drop <- testset[complete.cases(testset), ]\n",
    "\n",
    "nrow(trainset.drop)\n",
    "sum(is.na(trainset.drop))\n",
    "\n",
    "m2 <- lm(windmill_generated_power ~ . - year, data = trainset.drop)\n",
    "summary(m2)"
   ]
  },
  {
   "cell_type": "code",
   "execution_count": 28,
   "id": "66e44ebb",
   "metadata": {},
   "outputs": [
    {
     "name": "stdout",
     "output_type": "stream",
     "text": [
      "[1] 1.694834\n"
     ]
    },
    {
     "data": {
      "text/plain": [
       "     Min.   1st Qu.    Median      Mean   3rd Qu.      Max. \n",
       " 0.000134  0.478445  1.049827  1.292497  1.800168 13.876402 "
      ]
     },
     "metadata": {},
     "output_type": "display_data"
    }
   ],
   "source": [
    "# Residuals = Error = Actual mpg - Model Predicted mpg\n",
    "RMSE.m2.train.drop <- sqrt(mean(residuals(m2)^2))  # RMSE on trainset based on m5 model.\n",
    "print(RMSE.m2.train.drop)\n",
    "summary(abs(residuals(m2)))  # Check Min Abs Error and Max Abs Error."
   ]
  },
  {
   "cell_type": "code",
   "execution_count": 29,
   "id": "d3fcc72b",
   "metadata": {},
   "outputs": [
    {
     "name": "stdout",
     "output_type": "stream",
     "text": [
      "[1] 1.723929\n"
     ]
    },
    {
     "data": {
      "text/plain": [
       "     Min.   1st Qu.    Median      Mean   3rd Qu.      Max. \n",
       " 0.000392  0.592842  1.254243  1.542016  2.169462 13.509303 "
      ]
     },
     "metadata": {},
     "output_type": "display_data"
    }
   ],
   "source": [
    "# Apply model from trainset to predict on testset.\n",
    "predict.m2.test.drop <- predict(m2, newdata = testset.drop)\n",
    "testset.error <- testset.drop$windmill_generated_power - predict.m2.test.drop\n",
    "\n",
    "# Testset Errors\n",
    "RMSE.m2.test.drop <- sqrt(mean(testset.error^2))\n",
    "print(RMSE.m2.test.drop)\n",
    "summary(abs(testset.imputation.error))"
   ]
  },
  {
   "cell_type": "code",
   "execution_count": 30,
   "id": "15f290ad",
   "metadata": {},
   "outputs": [
    {
     "data": {
      "text/html": [
       "<table>\n",
       "<thead><tr><th></th><th scope=col>GVIF</th><th scope=col>Df</th><th scope=col>GVIF^(1/(2*Df))</th></tr></thead>\n",
       "<tbody>\n",
       "\t<tr><th scope=row>wind_speed</th><td> 1.305588</td><td> 1       </td><td>1.142623 </td></tr>\n",
       "\t<tr><th scope=row>atmospheric_temperature</th><td> 1.027145</td><td> 1       </td><td>1.013482 </td></tr>\n",
       "\t<tr><th scope=row>shaft_temperature</th><td> 1.050581</td><td> 1       </td><td>1.024979 </td></tr>\n",
       "\t<tr><th scope=row>blades_angle</th><td> 1.129904</td><td> 1       </td><td>1.062970 </td></tr>\n",
       "\t<tr><th scope=row>gearbox_temperature</th><td> 1.032737</td><td> 1       </td><td>1.016237 </td></tr>\n",
       "\t<tr><th scope=row>engine_temperature</th><td> 1.311747</td><td> 1       </td><td>1.145315 </td></tr>\n",
       "\t<tr><th scope=row>motor_torque</th><td> 8.920015</td><td> 1       </td><td>2.986639 </td></tr>\n",
       "\t<tr><th scope=row>generator_temperature</th><td>10.335871</td><td> 1       </td><td>3.214945 </td></tr>\n",
       "\t<tr><th scope=row>atmospheric_pressure</th><td> 1.085609</td><td> 1       </td><td>1.041925 </td></tr>\n",
       "\t<tr><th scope=row>area_temperature</th><td> 2.189072</td><td> 1       </td><td>1.479551 </td></tr>\n",
       "\t<tr><th scope=row>windmill_body_temperature</th><td> 1.019051</td><td> 1       </td><td>1.009481 </td></tr>\n",
       "\t<tr><th scope=row>wind_direction</th><td> 1.403398</td><td> 1       </td><td>1.184651 </td></tr>\n",
       "\t<tr><th scope=row>resistance</th><td> 1.395353</td><td> 1       </td><td>1.181251 </td></tr>\n",
       "\t<tr><th scope=row>rotor_torque</th><td> 1.196154</td><td> 1       </td><td>1.093688 </td></tr>\n",
       "\t<tr><th scope=row>turbine_status</th><td> 1.113228</td><td>13       </td><td>1.004134 </td></tr>\n",
       "\t<tr><th scope=row>cloud_level</th><td> 1.167869</td><td> 2       </td><td>1.039557 </td></tr>\n",
       "\t<tr><th scope=row>blade_length</th><td> 1.012468</td><td> 1       </td><td>1.006215 </td></tr>\n",
       "\t<tr><th scope=row>blade_breadth</th><td> 1.101693</td><td> 1       </td><td>1.049615 </td></tr>\n",
       "\t<tr><th scope=row>windmill_height</th><td> 1.013607</td><td> 1       </td><td>1.006780 </td></tr>\n",
       "\t<tr><th scope=row>month</th><td> 4.463813</td><td>11       </td><td>1.070365 </td></tr>\n",
       "\t<tr><th scope=row>mday</th><td> 2.051817</td><td>30       </td><td>1.012051 </td></tr>\n",
       "\t<tr><th scope=row>wday</th><td> 1.350451</td><td> 6       </td><td>1.025353 </td></tr>\n",
       "\t<tr><th scope=row>hour</th><td> 1.177388</td><td> 1       </td><td>1.085075 </td></tr>\n",
       "</tbody>\n",
       "</table>\n"
      ],
      "text/latex": [
       "\\begin{tabular}{r|lll}\n",
       "  & GVIF & Df & GVIF\\textasciicircum{}(1/(2*Df))\\\\\n",
       "\\hline\n",
       "\twind\\_speed &  1.305588 &  1        & 1.142623 \\\\\n",
       "\tatmospheric\\_temperature &  1.027145 &  1        & 1.013482 \\\\\n",
       "\tshaft\\_temperature &  1.050581 &  1        & 1.024979 \\\\\n",
       "\tblades\\_angle &  1.129904 &  1        & 1.062970 \\\\\n",
       "\tgearbox\\_temperature &  1.032737 &  1        & 1.016237 \\\\\n",
       "\tengine\\_temperature &  1.311747 &  1        & 1.145315 \\\\\n",
       "\tmotor\\_torque &  8.920015 &  1        & 2.986639 \\\\\n",
       "\tgenerator\\_temperature & 10.335871 &  1        & 3.214945 \\\\\n",
       "\tatmospheric\\_pressure &  1.085609 &  1        & 1.041925 \\\\\n",
       "\tarea\\_temperature &  2.189072 &  1        & 1.479551 \\\\\n",
       "\twindmill\\_body\\_temperature &  1.019051 &  1        & 1.009481 \\\\\n",
       "\twind\\_direction &  1.403398 &  1        & 1.184651 \\\\\n",
       "\tresistance &  1.395353 &  1        & 1.181251 \\\\\n",
       "\trotor\\_torque &  1.196154 &  1        & 1.093688 \\\\\n",
       "\tturbine\\_status &  1.113228 & 13        & 1.004134 \\\\\n",
       "\tcloud\\_level &  1.167869 &  2        & 1.039557 \\\\\n",
       "\tblade\\_length &  1.012468 &  1        & 1.006215 \\\\\n",
       "\tblade\\_breadth &  1.101693 &  1        & 1.049615 \\\\\n",
       "\twindmill\\_height &  1.013607 &  1        & 1.006780 \\\\\n",
       "\tmonth &  4.463813 & 11        & 1.070365 \\\\\n",
       "\tmday &  2.051817 & 30        & 1.012051 \\\\\n",
       "\twday &  1.350451 &  6        & 1.025353 \\\\\n",
       "\thour &  1.177388 &  1        & 1.085075 \\\\\n",
       "\\end{tabular}\n"
      ],
      "text/markdown": [
       "\n",
       "| <!--/--> | GVIF | Df | GVIF^(1/(2*Df)) |\n",
       "|---|---|---|---|\n",
       "| wind_speed |  1.305588 |  1        | 1.142623  |\n",
       "| atmospheric_temperature |  1.027145 |  1        | 1.013482  |\n",
       "| shaft_temperature |  1.050581 |  1        | 1.024979  |\n",
       "| blades_angle |  1.129904 |  1        | 1.062970  |\n",
       "| gearbox_temperature |  1.032737 |  1        | 1.016237  |\n",
       "| engine_temperature |  1.311747 |  1        | 1.145315  |\n",
       "| motor_torque |  8.920015 |  1        | 2.986639  |\n",
       "| generator_temperature | 10.335871 |  1        | 3.214945  |\n",
       "| atmospheric_pressure |  1.085609 |  1        | 1.041925  |\n",
       "| area_temperature |  2.189072 |  1        | 1.479551  |\n",
       "| windmill_body_temperature |  1.019051 |  1        | 1.009481  |\n",
       "| wind_direction |  1.403398 |  1        | 1.184651  |\n",
       "| resistance |  1.395353 |  1        | 1.181251  |\n",
       "| rotor_torque |  1.196154 |  1        | 1.093688  |\n",
       "| turbine_status |  1.113228 | 13        | 1.004134  |\n",
       "| cloud_level |  1.167869 |  2        | 1.039557  |\n",
       "| blade_length |  1.012468 |  1        | 1.006215  |\n",
       "| blade_breadth |  1.101693 |  1        | 1.049615  |\n",
       "| windmill_height |  1.013607 |  1        | 1.006780  |\n",
       "| month |  4.463813 | 11        | 1.070365  |\n",
       "| mday |  2.051817 | 30        | 1.012051  |\n",
       "| wday |  1.350451 |  6        | 1.025353  |\n",
       "| hour |  1.177388 |  1        | 1.085075  |\n",
       "\n"
      ],
      "text/plain": [
       "                          GVIF      Df GVIF^(1/(2*Df))\n",
       "wind_speed                 1.305588  1 1.142623       \n",
       "atmospheric_temperature    1.027145  1 1.013482       \n",
       "shaft_temperature          1.050581  1 1.024979       \n",
       "blades_angle               1.129904  1 1.062970       \n",
       "gearbox_temperature        1.032737  1 1.016237       \n",
       "engine_temperature         1.311747  1 1.145315       \n",
       "motor_torque               8.920015  1 2.986639       \n",
       "generator_temperature     10.335871  1 3.214945       \n",
       "atmospheric_pressure       1.085609  1 1.041925       \n",
       "area_temperature           2.189072  1 1.479551       \n",
       "windmill_body_temperature  1.019051  1 1.009481       \n",
       "wind_direction             1.403398  1 1.184651       \n",
       "resistance                 1.395353  1 1.181251       \n",
       "rotor_torque               1.196154  1 1.093688       \n",
       "turbine_status             1.113228 13 1.004134       \n",
       "cloud_level                1.167869  2 1.039557       \n",
       "blade_length               1.012468  1 1.006215       \n",
       "blade_breadth              1.101693  1 1.049615       \n",
       "windmill_height            1.013607  1 1.006780       \n",
       "month                      4.463813 11 1.070365       \n",
       "mday                       2.051817 30 1.012051       \n",
       "wday                       1.350451  6 1.025353       \n",
       "hour                       1.177388  1 1.085075       "
      ]
     },
     "metadata": {},
     "output_type": "display_data"
    }
   ],
   "source": [
    "# Check for multicollinearity\n",
    "vif(m2)"
   ]
  },
  {
   "cell_type": "markdown",
   "id": "9564ddfe",
   "metadata": {},
   "source": [
    "### LR Model 3\n",
    "**trainset.imputation, no time data, high VIF removed (motor_torque, generator_temperature)**"
   ]
  },
  {
   "cell_type": "code",
   "execution_count": 31,
   "id": "03c9a562",
   "metadata": {},
   "outputs": [
    {
     "data": {
      "text/plain": [
       "\n",
       "Call:\n",
       "lm(formula = windmill_generated_power ~ . - year - mday - wday - \n",
       "    month - hour - motor_torque - generator_temperature, data = trainset.imputation)\n",
       "\n",
       "Residuals:\n",
       "    Min      1Q  Median      3Q     Max \n",
       "-7.7439 -1.5926 -0.0032  1.4328 15.2766 \n",
       "\n",
       "Coefficients:\n",
       "                            Estimate Std. Error t value Pr(>|t|)    \n",
       "(Intercept)               -5.306e+00  2.215e-01 -23.958  < 2e-16 ***\n",
       "blade_breadth              1.370e+00  2.698e-01   5.078 3.84e-07 ***\n",
       "wind_speed                -2.365e-03  2.834e-04  -8.347  < 2e-16 ***\n",
       "atmospheric_temperature   -2.446e-03  3.633e-04  -6.733 1.71e-11 ***\n",
       "shaft_temperature         -9.683e-04  6.046e-04  -1.602  0.10926    \n",
       "blades_angle              -5.197e-03  3.380e-04 -15.377  < 2e-16 ***\n",
       "gearbox_temperature        7.516e-04  3.734e-04   2.013  0.04416 *  \n",
       "engine_temperature         5.192e-02  2.926e-03  17.744  < 2e-16 ***\n",
       "atmospheric_pressure       6.173e-07  8.664e-08   7.124 1.08e-12 ***\n",
       "area_temperature           8.523e-02  2.327e-03  36.630  < 2e-16 ***\n",
       "windmill_body_temperature -1.181e-03  2.948e-04  -4.007 6.18e-05 ***\n",
       "wind_direction             5.735e-03  1.216e-04  47.164  < 2e-16 ***\n",
       "resistance                 6.202e-04  3.572e-05  17.364  < 2e-16 ***\n",
       "rotor_torque               7.326e-03  5.162e-04  14.194  < 2e-16 ***\n",
       "blade_length               8.651e-04  1.379e-03   0.627  0.53057    \n",
       "windmill_height            3.849e-04  2.061e-03   0.187  0.85185    \n",
       "turbine_statusA2           1.359e-02  8.730e-02   0.156  0.87626    \n",
       "turbine_statusAAA         -1.850e-01  8.310e-02  -2.226  0.02603 *  \n",
       "turbine_statusAB          -8.773e-02  8.532e-02  -1.028  0.30388    \n",
       "turbine_statusABC         -9.924e-02  8.684e-02  -1.143  0.25311    \n",
       "turbine_statusAC          -2.002e-01  8.554e-02  -2.340  0.01928 *  \n",
       "turbine_statusB           -2.464e-01  8.760e-02  -2.813  0.00492 ** \n",
       "turbine_statusB2          -6.828e-02  8.490e-02  -0.804  0.42125    \n",
       "turbine_statusBA          -1.990e-01  8.374e-02  -2.377  0.01747 *  \n",
       "turbine_statusBB          -4.312e-03  8.486e-02  -0.051  0.95948    \n",
       "turbine_statusBBB         -1.964e-01  8.781e-02  -2.236  0.02536 *  \n",
       "turbine_statusBCB         -1.810e-01  8.542e-02  -2.119  0.03407 *  \n",
       "turbine_statusBD          -1.504e-01  8.580e-02  -1.753  0.07965 .  \n",
       "turbine_statusD           -1.659e-01  8.716e-02  -1.903  0.05702 .  \n",
       "cloud_levelLow             3.176e+00  1.650e-01  19.249  < 2e-16 ***\n",
       "cloud_levelMedium          3.274e+00  1.654e-01  19.796  < 2e-16 ***\n",
       "---\n",
       "Signif. codes:  0 '***' 0.001 '**' 0.01 '*' 0.05 '.' 0.1 ' ' 1\n",
       "\n",
       "Residual standard error: 2.245 on 19709 degrees of freedom\n",
       "Multiple R-squared:  0.3115,\tAdjusted R-squared:  0.3105 \n",
       "F-statistic: 297.2 on 30 and 19709 DF,  p-value: < 2.2e-16\n"
      ]
     },
     "metadata": {},
     "output_type": "display_data"
    }
   ],
   "source": [
    "# Develop model on trainset.imputation, excluding time data and factors with high VIF\n",
    "# high VIF: motor_torque, generator_temperature\n",
    "m3 <- lm(windmill_generated_power ~ . \n",
    "         - year \n",
    "         - mday \n",
    "         - wday \n",
    "         - month \n",
    "         - hour \n",
    "         - motor_torque \n",
    "         - generator_temperature, data = trainset.imputation)\n",
    "summary(m3)"
   ]
  },
  {
   "cell_type": "code",
   "execution_count": 32,
   "id": "4d799605",
   "metadata": {},
   "outputs": [
    {
     "name": "stdout",
     "output_type": "stream",
     "text": [
      "[1] 2.243516\n"
     ]
    },
    {
     "data": {
      "text/plain": [
       "     Min.   1st Qu.    Median      Mean   3rd Qu.      Max. \n",
       " 0.000019  0.720840  1.513183  1.775070  2.499484 15.276619 "
      ]
     },
     "metadata": {},
     "output_type": "display_data"
    }
   ],
   "source": [
    "# Residuals = Error = Actual mpg - Model Predicted mpg\n",
    "RMSE.m3.train.imputation <- sqrt(mean(residuals(m3)^2))  # RMSE on trainset based on m5 model.\n",
    "print(RMSE.m3.train.imputation)\n",
    "summary(abs(residuals(m3)))  # Check Min Abs Error and Max Abs Error."
   ]
  },
  {
   "cell_type": "code",
   "execution_count": 33,
   "id": "21598c24",
   "metadata": {},
   "outputs": [
    {
     "name": "stdout",
     "output_type": "stream",
     "text": [
      "[1] 2.228306\n"
     ]
    },
    {
     "data": {
      "text/plain": [
       "     Min.   1st Qu.    Median      Mean   3rd Qu.      Max. \n",
       " 0.000533  0.713904  1.480651  1.758729  2.468340 13.766253 "
      ]
     },
     "metadata": {},
     "output_type": "display_data"
    }
   ],
   "source": [
    "# Apply model from trainset to predict on testset.\n",
    "predict.m3.test.imputation <- predict(m3, newdata = testset.imputation)\n",
    "testset.imputation.error <- testset.imputation$windmill_generated_power - predict.m3.test.imputation\n",
    "\n",
    "# Testset Errors\n",
    "RMSE.m3.test.imputation <- sqrt(mean(testset.imputation.error^2))\n",
    "print(RMSE.m3.test.imputation)\n",
    "summary(abs(testset.imputation.error))"
   ]
  },
  {
   "cell_type": "code",
   "execution_count": 34,
   "id": "7bd43e7d",
   "metadata": {},
   "outputs": [
    {
     "data": {
      "text/html": [
       "<table>\n",
       "<thead><tr><th></th><th scope=col>GVIF</th><th scope=col>Df</th><th scope=col>GVIF^(1/(2*Df))</th></tr></thead>\n",
       "<tbody>\n",
       "\t<tr><th scope=row>blade_breadth</th><td>1.069995</td><td> 1      </td><td>1.034406</td></tr>\n",
       "\t<tr><th scope=row>wind_speed</th><td>1.124737</td><td> 1      </td><td>1.060536</td></tr>\n",
       "\t<tr><th scope=row>atmospheric_temperature</th><td>1.012556</td><td> 1      </td><td>1.006258</td></tr>\n",
       "\t<tr><th scope=row>shaft_temperature</th><td>1.045327</td><td> 1      </td><td>1.022413</td></tr>\n",
       "\t<tr><th scope=row>blades_angle</th><td>1.030802</td><td> 1      </td><td>1.015284</td></tr>\n",
       "\t<tr><th scope=row>gearbox_temperature</th><td>1.020044</td><td> 1      </td><td>1.009972</td></tr>\n",
       "\t<tr><th scope=row>engine_temperature</th><td>1.233968</td><td> 1      </td><td>1.110841</td></tr>\n",
       "\t<tr><th scope=row>atmospheric_pressure</th><td>1.033030</td><td> 1      </td><td>1.016381</td></tr>\n",
       "\t<tr><th scope=row>area_temperature</th><td>1.264168</td><td> 1      </td><td>1.124352</td></tr>\n",
       "\t<tr><th scope=row>windmill_body_temperature</th><td>1.010360</td><td> 1      </td><td>1.005166</td></tr>\n",
       "\t<tr><th scope=row>wind_direction</th><td>1.061734</td><td> 1      </td><td>1.030405</td></tr>\n",
       "\t<tr><th scope=row>resistance</th><td>1.169922</td><td> 1      </td><td>1.081629</td></tr>\n",
       "\t<tr><th scope=row>rotor_torque</th><td>1.088193</td><td> 1      </td><td>1.043165</td></tr>\n",
       "\t<tr><th scope=row>blade_length</th><td>1.002001</td><td> 1      </td><td>1.001000</td></tr>\n",
       "\t<tr><th scope=row>windmill_height</th><td>1.003735</td><td> 1      </td><td>1.001866</td></tr>\n",
       "\t<tr><th scope=row>turbine_status</th><td>1.015357</td><td>13      </td><td>1.000586</td></tr>\n",
       "\t<tr><th scope=row>cloud_level</th><td>1.095826</td><td> 2      </td><td>1.023141</td></tr>\n",
       "</tbody>\n",
       "</table>\n"
      ],
      "text/latex": [
       "\\begin{tabular}{r|lll}\n",
       "  & GVIF & Df & GVIF\\textasciicircum{}(1/(2*Df))\\\\\n",
       "\\hline\n",
       "\tblade\\_breadth & 1.069995 &  1       & 1.034406\\\\\n",
       "\twind\\_speed & 1.124737 &  1       & 1.060536\\\\\n",
       "\tatmospheric\\_temperature & 1.012556 &  1       & 1.006258\\\\\n",
       "\tshaft\\_temperature & 1.045327 &  1       & 1.022413\\\\\n",
       "\tblades\\_angle & 1.030802 &  1       & 1.015284\\\\\n",
       "\tgearbox\\_temperature & 1.020044 &  1       & 1.009972\\\\\n",
       "\tengine\\_temperature & 1.233968 &  1       & 1.110841\\\\\n",
       "\tatmospheric\\_pressure & 1.033030 &  1       & 1.016381\\\\\n",
       "\tarea\\_temperature & 1.264168 &  1       & 1.124352\\\\\n",
       "\twindmill\\_body\\_temperature & 1.010360 &  1       & 1.005166\\\\\n",
       "\twind\\_direction & 1.061734 &  1       & 1.030405\\\\\n",
       "\tresistance & 1.169922 &  1       & 1.081629\\\\\n",
       "\trotor\\_torque & 1.088193 &  1       & 1.043165\\\\\n",
       "\tblade\\_length & 1.002001 &  1       & 1.001000\\\\\n",
       "\twindmill\\_height & 1.003735 &  1       & 1.001866\\\\\n",
       "\tturbine\\_status & 1.015357 & 13       & 1.000586\\\\\n",
       "\tcloud\\_level & 1.095826 &  2       & 1.023141\\\\\n",
       "\\end{tabular}\n"
      ],
      "text/markdown": [
       "\n",
       "| <!--/--> | GVIF | Df | GVIF^(1/(2*Df)) |\n",
       "|---|---|---|---|\n",
       "| blade_breadth | 1.069995 |  1       | 1.034406 |\n",
       "| wind_speed | 1.124737 |  1       | 1.060536 |\n",
       "| atmospheric_temperature | 1.012556 |  1       | 1.006258 |\n",
       "| shaft_temperature | 1.045327 |  1       | 1.022413 |\n",
       "| blades_angle | 1.030802 |  1       | 1.015284 |\n",
       "| gearbox_temperature | 1.020044 |  1       | 1.009972 |\n",
       "| engine_temperature | 1.233968 |  1       | 1.110841 |\n",
       "| atmospheric_pressure | 1.033030 |  1       | 1.016381 |\n",
       "| area_temperature | 1.264168 |  1       | 1.124352 |\n",
       "| windmill_body_temperature | 1.010360 |  1       | 1.005166 |\n",
       "| wind_direction | 1.061734 |  1       | 1.030405 |\n",
       "| resistance | 1.169922 |  1       | 1.081629 |\n",
       "| rotor_torque | 1.088193 |  1       | 1.043165 |\n",
       "| blade_length | 1.002001 |  1       | 1.001000 |\n",
       "| windmill_height | 1.003735 |  1       | 1.001866 |\n",
       "| turbine_status | 1.015357 | 13       | 1.000586 |\n",
       "| cloud_level | 1.095826 |  2       | 1.023141 |\n",
       "\n"
      ],
      "text/plain": [
       "                          GVIF     Df GVIF^(1/(2*Df))\n",
       "blade_breadth             1.069995  1 1.034406       \n",
       "wind_speed                1.124737  1 1.060536       \n",
       "atmospheric_temperature   1.012556  1 1.006258       \n",
       "shaft_temperature         1.045327  1 1.022413       \n",
       "blades_angle              1.030802  1 1.015284       \n",
       "gearbox_temperature       1.020044  1 1.009972       \n",
       "engine_temperature        1.233968  1 1.110841       \n",
       "atmospheric_pressure      1.033030  1 1.016381       \n",
       "area_temperature          1.264168  1 1.124352       \n",
       "windmill_body_temperature 1.010360  1 1.005166       \n",
       "wind_direction            1.061734  1 1.030405       \n",
       "resistance                1.169922  1 1.081629       \n",
       "rotor_torque              1.088193  1 1.043165       \n",
       "blade_length              1.002001  1 1.001000       \n",
       "windmill_height           1.003735  1 1.001866       \n",
       "turbine_status            1.015357 13 1.000586       \n",
       "cloud_level               1.095826  2 1.023141       "
      ]
     },
     "metadata": {},
     "output_type": "display_data"
    }
   ],
   "source": [
    "# Check for multicollinearity\n",
    "vif(m3)"
   ]
  },
  {
   "cell_type": "markdown",
   "id": "6a81556a",
   "metadata": {},
   "source": [
    "### LR Model 3T\n",
    "**Model 3 + turbine_status removed**"
   ]
  },
  {
   "cell_type": "code",
   "execution_count": 35,
   "id": "b2834238",
   "metadata": {},
   "outputs": [
    {
     "data": {
      "text/plain": [
       "\n",
       "Call:\n",
       "lm(formula = windmill_generated_power ~ . - year - mday - wday - \n",
       "    month - hour - motor_torque - generator_temperature - turbine_status, \n",
       "    data = trainset.imputation)\n",
       "\n",
       "Residuals:\n",
       "    Min      1Q  Median      3Q     Max \n",
       "-7.6047 -1.5923 -0.0028  1.4287 15.2354 \n",
       "\n",
       "Coefficients:\n",
       "                            Estimate Std. Error t value Pr(>|t|)    \n",
       "(Intercept)               -5.418e+00  2.132e-01 -25.410  < 2e-16 ***\n",
       "blade_breadth              1.365e+00  2.698e-01   5.059 4.25e-07 ***\n",
       "wind_speed                -2.368e-03  2.834e-04  -8.356  < 2e-16 ***\n",
       "atmospheric_temperature   -2.444e-03  3.633e-04  -6.728 1.77e-11 ***\n",
       "shaft_temperature         -9.705e-04  6.046e-04  -1.605   0.1084    \n",
       "blades_angle              -5.217e-03  3.380e-04 -15.433  < 2e-16 ***\n",
       "gearbox_temperature        7.391e-04  3.734e-04   1.979   0.0478 *  \n",
       "engine_temperature         5.178e-02  2.926e-03  17.698  < 2e-16 ***\n",
       "atmospheric_pressure       6.194e-07  8.666e-08   7.147 9.16e-13 ***\n",
       "area_temperature           8.519e-02  2.327e-03  36.606  < 2e-16 ***\n",
       "windmill_body_temperature -1.177e-03  2.948e-04  -3.994 6.53e-05 ***\n",
       "wind_direction             5.734e-03  1.216e-04  47.160  < 2e-16 ***\n",
       "resistance                 6.188e-04  3.571e-05  17.327  < 2e-16 ***\n",
       "rotor_torque               7.350e-03  5.161e-04  14.243  < 2e-16 ***\n",
       "blade_length               1.000e-03  1.379e-03   0.725   0.4684    \n",
       "windmill_height            3.574e-04  2.061e-03   0.173   0.8623    \n",
       "cloud_levelLow             3.174e+00  1.650e-01  19.237  < 2e-16 ***\n",
       "cloud_levelMedium          3.271e+00  1.653e-01  19.782  < 2e-16 ***\n",
       "---\n",
       "Signif. codes:  0 '***' 0.001 '**' 0.01 '*' 0.05 '.' 0.1 ' ' 1\n",
       "\n",
       "Residual standard error: 2.246 on 19722 degrees of freedom\n",
       "Multiple R-squared:  0.3106,\tAdjusted R-squared:   0.31 \n",
       "F-statistic: 522.7 on 17 and 19722 DF,  p-value: < 2.2e-16\n"
      ]
     },
     "metadata": {},
     "output_type": "display_data"
    }
   ],
   "source": [
    "# Develop model on m3, excluding turbine_status\n",
    "m3t <- lm(windmill_generated_power ~ . \n",
    "         - year \n",
    "         - mday \n",
    "         - wday \n",
    "         - month \n",
    "         - hour \n",
    "         - motor_torque \n",
    "         - generator_temperature\n",
    "         - turbine_status, data = trainset.imputation)\n",
    "summary(m3t)"
   ]
  },
  {
   "cell_type": "code",
   "execution_count": 36,
   "id": "ff686f96",
   "metadata": {},
   "outputs": [
    {
     "name": "stdout",
     "output_type": "stream",
     "text": [
      "[1] 2.244992\n"
     ]
    },
    {
     "data": {
      "text/plain": [
       "     Min.   1st Qu.    Median      Mean   3rd Qu.      Max. \n",
       " 0.000059  0.725409  1.510238  1.775521  2.497335 15.235426 "
      ]
     },
     "metadata": {},
     "output_type": "display_data"
    }
   ],
   "source": [
    "# Residuals = Error = Actual mpg - Model Predicted mpg\n",
    "RMSE.m3t.train.imputation <- sqrt(mean(residuals(m3t)^2))  # RMSE on trainset based on m5 model.\n",
    "print(RMSE.m3t.train.imputation)\n",
    "summary(abs(residuals(m3t)))  # Check Min Abs Error and Max Abs Error."
   ]
  },
  {
   "cell_type": "code",
   "execution_count": 37,
   "id": "d294e438",
   "metadata": {},
   "outputs": [
    {
     "name": "stdout",
     "output_type": "stream",
     "text": [
      "[1] 2.225076\n"
     ]
    },
    {
     "data": {
      "text/plain": [
       "     Min.   1st Qu.    Median      Mean   3rd Qu.      Max. \n",
       " 0.000112  0.715224  1.471517  1.755933  2.468779 13.891273 "
      ]
     },
     "metadata": {},
     "output_type": "display_data"
    }
   ],
   "source": [
    "# Apply model from trainset to predict on testset.\n",
    "predict.m3t.test.imputation <- predict(m3t, newdata = testset.imputation)\n",
    "testset.imputation.error <- testset.imputation$windmill_generated_power - predict.m3t.test.imputation\n",
    "\n",
    "# Testset Errors\n",
    "RMSE.m3t.test.imputation <- sqrt(mean(testset.imputation.error^2))\n",
    "print(RMSE.m3t.test.imputation)\n",
    "summary(abs(testset.imputation.error))"
   ]
  },
  {
   "cell_type": "code",
   "execution_count": 38,
   "id": "9bdb2683",
   "metadata": {},
   "outputs": [
    {
     "data": {
      "text/html": [
       "<table>\n",
       "<thead><tr><th></th><th scope=col>GVIF</th><th scope=col>Df</th><th scope=col>GVIF^(1/(2*Df))</th></tr></thead>\n",
       "<tbody>\n",
       "\t<tr><th scope=row>blade_breadth</th><td>1.069465</td><td>1       </td><td>1.034150</td></tr>\n",
       "\t<tr><th scope=row>wind_speed</th><td>1.124378</td><td>1       </td><td>1.060367</td></tr>\n",
       "\t<tr><th scope=row>atmospheric_temperature</th><td>1.011960</td><td>1       </td><td>1.005962</td></tr>\n",
       "\t<tr><th scope=row>shaft_temperature</th><td>1.044687</td><td>1       </td><td>1.022099</td></tr>\n",
       "\t<tr><th scope=row>blades_angle</th><td>1.030283</td><td>1       </td><td>1.015029</td></tr>\n",
       "\t<tr><th scope=row>gearbox_temperature</th><td>1.019563</td><td>1       </td><td>1.009734</td></tr>\n",
       "\t<tr><th scope=row>engine_temperature</th><td>1.233375</td><td>1       </td><td>1.110574</td></tr>\n",
       "\t<tr><th scope=row>atmospheric_pressure</th><td>1.032815</td><td>1       </td><td>1.016275</td></tr>\n",
       "\t<tr><th scope=row>area_temperature</th><td>1.263806</td><td>1       </td><td>1.124191</td></tr>\n",
       "\t<tr><th scope=row>windmill_body_temperature</th><td>1.010060</td><td>1       </td><td>1.005017</td></tr>\n",
       "\t<tr><th scope=row>wind_direction</th><td>1.061041</td><td>1       </td><td>1.030069</td></tr>\n",
       "\t<tr><th scope=row>resistance</th><td>1.168805</td><td>1       </td><td>1.081113</td></tr>\n",
       "\t<tr><th scope=row>rotor_torque</th><td>1.087060</td><td>1       </td><td>1.042621</td></tr>\n",
       "\t<tr><th scope=row>blade_length</th><td>1.001070</td><td>1       </td><td>1.000535</td></tr>\n",
       "\t<tr><th scope=row>windmill_height</th><td>1.003197</td><td>1       </td><td>1.001597</td></tr>\n",
       "\t<tr><th scope=row>cloud_level</th><td>1.088760</td><td>2       </td><td>1.021487</td></tr>\n",
       "</tbody>\n",
       "</table>\n"
      ],
      "text/latex": [
       "\\begin{tabular}{r|lll}\n",
       "  & GVIF & Df & GVIF\\textasciicircum{}(1/(2*Df))\\\\\n",
       "\\hline\n",
       "\tblade\\_breadth & 1.069465 & 1        & 1.034150\\\\\n",
       "\twind\\_speed & 1.124378 & 1        & 1.060367\\\\\n",
       "\tatmospheric\\_temperature & 1.011960 & 1        & 1.005962\\\\\n",
       "\tshaft\\_temperature & 1.044687 & 1        & 1.022099\\\\\n",
       "\tblades\\_angle & 1.030283 & 1        & 1.015029\\\\\n",
       "\tgearbox\\_temperature & 1.019563 & 1        & 1.009734\\\\\n",
       "\tengine\\_temperature & 1.233375 & 1        & 1.110574\\\\\n",
       "\tatmospheric\\_pressure & 1.032815 & 1        & 1.016275\\\\\n",
       "\tarea\\_temperature & 1.263806 & 1        & 1.124191\\\\\n",
       "\twindmill\\_body\\_temperature & 1.010060 & 1        & 1.005017\\\\\n",
       "\twind\\_direction & 1.061041 & 1        & 1.030069\\\\\n",
       "\tresistance & 1.168805 & 1        & 1.081113\\\\\n",
       "\trotor\\_torque & 1.087060 & 1        & 1.042621\\\\\n",
       "\tblade\\_length & 1.001070 & 1        & 1.000535\\\\\n",
       "\twindmill\\_height & 1.003197 & 1        & 1.001597\\\\\n",
       "\tcloud\\_level & 1.088760 & 2        & 1.021487\\\\\n",
       "\\end{tabular}\n"
      ],
      "text/markdown": [
       "\n",
       "| <!--/--> | GVIF | Df | GVIF^(1/(2*Df)) |\n",
       "|---|---|---|---|\n",
       "| blade_breadth | 1.069465 | 1        | 1.034150 |\n",
       "| wind_speed | 1.124378 | 1        | 1.060367 |\n",
       "| atmospheric_temperature | 1.011960 | 1        | 1.005962 |\n",
       "| shaft_temperature | 1.044687 | 1        | 1.022099 |\n",
       "| blades_angle | 1.030283 | 1        | 1.015029 |\n",
       "| gearbox_temperature | 1.019563 | 1        | 1.009734 |\n",
       "| engine_temperature | 1.233375 | 1        | 1.110574 |\n",
       "| atmospheric_pressure | 1.032815 | 1        | 1.016275 |\n",
       "| area_temperature | 1.263806 | 1        | 1.124191 |\n",
       "| windmill_body_temperature | 1.010060 | 1        | 1.005017 |\n",
       "| wind_direction | 1.061041 | 1        | 1.030069 |\n",
       "| resistance | 1.168805 | 1        | 1.081113 |\n",
       "| rotor_torque | 1.087060 | 1        | 1.042621 |\n",
       "| blade_length | 1.001070 | 1        | 1.000535 |\n",
       "| windmill_height | 1.003197 | 1        | 1.001597 |\n",
       "| cloud_level | 1.088760 | 2        | 1.021487 |\n",
       "\n"
      ],
      "text/plain": [
       "                          GVIF     Df GVIF^(1/(2*Df))\n",
       "blade_breadth             1.069465 1  1.034150       \n",
       "wind_speed                1.124378 1  1.060367       \n",
       "atmospheric_temperature   1.011960 1  1.005962       \n",
       "shaft_temperature         1.044687 1  1.022099       \n",
       "blades_angle              1.030283 1  1.015029       \n",
       "gearbox_temperature       1.019563 1  1.009734       \n",
       "engine_temperature        1.233375 1  1.110574       \n",
       "atmospheric_pressure      1.032815 1  1.016275       \n",
       "area_temperature          1.263806 1  1.124191       \n",
       "windmill_body_temperature 1.010060 1  1.005017       \n",
       "wind_direction            1.061041 1  1.030069       \n",
       "resistance                1.168805 1  1.081113       \n",
       "rotor_torque              1.087060 1  1.042621       \n",
       "blade_length              1.001070 1  1.000535       \n",
       "windmill_height           1.003197 1  1.001597       \n",
       "cloud_level               1.088760 2  1.021487       "
      ]
     },
     "metadata": {},
     "output_type": "display_data"
    }
   ],
   "source": [
    "# Check for multicollinearity\n",
    "vif(m3t)"
   ]
  },
  {
   "cell_type": "markdown",
   "id": "1aed90f9",
   "metadata": {},
   "source": [
    "### LR Model 3P\n",
    "**Model 3T + high p-value factors removed (shaft_temperature, gearbox_temperature, blade_length, windmill_height)**"
   ]
  },
  {
   "cell_type": "code",
   "execution_count": 39,
   "id": "e8ac4a85",
   "metadata": {},
   "outputs": [
    {
     "data": {
      "text/plain": [
       "\n",
       "Call:\n",
       "lm(formula = windmill_generated_power ~ . - year - mday - wday - \n",
       "    month - hour - motor_torque - generator_temperature - turbine_status - \n",
       "    shaft_temperature - gearbox_temperature - blade_length - \n",
       "    windmill_height, data = trainset.imputation)\n",
       "\n",
       "Residuals:\n",
       "    Min      1Q  Median      3Q     Max \n",
       "-7.6466 -1.5922 -0.0046  1.4309 15.2437 \n",
       "\n",
       "Coefficients:\n",
       "                            Estimate Std. Error t value Pr(>|t|)    \n",
       "(Intercept)               -5.411e+00  2.080e-01 -26.018  < 2e-16 ***\n",
       "blade_breadth              1.379e+00  2.698e-01   5.111 3.24e-07 ***\n",
       "wind_speed                -2.372e-03  2.834e-04  -8.369  < 2e-16 ***\n",
       "atmospheric_temperature   -2.444e-03  3.633e-04  -6.727 1.77e-11 ***\n",
       "blades_angle              -5.228e-03  3.380e-04 -15.470  < 2e-16 ***\n",
       "engine_temperature         5.156e-02  2.855e-03  18.058  < 2e-16 ***\n",
       "atmospheric_pressure       6.187e-07  8.667e-08   7.139 9.71e-13 ***\n",
       "area_temperature           8.519e-02  2.327e-03  36.614  < 2e-16 ***\n",
       "windmill_body_temperature -1.170e-03  2.948e-04  -3.969 7.24e-05 ***\n",
       "wind_direction             5.738e-03  1.216e-04  47.187  < 2e-16 ***\n",
       "resistance                 6.186e-04  3.571e-05  17.324  < 2e-16 ***\n",
       "rotor_torque               7.350e-03  5.161e-04  14.243  < 2e-16 ***\n",
       "cloud_levelLow             3.172e+00  1.648e-01  19.248  < 2e-16 ***\n",
       "cloud_levelMedium          3.270e+00  1.652e-01  19.796  < 2e-16 ***\n",
       "---\n",
       "Signif. codes:  0 '***' 0.001 '**' 0.01 '*' 0.05 '.' 0.1 ' ' 1\n",
       "\n",
       "Residual standard error: 2.246 on 19726 degrees of freedom\n",
       "Multiple R-squared:  0.3104,\tAdjusted R-squared:  0.3099 \n",
       "F-statistic: 682.8 on 13 and 19726 DF,  p-value: < 2.2e-16\n"
      ]
     },
     "metadata": {},
     "output_type": "display_data"
    }
   ],
   "source": [
    "# Develop model on m3t, excluding high p-value factors\n",
    "# high p-value: shaft_temperature, gearbox_temperature, blade_length, windmill_height\n",
    "m3p <- lm(windmill_generated_power ~ . \n",
    "         - year \n",
    "         - mday \n",
    "         - wday \n",
    "         - month \n",
    "         - hour \n",
    "         - motor_torque \n",
    "         - generator_temperature\n",
    "         - turbine_status\n",
    "         - shaft_temperature\n",
    "         - gearbox_temperature\n",
    "         - blade_length\n",
    "         - windmill_height, data = trainset.imputation)\n",
    "summary(m3p)"
   ]
  },
  {
   "cell_type": "code",
   "execution_count": 40,
   "id": "591559fb",
   "metadata": {},
   "outputs": [
    {
     "name": "stdout",
     "output_type": "stream",
     "text": [
      "[1] 2.245393\n"
     ]
    },
    {
     "data": {
      "text/plain": [
       "     Min.   1st Qu.    Median      Mean   3rd Qu.      Max. \n",
       " 0.000151  0.726145  1.509480  1.776168  2.498416 15.243732 "
      ]
     },
     "metadata": {},
     "output_type": "display_data"
    }
   ],
   "source": [
    "# Residuals = Error = Actual mpg - Model Predicted mpg\n",
    "RMSE.m3p.train.imputation <- sqrt(mean(residuals(m3p)^2))  # RMSE on trainset based on m5 model.\n",
    "print(RMSE.m3p.train.imputation)\n",
    "summary(abs(residuals(m3p)))  # Check Min Abs Error and Max Abs Error."
   ]
  },
  {
   "cell_type": "code",
   "execution_count": 41,
   "id": "ad6baf9c",
   "metadata": {},
   "outputs": [
    {
     "name": "stdout",
     "output_type": "stream",
     "text": [
      "[1] 2.225634\n"
     ]
    },
    {
     "data": {
      "text/plain": [
       "     Min.   1st Qu.    Median      Mean   3rd Qu.      Max. \n",
       " 0.000408  0.712735  1.473316  1.756356  2.466985 13.894112 "
      ]
     },
     "metadata": {},
     "output_type": "display_data"
    }
   ],
   "source": [
    "# Apply model from trainset to predict on testset.\n",
    "predict.m3p.test.imputation <- predict(m3p, newdata = testset.imputation)\n",
    "testset.imputation.error <- testset.imputation$windmill_generated_power - predict.m3p.test.imputation\n",
    "\n",
    "# Testset Errors\n",
    "RMSE.m3p.test.imputation <- sqrt(mean(testset.imputation.error^2))\n",
    "print(RMSE.m3p.test.imputation)\n",
    "summary(abs(testset.imputation.error))"
   ]
  },
  {
   "cell_type": "code",
   "execution_count": 42,
   "id": "a0c4d7a6",
   "metadata": {},
   "outputs": [
    {
     "data": {
      "text/html": [
       "<table>\n",
       "<thead><tr><th></th><th scope=col>GVIF</th><th scope=col>Df</th><th scope=col>GVIF^(1/(2*Df))</th></tr></thead>\n",
       "<tbody>\n",
       "\t<tr><th scope=row>blade_breadth</th><td>1.068946</td><td>1       </td><td>1.033898</td></tr>\n",
       "\t<tr><th scope=row>wind_speed</th><td>1.124201</td><td>1       </td><td>1.060284</td></tr>\n",
       "\t<tr><th scope=row>atmospheric_temperature</th><td>1.011865</td><td>1       </td><td>1.005915</td></tr>\n",
       "\t<tr><th scope=row>blades_angle</th><td>1.029690</td><td>1       </td><td>1.014737</td></tr>\n",
       "\t<tr><th scope=row>engine_temperature</th><td>1.174390</td><td>1       </td><td>1.083693</td></tr>\n",
       "\t<tr><th scope=row>atmospheric_pressure</th><td>1.032752</td><td>1       </td><td>1.016244</td></tr>\n",
       "\t<tr><th scope=row>area_temperature</th><td>1.263070</td><td>1       </td><td>1.123864</td></tr>\n",
       "\t<tr><th scope=row>windmill_body_temperature</th><td>1.009728</td><td>1       </td><td>1.004852</td></tr>\n",
       "\t<tr><th scope=row>wind_direction</th><td>1.060835</td><td>1       </td><td>1.029968</td></tr>\n",
       "\t<tr><th scope=row>resistance</th><td>1.168515</td><td>1       </td><td>1.080979</td></tr>\n",
       "\t<tr><th scope=row>rotor_torque</th><td>1.086875</td><td>1       </td><td>1.042533</td></tr>\n",
       "\t<tr><th scope=row>cloud_level</th><td>1.086425</td><td>2       </td><td>1.020939</td></tr>\n",
       "</tbody>\n",
       "</table>\n"
      ],
      "text/latex": [
       "\\begin{tabular}{r|lll}\n",
       "  & GVIF & Df & GVIF\\textasciicircum{}(1/(2*Df))\\\\\n",
       "\\hline\n",
       "\tblade\\_breadth & 1.068946 & 1        & 1.033898\\\\\n",
       "\twind\\_speed & 1.124201 & 1        & 1.060284\\\\\n",
       "\tatmospheric\\_temperature & 1.011865 & 1        & 1.005915\\\\\n",
       "\tblades\\_angle & 1.029690 & 1        & 1.014737\\\\\n",
       "\tengine\\_temperature & 1.174390 & 1        & 1.083693\\\\\n",
       "\tatmospheric\\_pressure & 1.032752 & 1        & 1.016244\\\\\n",
       "\tarea\\_temperature & 1.263070 & 1        & 1.123864\\\\\n",
       "\twindmill\\_body\\_temperature & 1.009728 & 1        & 1.004852\\\\\n",
       "\twind\\_direction & 1.060835 & 1        & 1.029968\\\\\n",
       "\tresistance & 1.168515 & 1        & 1.080979\\\\\n",
       "\trotor\\_torque & 1.086875 & 1        & 1.042533\\\\\n",
       "\tcloud\\_level & 1.086425 & 2        & 1.020939\\\\\n",
       "\\end{tabular}\n"
      ],
      "text/markdown": [
       "\n",
       "| <!--/--> | GVIF | Df | GVIF^(1/(2*Df)) |\n",
       "|---|---|---|---|\n",
       "| blade_breadth | 1.068946 | 1        | 1.033898 |\n",
       "| wind_speed | 1.124201 | 1        | 1.060284 |\n",
       "| atmospheric_temperature | 1.011865 | 1        | 1.005915 |\n",
       "| blades_angle | 1.029690 | 1        | 1.014737 |\n",
       "| engine_temperature | 1.174390 | 1        | 1.083693 |\n",
       "| atmospheric_pressure | 1.032752 | 1        | 1.016244 |\n",
       "| area_temperature | 1.263070 | 1        | 1.123864 |\n",
       "| windmill_body_temperature | 1.009728 | 1        | 1.004852 |\n",
       "| wind_direction | 1.060835 | 1        | 1.029968 |\n",
       "| resistance | 1.168515 | 1        | 1.080979 |\n",
       "| rotor_torque | 1.086875 | 1        | 1.042533 |\n",
       "| cloud_level | 1.086425 | 2        | 1.020939 |\n",
       "\n"
      ],
      "text/plain": [
       "                          GVIF     Df GVIF^(1/(2*Df))\n",
       "blade_breadth             1.068946 1  1.033898       \n",
       "wind_speed                1.124201 1  1.060284       \n",
       "atmospheric_temperature   1.011865 1  1.005915       \n",
       "blades_angle              1.029690 1  1.014737       \n",
       "engine_temperature        1.174390 1  1.083693       \n",
       "atmospheric_pressure      1.032752 1  1.016244       \n",
       "area_temperature          1.263070 1  1.123864       \n",
       "windmill_body_temperature 1.009728 1  1.004852       \n",
       "wind_direction            1.060835 1  1.029968       \n",
       "resistance                1.168515 1  1.080979       \n",
       "rotor_torque              1.086875 1  1.042533       \n",
       "cloud_level               1.086425 2  1.020939       "
      ]
     },
     "metadata": {},
     "output_type": "display_data"
    }
   ],
   "source": [
    "# Check for multicollinearity\n",
    "vif(m3p)"
   ]
  },
  {
   "cell_type": "markdown",
   "id": "b64e9078",
   "metadata": {},
   "source": [
    "### Insights\n",
    "- RMSE increases when high VIF factors are removed\n",
    "- Possible justification for dropping time data is VIF (<5 but still 2-4, higher than other factors with VIF ~1)\n",
    "- engine_temperature appears to be a significant factor, outlier amongst other temps (low p-value, VIF)\n",
    "- blade_length and windmill_height are less significant (high p-value)"
   ]
  },
  {
   "cell_type": "markdown",
   "id": "7d685b9b",
   "metadata": {},
   "source": [
    "### LR Model 4\n",
    "**Model 3P + manual removal of inputs that can only be observed**"
   ]
  },
  {
   "cell_type": "code",
   "execution_count": 43,
   "id": "95b78640",
   "metadata": {},
   "outputs": [
    {
     "data": {
      "text/plain": [
       "\n",
       "Call:\n",
       "lm(formula = windmill_generated_power ~ . - year - mday - wday - \n",
       "    month - hour - motor_torque - generator_temperature - turbine_status - \n",
       "    shaft_temperature - gearbox_temperature - blade_length - \n",
       "    windmill_height - windmill_body_temperature - rotor_torque - \n",
       "    engine_temperature, data = trainset.imputation)\n",
       "\n",
       "Residuals:\n",
       "    Min      1Q  Median      3Q     Max \n",
       "-8.0061 -1.5805  0.0159  1.4457 14.0812 \n",
       "\n",
       "Coefficients:\n",
       "                          Estimate Std. Error t value Pr(>|t|)    \n",
       "(Intercept)             -3.959e+00  1.901e-01 -20.831  < 2e-16 ***\n",
       "blade_breadth            1.460e+00  2.735e-01   5.337 9.58e-08 ***\n",
       "wind_speed              -1.607e-03  2.851e-04  -5.637 1.76e-08 ***\n",
       "atmospheric_temperature -2.162e-03  3.682e-04  -5.872 4.38e-09 ***\n",
       "blades_angle            -5.606e-03  3.423e-04 -16.376  < 2e-16 ***\n",
       "atmospheric_pressure     5.373e-07  8.777e-08   6.121 9.48e-10 ***\n",
       "area_temperature         9.943e-02  2.263e-03  43.929  < 2e-16 ***\n",
       "wind_direction           5.974e-03  1.229e-04  48.624  < 2e-16 ***\n",
       "resistance               7.443e-04  3.578e-05  20.806  < 2e-16 ***\n",
       "cloud_levelLow           3.245e+00  1.671e-01  19.418  < 2e-16 ***\n",
       "cloud_levelMedium        3.351e+00  1.675e-01  20.011  < 2e-16 ***\n",
       "---\n",
       "Signif. codes:  0 '***' 0.001 '**' 0.01 '*' 0.05 '.' 0.1 ' ' 1\n",
       "\n",
       "Residual standard error: 2.278 on 19729 degrees of freedom\n",
       "Multiple R-squared:  0.2906,\tAdjusted R-squared:  0.2903 \n",
       "F-statistic: 808.4 on 10 and 19729 DF,  p-value: < 2.2e-16\n"
      ]
     },
     "metadata": {},
     "output_type": "display_data"
    }
   ],
   "source": [
    "# Develop model on m3p, excluding post-installation observations\n",
    "# observations: windmill_body_temperature, rotor_torque, engine_temperature\n",
    "m4 <- lm(windmill_generated_power ~ . \n",
    "         - year \n",
    "         - mday \n",
    "         - wday \n",
    "         - month \n",
    "         - hour \n",
    "         - motor_torque \n",
    "         - generator_temperature\n",
    "         - turbine_status\n",
    "         - shaft_temperature\n",
    "         - gearbox_temperature\n",
    "         - blade_length\n",
    "         - windmill_height\n",
    "         - windmill_body_temperature\n",
    "         - rotor_torque\n",
    "         - engine_temperature, data = trainset.imputation)\n",
    "summary(m4)"
   ]
  },
  {
   "cell_type": "code",
   "execution_count": 44,
   "id": "6b9e0966",
   "metadata": {},
   "outputs": [
    {
     "name": "stdout",
     "output_type": "stream",
     "text": [
      "[1] 2.277249\n"
     ]
    },
    {
     "data": {
      "text/plain": [
       "     Min.   1st Qu.    Median      Mean   3rd Qu.      Max. \n",
       " 0.000336  0.735364  1.511296  1.795280  2.515142 14.081182 "
      ]
     },
     "metadata": {},
     "output_type": "display_data"
    }
   ],
   "source": [
    "# Residuals = Error = Actual mpg - Model Predicted mpg\n",
    "RMSE.m4.train.imputation <- sqrt(mean(residuals(m4)^2))  # RMSE on trainset based on m5 model.\n",
    "print(RMSE.m4.train.imputation)\n",
    "summary(abs(residuals(m4)))  # Check Min Abs Error and Max Abs Error."
   ]
  },
  {
   "cell_type": "code",
   "execution_count": 45,
   "id": "e4218601",
   "metadata": {},
   "outputs": [
    {
     "name": "stdout",
     "output_type": "stream",
     "text": [
      "[1] 2.250254\n"
     ]
    },
    {
     "data": {
      "text/plain": [
       "     Min.   1st Qu.    Median      Mean   3rd Qu.      Max. \n",
       " 0.000549  0.708544  1.483762  1.769458  2.489175 12.385027 "
      ]
     },
     "metadata": {},
     "output_type": "display_data"
    }
   ],
   "source": [
    "# Apply model from trainset to predict on testset.\n",
    "predict.m4.test.imputation <- predict(m4, newdata = testset.imputation)\n",
    "testset.imputation.error <- testset.imputation$windmill_generated_power - predict.m4.test.imputation\n",
    "\n",
    "# Testset Errors\n",
    "RMSE.m4.test.imputation <- sqrt(mean(testset.imputation.error^2))\n",
    "print(RMSE.m4.test.imputation)\n",
    "summary(abs(testset.imputation.error))"
   ]
  },
  {
   "cell_type": "code",
   "execution_count": 46,
   "id": "2085cadb",
   "metadata": {},
   "outputs": [
    {
     "data": {
      "text/html": [
       "<table>\n",
       "<thead><tr><th></th><th scope=col>GVIF</th><th scope=col>Df</th><th scope=col>GVIF^(1/(2*Df))</th></tr></thead>\n",
       "<tbody>\n",
       "\t<tr><th scope=row>blade_breadth</th><td>1.068593</td><td>1       </td><td>1.033728</td></tr>\n",
       "\t<tr><th scope=row>wind_speed</th><td>1.106639</td><td>1       </td><td>1.051969</td></tr>\n",
       "\t<tr><th scope=row>atmospheric_temperature</th><td>1.010519</td><td>1       </td><td>1.005246</td></tr>\n",
       "\t<tr><th scope=row>blades_angle</th><td>1.027331</td><td>1       </td><td>1.013573</td></tr>\n",
       "\t<tr><th scope=row>atmospheric_pressure</th><td>1.030052</td><td>1       </td><td>1.014915</td></tr>\n",
       "\t<tr><th scope=row>area_temperature</th><td>1.162410</td><td>1       </td><td>1.078151</td></tr>\n",
       "\t<tr><th scope=row>wind_direction</th><td>1.053237</td><td>1       </td><td>1.026273</td></tr>\n",
       "\t<tr><th scope=row>resistance</th><td>1.140529</td><td>1       </td><td>1.067955</td></tr>\n",
       "\t<tr><th scope=row>cloud_level</th><td>1.085375</td><td>2       </td><td>1.020693</td></tr>\n",
       "</tbody>\n",
       "</table>\n"
      ],
      "text/latex": [
       "\\begin{tabular}{r|lll}\n",
       "  & GVIF & Df & GVIF\\textasciicircum{}(1/(2*Df))\\\\\n",
       "\\hline\n",
       "\tblade\\_breadth & 1.068593 & 1        & 1.033728\\\\\n",
       "\twind\\_speed & 1.106639 & 1        & 1.051969\\\\\n",
       "\tatmospheric\\_temperature & 1.010519 & 1        & 1.005246\\\\\n",
       "\tblades\\_angle & 1.027331 & 1        & 1.013573\\\\\n",
       "\tatmospheric\\_pressure & 1.030052 & 1        & 1.014915\\\\\n",
       "\tarea\\_temperature & 1.162410 & 1        & 1.078151\\\\\n",
       "\twind\\_direction & 1.053237 & 1        & 1.026273\\\\\n",
       "\tresistance & 1.140529 & 1        & 1.067955\\\\\n",
       "\tcloud\\_level & 1.085375 & 2        & 1.020693\\\\\n",
       "\\end{tabular}\n"
      ],
      "text/markdown": [
       "\n",
       "| <!--/--> | GVIF | Df | GVIF^(1/(2*Df)) |\n",
       "|---|---|---|---|\n",
       "| blade_breadth | 1.068593 | 1        | 1.033728 |\n",
       "| wind_speed | 1.106639 | 1        | 1.051969 |\n",
       "| atmospheric_temperature | 1.010519 | 1        | 1.005246 |\n",
       "| blades_angle | 1.027331 | 1        | 1.013573 |\n",
       "| atmospheric_pressure | 1.030052 | 1        | 1.014915 |\n",
       "| area_temperature | 1.162410 | 1        | 1.078151 |\n",
       "| wind_direction | 1.053237 | 1        | 1.026273 |\n",
       "| resistance | 1.140529 | 1        | 1.067955 |\n",
       "| cloud_level | 1.085375 | 2        | 1.020693 |\n",
       "\n"
      ],
      "text/plain": [
       "                        GVIF     Df GVIF^(1/(2*Df))\n",
       "blade_breadth           1.068593 1  1.033728       \n",
       "wind_speed              1.106639 1  1.051969       \n",
       "atmospheric_temperature 1.010519 1  1.005246       \n",
       "blades_angle            1.027331 1  1.013573       \n",
       "atmospheric_pressure    1.030052 1  1.014915       \n",
       "area_temperature        1.162410 1  1.078151       \n",
       "wind_direction          1.053237 1  1.026273       \n",
       "resistance              1.140529 1  1.067955       \n",
       "cloud_level             1.085375 2  1.020693       "
      ]
     },
     "metadata": {},
     "output_type": "display_data"
    }
   ],
   "source": [
    "# Check for multicollinearity\n",
    "vif(m4)"
   ]
  },
  {
   "cell_type": "code",
   "execution_count": null,
   "id": "230e188d",
   "metadata": {},
   "outputs": [],
   "source": []
  }
 ],
 "metadata": {
  "kernelspec": {
   "display_name": "R",
   "language": "R",
   "name": "ir"
  },
  "language_info": {
   "codemirror_mode": "r",
   "file_extension": ".r",
   "mimetype": "text/x-r-source",
   "name": "R",
   "pygments_lexer": "r",
   "version": "3.6.1"
  }
 },
 "nbformat": 4,
 "nbformat_minor": 5
}
